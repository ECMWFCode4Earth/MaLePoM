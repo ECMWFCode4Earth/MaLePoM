{
 "cells": [
  {
   "cell_type": "markdown",
   "metadata": {},
   "source": [
    "## Aggregate traffic data to grid and compare gridded traffic with gridded NOx data"
   ]
  },
  {
   "cell_type": "code",
   "execution_count": 1,
   "metadata": {},
   "outputs": [],
   "source": [
    "!pip install geopandas==0.9.0 -q"
   ]
  },
  {
   "cell_type": "code",
   "execution_count": 2,
   "metadata": {},
   "outputs": [],
   "source": [
    "import pandas as pd\n",
    "import geopandas as gpd\n",
    "import numpy as np\n",
    "import shapely as shp\n",
    "import matplotlib.pyplot as plt\n",
    "import xarray as xr\n",
    "import shutil"
   ]
  },
  {
   "cell_type": "code",
   "execution_count": 3,
   "metadata": {},
   "outputs": [],
   "source": [
    "da = xr.DataArray(coords=[np.arange(4,10,0.25), np.arange(43,49,0.25)], dims=['lon', 'lat'])"
   ]
  },
  {
   "cell_type": "code",
   "execution_count": 4,
   "metadata": {},
   "outputs": [
    {
     "ename": "NameError",
     "evalue": "name 'values' is not defined",
     "output_type": "error",
     "traceback": [
      "\u001b[0;31m---------------------------------------------------------------------------\u001b[0m",
      "\u001b[0;31mNameError\u001b[0m                                 Traceback (most recent call last)",
      "\u001b[0;32m<ipython-input-4-f44b9ba6fa9f>\u001b[0m in \u001b[0;36m<module>\u001b[0;34m\u001b[0m\n\u001b[0;32m----> 1\u001b[0;31m \u001b[0mda\u001b[0m\u001b[0;34m.\u001b[0m\u001b[0mdata\u001b[0m \u001b[0;34m=\u001b[0m \u001b[0mnp\u001b[0m\u001b[0;34m.\u001b[0m\u001b[0mreshape\u001b[0m\u001b[0;34m(\u001b[0m\u001b[0mvalues\u001b[0m\u001b[0;34m,\u001b[0m \u001b[0;34m(\u001b[0m\u001b[0;36m24\u001b[0m\u001b[0;34m,\u001b[0m\u001b[0;36m24\u001b[0m\u001b[0;34m)\u001b[0m\u001b[0;34m)\u001b[0m\u001b[0;34m.\u001b[0m\u001b[0mT\u001b[0m\u001b[0;34m\u001b[0m\u001b[0;34m\u001b[0m\u001b[0m\n\u001b[0m",
      "\u001b[0;31mNameError\u001b[0m: name 'values' is not defined"
     ]
    }
   ],
   "source": [
    "da.data = np.reshape(values, (24,24)).T"
   ]
  },
  {
   "cell_type": "code",
   "execution_count": null,
   "metadata": {},
   "outputs": [],
   "source": [
    "da.plot()"
   ]
  },
  {
   "cell_type": "code",
   "execution_count": 5,
   "metadata": {},
   "outputs": [
    {
     "ename": "NameError",
     "evalue": "name 'traffic' is not defined",
     "output_type": "error",
     "traceback": [
      "\u001b[0;31m---------------------------------------------------------------------------\u001b[0m",
      "\u001b[0;31mNameError\u001b[0m                                 Traceback (most recent call last)",
      "\u001b[0;32m<timed exec>\u001b[0m in \u001b[0;36m<module>\u001b[0;34m\u001b[0m\n",
      "\u001b[0;31mNameError\u001b[0m: name 'traffic' is not defined"
     ]
    }
   ],
   "source": [
    "%%time \n",
    "\n",
    "sindex = traffic.sindex\n",
    "values = []\n",
    "\n",
    "xstep = da.lon\n",
    "\n",
    "for lon in da.lon.values:\n",
    "    print(lon)\n",
    "    for lat in da.lat.values:\n",
    "        geom = shp.geometry.Point(lon, lat).buffer(0.125).envelope\n",
    "        possible = list(sindex.intersection(geom.bounds))\n",
    "        pdf = traffic.iloc[possible]\n",
    "        clipped = gpd.clip(pdf, geom)\n",
    "        values.append(clipped.length.sum())"
   ]
  },
  {
   "cell_type": "code",
   "execution_count": 59,
   "metadata": {},
   "outputs": [],
   "source": [
    "da['new'] = (('lon', 'lat'), np.reshape(values, (24,24)))"
   ]
  },
  {
   "cell_type": "code",
   "execution_count": 72,
   "metadata": {},
   "outputs": [
    {
     "ename": "AttributeError",
     "evalue": "'DataArray' object has no attribute 'assign'",
     "output_type": "error",
     "traceback": [
      "\u001b[0;31m---------------------------------------------------------------------------\u001b[0m",
      "\u001b[0;31mAttributeError\u001b[0m                            Traceback (most recent call last)",
      "\u001b[0;32m<ipython-input-72-ce838bcc7f72>\u001b[0m in \u001b[0;36m<module>\u001b[0;34m\u001b[0m\n\u001b[0;32m----> 1\u001b[0;31m \u001b[0mda\u001b[0m\u001b[0;34m.\u001b[0m\u001b[0massign\u001b[0m\u001b[0;34m(\u001b[0m\u001b[0mnew\u001b[0m\u001b[0;34m=\u001b[0m\u001b[0mvalues\u001b[0m\u001b[0;34m)\u001b[0m\u001b[0;34m\u001b[0m\u001b[0;34m\u001b[0m\u001b[0m\n\u001b[0m",
      "\u001b[0;32m/opt/conda/lib/python3.8/site-packages/xarray/core/common.py\u001b[0m in \u001b[0;36m__getattr__\u001b[0;34m(self, name)\u001b[0m\n\u001b[1;32m    237\u001b[0m                 \u001b[0;32mwith\u001b[0m \u001b[0msuppress\u001b[0m\u001b[0;34m(\u001b[0m\u001b[0mKeyError\u001b[0m\u001b[0;34m)\u001b[0m\u001b[0;34m:\u001b[0m\u001b[0;34m\u001b[0m\u001b[0;34m\u001b[0m\u001b[0m\n\u001b[1;32m    238\u001b[0m                     \u001b[0;32mreturn\u001b[0m \u001b[0msource\u001b[0m\u001b[0;34m[\u001b[0m\u001b[0mname\u001b[0m\u001b[0;34m]\u001b[0m\u001b[0;34m\u001b[0m\u001b[0;34m\u001b[0m\u001b[0m\n\u001b[0;32m--> 239\u001b[0;31m         raise AttributeError(\n\u001b[0m\u001b[1;32m    240\u001b[0m             \u001b[0;34m\"{!r} object has no attribute {!r}\"\u001b[0m\u001b[0;34m.\u001b[0m\u001b[0mformat\u001b[0m\u001b[0;34m(\u001b[0m\u001b[0mtype\u001b[0m\u001b[0;34m(\u001b[0m\u001b[0mself\u001b[0m\u001b[0;34m)\u001b[0m\u001b[0;34m.\u001b[0m\u001b[0m__name__\u001b[0m\u001b[0;34m,\u001b[0m \u001b[0mname\u001b[0m\u001b[0;34m)\u001b[0m\u001b[0;34m\u001b[0m\u001b[0;34m\u001b[0m\u001b[0m\n\u001b[1;32m    241\u001b[0m         )\n",
      "\u001b[0;31mAttributeError\u001b[0m: 'DataArray' object has no attribute 'assign'"
     ]
    }
   ],
   "source": [
    "da.assign(new=values)"
   ]
  },
  {
   "cell_type": "code",
   "execution_count": 69,
   "metadata": {},
   "outputs": [
    {
     "data": {
      "text/plain": [
       "<matplotlib.collections.QuadMesh at 0x7f82625096a0>"
      ]
     },
     "execution_count": 69,
     "metadata": {},
     "output_type": "execute_result"
    },
    {
     "data": {
      "image/png": "[encoded data removed]",
      "text/plain": [
       "<Figure size 432x288 with 2 Axes>"
      ]
     },
     "metadata": {
      "needs_background": "light"
     },
     "output_type": "display_data"
    }
   ],
   "source": [
    "xr.DataArray(data=np.reshape(values, (24,24)), coords=[np.arange(4,10,0.25), np.arange(43,49,0.25)], dims=['lon', 'lat'])"
   ]
  },
  {
   "cell_type": "markdown",
   "metadata": {},
   "source": [
    "#### Load NOx data"
   ]
  },
  {
   "cell_type": "code",
   "execution_count": 5,
   "metadata": {},
   "outputs": [
    {
     "data": {
      "text/html": [
       "<div><svg style=\"position: absolute; width: 0; height: 0; overflow: hidden\">\n",
       "<defs>\n",
       "<symbol id=\"icon-database\" viewBox=\"0 0 32 32\">\n",
       "<path d=\"M16 0c-8.837 0-16 2.239-16 5v4c0 2.761 7.163 5 16 5s16-2.239 16-5v-4c0-2.761-7.163-5-16-5z\"></path>\n",
       "<path d=\"M16 17c-8.837 0-16-2.239-16-5v6c0 2.761 7.163 5 16 5s16-2.239 16-5v-6c0 2.761-7.163 5-16 5z\"></path>\n",
       "<path d=\"M16 26c-8.837 0-16-2.239-16-5v6c0 2.761 7.163 5 16 5s16-2.239 16-5v-6c0 2.761-7.163 5-16 5z\"></path>\n",
       "</symbol>\n",
       "<symbol id=\"icon-file-text2\" viewBox=\"0 0 32 32\">\n",
       "<path d=\"M28.681 7.159c-0.694-0.947-1.662-2.053-2.724-3.116s-2.169-2.030-3.116-2.724c-1.612-1.182-2.393-1.319-2.841-1.319h-15.5c-1.378 0-2.5 1.121-2.5 2.5v27c0 1.378 1.122 2.5 2.5 2.5h23c1.378 0 2.5-1.122 2.5-2.5v-19.5c0-0.448-0.137-1.23-1.319-2.841zM24.543 5.457c0.959 0.959 1.712 1.825 2.268 2.543h-4.811v-4.811c0.718 0.556 1.584 1.309 2.543 2.268zM28 29.5c0 0.271-0.229 0.5-0.5 0.5h-23c-0.271 0-0.5-0.229-0.5-0.5v-27c0-0.271 0.229-0.5 0.5-0.5 0 0 15.499-0 15.5 0v7c0 0.552 0.448 1 1 1h7v19.5z\"></path>\n",
       "<path d=\"M23 26h-14c-0.552 0-1-0.448-1-1s0.448-1 1-1h14c0.552 0 1 0.448 1 1s-0.448 1-1 1z\"></path>\n",
       "<path d=\"M23 22h-14c-0.552 0-1-0.448-1-1s0.448-1 1-1h14c0.552 0 1 0.448 1 1s-0.448 1-1 1z\"></path>\n",
       "<path d=\"M23 18h-14c-0.552 0-1-0.448-1-1s0.448-1 1-1h14c0.552 0 1 0.448 1 1s-0.448 1-1 1z\"></path>\n",
       "</symbol>\n",
       "</defs>\n",
       "</svg>\n",
       "<style>/* CSS stylesheet for displaying xarray objects in jupyterlab.\n",
       " *\n",
       " */\n",
       "\n",
       ":root {\n",
       "  --xr-font-color0: var(--jp-content-font-color0, rgba(0, 0, 0, 1));\n",
       "  --xr-font-color2: var(--jp-content-font-color2, rgba(0, 0, 0, 0.54));\n",
       "  --xr-font-color3: var(--jp-content-font-color3, rgba(0, 0, 0, 0.38));\n",
       "  --xr-border-color: var(--jp-border-color2, #e0e0e0);\n",
       "  --xr-disabled-color: var(--jp-layout-color3, #bdbdbd);\n",
       "  --xr-background-color: var(--jp-layout-color0, white);\n",
       "  --xr-background-color-row-even: var(--jp-layout-color1, white);\n",
       "  --xr-background-color-row-odd: var(--jp-layout-color2, #eeeeee);\n",
       "}\n",
       "\n",
       "html[theme=dark],\n",
       "body.vscode-dark {\n",
       "  --xr-font-color0: rgba(255, 255, 255, 1);\n",
       "  --xr-font-color2: rgba(255, 255, 255, 0.54);\n",
       "  --xr-font-color3: rgba(255, 255, 255, 0.38);\n",
       "  --xr-border-color: #1F1F1F;\n",
       "  --xr-disabled-color: #515151;\n",
       "  --xr-background-color: #111111;\n",
       "  --xr-background-color-row-even: #111111;\n",
       "  --xr-background-color-row-odd: #313131;\n",
       "}\n",
       "\n",
       ".xr-wrap {\n",
       "  display: block;\n",
       "  min-width: 300px;\n",
       "  max-width: 700px;\n",
       "}\n",
       "\n",
       ".xr-text-repr-fallback {\n",
       "  /* fallback to plain text repr when CSS is not injected (untrusted notebook) */\n",
       "  display: none;\n",
       "}\n",
       "\n",
       ".xr-header {\n",
       "  padding-top: 6px;\n",
       "  padding-bottom: 6px;\n",
       "  margin-bottom: 4px;\n",
       "  border-bottom: solid 1px var(--xr-border-color);\n",
       "}\n",
       "\n",
       ".xr-header > div,\n",
       ".xr-header > ul {\n",
       "  display: inline;\n",
       "  margin-top: 0;\n",
       "  margin-bottom: 0;\n",
       "}\n",
       "\n",
       ".xr-obj-type,\n",
       ".xr-array-name {\n",
       "  margin-left: 2px;\n",
       "  margin-right: 10px;\n",
       "}\n",
       "\n",
       ".xr-obj-type {\n",
       "  color: var(--xr-font-color2);\n",
       "}\n",
       "\n",
       ".xr-sections {\n",
       "  padding-left: 0 !important;\n",
       "  display: grid;\n",
       "  grid-template-columns: 150px auto auto 1fr 20px 20px;\n",
       "}\n",
       "\n",
       ".xr-section-item {\n",
       "  display: contents;\n",
       "}\n",
       "\n",
       ".xr-section-item input {\n",
       "  display: none;\n",
       "}\n",
       "\n",
       ".xr-section-item input + label {\n",
       "  color: var(--xr-disabled-color);\n",
       "}\n",
       "\n",
       ".xr-section-item input:enabled + label {\n",
       "  cursor: pointer;\n",
       "  color: var(--xr-font-color2);\n",
       "}\n",
       "\n",
       ".xr-section-item input:enabled + label:hover {\n",
       "  color: var(--xr-font-color0);\n",
       "}\n",
       "\n",
       ".xr-section-summary {\n",
       "  grid-column: 1;\n",
       "  color: var(--xr-font-color2);\n",
       "  font-weight: 500;\n",
       "}\n",
       "\n",
       ".xr-section-summary > span {\n",
       "  display: inline-block;\n",
       "  padding-left: 0.5em;\n",
       "}\n",
       "\n",
       ".xr-section-summary-in:disabled + label {\n",
       "  color: var(--xr-font-color2);\n",
       "}\n",
       "\n",
       ".xr-section-summary-in + label:before {\n",
       "  display: inline-block;\n",
       "  content: '►';\n",
       "  font-size: 11px;\n",
       "  width: 15px;\n",
       "  text-align: center;\n",
       "}\n",
       "\n",
       ".xr-section-summary-in:disabled + label:before {\n",
       "  color: var(--xr-disabled-color);\n",
       "}\n",
       "\n",
       ".xr-section-summary-in:checked + label:before {\n",
       "  content: '▼';\n",
       "}\n",
       "\n",
       ".xr-section-summary-in:checked + label > span {\n",
       "  display: none;\n",
       "}\n",
       "\n",
       ".xr-section-summary,\n",
       ".xr-section-inline-details {\n",
       "  padding-top: 4px;\n",
       "  padding-bottom: 4px;\n",
       "}\n",
       "\n",
       ".xr-section-inline-details {\n",
       "  grid-column: 2 / -1;\n",
       "}\n",
       "\n",
       ".xr-section-details {\n",
       "  display: none;\n",
       "  grid-column: 1 / -1;\n",
       "  margin-bottom: 5px;\n",
       "}\n",
       "\n",
       ".xr-section-summary-in:checked ~ .xr-section-details {\n",
       "  display: contents;\n",
       "}\n",
       "\n",
       ".xr-array-wrap {\n",
       "  grid-column: 1 / -1;\n",
       "  display: grid;\n",
       "  grid-template-columns: 20px auto;\n",
       "}\n",
       "\n",
       ".xr-array-wrap > label {\n",
       "  grid-column: 1;\n",
       "  vertical-align: top;\n",
       "}\n",
       "\n",
       ".xr-preview {\n",
       "  color: var(--xr-font-color3);\n",
       "}\n",
       "\n",
       ".xr-array-preview,\n",
       ".xr-array-data {\n",
       "  padding: 0 5px !important;\n",
       "  grid-column: 2;\n",
       "}\n",
       "\n",
       ".xr-array-data,\n",
       ".xr-array-in:checked ~ .xr-array-preview {\n",
       "  display: none;\n",
       "}\n",
       "\n",
       ".xr-array-in:checked ~ .xr-array-data,\n",
       ".xr-array-preview {\n",
       "  display: inline-block;\n",
       "}\n",
       "\n",
       ".xr-dim-list {\n",
       "  display: inline-block !important;\n",
       "  list-style: none;\n",
       "  padding: 0 !important;\n",
       "  margin: 0;\n",
       "}\n",
       "\n",
       ".xr-dim-list li {\n",
       "  display: inline-block;\n",
       "  padding: 0;\n",
       "  margin: 0;\n",
       "}\n",
       "\n",
       ".xr-dim-list:before {\n",
       "  content: '(';\n",
       "}\n",
       "\n",
       ".xr-dim-list:after {\n",
       "  content: ')';\n",
       "}\n",
       "\n",
       ".xr-dim-list li:not(:last-child):after {\n",
       "  content: ',';\n",
       "  padding-right: 5px;\n",
       "}\n",
       "\n",
       ".xr-has-index {\n",
       "  font-weight: bold;\n",
       "}\n",
       "\n",
       ".xr-var-list,\n",
       ".xr-var-item {\n",
       "  display: contents;\n",
       "}\n",
       "\n",
       ".xr-var-item > div,\n",
       ".xr-var-item label,\n",
       ".xr-var-item > .xr-var-name span {\n",
       "  background-color: var(--xr-background-color-row-even);\n",
       "  margin-bottom: 0;\n",
       "}\n",
       "\n",
       ".xr-var-item > .xr-var-name:hover span {\n",
       "  padding-right: 5px;\n",
       "}\n",
       "\n",
       ".xr-var-list > li:nth-child(odd) > div,\n",
       ".xr-var-list > li:nth-child(odd) > label,\n",
       ".xr-var-list > li:nth-child(odd) > .xr-var-name span {\n",
       "  background-color: var(--xr-background-color-row-odd);\n",
       "}\n",
       "\n",
       ".xr-var-name {\n",
       "  grid-column: 1;\n",
       "}\n",
       "\n",
       ".xr-var-dims {\n",
       "  grid-column: 2;\n",
       "}\n",
       "\n",
       ".xr-var-dtype {\n",
       "  grid-column: 3;\n",
       "  text-align: right;\n",
       "  color: var(--xr-font-color2);\n",
       "}\n",
       "\n",
       ".xr-var-preview {\n",
       "  grid-column: 4;\n",
       "}\n",
       "\n",
       ".xr-var-name,\n",
       ".xr-var-dims,\n",
       ".xr-var-dtype,\n",
       ".xr-preview,\n",
       ".xr-attrs dt {\n",
       "  white-space: nowrap;\n",
       "  overflow: hidden;\n",
       "  text-overflow: ellipsis;\n",
       "  padding-right: 10px;\n",
       "}\n",
       "\n",
       ".xr-var-name:hover,\n",
       ".xr-var-dims:hover,\n",
       ".xr-var-dtype:hover,\n",
       ".xr-attrs dt:hover {\n",
       "  overflow: visible;\n",
       "  width: auto;\n",
       "  z-index: 1;\n",
       "}\n",
       "\n",
       ".xr-var-attrs,\n",
       ".xr-var-data {\n",
       "  display: none;\n",
       "  background-color: var(--xr-background-color) !important;\n",
       "  padding-bottom: 5px !important;\n",
       "}\n",
       "\n",
       ".xr-var-attrs-in:checked ~ .xr-var-attrs,\n",
       ".xr-var-data-in:checked ~ .xr-var-data {\n",
       "  display: block;\n",
       "}\n",
       "\n",
       ".xr-var-data > table {\n",
       "  float: right;\n",
       "}\n",
       "\n",
       ".xr-var-name span,\n",
       ".xr-var-data,\n",
       ".xr-attrs {\n",
       "  padding-left: 25px !important;\n",
       "}\n",
       "\n",
       ".xr-attrs,\n",
       ".xr-var-attrs,\n",
       ".xr-var-data {\n",
       "  grid-column: 1 / -1;\n",
       "}\n",
       "\n",
       "dl.xr-attrs {\n",
       "  padding: 0;\n",
       "  margin: 0;\n",
       "  display: grid;\n",
       "  grid-template-columns: 125px auto;\n",
       "}\n",
       "\n",
       ".xr-attrs dt,\n",
       ".xr-attrs dd {\n",
       "  padding: 0;\n",
       "  margin: 0;\n",
       "  float: left;\n",
       "  padding-right: 10px;\n",
       "  width: auto;\n",
       "}\n",
       "\n",
       ".xr-attrs dt {\n",
       "  font-weight: normal;\n",
       "  grid-column: 1;\n",
       "}\n",
       "\n",
       ".xr-attrs dt:hover span {\n",
       "  display: inline-block;\n",
       "  background: var(--xr-background-color);\n",
       "  padding-right: 10px;\n",
       "}\n",
       "\n",
       ".xr-attrs dd {\n",
       "  grid-column: 2;\n",
       "  white-space: pre-wrap;\n",
       "  word-break: break-all;\n",
       "}\n",
       "\n",
       ".xr-icon-database,\n",
       ".xr-icon-file-text2 {\n",
       "  display: inline-block;\n",
       "  vertical-align: middle;\n",
       "  width: 1em;\n",
       "  height: 1.5em !important;\n",
       "  stroke-width: 0;\n",
       "  stroke: currentColor;\n",
       "  fill: currentColor;\n",
       "}\n",
       "</style><pre class='xr-text-repr-fallback'>&lt;xarray.DataArray &#x27;EMISSIONS_2019&#x27; (time: 720, latitude: 60, longitude: 61)&gt;\n",
       "[2635200 values with dtype=float32]\n",
       "Coordinates:\n",
       "  * longitude  (longitude) float32 4.0 4.1 4.2 4.3 4.4 ... 9.6 9.7 9.8 9.9 10.0\n",
       "  * latitude   (latitude) float32 43.05 43.15 43.25 43.35 ... 48.75 48.85 48.95\n",
       "  * time       (time) datetime64[ns] 2019-05-01 ... 2019-05-30T23:00:00\n",
       "Attributes:\n",
       "    standard_name:  NOx_EMISSIONS_2019\n",
       "    long_name:      NOX_EMISSIONS_2019\n",
       "    units:          kg m-2 s-1</pre><div class='xr-wrap' hidden><div class='xr-header'><div class='xr-obj-type'>xarray.DataArray</div><div class='xr-array-name'>'EMISSIONS_2019'</div><ul class='xr-dim-list'><li><span class='xr-has-index'>time</span>: 720</li><li><span class='xr-has-index'>latitude</span>: 60</li><li><span class='xr-has-index'>longitude</span>: 61</li></ul></div><ul class='xr-sections'><li class='xr-section-item'><div class='xr-array-wrap'><input id='section-863d732e-b776-4b4f-a0b7-2355a90f6d5a' class='xr-array-in' type='checkbox' checked><label for='section-863d732e-b776-4b4f-a0b7-2355a90f6d5a' title='Show/hide data repr'><svg class='icon xr-icon-database'><use xlink:href='#icon-database'></use></svg></label><div class='xr-array-preview xr-preview'><span>...</span></div><div class='xr-array-data'><pre>[2635200 values with dtype=float32]</pre></div></div></li><li class='xr-section-item'><input id='section-e6285f96-2f1d-4c97-a08a-bba3f6ea87de' class='xr-section-summary-in' type='checkbox'  checked><label for='section-e6285f96-2f1d-4c97-a08a-bba3f6ea87de' class='xr-section-summary' >Coordinates: <span>(3)</span></label><div class='xr-section-inline-details'></div><div class='xr-section-details'><ul class='xr-var-list'><li class='xr-var-item'><div class='xr-var-name'><span class='xr-has-index'>longitude</span></div><div class='xr-var-dims'>(longitude)</div><div class='xr-var-dtype'>float32</div><div class='xr-var-preview xr-preview'>4.0 4.1 4.2 4.3 ... 9.8 9.9 10.0</div><input id='attrs-cfc353fe-7d68-4084-a739-43c7cf302c3b' class='xr-var-attrs-in' type='checkbox' ><label for='attrs-cfc353fe-7d68-4084-a739-43c7cf302c3b' title='Show/Hide attributes'><svg class='icon xr-icon-file-text2'><use xlink:href='#icon-file-text2'></use></svg></label><input id='data-e177fbe1-ea8c-40da-bbe4-956e65655922' class='xr-var-data-in' type='checkbox'><label for='data-e177fbe1-ea8c-40da-bbe4-956e65655922' title='Show/Hide data repr'><svg class='icon xr-icon-database'><use xlink:href='#icon-database'></use></svg></label><div class='xr-var-attrs'><dl class='xr-attrs'><dt><span>standard_name :</span></dt><dd>longitude</dd><dt><span>long_name :</span></dt><dd>longitude</dd><dt><span>units :</span></dt><dd>degrees_east</dd><dt><span>comment :</span></dt><dd>center_of_cell</dd></dl></div><div class='xr-var-data'><pre>array([ 4. ,  4.1,  4.2,  4.3,  4.4,  4.5,  4.6,  4.7,  4.8,  4.9,  5. ,  5.1,\n",
       "        5.2,  5.3,  5.4,  5.5,  5.6,  5.7,  5.8,  5.9,  6. ,  6.1,  6.2,  6.3,\n",
       "        6.4,  6.5,  6.6,  6.7,  6.8,  6.9,  7. ,  7.1,  7.2,  7.3,  7.4,  7.5,\n",
       "        7.6,  7.7,  7.8,  7.9,  8. ,  8.1,  8.2,  8.3,  8.4,  8.5,  8.6,  8.7,\n",
       "        8.8,  8.9,  9. ,  9.1,  9.2,  9.3,  9.4,  9.5,  9.6,  9.7,  9.8,  9.9,\n",
       "       10. ], dtype=float32)</pre></div></li><li class='xr-var-item'><div class='xr-var-name'><span class='xr-has-index'>latitude</span></div><div class='xr-var-dims'>(latitude)</div><div class='xr-var-dtype'>float32</div><div class='xr-var-preview xr-preview'>43.05 43.15 43.25 ... 48.85 48.95</div><input id='attrs-0be98c1e-5ed9-4bdb-bfe8-49e932a89e50' class='xr-var-attrs-in' type='checkbox' ><label for='attrs-0be98c1e-5ed9-4bdb-bfe8-49e932a89e50' title='Show/Hide attributes'><svg class='icon xr-icon-file-text2'><use xlink:href='#icon-file-text2'></use></svg></label><input id='data-d823ef0e-7432-43be-a260-34608dbf7e81' class='xr-var-data-in' type='checkbox'><label for='data-d823ef0e-7432-43be-a260-34608dbf7e81' title='Show/Hide data repr'><svg class='icon xr-icon-database'><use xlink:href='#icon-database'></use></svg></label><div class='xr-var-attrs'><dl class='xr-attrs'><dt><span>standard_name :</span></dt><dd>latitude</dd><dt><span>long_name :</span></dt><dd>latitude</dd><dt><span>units :</span></dt><dd>degrees_north</dd><dt><span>comment :</span></dt><dd>center_of_cell</dd></dl></div><div class='xr-var-data'><pre>array([43.05, 43.15, 43.25, 43.35, 43.45, 43.55, 43.65, 43.75, 43.85, 43.95,\n",
       "       44.05, 44.15, 44.25, 44.35, 44.45, 44.55, 44.65, 44.75, 44.85, 44.95,\n",
       "       45.05, 45.15, 45.25, 45.35, 45.45, 45.55, 45.65, 45.75, 45.85, 45.95,\n",
       "       46.05, 46.15, 46.25, 46.35, 46.45, 46.55, 46.65, 46.75, 46.85, 46.95,\n",
       "       47.05, 47.15, 47.25, 47.35, 47.45, 47.55, 47.65, 47.75, 47.85, 47.95,\n",
       "       48.05, 48.15, 48.25, 48.35, 48.45, 48.55, 48.65, 48.75, 48.85, 48.95],\n",
       "      dtype=float32)</pre></div></li><li class='xr-var-item'><div class='xr-var-name'><span class='xr-has-index'>time</span></div><div class='xr-var-dims'>(time)</div><div class='xr-var-dtype'>datetime64[ns]</div><div class='xr-var-preview xr-preview'>2019-05-01 ... 2019-05-30T23:00:00</div><input id='attrs-d0ef30f6-a8a0-41aa-92e9-beaf77449054' class='xr-var-attrs-in' type='checkbox' ><label for='attrs-d0ef30f6-a8a0-41aa-92e9-beaf77449054' title='Show/Hide attributes'><svg class='icon xr-icon-file-text2'><use xlink:href='#icon-file-text2'></use></svg></label><input id='data-645ca568-dab9-4b9b-aa77-abc3be696934' class='xr-var-data-in' type='checkbox'><label for='data-645ca568-dab9-4b9b-aa77-abc3be696934' title='Show/Hide data repr'><svg class='icon xr-icon-database'><use xlink:href='#icon-database'></use></svg></label><div class='xr-var-attrs'><dl class='xr-attrs'><dt><span>standard_name :</span></dt><dd>time</dd><dt><span>long_name :</span></dt><dd>time</dd></dl></div><div class='xr-var-data'><pre>array([&#x27;2019-05-01T00:00:00.000000000&#x27;, &#x27;2019-05-01T01:00:00.000000000&#x27;,\n",
       "       &#x27;2019-05-01T02:00:00.000000000&#x27;, ..., &#x27;2019-05-30T21:00:00.000000000&#x27;,\n",
       "       &#x27;2019-05-30T22:00:00.000000000&#x27;, &#x27;2019-05-30T23:00:00.000000000&#x27;],\n",
       "      dtype=&#x27;datetime64[ns]&#x27;)</pre></div></li></ul></div></li><li class='xr-section-item'><input id='section-097d274d-5549-49fc-a754-ed498d29a02c' class='xr-section-summary-in' type='checkbox'  checked><label for='section-097d274d-5549-49fc-a754-ed498d29a02c' class='xr-section-summary' >Attributes: <span>(3)</span></label><div class='xr-section-inline-details'></div><div class='xr-section-details'><dl class='xr-attrs'><dt><span>standard_name :</span></dt><dd>NOx_EMISSIONS_2019</dd><dt><span>long_name :</span></dt><dd>NOX_EMISSIONS_2019</dd><dt><span>units :</span></dt><dd>kg m-2 s-1</dd></dl></div></li></ul></div></div>"
      ],
      "text/plain": [
       "<xarray.DataArray 'EMISSIONS_2019' (time: 720, latitude: 60, longitude: 61)>\n",
       "[2635200 values with dtype=float32]\n",
       "Coordinates:\n",
       "  * longitude  (longitude) float32 4.0 4.1 4.2 4.3 4.4 ... 9.6 9.7 9.8 9.9 10.0\n",
       "  * latitude   (latitude) float32 43.05 43.15 43.25 43.35 ... 48.75 48.85 48.95\n",
       "  * time       (time) datetime64[ns] 2019-05-01 ... 2019-05-30T23:00:00\n",
       "Attributes:\n",
       "    standard_name:  NOx_EMISSIONS_2019\n",
       "    long_name:      NOX_EMISSIONS_2019\n",
       "    units:          kg m-2 s-1"
      ]
     },
     "execution_count": 5,
     "metadata": {},
     "output_type": "execute_result"
    }
   ],
   "source": [
    "nox = xr.open_dataset('./data/nox/coco_hourly_study_region.nc')['EMISSIONS_2019']\n",
    "nox"
   ]
  },
  {
   "cell_type": "markdown",
   "metadata": {},
   "source": [
    "#### Create grid based on NOx data coordinates"
   ]
  },
  {
   "cell_type": "code",
   "execution_count": 6,
   "metadata": {},
   "outputs": [
    {
     "data": {
      "text/html": [
       "<div>\n",
       "<style scoped>\n",
       "    .dataframe tbody tr th:only-of-type {\n",
       "        vertical-align: middle;\n",
       "    }\n",
       "\n",
       "    .dataframe tbody tr th {\n",
       "        vertical-align: top;\n",
       "    }\n",
       "\n",
       "    .dataframe thead th {\n",
       "        text-align: right;\n",
       "    }\n",
       "</style>\n",
       "<table border=\"1\" class=\"dataframe\">\n",
       "  <thead>\n",
       "    <tr style=\"text-align: right;\">\n",
       "      <th></th>\n",
       "      <th>latitude</th>\n",
       "      <th>longitude</th>\n",
       "      <th>EMISSIONS_2019</th>\n",
       "      <th>geometry</th>\n",
       "    </tr>\n",
       "  </thead>\n",
       "  <tbody>\n",
       "    <tr>\n",
       "      <th>0</th>\n",
       "      <td>43.05</td>\n",
       "      <td>4.0</td>\n",
       "      <td>3.410211e-12</td>\n",
       "      <td>POLYGON ((3.95000 43.00000, 4.05000 43.00000, ...</td>\n",
       "    </tr>\n",
       "    <tr>\n",
       "      <th>1</th>\n",
       "      <td>43.05</td>\n",
       "      <td>4.1</td>\n",
       "      <td>6.091832e-12</td>\n",
       "      <td>POLYGON ((4.05000 43.00000, 4.15000 43.00000, ...</td>\n",
       "    </tr>\n",
       "    <tr>\n",
       "      <th>2</th>\n",
       "      <td>43.05</td>\n",
       "      <td>4.2</td>\n",
       "      <td>2.365509e-12</td>\n",
       "      <td>POLYGON ((4.15000 43.00000, 4.25000 43.00000, ...</td>\n",
       "    </tr>\n",
       "    <tr>\n",
       "      <th>3</th>\n",
       "      <td>43.05</td>\n",
       "      <td>4.3</td>\n",
       "      <td>3.209276e-12</td>\n",
       "      <td>POLYGON ((4.25000 43.00000, 4.35000 43.00000, ...</td>\n",
       "    </tr>\n",
       "    <tr>\n",
       "      <th>4</th>\n",
       "      <td>43.05</td>\n",
       "      <td>4.4</td>\n",
       "      <td>4.465190e-12</td>\n",
       "      <td>POLYGON ((4.35000 43.00000, 4.45000 43.00000, ...</td>\n",
       "    </tr>\n",
       "  </tbody>\n",
       "</table>\n",
       "</div>"
      ],
      "text/plain": [
       "   latitude  longitude  EMISSIONS_2019  \\\n",
       "0     43.05        4.0    3.410211e-12   \n",
       "1     43.05        4.1    6.091832e-12   \n",
       "2     43.05        4.2    2.365509e-12   \n",
       "3     43.05        4.3    3.209276e-12   \n",
       "4     43.05        4.4    4.465190e-12   \n",
       "\n",
       "                                            geometry  \n",
       "0  POLYGON ((3.95000 43.00000, 4.05000 43.00000, ...  \n",
       "1  POLYGON ((4.05000 43.00000, 4.15000 43.00000, ...  \n",
       "2  POLYGON ((4.15000 43.00000, 4.25000 43.00000, ...  \n",
       "3  POLYGON ((4.25000 43.00000, 4.35000 43.00000, ...  \n",
       "4  POLYGON ((4.35000 43.00000, 4.45000 43.00000, ...  "
      ]
     },
     "execution_count": 6,
     "metadata": {},
     "output_type": "execute_result"
    }
   ],
   "source": [
    "grid = nox.mean('time').to_dataframe().reset_index()\n",
    "grid['latitude'] = np.round(grid.latitude, decimals=2)\n",
    "grid = gpd.GeoDataFrame(grid, geometry=gpd.points_from_xy(grid.longitude, grid.latitude))\n",
    "grid.geometry = grid.buffer(0.05).envelope\n",
    "grid.crs = 'epsg:4326'\n",
    "grid.head()"
   ]
  },
  {
   "cell_type": "markdown",
   "metadata": {},
   "source": [
    "#### Load traffic data"
   ]
  },
  {
   "cell_type": "code",
   "execution_count": 7,
   "metadata": {},
   "outputs": [
    {
     "data": {
      "text/html": [
       "<div>\n",
       "<style scoped>\n",
       "    .dataframe tbody tr th:only-of-type {\n",
       "        vertical-align: middle;\n",
       "    }\n",
       "\n",
       "    .dataframe tbody tr th {\n",
       "        vertical-align: top;\n",
       "    }\n",
       "\n",
       "    .dataframe thead th {\n",
       "        text-align: right;\n",
       "    }\n",
       "</style>\n",
       "<table border=\"1\" class=\"dataframe\">\n",
       "  <thead>\n",
       "    <tr style=\"text-align: right;\">\n",
       "      <th></th>\n",
       "      <th>DE</th>\n",
       "      <th>PC</th>\n",
       "      <th>QD</th>\n",
       "      <th>LE</th>\n",
       "      <th>speed</th>\n",
       "      <th>JF</th>\n",
       "      <th>geometry</th>\n",
       "    </tr>\n",
       "  </thead>\n",
       "  <tbody>\n",
       "    <tr>\n",
       "      <th>0</th>\n",
       "      <td>Dietfurt</td>\n",
       "      <td>10194</td>\n",
       "      <td>+</td>\n",
       "      <td>0.23058</td>\n",
       "      <td>60.00</td>\n",
       "      <td>53.0</td>\n",
       "      <td>MULTILINESTRING ((9.08232 47.34337, 9.08233 47...</td>\n",
       "    </tr>\n",
       "    <tr>\n",
       "      <th>1</th>\n",
       "      <td>Aeuli-Tunnel</td>\n",
       "      <td>27519</td>\n",
       "      <td>+</td>\n",
       "      <td>1.14372</td>\n",
       "      <td>73.02</td>\n",
       "      <td>79.2</td>\n",
       "      <td>MULTILINESTRING ((9.08185 47.34134, 9.08176 47...</td>\n",
       "    </tr>\n",
       "    <tr>\n",
       "      <th>2</th>\n",
       "      <td>Flooz-Tunnel</td>\n",
       "      <td>27518</td>\n",
       "      <td>+</td>\n",
       "      <td>0.52236</td>\n",
       "      <td>76.47</td>\n",
       "      <td>80.0</td>\n",
       "      <td>MULTILINESTRING ((9.08018 47.33156, 9.08024 47...</td>\n",
       "    </tr>\n",
       "    <tr>\n",
       "      <th>3</th>\n",
       "      <td>Flooz</td>\n",
       "      <td>10192</td>\n",
       "      <td>+</td>\n",
       "      <td>1.59761</td>\n",
       "      <td>78.49</td>\n",
       "      <td>79.9</td>\n",
       "      <td>MULTILINESTRING ((9.08048 47.32687, 9.08050 47...</td>\n",
       "    </tr>\n",
       "    <tr>\n",
       "      <th>4</th>\n",
       "      <td>Wattwil-Tunnel</td>\n",
       "      <td>27517</td>\n",
       "      <td>+</td>\n",
       "      <td>2.14947</td>\n",
       "      <td>77.49</td>\n",
       "      <td>80.0</td>\n",
       "      <td>MULTILINESTRING ((9.07965 47.31284, 9.07954 47...</td>\n",
       "    </tr>\n",
       "    <tr>\n",
       "      <th>...</th>\n",
       "      <td>...</td>\n",
       "      <td>...</td>\n",
       "      <td>...</td>\n",
       "      <td>...</td>\n",
       "      <td>...</td>\n",
       "      <td>...</td>\n",
       "      <td>...</td>\n",
       "    </tr>\n",
       "    <tr>\n",
       "      <th>75667</th>\n",
       "      <td>Ventabren</td>\n",
       "      <td>4628</td>\n",
       "      <td>-</td>\n",
       "      <td>3.00811</td>\n",
       "      <td>59.29</td>\n",
       "      <td>55.4</td>\n",
       "      <td>MULTILINESTRING ((5.25970 43.54231, 5.25982 43...</td>\n",
       "    </tr>\n",
       "    <tr>\n",
       "      <th>75668</th>\n",
       "      <td>D543</td>\n",
       "      <td>4629</td>\n",
       "      <td>-</td>\n",
       "      <td>4.75630</td>\n",
       "      <td>63.98</td>\n",
       "      <td>63.6</td>\n",
       "      <td>MULTILINESTRING ((5.29358 43.54721, 5.29460 43...</td>\n",
       "    </tr>\n",
       "    <tr>\n",
       "      <th>75669</th>\n",
       "      <td>Éguilles est</td>\n",
       "      <td>4630</td>\n",
       "      <td>-</td>\n",
       "      <td>1.54228</td>\n",
       "      <td>50.50</td>\n",
       "      <td>55.3</td>\n",
       "      <td>MULTILINESTRING ((5.35078 43.54407, 5.35104 43...</td>\n",
       "    </tr>\n",
       "    <tr>\n",
       "      <th>75670</th>\n",
       "      <td>Célony ouest</td>\n",
       "      <td>4631</td>\n",
       "      <td>-</td>\n",
       "      <td>4.14452</td>\n",
       "      <td>52.90</td>\n",
       "      <td>51.3</td>\n",
       "      <td>MULTILINESTRING ((5.36887 43.54193, 5.36905 43...</td>\n",
       "    </tr>\n",
       "    <tr>\n",
       "      <th>75671</th>\n",
       "      <td>Célony</td>\n",
       "      <td>4632</td>\n",
       "      <td>-</td>\n",
       "      <td>2.07203</td>\n",
       "      <td>26.54</td>\n",
       "      <td>33.9</td>\n",
       "      <td>MULTILINESTRING ((5.41652 43.53253, 5.41658 43...</td>\n",
       "    </tr>\n",
       "  </tbody>\n",
       "</table>\n",
       "<p>75672 rows × 7 columns</p>\n",
       "</div>"
      ],
      "text/plain": [
       "                   DE     PC QD       LE  speed    JF  \\\n",
       "0            Dietfurt  10194  +  0.23058  60.00  53.0   \n",
       "1        Aeuli-Tunnel  27519  +  1.14372  73.02  79.2   \n",
       "2        Flooz-Tunnel  27518  +  0.52236  76.47  80.0   \n",
       "3               Flooz  10192  +  1.59761  78.49  79.9   \n",
       "4      Wattwil-Tunnel  27517  +  2.14947  77.49  80.0   \n",
       "...               ...    ... ..      ...    ...   ...   \n",
       "75667       Ventabren   4628  -  3.00811  59.29  55.4   \n",
       "75668            D543   4629  -  4.75630  63.98  63.6   \n",
       "75669    Éguilles est   4630  -  1.54228  50.50  55.3   \n",
       "75670    Célony ouest   4631  -  4.14452  52.90  51.3   \n",
       "75671          Célony   4632  -  2.07203  26.54  33.9   \n",
       "\n",
       "                                                geometry  \n",
       "0      MULTILINESTRING ((9.08232 47.34337, 9.08233 47...  \n",
       "1      MULTILINESTRING ((9.08185 47.34134, 9.08176 47...  \n",
       "2      MULTILINESTRING ((9.08018 47.33156, 9.08024 47...  \n",
       "3      MULTILINESTRING ((9.08048 47.32687, 9.08050 47...  \n",
       "4      MULTILINESTRING ((9.07965 47.31284, 9.07954 47...  \n",
       "...                                                  ...  \n",
       "75667  MULTILINESTRING ((5.25970 43.54231, 5.25982 43...  \n",
       "75668  MULTILINESTRING ((5.29358 43.54721, 5.29460 43...  \n",
       "75669  MULTILINESTRING ((5.35078 43.54407, 5.35104 43...  \n",
       "75670  MULTILINESTRING ((5.36887 43.54193, 5.36905 43...  \n",
       "75671  MULTILINESTRING ((5.41652 43.53253, 5.41658 43...  \n",
       "\n",
       "[75672 rows x 7 columns]"
      ]
     },
     "execution_count": 7,
     "metadata": {},
     "output_type": "execute_result"
    }
   ],
   "source": [
    "traffic = gpd.read_file('data/traffic/4_43_10_49/20210714_0917.zip')\n",
    "traffic"
   ]
  },
  {
   "cell_type": "markdown",
   "metadata": {},
   "source": [
    "#### Aggregate traffic data to this grid"
   ]
  },
  {
   "cell_type": "code",
   "execution_count": 7,
   "metadata": {},
   "outputs": [
    {
     "name": "stdout",
     "output_type": "stream",
     "text": [
      "CPU times: user 5.79 s, sys: 84.2 ms, total: 5.87 s\n",
      "Wall time: 5.87 s\n"
     ]
    }
   ],
   "source": [
    "%%time \n",
    "\n",
    "sindex = traffic.sindex\n",
    "# traffic = traffic.set_crs('epsg:4326')"
   ]
  },
  {
   "cell_type": "code",
   "execution_count": 186,
   "metadata": {},
   "outputs": [
    {
     "name": "stdout",
     "output_type": "stream",
     "text": [
      "0\n"
     ]
    },
    {
     "name": "stderr",
     "output_type": "stream",
     "text": [
      "<timed exec>:7: UserWarning: CRS mismatch between the CRS of left geometries and the CRS of right geometries.\n",
      "Use `to_crs()` to reproject one of the input geometries to match the CRS of the other.\n",
      "\n",
      "Left CRS: None\n",
      "Right CRS: EPSG:4326\n",
      "\n"
     ]
    },
    {
     "name": "stdout",
     "output_type": "stream",
     "text": [
      "40\n",
      "80\n",
      "120\n",
      "160\n",
      "200\n",
      "CPU times: user 21.6 s, sys: 228 ms, total: 21.8 s\n",
      "Wall time: 21.8 s\n"
     ]
    }
   ],
   "source": [
    "%%time \n",
    "\n",
    "for index, row in grid.iterrows():\n",
    "    if index%40==0:\n",
    "        print(index)\n",
    "    geom = grid.iloc[index:index+1]\n",
    "    possible = list(sindex.intersection(geom.total_bounds))\n",
    "    pdf = traffic.iloc[possible]\n",
    "    clipped = gpd.clip(pdf, geom)\n",
    "    grid.loc[index, 'traffic'] = (clipped.length).sum()"
   ]
  },
  {
   "cell_type": "markdown",
   "metadata": {},
   "source": [
    "#### Correlation between traffic and emissions"
   ]
  },
  {
   "cell_type": "code",
   "execution_count": 193,
   "metadata": {},
   "outputs": [
    {
     "data": {
      "image/png": "[encoded data removed]",
      "text/plain": [
       "<Figure size 432x288 with 1 Axes>"
      ]
     },
     "metadata": {
      "needs_background": "light"
     },
     "output_type": "display_data"
    }
   ],
   "source": [
    "plt.scatter(grid.EMISSIONS_2019, grid.traffic)\n",
    "plt.xlabel('COCO Emissions (May 2019 mean)')\n",
    "plt.ylabel('Real-time traffic density (4th July, 2021, 7 PM)')\n",
    "plt.savefig('Traffic_emissions_correlation.png', dpi=240)"
   ]
  },
  {
   "cell_type": "code",
   "execution_count": 191,
   "metadata": {},
   "outputs": [],
   "source": [
    "import scipy.stats as ss"
   ]
  },
  {
   "cell_type": "code",
   "execution_count": 192,
   "metadata": {},
   "outputs": [
    {
     "name": "stdout",
     "output_type": "stream",
     "text": [
      "Correlation coefficient R = 0.455\n"
     ]
    }
   ],
   "source": [
    "r = ss.pearsonr(grid.EMISSIONS_2019, grid.traffic)[0]\n",
    "print(\"Correlation coefficient R = %.3f\"%(r))"
   ]
  },
  {
   "cell_type": "markdown",
   "metadata": {},
   "source": [
    "#### Temporal variation"
   ]
  },
  {
   "cell_type": "code",
   "execution_count": 98,
   "metadata": {},
   "outputs": [],
   "source": [
    "import os\n",
    "from datetime import datetime as dt"
   ]
  },
  {
   "cell_type": "code",
   "execution_count": 99,
   "metadata": {},
   "outputs": [],
   "source": [
    "nox_hourly = nox.groupby(nox.time.dt.hour).mean()"
   ]
  },
  {
   "cell_type": "code",
   "execution_count": 100,
   "metadata": {},
   "outputs": [
    {
     "data": {
      "text/plain": [
       "[<matplotlib.lines.Line2D at 0x7fadcaacf700>]"
      ]
     },
     "execution_count": 100,
     "metadata": {},
     "output_type": "execute_result"
    },
    {
     "data": {
      "image/png": "[encoded data removed]",
      "text/plain": [
       "<Figure size 432x288 with 1 Axes>"
      ]
     },
     "metadata": {
      "needs_background": "light"
     },
     "output_type": "display_data"
    }
   ],
   "source": [
    "nox_hourly.mean(['latitude', 'longitude']).plot()"
   ]
  },
  {
   "cell_type": "code",
   "execution_count": 101,
   "metadata": {},
   "outputs": [],
   "source": [
    "def agg_to_grid(da, gdf, timestep=None, var_name='new_var'):\n",
    "    'Aggregate geodataframe of points or lines to grid defined by xarray DataArray.'\n",
    "    \n",
    "#     if gdf.crs == None:\n",
    "#         gdf = gdf.set_crs('epsg:4326')\n",
    "    if type(da) == xr.DataArray:\n",
    "        print('Converting to Xarray Dataset')\n",
    "        da = da.to_dataset(name='emissions')\n",
    "        da[var_name] = xr.zeros_like(da['emissions'])\n",
    "        \n",
    "    if 'x' in da.dims:\n",
    "        coords = ['x','y']\n",
    "    elif 'lon' in da.dims:\n",
    "        coords = ['lon', 'lat']\n",
    "    elif 'longitude' in da.dims:\n",
    "        coords = ['longitude', 'latitude']\n",
    "\n",
    "    lons = da[coords[0]].values\n",
    "    lats = da[coords[1]].values\n",
    "    \n",
    "    sindex = gdf.sindex\n",
    "    \n",
    "    xstep = da[coords[0]][1].values - da[coords[0]][0].values\n",
    "    ystep = da[coords[1]][1].values - da[coords[1]][0].values\n",
    "    \n",
    "    assert (xstep - ystep)/xstep < 0.001, 'Grid is not square'\n",
    "\n",
    "    for lon in da[coords[0]].values:\n",
    "#         print(lon)\n",
    "        for lat in da[coords[1]].values:\n",
    "            geom = shp.geometry.Point(lon, lat).buffer(xstep/2.).envelope\n",
    "            possible = list(sindex.intersection(geom.bounds))\n",
    "            pdf = gdf.iloc[possible]\n",
    "            \n",
    "            clipped = gpd.clip(pdf, geom)\n",
    "            length = (clipped.LE * clipped.speed).sum()\n",
    "            if timestep != None:\n",
    "                da[var_name].loc[timestep, lat, lon] = length\n",
    "            else:\n",
    "                da[var_name].loc[lat, lon] = length\n",
    "\n",
    "    return da"
   ]
  },
  {
   "cell_type": "code",
   "execution_count": 102,
   "metadata": {},
   "outputs": [
    {
     "name": "stdout",
     "output_type": "stream",
     "text": [
      "20210715_0013.zip\n",
      "Converting to Xarray Dataset\n",
      "20210715_0113.zip\n",
      "20210715_0213.zip\n",
      "20210715_0556.zip\n",
      "20210715_0611.zip\n",
      "20210715_0729.zip\n",
      "20210715_0814.zip\n",
      "20210715_0914.zip\n",
      "20210715_1014.zip\n",
      "20210715_1113.zip\n",
      "20210716_1227.zip\n",
      "20210716_1312.zip\n",
      "20210716_1412.zip\n",
      "20210716_1512.zip\n",
      "20210715_2110.zip\n",
      "20210715_2210.zip\n",
      "20210715_2310.zip\n",
      "CPU times: user 36min 8s, sys: 1.67 s, total: 36min 10s\n",
      "Wall time: 36min 51s\n"
     ]
    }
   ],
   "source": [
    "%%time\n",
    "\n",
    "files = os.listdir('./data/traffic/4_43_10_49/')\n",
    "tests = []\n",
    "for hour in range(24):\n",
    "    gdfs = []\n",
    "    \n",
    "    hour_files = [x for x in files if (int(x[-8:-6]) ==  hour) & (int(x[-11:-9]) > 14)]\n",
    "\n",
    "    if len(hour_files)>0:\n",
    "        print(hour_files[0])\n",
    "        gdf = gpd.read_file('./data/traffic/4_43_10_49/%s'%hour_files[0])\n",
    "\n",
    "        nox_hourly = agg_to_grid(nox_hourly, gdf, timestep=hour, var_name='traffic')\n",
    "#         tests.append(agg_to_grid(nox_hourly, gdf, timestep=hour, var_name='traffic'))"
   ]
  },
  {
   "cell_type": "code",
   "execution_count": 105,
   "metadata": {},
   "outputs": [
    {
     "data": {
      "text/plain": [
       "<matplotlib.collections.QuadMesh at 0x7fadd2d4a9d0>"
      ]
     },
     "execution_count": 105,
     "metadata": {},
     "output_type": "execute_result"
    },
    {
     "data": {
      "image/png": "[encoded data removed]",
      "text/plain": [
       "<Figure size 432x288 with 2 Axes>"
      ]
     },
     "metadata": {
      "needs_background": "light"
     },
     "output_type": "display_data"
    }
   ],
   "source": [
    "nox_hourly['traffic'].isel(hour=0).plot()"
   ]
  },
  {
   "cell_type": "code",
   "execution_count": 109,
   "metadata": {},
   "outputs": [],
   "source": [
    "nox_hourly.to_netcdf('./data/emissions_traffic_hourly_merged.nc')"
   ]
  },
  {
   "cell_type": "code",
   "execution_count": 113,
   "metadata": {},
   "outputs": [],
   "source": [
    "hourwise = nox_hourly.mean(['latitude', 'longitude'])"
   ]
  },
  {
   "cell_type": "code",
   "execution_count": 134,
   "metadata": {},
   "outputs": [],
   "source": [
    "df = nox_hourly.to_dataframe()"
   ]
  },
  {
   "cell_type": "code",
   "execution_count": 146,
   "metadata": {},
   "outputs": [
    {
     "data": {
      "text/plain": [
       "<matplotlib.collections.PathCollection at 0x7f8490ac8e50>"
      ]
     },
     "execution_count": 146,
     "metadata": {},
     "output_type": "execute_result"
    },
    {
     "data": {
      "image/png": "[encoded data removed]",
      "text/plain": [
       "<Figure size 432x288 with 1 Axes>"
      ]
     },
     "metadata": {
      "needs_background": "light"
     },
     "output_type": "display_data"
    }
   ],
   "source": [
    "plt.scatter(np.log(df.emissions), df.traffic, s=10, alpha=0.5)"
   ]
  },
  {
   "cell_type": "code",
   "execution_count": 137,
   "metadata": {},
   "outputs": [],
   "source": [
    "import scipy.stats as ss"
   ]
  },
  {
   "cell_type": "code",
   "execution_count": 138,
   "metadata": {},
   "outputs": [
    {
     "name": "stdout",
     "output_type": "stream",
     "text": [
      "Correlation coefficient R = 0.283\n"
     ]
    }
   ],
   "source": [
    "r = ss.pearsonr(np.log(df.emissions), df.traffic)[0]\n",
    "print(\"Correlation coefficient R = %.3f\"%(r))"
   ]
  },
  {
   "cell_type": "code",
   "execution_count": 140,
   "metadata": {},
   "outputs": [
    {
     "name": "stdout",
     "output_type": "stream",
     "text": [
      "0 \t 0.502\n",
      "1 \t 0.502\n",
      "2 \t 0.500\n",
      "3 \t nan\n",
      "4 \t nan\n",
      "5 \t 0.435\n",
      "6 \t 0.473\n",
      "7 \t 0.497\n",
      "8 \t 0.499\n",
      "9 \t 0.499\n",
      "10 \t 0.499\n",
      "11 \t 0.501\n",
      "12 \t 0.496\n",
      "13 \t 0.494\n",
      "14 \t 0.489\n",
      "15 \t 0.481\n",
      "16 \t nan\n",
      "17 \t nan\n",
      "18 \t nan\n",
      "19 \t nan\n",
      "20 \t nan\n",
      "21 \t 0.507\n",
      "22 \t 0.501\n",
      "23 \t 0.499\n"
     ]
    }
   ],
   "source": [
    "for hour in range(24):\n",
    "    df_ = df.loc[hour]\n",
    "    r = ss.pearsonr(np.log(df_.emissions), df_.traffic)[0]\n",
    "    print('%s \\t %.3f'%(hour, r))"
   ]
  },
  {
   "cell_type": "code",
   "execution_count": 15,
   "metadata": {},
   "outputs": [],
   "source": []
  },
  {
   "cell_type": "code",
   "execution_count": null,
   "metadata": {},
   "outputs": [],
   "source": []
  }
 ],
 "metadata": {
  "kernelspec": {
   "display_name": "Python 3",
   "language": "python",
   "name": "python3"
  },
  "language_info": {
   "codemirror_mode": {
    "name": "ipython",
    "version": 3
   },
   "file_extension": ".py",
   "mimetype": "text/x-python",
   "name": "python",
   "nbconvert_exporter": "python",
   "pygments_lexer": "ipython3",
   "version": "3.8.6"
  }
 },
 "nbformat": 4,
 "nbformat_minor": 4
}
