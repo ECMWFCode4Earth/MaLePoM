{
 "cells": [
  {
   "cell_type": "markdown",
   "metadata": {},
   "source": [
    "## Access HERE API traffic data and saving to shapefile"
   ]
  },
  {
   "cell_type": "markdown",
   "metadata": {},
   "source": [
    "#### Install herepy package"
   ]
  },
  {
   "cell_type": "code",
   "execution_count": 1,
   "metadata": {},
   "outputs": [
    {
     "name": "stdout",
     "output_type": "stream",
     "text": [
      "Collecting herepy\n",
      "  Downloading herepy-3.5.3-py3-none-any.whl (51 kB)\n",
      "\u001b[K     |████████████████████████████████| 51 kB 11.3 MB/s eta 0:00:01\n",
      "\u001b[?25hCollecting requests==2.25.1\n",
      "  Downloading requests-2.25.1-py2.py3-none-any.whl (61 kB)\n",
      "\u001b[K     |████████████████████████████████| 61 kB 22.8 MB/s eta 0:00:01\n",
      "\u001b[?25hRequirement already satisfied: urllib3<1.27,>=1.21.1 in /opt/conda/lib/python3.8/site-packages (from requests==2.25.1->herepy) (1.25.11)\n",
      "Requirement already satisfied: certifi>=2017.4.17 in /opt/conda/lib/python3.8/site-packages (from requests==2.25.1->herepy) (2021.5.30)\n",
      "Requirement already satisfied: chardet<5,>=3.0.2 in /opt/conda/lib/python3.8/site-packages (from requests==2.25.1->herepy) (3.0.4)\n",
      "Requirement already satisfied: idna<3,>=2.5 in /opt/conda/lib/python3.8/site-packages (from requests==2.25.1->herepy) (2.10)\n",
      "Installing collected packages: requests, herepy\n",
      "  Attempting uninstall: requests\n",
      "    Found existing installation: requests 2.24.0\n",
      "    Uninstalling requests-2.24.0:\n",
      "      Successfully uninstalled requests-2.24.0\n",
      "Successfully installed herepy-3.5.3 requests-2.25.1\n"
     ]
    }
   ],
   "source": [
    "!pip install herepy #contextily rioxarray geocube"
   ]
  },
  {
   "cell_type": "code",
   "execution_count": 2,
   "metadata": {},
   "outputs": [],
   "source": [
    "import herepy\n",
    "import requests\n",
    "import json\n",
    "import os\n",
    "import urllib \n",
    "\n",
    "import numpy as np\n",
    "from datetime import datetime as dt\n",
    "import matplotlib.pyplot as plt\n",
    "import pandas as pd\n",
    "import shapely as shp\n",
    "import geopandas as gpd\n",
    "import shutil"
   ]
  },
  {
   "cell_type": "markdown",
   "metadata": {},
   "source": [
    "#### HERE Traffic API request"
   ]
  },
  {
   "cell_type": "code",
   "execution_count": 3,
   "metadata": {},
   "outputs": [],
   "source": [
    "area = [8.5,44.5,10,46.0]"
   ]
  },
  {
   "cell_type": "code",
   "execution_count": 4,
   "metadata": {},
   "outputs": [],
   "source": [
    "key = open('here_api_key.txt')\n",
    "key = key.read()"
   ]
  },
  {
   "cell_type": "code",
   "execution_count": 5,
   "metadata": {},
   "outputs": [],
   "source": [
    "traffic_url = 'https://traffic.ls.hereapi.com/traffic/6.2/flow.json?\\\n",
    "apiKey=%s\\\n",
    "&bbox=%s,%s;%s,%s\\\n",
    "&responseattributes=sh,fc'%(key, area[3], area[0], area[1], area[2])"
   ]
  },
  {
   "cell_type": "code",
   "execution_count": 6,
   "metadata": {},
   "outputs": [],
   "source": [
    "now = dt.now()\n",
    "now = now.strftime('%Y%m%d_%H%M')"
   ]
  },
  {
   "cell_type": "code",
   "execution_count": 7,
   "metadata": {},
   "outputs": [
    {
     "name": "stdout",
     "output_type": "stream",
     "text": [
      "CPU times: user 1.17 s, sys: 188 ms, total: 1.36 s\n",
      "Wall time: 5.28 s\n"
     ]
    }
   ],
   "source": [
    "%%time\n",
    "api_out = requests.get(traffic_url)\n",
    "traffic = json.loads(api_out.content)"
   ]
  },
  {
   "cell_type": "code",
   "execution_count": 8,
   "metadata": {},
   "outputs": [
    {
     "name": "stdout",
     "output_type": "stream",
     "text": [
      "CPU times: user 2.98 s, sys: 29.7 ms, total: 3.01 s\n",
      "Wall time: 3.01 s\n"
     ]
    }
   ],
   "source": [
    "%%time \n",
    "\n",
    "out = []\n",
    "\n",
    "for it in traffic.get('RWS'):\n",
    "    for rw in (it.get('RW')):\n",
    "        for fis in (rw.get('FIS')):\n",
    "            for fi in fis.get('FI'):\n",
    "                DE = (fi.get('TMC').get('DE'))\n",
    "                shape = fi.get('SHP')\n",
    "                PC = fi.get('TMC').get('PC')\n",
    "                QD = fi.get('TMC').get('QD')\n",
    "                LE = fi.get('TMC').get('LE')\n",
    "                \n",
    "                zs = []\n",
    "\n",
    "                for z in shape:\n",
    "                    zs.append([[*map(float, x.split(','))][::-1] for x in z.get('value')[0].split(' ')[:-1]])\n",
    "\n",
    "                line = shp.geometry.MultiLineString(zs)\n",
    "                if len(fi.get('CF')) == 1:\n",
    "                    SU = fi.get('CF')[0].get('SU')\n",
    "                    SP = fi.get('CF')[0].get('SP')\n",
    "                    JF = fi.get('CF')[0].get('JF')\n",
    "                    FF = fi.get('CF')[0].get('FF')\n",
    "                    CN = fi.get('CF')[0].get('CN')\n",
    "                    \n",
    "                else:\n",
    "                    print('ERROR.')\n",
    "                    \n",
    "                out.append((DE, PC, QD, LE, SU, SP, JF, FF, CN, line))"
   ]
  },
  {
   "cell_type": "code",
   "execution_count": 9,
   "metadata": {},
   "outputs": [],
   "source": [
    "DE, PC, QD, LE, SU, SP, JF, FF, CN, geom = zip(*out)"
   ]
  },
  {
   "cell_type": "code",
   "execution_count": 10,
   "metadata": {},
   "outputs": [
    {
     "data": {
      "text/html": [
       "<div>\n",
       "<style scoped>\n",
       "    .dataframe tbody tr th:only-of-type {\n",
       "        vertical-align: middle;\n",
       "    }\n",
       "\n",
       "    .dataframe tbody tr th {\n",
       "        vertical-align: top;\n",
       "    }\n",
       "\n",
       "    .dataframe thead th {\n",
       "        text-align: right;\n",
       "    }\n",
       "</style>\n",
       "<table border=\"1\" class=\"dataframe\">\n",
       "  <thead>\n",
       "    <tr style=\"text-align: right;\">\n",
       "      <th></th>\n",
       "      <th>DE</th>\n",
       "      <th>PC</th>\n",
       "      <th>QD</th>\n",
       "      <th>LE</th>\n",
       "      <th>SU</th>\n",
       "      <th>SP</th>\n",
       "      <th>JF</th>\n",
       "      <th>FF</th>\n",
       "      <th>CN</th>\n",
       "      <th>geometry</th>\n",
       "    </tr>\n",
       "  </thead>\n",
       "  <tbody>\n",
       "    <tr>\n",
       "      <th>0</th>\n",
       "      <td>Verzweigung Lugano-Nord</td>\n",
       "      <td>10153</td>\n",
       "      <td>+</td>\n",
       "      <td>1.33538</td>\n",
       "      <td>88.83</td>\n",
       "      <td>88.60</td>\n",
       "      <td>0.00000</td>\n",
       "      <td>75.3</td>\n",
       "      <td>0.98</td>\n",
       "      <td>MULTILINESTRING ((8.92864 46.04003, 8.92870 46...</td>\n",
       "    </tr>\n",
       "    <tr>\n",
       "      <th>1</th>\n",
       "      <td>Lugano-Nord</td>\n",
       "      <td>10819</td>\n",
       "      <td>+</td>\n",
       "      <td>0.18747</td>\n",
       "      <td>25.87</td>\n",
       "      <td>25.87</td>\n",
       "      <td>3.42907</td>\n",
       "      <td>47.0</td>\n",
       "      <td>0.99</td>\n",
       "      <td>MULTILINESTRING ((8.93057 46.02776, 8.93052 46...</td>\n",
       "    </tr>\n",
       "    <tr>\n",
       "      <th>2</th>\n",
       "      <td>Massagno</td>\n",
       "      <td>10820</td>\n",
       "      <td>+</td>\n",
       "      <td>1.71292</td>\n",
       "      <td>70.99</td>\n",
       "      <td>70.99</td>\n",
       "      <td>0.61865</td>\n",
       "      <td>76.3</td>\n",
       "      <td>0.98</td>\n",
       "      <td>MULTILINESTRING ((8.93086 46.02729, 8.93101 46...</td>\n",
       "    </tr>\n",
       "    <tr>\n",
       "      <th>3</th>\n",
       "      <td>Massagno</td>\n",
       "      <td>10820</td>\n",
       "      <td>-</td>\n",
       "      <td>0.05107</td>\n",
       "      <td>48.09</td>\n",
       "      <td>48.09</td>\n",
       "      <td>0.00000</td>\n",
       "      <td>39.0</td>\n",
       "      <td>0.82</td>\n",
       "      <td>MULTILINESTRING ((8.93589 46.01725, 8.93617 46...</td>\n",
       "    </tr>\n",
       "    <tr>\n",
       "      <th>4</th>\n",
       "      <td>Lugano-Nord</td>\n",
       "      <td>10819</td>\n",
       "      <td>-</td>\n",
       "      <td>1.67036</td>\n",
       "      <td>60.99</td>\n",
       "      <td>60.99</td>\n",
       "      <td>0.91607</td>\n",
       "      <td>68.0</td>\n",
       "      <td>0.94</td>\n",
       "      <td>MULTILINESTRING ((8.93548 46.01695, 8.93528 46...</td>\n",
       "    </tr>\n",
       "  </tbody>\n",
       "</table>\n",
       "</div>"
      ],
      "text/plain": [
       "                        DE     PC QD       LE     SU     SP       JF    FF  \\\n",
       "0  Verzweigung Lugano-Nord  10153  +  1.33538  88.83  88.60  0.00000  75.3   \n",
       "1              Lugano-Nord  10819  +  0.18747  25.87  25.87  3.42907  47.0   \n",
       "2                 Massagno  10820  +  1.71292  70.99  70.99  0.61865  76.3   \n",
       "3                 Massagno  10820  -  0.05107  48.09  48.09  0.00000  39.0   \n",
       "4              Lugano-Nord  10819  -  1.67036  60.99  60.99  0.91607  68.0   \n",
       "\n",
       "     CN                                           geometry  \n",
       "0  0.98  MULTILINESTRING ((8.92864 46.04003, 8.92870 46...  \n",
       "1  0.99  MULTILINESTRING ((8.93057 46.02776, 8.93052 46...  \n",
       "2  0.98  MULTILINESTRING ((8.93086 46.02729, 8.93101 46...  \n",
       "3  0.82  MULTILINESTRING ((8.93589 46.01725, 8.93617 46...  \n",
       "4  0.94  MULTILINESTRING ((8.93548 46.01695, 8.93528 46...  "
      ]
     },
     "execution_count": 10,
     "metadata": {},
     "output_type": "execute_result"
    }
   ],
   "source": [
    "gdf = gpd.GeoDataFrame(data=zip(DE, PC, QD, LE, SU, SP, JF, FF, CN), \n",
    "                       geometry=list(geom), \n",
    "                       columns=('DE', 'PC', 'QD', 'LE', 'SU', 'SP', 'JF', 'FF', 'CN'))\n",
    "gdf.head()"
   ]
  },
  {
   "cell_type": "code",
   "execution_count": 11,
   "metadata": {},
   "outputs": [
    {
     "data": {
      "text/plain": [
       "(9667, 10)"
      ]
     },
     "execution_count": 11,
     "metadata": {},
     "output_type": "execute_result"
    }
   ],
   "source": [
    "gdf.shape"
   ]
  },
  {
   "cell_type": "code",
   "execution_count": 12,
   "metadata": {},
   "outputs": [
    {
     "name": "stdout",
     "output_type": "stream",
     "text": [
      "CPU times: user 11.1 s, sys: 183 ms, total: 11.2 s\n",
      "Wall time: 11.2 s\n"
     ]
    },
    {
     "data": {
      "image/png": "[encoded data removed]",
      "text/plain": [
       "<Figure size 504x504 with 2 Axes>"
      ]
     },
     "metadata": {
      "needs_background": "light"
     },
     "output_type": "display_data"
    }
   ],
   "source": [
    "%%time \n",
    "\n",
    "fig, ax = plt.subplots(1,1, figsize=(7,7))\n",
    "gdf.plot(ax=ax, column='JF', legend=True)\n",
    "# countries.plot(ax=ax, fc='#bebebe', ec='black', zorder=-10)\n",
    "ax.set_xlim(area[0]-1, area[2]+1)\n",
    "ax.set_ylim(area[1]-1, area[3]+1)\n",
    "plt.tight_layout()"
   ]
  },
  {
   "cell_type": "code",
   "execution_count": 13,
   "metadata": {},
   "outputs": [],
   "source": [
    "gdf.to_file('here_traffic_', driver='ESRI Shapefile')\n",
    "shutil.make_archive('data/traffic/%s'%now, 'zip', './here_traffic_/')\n",
    "!rm -rf 'here_traffic_'"
   ]
  },
  {
   "cell_type": "markdown",
   "metadata": {},
   "source": [
    "#### Run HERE traffic API request periodically to store temporal data"
   ]
  },
  {
   "cell_type": "code",
   "execution_count": 14,
   "metadata": {},
   "outputs": [],
   "source": [
    "import time"
   ]
  },
  {
   "cell_type": "code",
   "execution_count": 15,
   "metadata": {},
   "outputs": [],
   "source": [
    "gap = 15 # in minutes"
   ]
  },
  {
   "cell_type": "code",
   "execution_count": 16,
   "metadata": {},
   "outputs": [
    {
     "name": "stdout",
     "output_type": "stream",
     "text": [
      "11:33:57\n",
      "Iteration: 0 \n",
      "\n",
      "11:49:24\n",
      "Iteration: 1 \n",
      "\n",
      "12:04:51\n",
      "Iteration: 2 \n",
      "\n",
      "12:20:21\n",
      "Iteration: 3 \n",
      "\n"
     ]
    }
   ],
   "source": [
    "for i in range(4):\n",
    "    \n",
    "    now = dt.now()\n",
    "    now = now.strftime('%Y%m%d_%H%M')\n",
    "    print(dt.now().strftime('%H:%M:%S'))\n",
    "    \n",
    "    api_out = requests.get(traffic_url)\n",
    "    traffic = json.loads(api_out.content)\n",
    "    \n",
    "    out = []\n",
    "\n",
    "    for it in traffic.get('RWS'):\n",
    "        for rw in (it.get('RW')):\n",
    "            for fis in (rw.get('FIS')):\n",
    "                for fi in fis.get('FI'):\n",
    "                    DE = (fi.get('TMC').get('DE'))\n",
    "                    shape = fi.get('SHP')\n",
    "                    PC = fi.get('TMC').get('PC')\n",
    "                    QD = fi.get('TMC').get('QD')\n",
    "                    LE = fi.get('TMC').get('LE')\n",
    "\n",
    "                    zs = []\n",
    "\n",
    "                    for z in shape:\n",
    "                        zs.append([[*map(float, x.split(','))][::-1] for x in z.get('value')[0].split(' ')[:-1]])\n",
    "\n",
    "                    line = shp.geometry.MultiLineString(zs)\n",
    "\n",
    "                    speed = fi.get('CF')[0].get('SP')\n",
    "                    jam = fi.get('CF')[0].get('FF')\n",
    "\n",
    "                    out.append((DE, PC, QD, LE, speed, jam, line))\n",
    "    \n",
    "    DE, PC, QD, LE, speed, JF, geom = zip(*out)\n",
    "    \n",
    "    gdf = gpd.GeoDataFrame(data=zip(DE, PC, QD, LE, speed, JF), geometry=list(geom), columns=('DE', 'PC', 'QD', 'LE', 'speed', 'JF'))\n",
    "\n",
    "    gdf.to_file('here_traffic_', driver='ESRI Shapefile')\n",
    "    shutil.make_archive('data/traffic/%s'%now, 'zip', './here_traffic_/')\n",
    "    !rm -rf 'here_traffic_'\n",
    "    \n",
    "    print('Iteration: %s \\n'%i)\n",
    "    time.sleep(60*gap)"
   ]
  },
  {
   "cell_type": "markdown",
   "metadata": {},
   "source": [
    "___"
   ]
  },
  {
   "cell_type": "markdown",
   "metadata": {},
   "source": [
    "#### Test"
   ]
  },
  {
   "cell_type": "code",
   "execution_count": 27,
   "metadata": {},
   "outputs": [],
   "source": [
    "df1 = gpd.read_file('zip://data/traffic/20210703_2038.zip')\n",
    "df2 = gpd.read_file('zip://data/traffic/20210704_0005.zip')"
   ]
  },
  {
   "cell_type": "code",
   "execution_count": 31,
   "metadata": {},
   "outputs": [
    {
     "data": {
      "text/html": [
       "<div>\n",
       "<style scoped>\n",
       "    .dataframe tbody tr th:only-of-type {\n",
       "        vertical-align: middle;\n",
       "    }\n",
       "\n",
       "    .dataframe tbody tr th {\n",
       "        vertical-align: top;\n",
       "    }\n",
       "\n",
       "    .dataframe thead th {\n",
       "        text-align: right;\n",
       "    }\n",
       "</style>\n",
       "<table border=\"1\" class=\"dataframe\">\n",
       "  <thead>\n",
       "    <tr style=\"text-align: right;\">\n",
       "      <th></th>\n",
       "      <th>DE</th>\n",
       "      <th>PC</th>\n",
       "      <th>QD</th>\n",
       "      <th>LE</th>\n",
       "      <th>speed</th>\n",
       "      <th>JF</th>\n",
       "      <th>geometry</th>\n",
       "    </tr>\n",
       "  </thead>\n",
       "  <tbody>\n",
       "    <tr>\n",
       "      <th>0</th>\n",
       "      <td>Verzweigung Lugano-Nord</td>\n",
       "      <td>10153</td>\n",
       "      <td>+</td>\n",
       "      <td>1.33538</td>\n",
       "      <td>86.39</td>\n",
       "      <td>75.3</td>\n",
       "      <td>MULTILINESTRING ((8.92864 46.04003, 8.92870 46...</td>\n",
       "    </tr>\n",
       "    <tr>\n",
       "      <th>1</th>\n",
       "      <td>Lugano-Nord</td>\n",
       "      <td>10819</td>\n",
       "      <td>+</td>\n",
       "      <td>0.18747</td>\n",
       "      <td>53.15</td>\n",
       "      <td>47.0</td>\n",
       "      <td>MULTILINESTRING ((8.93057 46.02776, 8.93052 46...</td>\n",
       "    </tr>\n",
       "    <tr>\n",
       "      <th>2</th>\n",
       "      <td>Massagno</td>\n",
       "      <td>10820</td>\n",
       "      <td>+</td>\n",
       "      <td>1.71292</td>\n",
       "      <td>70.53</td>\n",
       "      <td>76.3</td>\n",
       "      <td>MULTILINESTRING ((8.93086 46.02729, 8.93101 46...</td>\n",
       "    </tr>\n",
       "    <tr>\n",
       "      <th>3</th>\n",
       "      <td>Massagno</td>\n",
       "      <td>10820</td>\n",
       "      <td>-</td>\n",
       "      <td>0.05107</td>\n",
       "      <td>40.00</td>\n",
       "      <td>39.0</td>\n",
       "      <td>LINESTRING (8.93589 46.01725, 8.93617 46.01735...</td>\n",
       "    </tr>\n",
       "    <tr>\n",
       "      <th>4</th>\n",
       "      <td>Lugano-Nord</td>\n",
       "      <td>10819</td>\n",
       "      <td>-</td>\n",
       "      <td>1.67036</td>\n",
       "      <td>67.49</td>\n",
       "      <td>68.0</td>\n",
       "      <td>MULTILINESTRING ((8.93548 46.01695, 8.93528 46...</td>\n",
       "    </tr>\n",
       "  </tbody>\n",
       "</table>\n",
       "</div>"
      ],
      "text/plain": [
       "                        DE     PC QD       LE  speed    JF  \\\n",
       "0  Verzweigung Lugano-Nord  10153  +  1.33538  86.39  75.3   \n",
       "1              Lugano-Nord  10819  +  0.18747  53.15  47.0   \n",
       "2                 Massagno  10820  +  1.71292  70.53  76.3   \n",
       "3                 Massagno  10820  -  0.05107  40.00  39.0   \n",
       "4              Lugano-Nord  10819  -  1.67036  67.49  68.0   \n",
       "\n",
       "                                            geometry  \n",
       "0  MULTILINESTRING ((8.92864 46.04003, 8.92870 46...  \n",
       "1  MULTILINESTRING ((8.93057 46.02776, 8.93052 46...  \n",
       "2  MULTILINESTRING ((8.93086 46.02729, 8.93101 46...  \n",
       "3  LINESTRING (8.93589 46.01725, 8.93617 46.01735...  \n",
       "4  MULTILINESTRING ((8.93548 46.01695, 8.93528 46...  "
      ]
     },
     "execution_count": 31,
     "metadata": {},
     "output_type": "execute_result"
    }
   ],
   "source": [
    "df2.head()"
   ]
  },
  {
   "cell_type": "code",
   "execution_count": null,
   "metadata": {},
   "outputs": [],
   "source": []
  }
 ],
 "metadata": {
  "kernelspec": {
   "display_name": "Python 3",
   "language": "python",
   "name": "python3"
  },
  "language_info": {
   "codemirror_mode": {
    "name": "ipython",
    "version": 3
   },
   "file_extension": ".py",
   "mimetype": "text/x-python",
   "name": "python",
   "nbconvert_exporter": "python",
   "pygments_lexer": "ipython3",
   "version": "3.8.6"
  }
 },
 "nbformat": 4,
 "nbformat_minor": 4
}
