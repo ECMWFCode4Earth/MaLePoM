{
 "cells": [
  {
   "cell_type": "markdown",
   "metadata": {},
   "source": [
    "## Access HERE API traffic data and saving to shapefile"
   ]
  },
  {
   "cell_type": "markdown",
   "metadata": {},
   "source": [
    "#### Install herepy package"
   ]
  },
  {
   "cell_type": "code",
   "execution_count": 2,
   "metadata": {},
   "outputs": [],
   "source": [
    "!pip install herepy -q #contextily rioxarray geocube"
   ]
  },
  {
   "cell_type": "code",
   "execution_count": 3,
   "metadata": {},
   "outputs": [],
   "source": [
    "import herepy\n",
    "import requests\n",
    "import json\n",
    "import os\n",
    "import urllib \n",
    "\n",
    "import numpy as np\n",
    "from datetime import datetime as dt\n",
    "import matplotlib.pyplot as plt\n",
    "import pandas as pd\n",
    "import shapely as shp\n",
    "import geopandas as gpd\n",
    "import shutil"
   ]
  },
  {
   "cell_type": "markdown",
   "metadata": {},
   "source": [
    "#### HERE Traffic API request"
   ]
  },
  {
   "cell_type": "code",
   "execution_count": 4,
   "metadata": {},
   "outputs": [],
   "source": [
    "area = [4,43,10,49]"
   ]
  },
  {
   "cell_type": "code",
   "execution_count": 5,
   "metadata": {},
   "outputs": [],
   "source": [
    "key = open('here_api_key.txt')\n",
    "key = key.read()"
   ]
  },
  {
   "cell_type": "code",
   "execution_count": 6,
   "metadata": {},
   "outputs": [],
   "source": [
    "traffic_url = 'https://traffic.ls.hereapi.com/traffic/6.2/flow.json?\\\n",
    "apiKey=%s\\\n",
    "&bbox=%s,%s;%s,%s\\\n",
    "&responseattributes=sh,fc'%(key, area[3], area[0], area[1], area[2])"
   ]
  },
  {
   "cell_type": "code",
   "execution_count": 8,
   "metadata": {},
   "outputs": [
    {
     "data": {
      "text/plain": [
       "'20210719_1736'"
      ]
     },
     "execution_count": 8,
     "metadata": {},
     "output_type": "execute_result"
    }
   ],
   "source": [
    "now = dt.now()\n",
    "now = now.strftime('%Y%m%d_%H%M')\n",
    "now"
   ]
  },
  {
   "cell_type": "code",
   "execution_count": null,
   "metadata": {},
   "outputs": [],
   "source": [
    "%%time\n",
    "api_out = requests.get(traffic_url)\n",
    "traffic = json.loads(api_out.content)"
   ]
  },
  {
   "cell_type": "code",
   "execution_count": null,
   "metadata": {},
   "outputs": [],
   "source": [
    "%%time \n",
    "\n",
    "out = []\n",
    "\n",
    "for it in traffic.get('RWS'):\n",
    "    for rw in (it.get('RW')):\n",
    "        for fis in (rw.get('FIS')):\n",
    "            for fi in fis.get('FI'):\n",
    "                DE = (fi.get('TMC').get('DE'))\n",
    "                shape = fi.get('SHP')\n",
    "                PC = fi.get('TMC').get('PC')\n",
    "                QD = fi.get('TMC').get('QD')\n",
    "                LE = fi.get('TMC').get('LE')\n",
    "                \n",
    "                zs = []\n",
    "\n",
    "                for z in shape:\n",
    "                    zs.append([[*map(float, x.split(','))][::-1] for x in z.get('value')[0].split(' ')[:-1]])\n",
    "\n",
    "                line = shp.geometry.MultiLineString(zs)\n",
    "                if len(fi.get('CF')) == 1:\n",
    "                    SU = fi.get('CF')[0].get('SU')\n",
    "                    SP = fi.get('CF')[0].get('SP')\n",
    "                    JF = fi.get('CF')[0].get('JF')\n",
    "                    FF = fi.get('CF')[0].get('FF')\n",
    "                    CN = fi.get('CF')[0].get('CN')\n",
    "                    \n",
    "                else:\n",
    "                    print('ERROR.')\n",
    "                    \n",
    "                out.append((DE, PC, QD, LE, SU, SP, JF, FF, CN, line))"
   ]
  },
  {
   "cell_type": "code",
   "execution_count": null,
   "metadata": {},
   "outputs": [],
   "source": [
    "DE, PC, QD, LE, SU, SP, JF, FF, CN, geom = zip(*out)"
   ]
  },
  {
   "cell_type": "code",
   "execution_count": null,
   "metadata": {},
   "outputs": [],
   "source": [
    "gdf = gpd.GeoDataFrame(data=zip(DE, PC, QD, LE, SU, SP, JF, FF, CN), \n",
    "                       geometry=list(geom), \n",
    "                       columns=('DE', 'PC', 'QD', 'LE', 'SU', 'SP', 'JF', 'FF', 'CN'))\n",
    "gdf.head()"
   ]
  },
  {
   "cell_type": "code",
   "execution_count": null,
   "metadata": {},
   "outputs": [],
   "source": [
    "print('%s'%gdf.shape[0], ' rows of data')"
   ]
  },
  {
   "cell_type": "code",
   "execution_count": null,
   "metadata": {},
   "outputs": [],
   "source": [
    "%%time \n",
    "\n",
    "fig, ax = plt.subplots(1,1)\n",
    "\n",
    "gdf.plot(ax=ax, column='JF', legend=True, lw=0.25)\n",
    "# countries.plot(ax=ax, fc='#bebebe', ec='black', zorder=-10)\n",
    "ax.set_xlim(area[0]-1, area[2]+1)\n",
    "ax.set_ylim(area[1]-1, area[3]+1)\n",
    "plt.tight_layout()"
   ]
  },
  {
   "cell_type": "code",
   "execution_count": null,
   "metadata": {},
   "outputs": [],
   "source": [
    "gdf.to_file('here_traffic_', driver='ESRI Shapefile')\n",
    "shutil.make_archive('data/traffic/4_43_10_49/%s'%now, 'zip', './here_traffic_/')\n",
    "!rm -rf 'here_traffic_'"
   ]
  },
  {
   "cell_type": "markdown",
   "metadata": {},
   "source": [
    "#### Run HERE traffic API request periodically to store temporal data"
   ]
  },
  {
   "cell_type": "code",
   "execution_count": 9,
   "metadata": {},
   "outputs": [],
   "source": [
    "import time"
   ]
  },
  {
   "cell_type": "code",
   "execution_count": 10,
   "metadata": {},
   "outputs": [],
   "source": [
    "gap = 20 # in minutes"
   ]
  },
  {
   "cell_type": "code",
   "execution_count": null,
   "metadata": {},
   "outputs": [
    {
     "name": "stdout",
     "output_type": "stream",
     "text": [
      "Iteration: 0\n",
      "17:36:32 \n",
      "\n",
      "Iteration: 1\n",
      "17:55:40 \n",
      "\n",
      "Iteration: 2\n",
      "18:14:57 \n",
      "\n",
      "Iteration: 3\n",
      "18:34:16 \n",
      "\n",
      "Iteration: 4\n",
      "18:53:31 \n",
      "\n"
     ]
    }
   ],
   "source": [
    "for i in range(12):\n",
    "    \n",
    "    now = dt.now()\n",
    "    now = now.strftime('%Y%m%d_%H%M')\n",
    "    \n",
    "    print('Iteration: %s'%i)\n",
    "    print(dt.now().strftime('%H:%M:%S'), '\\n')\n",
    "    \n",
    "    api_out = requests.get(traffic_url)\n",
    "    traffic = json.loads(api_out.content)\n",
    "    \n",
    "    out = []\n",
    "\n",
    "    for it in traffic.get('RWS'):\n",
    "        for rw in (it.get('RW')):\n",
    "            for fis in (rw.get('FIS')):\n",
    "                for fi in fis.get('FI'):\n",
    "                    DE = (fi.get('TMC').get('DE'))\n",
    "                    shape = fi.get('SHP')\n",
    "                    PC = fi.get('TMC').get('PC')\n",
    "                    QD = fi.get('TMC').get('QD')\n",
    "                    LE = fi.get('TMC').get('LE')\n",
    "\n",
    "                    zs = []\n",
    "\n",
    "                    for z in shape:\n",
    "                        zs.append([[*map(float, x.split(','))][::-1] for x in z.get('value')[0].split(' ')[:-1]])\n",
    "\n",
    "                    line = shp.geometry.MultiLineString(zs)\n",
    "                    if len(fi.get('CF')) == 1:\n",
    "                        SU = fi.get('CF')[0].get('SU')\n",
    "                        SP = fi.get('CF')[0].get('SP')\n",
    "                        JF = fi.get('CF')[0].get('JF')\n",
    "                        FF = fi.get('CF')[0].get('FF')\n",
    "                        CN = fi.get('CF')[0].get('CN')\n",
    "\n",
    "                    else:\n",
    "                        print('ERROR.')\n",
    "\n",
    "                    out.append((DE, PC, QD, LE, SU, SP, JF, FF, CN, line))\n",
    "    \n",
    "    DE, PC, QD, LE, SU, SP, JF, FF, CN, geom = zip(*out)\n",
    "    \n",
    "    gdf = gpd.GeoDataFrame(data=zip(DE, PC, QD, LE, SU, SP, JF, FF, CN), \n",
    "                       geometry=list(geom), \n",
    "                       columns=('DE', 'PC', 'QD', 'LE', 'SU', 'SP', 'JF', 'FF', 'CN'))\n",
    "    \n",
    "    gdf.to_file('here_traffic_', driver='ESRI Shapefile')\n",
    "    shutil.make_archive('data/traffic/4_43_10_49/%s'%now, 'zip', './here_traffic_/')\n",
    "    !rm -rf 'here_traffic_'\n",
    "    \n",
    "    time.sleep(50*gap)"
   ]
  },
  {
   "cell_type": "markdown",
   "metadata": {},
   "source": [
    "___"
   ]
  },
  {
   "cell_type": "markdown",
   "metadata": {},
   "source": [
    "#### Test"
   ]
  },
  {
   "cell_type": "code",
   "execution_count": null,
   "metadata": {},
   "outputs": [],
   "source": [
    "df1 = gpd.read_file('zip://data/traffic/20210703_2038.zip')\n",
    "df2 = gpd.read_file('zip://data/traffic/20210704_0005.zip')"
   ]
  },
  {
   "cell_type": "code",
   "execution_count": null,
   "metadata": {},
   "outputs": [],
   "source": [
    "df2.head()"
   ]
  },
  {
   "cell_type": "code",
   "execution_count": null,
   "metadata": {},
   "outputs": [],
   "source": []
  }
 ],
 "metadata": {
  "kernelspec": {
   "display_name": "Python 3",
   "language": "python",
   "name": "python3"
  },
  "language_info": {
   "codemirror_mode": {
    "name": "ipython",
    "version": 3
   },
   "file_extension": ".py",
   "mimetype": "text/x-python",
   "name": "python",
   "nbconvert_exporter": "python",
   "pygments_lexer": "ipython3",
   "version": "3.8.6"
  }
 },
 "nbformat": 4,
 "nbformat_minor": 4
}
