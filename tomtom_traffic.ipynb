{
 "cells": [
  {
   "cell_type": "code",
   "execution_count": 12,
   "metadata": {},
   "outputs": [],
   "source": [
    "import requests\n",
    "import json\n",
    "import numpy as np\n",
    "import pandas as pd\n",
    "import geopandas as gpd\n",
    "import shapely as shp"
   ]
  },
  {
   "cell_type": "code",
   "execution_count": 13,
   "metadata": {},
   "outputs": [],
   "source": [
    "key = 'OyqN6Dd412GP0LtckkGRFIP1CUzlDq2e'"
   ]
  },
  {
   "cell_type": "code",
   "execution_count": 132,
   "metadata": {},
   "outputs": [],
   "source": [
    "url = 'https://api.tomtom.com/traffic/services/5/incidentDetails\\\n",
    "?bbox=77%2C28%2C77.5%2C28.5\\\n",
    "&fields=%7Bincidents%7Btype%2Cgeometry%7Btype%2Ccoordinates%7D%2Cproperties%7Bid%2CiconCategory%2CmagnitudeOfDelay%2Cevents%7Bdescription%2Ccode%7D%2CstartTime%2CendTime%2Cfrom%2Cto%2Clength%2Cdelay%2CroadNumbers%2Caci%7BprobabilityOfOccurrence%2CnumberOfReports%2ClastReportTime%7D%7D%7D%7D\\\n",
    "&language=en-US\\\n",
    "&key=ap1FCA209iY5tEZ0bbDCWCAfA4zI4X1Q'"
   ]
  },
  {
   "cell_type": "code",
   "execution_count": 133,
   "metadata": {},
   "outputs": [],
   "source": [
    "traffic = json.loads(requests.get(url).content)"
   ]
  },
  {
   "cell_type": "code",
   "execution_count": 134,
   "metadata": {},
   "outputs": [],
   "source": [
    "property_keys = ['id', 'iconCategory', 'magnitudeOfDelay', 'startTime', 'endTime', 'from', 'to', 'length', 'delay', 'events', 'aci']\n",
    "\n",
    "out = []\n",
    "i = 0\n",
    "for incident in traffic.get('incidents'):\n",
    "    \n",
    "#     print(i)\n",
    "    \n",
    "    props = incident.get('properties')\n",
    "    \n",
    "    for key in props.keys():\n",
    "        props[key] = props.get(key)\n",
    "#         print(props[key])\n",
    "    \n",
    "    del props['roadNumbers']\n",
    "    del props['events']\n",
    "\n",
    "    points = []\n",
    "    for coord in incident.get('geometry').get('coordinates'):\n",
    "        points.append(shp.geometry.Point(coord))\n",
    "#     print(out) \n",
    "    line = shp.geometry.LineString(points)\n",
    "    props['geometry'] = [line]\n",
    "    out.append(pd.DataFrame(props, index=[i]))\n",
    "    \n",
    "    i += 1"
   ]
  },
  {
   "cell_type": "code",
   "execution_count": 135,
   "metadata": {},
   "outputs": [
    {
     "data": {
      "text/html": [
       "<div>\n",
       "<style scoped>\n",
       "    .dataframe tbody tr th:only-of-type {\n",
       "        vertical-align: middle;\n",
       "    }\n",
       "\n",
       "    .dataframe tbody tr th {\n",
       "        vertical-align: top;\n",
       "    }\n",
       "\n",
       "    .dataframe thead th {\n",
       "        text-align: right;\n",
       "    }\n",
       "</style>\n",
       "<table border=\"1\" class=\"dataframe\">\n",
       "  <thead>\n",
       "    <tr style=\"text-align: right;\">\n",
       "      <th></th>\n",
       "      <th>id</th>\n",
       "      <th>iconCategory</th>\n",
       "      <th>magnitudeOfDelay</th>\n",
       "      <th>startTime</th>\n",
       "      <th>endTime</th>\n",
       "      <th>from</th>\n",
       "      <th>to</th>\n",
       "      <th>length</th>\n",
       "      <th>delay</th>\n",
       "      <th>aci</th>\n",
       "      <th>geometry</th>\n",
       "    </tr>\n",
       "  </thead>\n",
       "  <tbody>\n",
       "    <tr>\n",
       "      <th>0</th>\n",
       "      <td>9d6b3cf808972df251b504334471a70f</td>\n",
       "      <td>6</td>\n",
       "      <td>1</td>\n",
       "      <td>2021-06-27T13:36:00Z</td>\n",
       "      <td>2021-06-27T14:42:00Z</td>\n",
       "      <td>Rajendra Park Block-F Road</td>\n",
       "      <td>Ratan Vihar Road</td>\n",
       "      <td>655.009000</td>\n",
       "      <td>175</td>\n",
       "      <td>None</td>\n",
       "      <td>LINESTRING (77.00757 28.49045, 77.00778 28.490...</td>\n",
       "    </tr>\n",
       "    <tr>\n",
       "      <th>1</th>\n",
       "      <td>17708d78876f2c52d5f0bb23fde3c985</td>\n",
       "      <td>6</td>\n",
       "      <td>1</td>\n",
       "      <td>2021-06-27T13:35:00Z</td>\n",
       "      <td>2021-06-27T14:41:00Z</td>\n",
       "      <td>Ratan Vihar Road</td>\n",
       "      <td>Rajendra Park Block-F Road</td>\n",
       "      <td>674.653019</td>\n",
       "      <td>159</td>\n",
       "      <td>None</td>\n",
       "      <td>LINESTRING (77.01153 28.49533, 77.01150 28.495...</td>\n",
       "    </tr>\n",
       "    <tr>\n",
       "      <th>2</th>\n",
       "      <td>5e9f42b8944a00bc061208abd0f19948</td>\n",
       "      <td>9</td>\n",
       "      <td>0</td>\n",
       "      <td>2021-06-26T01:41:30Z</td>\n",
       "      <td>None</td>\n",
       "      <td>NH148N</td>\n",
       "      <td>Sohna Road</td>\n",
       "      <td>1253.203085</td>\n",
       "      <td>0</td>\n",
       "      <td>None</td>\n",
       "      <td>LINESTRING (77.01165 28.21536, 77.01149 28.215...</td>\n",
       "    </tr>\n",
       "    <tr>\n",
       "      <th>3</th>\n",
       "      <td>85f7ac39c3c26fc16a03d799099d2e9c</td>\n",
       "      <td>6</td>\n",
       "      <td>3</td>\n",
       "      <td>2021-06-27T14:02:30Z</td>\n",
       "      <td>2021-06-27T14:42:00Z</td>\n",
       "      <td>Shivaji Park Colony</td>\n",
       "      <td>Khandsa Road</td>\n",
       "      <td>236.747740</td>\n",
       "      <td>215</td>\n",
       "      <td>None</td>\n",
       "      <td>LINESTRING (77.01145 28.44894, 77.01154 28.448...</td>\n",
       "    </tr>\n",
       "    <tr>\n",
       "      <th>4</th>\n",
       "      <td>dc64ea1b857f31e2ef9882b905c5dd90</td>\n",
       "      <td>6</td>\n",
       "      <td>2</td>\n",
       "      <td>2021-06-27T14:00:30Z</td>\n",
       "      <td>2021-06-27T14:44:00Z</td>\n",
       "      <td>Gurgoan Sector 10A Main Road</td>\n",
       "      <td>Raj Nagar Link Road</td>\n",
       "      <td>740.014927</td>\n",
       "      <td>260</td>\n",
       "      <td>None</td>\n",
       "      <td>LINESTRING (77.00933 28.44191, 77.00941 28.441...</td>\n",
       "    </tr>\n",
       "  </tbody>\n",
       "</table>\n",
       "</div>"
      ],
      "text/plain": [
       "                                 id  iconCategory  magnitudeOfDelay  \\\n",
       "0  9d6b3cf808972df251b504334471a70f             6                 1   \n",
       "1  17708d78876f2c52d5f0bb23fde3c985             6                 1   \n",
       "2  5e9f42b8944a00bc061208abd0f19948             9                 0   \n",
       "3  85f7ac39c3c26fc16a03d799099d2e9c             6                 3   \n",
       "4  dc64ea1b857f31e2ef9882b905c5dd90             6                 2   \n",
       "\n",
       "              startTime               endTime                          from  \\\n",
       "0  2021-06-27T13:36:00Z  2021-06-27T14:42:00Z    Rajendra Park Block-F Road   \n",
       "1  2021-06-27T13:35:00Z  2021-06-27T14:41:00Z              Ratan Vihar Road   \n",
       "2  2021-06-26T01:41:30Z                  None                        NH148N   \n",
       "3  2021-06-27T14:02:30Z  2021-06-27T14:42:00Z           Shivaji Park Colony   \n",
       "4  2021-06-27T14:00:30Z  2021-06-27T14:44:00Z  Gurgoan Sector 10A Main Road   \n",
       "\n",
       "                           to       length  delay   aci  \\\n",
       "0            Ratan Vihar Road   655.009000    175  None   \n",
       "1  Rajendra Park Block-F Road   674.653019    159  None   \n",
       "2                  Sohna Road  1253.203085      0  None   \n",
       "3                Khandsa Road   236.747740    215  None   \n",
       "4         Raj Nagar Link Road   740.014927    260  None   \n",
       "\n",
       "                                            geometry  \n",
       "0  LINESTRING (77.00757 28.49045, 77.00778 28.490...  \n",
       "1  LINESTRING (77.01153 28.49533, 77.01150 28.495...  \n",
       "2  LINESTRING (77.01165 28.21536, 77.01149 28.215...  \n",
       "3  LINESTRING (77.01145 28.44894, 77.01154 28.448...  \n",
       "4  LINESTRING (77.00933 28.44191, 77.00941 28.441...  "
      ]
     },
     "execution_count": 135,
     "metadata": {},
     "output_type": "execute_result"
    }
   ],
   "source": [
    "df = pd.concat(out)\n",
    "gdf = gpd.GeoDataFrame(df, geometry=df.geometry)\n",
    "gdf.head()"
   ]
  },
  {
   "cell_type": "code",
   "execution_count": 136,
   "metadata": {},
   "outputs": [
    {
     "data": {
      "text/plain": [
       "<AxesSubplot:>"
      ]
     },
     "execution_count": 136,
     "metadata": {},
     "output_type": "execute_result"
    },
    {
     "data": {
      "image/png": "[encoded data removed]",
      "text/plain": [
       "<Figure size 432x288 with 1 Axes>"
      ]
     },
     "metadata": {
      "needs_background": "light"
     },
     "output_type": "display_data"
    }
   ],
   "source": [
    "gdf.plot()"
   ]
  },
  {
   "cell_type": "code",
   "execution_count": null,
   "metadata": {},
   "outputs": [],
   "source": []
  }
 ],
 "metadata": {
  "kernelspec": {
   "display_name": "Python 3",
   "language": "python",
   "name": "python3"
  },
  "language_info": {
   "codemirror_mode": {
    "name": "ipython",
    "version": 3
   },
   "file_extension": ".py",
   "mimetype": "text/x-python",
   "name": "python",
   "nbconvert_exporter": "python",
   "pygments_lexer": "ipython3",
   "version": "3.8.6"
  }
 },
 "nbformat": 4,
 "nbformat_minor": 4
}
