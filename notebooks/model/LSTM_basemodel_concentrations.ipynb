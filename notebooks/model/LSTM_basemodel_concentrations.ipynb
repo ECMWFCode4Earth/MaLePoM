{
 "cells": [
  {
   "cell_type": "markdown",
   "metadata": {
    "id": "_ViUvueofTP2"
   },
   "source": [
    "# Machine learning model for emissions estimations from concentrations"
   ]
  },
  {
   "cell_type": "code",
   "execution_count": 1,
   "metadata": {
    "id": "3RAwjTRed3h3"
   },
   "outputs": [
    {
     "name": "stderr",
     "output_type": "stream",
     "text": [
      "2021-08-25 18:28:18.908709: W tensorflow/stream_executor/platform/default/dso_loader.cc:64] Could not load dynamic library 'libcudart.so.11.0'; dlerror: libcudart.so.11.0: cannot open shared object file: No such file or directory\n",
      "2021-08-25 18:28:18.908743: I tensorflow/stream_executor/cuda/cudart_stub.cc:29] Ignore above cudart dlerror if you do not have a GPU set up on your machine.\n"
     ]
    }
   ],
   "source": [
    "%matplotlib inline\n",
    "import matplotlib.pyplot as plt\n",
    "import tensorflow as tf\n",
    "import numpy as np\n",
    "import pandas as pd\n",
    "import os\n",
    "from sklearn.preprocessing import MinMaxScaler"
   ]
  },
  {
   "cell_type": "code",
   "execution_count": 2,
   "metadata": {
    "id": "ta-vBRA1d5bW"
   },
   "outputs": [],
   "source": [
    "from tensorflow.keras.models import Sequential\n",
    "from tensorflow.keras.layers import Input, Dense, GRU, Embedding\n",
    "from tensorflow.keras.optimizers import RMSprop, Adam\n",
    "from tensorflow.keras.callbacks import EarlyStopping, ModelCheckpoint, TensorBoard, ReduceLROnPlateau\n",
    "from tensorflow.keras.backend import square, mean"
   ]
  },
  {
   "cell_type": "markdown",
   "metadata": {
    "id": "vnBbrd1NffeU"
   },
   "source": [
    "In this notebook we will apply a Recurrrent Neural Network model to a dataset of concentrations in order to estimate emissions "
   ]
  },
  {
   "cell_type": "code",
   "execution_count": 3,
   "metadata": {
    "colab": {
     "base_uri": "https://localhost:8080/"
    },
    "executionInfo": {
     "elapsed": 9,
     "status": "ok",
     "timestamp": 1629649740544,
     "user": {
      "displayName": "Nicolò Brunello",
      "photoUrl": "",
      "userId": "03655516846124206133"
     },
     "user_tz": -120
    },
    "id": "kD6_KnPuhLN6",
    "outputId": "256111d1-816f-4cbf-b6fc-d3bb1f0c754a"
   },
   "outputs": [
    {
     "ename": "ModuleNotFoundError",
     "evalue": "No module named 'google.colab'",
     "output_type": "error",
     "traceback": [
      "\u001b[0;31m---------------------------------------------------------------------------\u001b[0m",
      "\u001b[0;31mModuleNotFoundError\u001b[0m                       Traceback (most recent call last)",
      "\u001b[0;32m/tmp/ipykernel_160/1408506528.py\u001b[0m in \u001b[0;36m<module>\u001b[0;34m\u001b[0m\n\u001b[0;32m----> 1\u001b[0;31m \u001b[0;32mfrom\u001b[0m \u001b[0mgoogle\u001b[0m\u001b[0;34m.\u001b[0m\u001b[0mcolab\u001b[0m \u001b[0;32mimport\u001b[0m \u001b[0mdrive\u001b[0m\u001b[0;34m\u001b[0m\u001b[0;34m\u001b[0m\u001b[0m\n\u001b[0m\u001b[1;32m      2\u001b[0m \u001b[0mdrive\u001b[0m\u001b[0;34m.\u001b[0m\u001b[0mmount\u001b[0m\u001b[0;34m(\u001b[0m\u001b[0;34m'/content/drive'\u001b[0m\u001b[0;34m)\u001b[0m\u001b[0;34m\u001b[0m\u001b[0;34m\u001b[0m\u001b[0m\n",
      "\u001b[0;31mModuleNotFoundError\u001b[0m: No module named 'google.colab'"
     ]
    }
   ],
   "source": [
    "from google.colab import drive\n",
    "drive.mount('/content/drive')"
   ]
  },
  {
   "cell_type": "code",
   "execution_count": 13,
   "metadata": {
    "colab": {
     "base_uri": "https://localhost:8080/"
    },
    "executionInfo": {
     "elapsed": 9,
     "status": "ok",
     "timestamp": 1629649740866,
     "user": {
      "displayName": "Nicolò Brunello",
      "photoUrl": "",
      "userId": "03655516846124206133"
     },
     "user_tz": -120
    },
    "id": "LAvavM6FhN9x",
    "outputId": "7ace1c6f-e121-47bc-be9d-94a9d45eee59"
   },
   "outputs": [
    {
     "name": "stdout",
     "output_type": "stream",
     "text": [
      "/bin/bash: line 0: cd: too many arguments\n",
      "/home/vidurmithal/MaLePoM/notebooks/model\n"
     ]
    }
   ],
   "source": [
    "%cd /content/drive/My Drive/ESoWC"
   ]
  },
  {
   "cell_type": "markdown",
   "metadata": {
    "id": "oxxH_TYsfwUX"
   },
   "source": [
    "## Datasets"
   ]
  },
  {
   "cell_type": "code",
   "execution_count": 20,
   "metadata": {},
   "outputs": [],
   "source": [
    "# Better to use os lib to change dir than magic function\n",
    "import os\n",
    "os.chdir('../../')"
   ]
  },
  {
   "cell_type": "code",
   "execution_count": 19,
   "metadata": {
    "colab": {
     "base_uri": "https://localhost:8080/"
    },
    "executionInfo": {
     "elapsed": 200,
     "status": "ok",
     "timestamp": 1629649741063,
     "user": {
      "displayName": "Nicolò Brunello",
      "photoUrl": "",
      "userId": "03655516846124206133"
     },
     "user_tz": -120
    },
    "id": "wZduOleIhQ-d",
    "outputId": "c72213ce-030b-41f4-94b7-b4c07e55a6d6"
   },
   "outputs": [
    {
     "name": "stdout",
     "output_type": "stream",
     "text": [
      "Opening dataset at :  data/totalcolConcentretations_featured+Emissions.nc\n",
      "Done!\n"
     ]
    }
   ],
   "source": [
    "from src.data.make_dataset import CustomDataset\n",
    "\n",
    "fn = 'data/totalcolConcentretations_featured+Emissions.nc'\n",
    "ds = CustomDataset(fn)"
   ]
  },
  {
   "cell_type": "markdown",
   "metadata": {
    "id": "iUCSTfPwD3zv"
   },
   "source": [
    "Assuming data are already cleaned from NaN and error values"
   ]
  },
  {
   "cell_type": "code",
   "execution_count": 21,
   "metadata": {
    "colab": {
     "base_uri": "https://localhost:8080/",
     "height": 819
    },
    "executionInfo": {
     "elapsed": 760,
     "status": "ok",
     "timestamp": 1629649741821,
     "user": {
      "displayName": "Nicolò Brunello",
      "photoUrl": "",
      "userId": "03655516846124206133"
     },
     "user_tz": -120
    },
    "id": "tE8jjSmghxZU",
    "outputId": "5dc2ff49-7a95-4d30-cd3d-751e1317ebc6"
   },
   "outputs": [
    {
     "data": {
      "text/html": [
       "<div>\n",
       "<style scoped>\n",
       "    .dataframe tbody tr th:only-of-type {\n",
       "        vertical-align: middle;\n",
       "    }\n",
       "\n",
       "    .dataframe tbody tr th {\n",
       "        vertical-align: top;\n",
       "    }\n",
       "\n",
       "    .dataframe thead th {\n",
       "        text-align: right;\n",
       "    }\n",
       "</style>\n",
       "<table border=\"1\" class=\"dataframe\">\n",
       "  <thead>\n",
       "    <tr style=\"text-align: right;\">\n",
       "      <th></th>\n",
       "      <th></th>\n",
       "      <th></th>\n",
       "      <th>NO_tc</th>\n",
       "      <th>CO2_tc</th>\n",
       "      <th>CH4_tc</th>\n",
       "      <th>NO2_tc</th>\n",
       "      <th>CO_tc</th>\n",
       "      <th>O3_tc</th>\n",
       "      <th>EMISSIONS_2019</th>\n",
       "      <th>NO_tc_add_trend</th>\n",
       "      <th>CO2_tc_add_trend</th>\n",
       "      <th>CH4_tc_add_trend</th>\n",
       "      <th>NO2_tc_add_trend</th>\n",
       "      <th>CO_tc_add_trend</th>\n",
       "      <th>O3_tc_add_trend</th>\n",
       "    </tr>\n",
       "    <tr>\n",
       "      <th>latitude</th>\n",
       "      <th>longitude</th>\n",
       "      <th>time</th>\n",
       "      <th></th>\n",
       "      <th></th>\n",
       "      <th></th>\n",
       "      <th></th>\n",
       "      <th></th>\n",
       "      <th></th>\n",
       "      <th></th>\n",
       "      <th></th>\n",
       "      <th></th>\n",
       "      <th></th>\n",
       "      <th></th>\n",
       "      <th></th>\n",
       "      <th></th>\n",
       "    </tr>\n",
       "  </thead>\n",
       "  <tbody>\n",
       "    <tr>\n",
       "      <th rowspan=\"5\" valign=\"top\">43.0</th>\n",
       "      <th rowspan=\"5\" valign=\"top\">4.0</th>\n",
       "      <th>2019-05-01 02:00:00</th>\n",
       "      <td>4.242915e-07</td>\n",
       "      <td>412.077229</td>\n",
       "      <td>1872.138289</td>\n",
       "      <td>0.000005</td>\n",
       "      <td>0.001009</td>\n",
       "      <td>0.007920</td>\n",
       "      <td>1.405082e-13</td>\n",
       "      <td>0.000001</td>\n",
       "      <td>412.620326</td>\n",
       "      <td>1878.817495</td>\n",
       "      <td>0.000003</td>\n",
       "      <td>0.001065</td>\n",
       "      <td>0.007345</td>\n",
       "    </tr>\n",
       "    <tr>\n",
       "      <th>2019-05-01 03:00:00</th>\n",
       "      <td>6.189903e-07</td>\n",
       "      <td>412.136477</td>\n",
       "      <td>1873.024578</td>\n",
       "      <td>0.000004</td>\n",
       "      <td>0.001010</td>\n",
       "      <td>0.007859</td>\n",
       "      <td>1.354900e-13</td>\n",
       "      <td>0.000001</td>\n",
       "      <td>412.588503</td>\n",
       "      <td>1878.369642</td>\n",
       "      <td>0.000003</td>\n",
       "      <td>0.001063</td>\n",
       "      <td>0.007345</td>\n",
       "    </tr>\n",
       "    <tr>\n",
       "      <th>2019-05-01 04:00:00</th>\n",
       "      <td>8.136891e-07</td>\n",
       "      <td>412.195724</td>\n",
       "      <td>1873.910866</td>\n",
       "      <td>0.000004</td>\n",
       "      <td>0.001011</td>\n",
       "      <td>0.007797</td>\n",
       "      <td>1.354900e-13</td>\n",
       "      <td>0.000001</td>\n",
       "      <td>412.556680</td>\n",
       "      <td>1877.921788</td>\n",
       "      <td>0.000003</td>\n",
       "      <td>0.001062</td>\n",
       "      <td>0.007346</td>\n",
       "    </tr>\n",
       "    <tr>\n",
       "      <th>2019-05-01 05:00:00</th>\n",
       "      <td>1.008388e-06</td>\n",
       "      <td>412.254971</td>\n",
       "      <td>1874.797155</td>\n",
       "      <td>0.000003</td>\n",
       "      <td>0.001012</td>\n",
       "      <td>0.007736</td>\n",
       "      <td>1.455263e-13</td>\n",
       "      <td>0.000001</td>\n",
       "      <td>412.524857</td>\n",
       "      <td>1877.473935</td>\n",
       "      <td>0.000003</td>\n",
       "      <td>0.001061</td>\n",
       "      <td>0.007346</td>\n",
       "    </tr>\n",
       "    <tr>\n",
       "      <th>2019-05-01 06:00:00</th>\n",
       "      <td>1.203087e-06</td>\n",
       "      <td>412.314219</td>\n",
       "      <td>1875.683443</td>\n",
       "      <td>0.000003</td>\n",
       "      <td>0.001013</td>\n",
       "      <td>0.007674</td>\n",
       "      <td>2.107622e-13</td>\n",
       "      <td>0.000001</td>\n",
       "      <td>412.493034</td>\n",
       "      <td>1877.026081</td>\n",
       "      <td>0.000003</td>\n",
       "      <td>0.001059</td>\n",
       "      <td>0.007347</td>\n",
       "    </tr>\n",
       "    <tr>\n",
       "      <th>...</th>\n",
       "      <th>...</th>\n",
       "      <th>...</th>\n",
       "      <td>...</td>\n",
       "      <td>...</td>\n",
       "      <td>...</td>\n",
       "      <td>...</td>\n",
       "      <td>...</td>\n",
       "      <td>...</td>\n",
       "      <td>...</td>\n",
       "      <td>...</td>\n",
       "      <td>...</td>\n",
       "      <td>...</td>\n",
       "      <td>...</td>\n",
       "      <td>...</td>\n",
       "      <td>...</td>\n",
       "    </tr>\n",
       "    <tr>\n",
       "      <th rowspan=\"5\" valign=\"top\">51.0</th>\n",
       "      <th rowspan=\"5\" valign=\"top\">12.0</th>\n",
       "      <th>2019-05-30 04:00:00</th>\n",
       "      <td>8.918850e-07</td>\n",
       "      <td>411.606101</td>\n",
       "      <td>1828.754045</td>\n",
       "      <td>0.000004</td>\n",
       "      <td>0.000861</td>\n",
       "      <td>0.007447</td>\n",
       "      <td>6.011350e-11</td>\n",
       "      <td>0.000001</td>\n",
       "      <td>411.696930</td>\n",
       "      <td>1827.582561</td>\n",
       "      <td>0.000004</td>\n",
       "      <td>0.000845</td>\n",
       "      <td>0.007488</td>\n",
       "    </tr>\n",
       "    <tr>\n",
       "      <th>2019-05-30 05:00:00</th>\n",
       "      <td>1.105297e-06</td>\n",
       "      <td>411.585796</td>\n",
       "      <td>1828.908752</td>\n",
       "      <td>0.000003</td>\n",
       "      <td>0.000863</td>\n",
       "      <td>0.007429</td>\n",
       "      <td>8.706093e-11</td>\n",
       "      <td>0.000001</td>\n",
       "      <td>411.725047</td>\n",
       "      <td>1827.258201</td>\n",
       "      <td>0.000004</td>\n",
       "      <td>0.000845</td>\n",
       "      <td>0.007485</td>\n",
       "    </tr>\n",
       "    <tr>\n",
       "      <th>2019-05-30 06:00:00</th>\n",
       "      <td>1.318709e-06</td>\n",
       "      <td>411.565491</td>\n",
       "      <td>1829.063459</td>\n",
       "      <td>0.000003</td>\n",
       "      <td>0.000865</td>\n",
       "      <td>0.007411</td>\n",
       "      <td>2.259439e-10</td>\n",
       "      <td>0.000001</td>\n",
       "      <td>411.753164</td>\n",
       "      <td>1826.933842</td>\n",
       "      <td>0.000004</td>\n",
       "      <td>0.000845</td>\n",
       "      <td>0.007482</td>\n",
       "    </tr>\n",
       "    <tr>\n",
       "      <th>2019-05-30 07:00:00</th>\n",
       "      <td>1.349903e-06</td>\n",
       "      <td>411.463614</td>\n",
       "      <td>1829.071825</td>\n",
       "      <td>0.000003</td>\n",
       "      <td>0.000867</td>\n",
       "      <td>0.007411</td>\n",
       "      <td>3.358065e-10</td>\n",
       "      <td>0.000001</td>\n",
       "      <td>411.781281</td>\n",
       "      <td>1826.609482</td>\n",
       "      <td>0.000004</td>\n",
       "      <td>0.000845</td>\n",
       "      <td>0.007479</td>\n",
       "    </tr>\n",
       "    <tr>\n",
       "      <th>2019-05-30 08:00:00</th>\n",
       "      <td>1.381096e-06</td>\n",
       "      <td>411.361737</td>\n",
       "      <td>1829.080191</td>\n",
       "      <td>0.000003</td>\n",
       "      <td>0.000868</td>\n",
       "      <td>0.007410</td>\n",
       "      <td>3.440980e-10</td>\n",
       "      <td>0.000001</td>\n",
       "      <td>411.809399</td>\n",
       "      <td>1826.285123</td>\n",
       "      <td>0.000004</td>\n",
       "      <td>0.000845</td>\n",
       "      <td>0.007476</td>\n",
       "    </tr>\n",
       "  </tbody>\n",
       "</table>\n",
       "<p>771007 rows × 13 columns</p>\n",
       "</div>"
      ],
      "text/plain": [
       "                                               NO_tc      CO2_tc       CH4_tc  \\\n",
       "latitude longitude time                                                         \n",
       "43.0     4.0       2019-05-01 02:00:00  4.242915e-07  412.077229  1872.138289   \n",
       "                   2019-05-01 03:00:00  6.189903e-07  412.136477  1873.024578   \n",
       "                   2019-05-01 04:00:00  8.136891e-07  412.195724  1873.910866   \n",
       "                   2019-05-01 05:00:00  1.008388e-06  412.254971  1874.797155   \n",
       "                   2019-05-01 06:00:00  1.203087e-06  412.314219  1875.683443   \n",
       "...                                              ...         ...          ...   \n",
       "51.0     12.0      2019-05-30 04:00:00  8.918850e-07  411.606101  1828.754045   \n",
       "                   2019-05-30 05:00:00  1.105297e-06  411.585796  1828.908752   \n",
       "                   2019-05-30 06:00:00  1.318709e-06  411.565491  1829.063459   \n",
       "                   2019-05-30 07:00:00  1.349903e-06  411.463614  1829.071825   \n",
       "                   2019-05-30 08:00:00  1.381096e-06  411.361737  1829.080191   \n",
       "\n",
       "                                          NO2_tc     CO_tc     O3_tc  \\\n",
       "latitude longitude time                                                \n",
       "43.0     4.0       2019-05-01 02:00:00  0.000005  0.001009  0.007920   \n",
       "                   2019-05-01 03:00:00  0.000004  0.001010  0.007859   \n",
       "                   2019-05-01 04:00:00  0.000004  0.001011  0.007797   \n",
       "                   2019-05-01 05:00:00  0.000003  0.001012  0.007736   \n",
       "                   2019-05-01 06:00:00  0.000003  0.001013  0.007674   \n",
       "...                                          ...       ...       ...   \n",
       "51.0     12.0      2019-05-30 04:00:00  0.000004  0.000861  0.007447   \n",
       "                   2019-05-30 05:00:00  0.000003  0.000863  0.007429   \n",
       "                   2019-05-30 06:00:00  0.000003  0.000865  0.007411   \n",
       "                   2019-05-30 07:00:00  0.000003  0.000867  0.007411   \n",
       "                   2019-05-30 08:00:00  0.000003  0.000868  0.007410   \n",
       "\n",
       "                                        EMISSIONS_2019  NO_tc_add_trend  \\\n",
       "latitude longitude time                                                   \n",
       "43.0     4.0       2019-05-01 02:00:00    1.405082e-13         0.000001   \n",
       "                   2019-05-01 03:00:00    1.354900e-13         0.000001   \n",
       "                   2019-05-01 04:00:00    1.354900e-13         0.000001   \n",
       "                   2019-05-01 05:00:00    1.455263e-13         0.000001   \n",
       "                   2019-05-01 06:00:00    2.107622e-13         0.000001   \n",
       "...                                                ...              ...   \n",
       "51.0     12.0      2019-05-30 04:00:00    6.011350e-11         0.000001   \n",
       "                   2019-05-30 05:00:00    8.706093e-11         0.000001   \n",
       "                   2019-05-30 06:00:00    2.259439e-10         0.000001   \n",
       "                   2019-05-30 07:00:00    3.358065e-10         0.000001   \n",
       "                   2019-05-30 08:00:00    3.440980e-10         0.000001   \n",
       "\n",
       "                                        CO2_tc_add_trend  CH4_tc_add_trend  \\\n",
       "latitude longitude time                                                      \n",
       "43.0     4.0       2019-05-01 02:00:00        412.620326       1878.817495   \n",
       "                   2019-05-01 03:00:00        412.588503       1878.369642   \n",
       "                   2019-05-01 04:00:00        412.556680       1877.921788   \n",
       "                   2019-05-01 05:00:00        412.524857       1877.473935   \n",
       "                   2019-05-01 06:00:00        412.493034       1877.026081   \n",
       "...                                                  ...               ...   \n",
       "51.0     12.0      2019-05-30 04:00:00        411.696930       1827.582561   \n",
       "                   2019-05-30 05:00:00        411.725047       1827.258201   \n",
       "                   2019-05-30 06:00:00        411.753164       1826.933842   \n",
       "                   2019-05-30 07:00:00        411.781281       1826.609482   \n",
       "                   2019-05-30 08:00:00        411.809399       1826.285123   \n",
       "\n",
       "                                        NO2_tc_add_trend  CO_tc_add_trend  \\\n",
       "latitude longitude time                                                     \n",
       "43.0     4.0       2019-05-01 02:00:00          0.000003         0.001065   \n",
       "                   2019-05-01 03:00:00          0.000003         0.001063   \n",
       "                   2019-05-01 04:00:00          0.000003         0.001062   \n",
       "                   2019-05-01 05:00:00          0.000003         0.001061   \n",
       "                   2019-05-01 06:00:00          0.000003         0.001059   \n",
       "...                                                  ...              ...   \n",
       "51.0     12.0      2019-05-30 04:00:00          0.000004         0.000845   \n",
       "                   2019-05-30 05:00:00          0.000004         0.000845   \n",
       "                   2019-05-30 06:00:00          0.000004         0.000845   \n",
       "                   2019-05-30 07:00:00          0.000004         0.000845   \n",
       "                   2019-05-30 08:00:00          0.000004         0.000845   \n",
       "\n",
       "                                        O3_tc_add_trend  \n",
       "latitude longitude time                                  \n",
       "43.0     4.0       2019-05-01 02:00:00         0.007345  \n",
       "                   2019-05-01 03:00:00         0.007345  \n",
       "                   2019-05-01 04:00:00         0.007346  \n",
       "                   2019-05-01 05:00:00         0.007346  \n",
       "                   2019-05-01 06:00:00         0.007347  \n",
       "...                                                 ...  \n",
       "51.0     12.0      2019-05-30 04:00:00         0.007488  \n",
       "                   2019-05-30 05:00:00         0.007485  \n",
       "                   2019-05-30 06:00:00         0.007482  \n",
       "                   2019-05-30 07:00:00         0.007479  \n",
       "                   2019-05-30 08:00:00         0.007476  \n",
       "\n",
       "[771007 rows x 13 columns]"
      ]
     },
     "execution_count": 21,
     "metadata": {},
     "output_type": "execute_result"
    }
   ],
   "source": [
    "df = ds.get_dataset().to_dataframe().dropna() # drop nan because \n",
    "df"
   ]
  },
  {
   "cell_type": "code",
   "execution_count": 22,
   "metadata": {
    "colab": {
     "base_uri": "https://localhost:8080/",
     "height": 319
    },
    "executionInfo": {
     "elapsed": 288,
     "status": "ok",
     "timestamp": 1629649742105,
     "user": {
      "displayName": "Nicolò Brunello",
      "photoUrl": "",
      "userId": "03655516846124206133"
     },
     "user_tz": -120
    },
    "id": "qmn4UZnjB09X",
    "outputId": "b3e839f1-3e06-42d4-d74a-75509f6e15a4"
   },
   "outputs": [
    {
     "data": {
      "text/html": [
       "<div>\n",
       "<style scoped>\n",
       "    .dataframe tbody tr th:only-of-type {\n",
       "        vertical-align: middle;\n",
       "    }\n",
       "\n",
       "    .dataframe tbody tr th {\n",
       "        vertical-align: top;\n",
       "    }\n",
       "\n",
       "    .dataframe thead th {\n",
       "        text-align: right;\n",
       "    }\n",
       "</style>\n",
       "<table border=\"1\" class=\"dataframe\">\n",
       "  <thead>\n",
       "    <tr style=\"text-align: right;\">\n",
       "      <th></th>\n",
       "      <th>NO_tc</th>\n",
       "      <th>CO2_tc</th>\n",
       "      <th>CH4_tc</th>\n",
       "      <th>NO2_tc</th>\n",
       "      <th>CO_tc</th>\n",
       "      <th>O3_tc</th>\n",
       "      <th>EMISSIONS_2019</th>\n",
       "      <th>NO_tc_add_trend</th>\n",
       "      <th>CO2_tc_add_trend</th>\n",
       "      <th>CH4_tc_add_trend</th>\n",
       "      <th>NO2_tc_add_trend</th>\n",
       "      <th>CO_tc_add_trend</th>\n",
       "      <th>O3_tc_add_trend</th>\n",
       "    </tr>\n",
       "  </thead>\n",
       "  <tbody>\n",
       "    <tr>\n",
       "      <th>count</th>\n",
       "      <td>7.710070e+05</td>\n",
       "      <td>771007.000000</td>\n",
       "      <td>771007.000000</td>\n",
       "      <td>771007.000000</td>\n",
       "      <td>771007.000000</td>\n",
       "      <td>771007.000000</td>\n",
       "      <td>7.710070e+05</td>\n",
       "      <td>7.710070e+05</td>\n",
       "      <td>771007.000000</td>\n",
       "      <td>771007.000000</td>\n",
       "      <td>7.710070e+05</td>\n",
       "      <td>771007.000000</td>\n",
       "      <td>771007.000000</td>\n",
       "    </tr>\n",
       "    <tr>\n",
       "      <th>mean</th>\n",
       "      <td>1.152832e-06</td>\n",
       "      <td>411.058885</td>\n",
       "      <td>1839.107634</td>\n",
       "      <td>0.000004</td>\n",
       "      <td>0.000877</td>\n",
       "      <td>0.007968</td>\n",
       "      <td>1.389303e-10</td>\n",
       "      <td>1.151165e-06</td>\n",
       "      <td>411.060834</td>\n",
       "      <td>1839.187605</td>\n",
       "      <td>3.860907e-06</td>\n",
       "      <td>0.000878</td>\n",
       "      <td>0.007966</td>\n",
       "    </tr>\n",
       "    <tr>\n",
       "      <th>std</th>\n",
       "      <td>5.951913e-07</td>\n",
       "      <td>0.954090</td>\n",
       "      <td>11.698762</td>\n",
       "      <td>0.000002</td>\n",
       "      <td>0.000087</td>\n",
       "      <td>0.000574</td>\n",
       "      <td>2.437112e-10</td>\n",
       "      <td>1.800572e-07</td>\n",
       "      <td>0.912635</td>\n",
       "      <td>11.001448</td>\n",
       "      <td>1.283818e-06</td>\n",
       "      <td>0.000085</td>\n",
       "      <td>0.000542</td>\n",
       "    </tr>\n",
       "    <tr>\n",
       "      <th>min</th>\n",
       "      <td>3.080339e-08</td>\n",
       "      <td>406.511401</td>\n",
       "      <td>1787.871313</td>\n",
       "      <td>0.000001</td>\n",
       "      <td>0.000570</td>\n",
       "      <td>0.006591</td>\n",
       "      <td>4.926107e-15</td>\n",
       "      <td>7.781565e-07</td>\n",
       "      <td>407.145688</td>\n",
       "      <td>1799.198493</td>\n",
       "      <td>3.108598e-07</td>\n",
       "      <td>0.000583</td>\n",
       "      <td>0.006729</td>\n",
       "    </tr>\n",
       "    <tr>\n",
       "      <th>25%</th>\n",
       "      <td>6.736950e-07</td>\n",
       "      <td>410.495303</td>\n",
       "      <td>1832.186768</td>\n",
       "      <td>0.000003</td>\n",
       "      <td>0.000828</td>\n",
       "      <td>0.007595</td>\n",
       "      <td>2.523166e-11</td>\n",
       "      <td>1.039159e-06</td>\n",
       "      <td>410.510564</td>\n",
       "      <td>1832.879095</td>\n",
       "      <td>3.013398e-06</td>\n",
       "      <td>0.000832</td>\n",
       "      <td>0.007608</td>\n",
       "    </tr>\n",
       "    <tr>\n",
       "      <th>50%</th>\n",
       "      <td>1.264638e-06</td>\n",
       "      <td>411.219294</td>\n",
       "      <td>1839.320815</td>\n",
       "      <td>0.000004</td>\n",
       "      <td>0.000887</td>\n",
       "      <td>0.007859</td>\n",
       "      <td>7.129253e-11</td>\n",
       "      <td>1.115533e-06</td>\n",
       "      <td>411.220664</td>\n",
       "      <td>1839.077733</td>\n",
       "      <td>3.509161e-06</td>\n",
       "      <td>0.000887</td>\n",
       "      <td>0.007864</td>\n",
       "    </tr>\n",
       "    <tr>\n",
       "      <th>75%</th>\n",
       "      <td>1.564435e-06</td>\n",
       "      <td>411.741588</td>\n",
       "      <td>1846.178793</td>\n",
       "      <td>0.000005</td>\n",
       "      <td>0.000939</td>\n",
       "      <td>0.008225</td>\n",
       "      <td>1.740136e-10</td>\n",
       "      <td>1.215887e-06</td>\n",
       "      <td>411.716852</td>\n",
       "      <td>1845.571979</td>\n",
       "      <td>4.338641e-06</td>\n",
       "      <td>0.000937</td>\n",
       "      <td>0.008212</td>\n",
       "    </tr>\n",
       "    <tr>\n",
       "      <th>max</th>\n",
       "      <td>1.193310e-05</td>\n",
       "      <td>414.640254</td>\n",
       "      <td>1906.842689</td>\n",
       "      <td>0.000022</td>\n",
       "      <td>0.001149</td>\n",
       "      <td>0.010506</td>\n",
       "      <td>1.039173e-08</td>\n",
       "      <td>6.256935e-06</td>\n",
       "      <td>415.081281</td>\n",
       "      <td>1890.542741</td>\n",
       "      <td>1.651562e-05</td>\n",
       "      <td>0.001119</td>\n",
       "      <td>0.010332</td>\n",
       "    </tr>\n",
       "  </tbody>\n",
       "</table>\n",
       "</div>"
      ],
      "text/plain": [
       "              NO_tc         CO2_tc         CH4_tc         NO2_tc  \\\n",
       "count  7.710070e+05  771007.000000  771007.000000  771007.000000   \n",
       "mean   1.152832e-06     411.058885    1839.107634       0.000004   \n",
       "std    5.951913e-07       0.954090      11.698762       0.000002   \n",
       "min    3.080339e-08     406.511401    1787.871313       0.000001   \n",
       "25%    6.736950e-07     410.495303    1832.186768       0.000003   \n",
       "50%    1.264638e-06     411.219294    1839.320815       0.000004   \n",
       "75%    1.564435e-06     411.741588    1846.178793       0.000005   \n",
       "max    1.193310e-05     414.640254    1906.842689       0.000022   \n",
       "\n",
       "               CO_tc          O3_tc  EMISSIONS_2019  NO_tc_add_trend  \\\n",
       "count  771007.000000  771007.000000    7.710070e+05     7.710070e+05   \n",
       "mean        0.000877       0.007968    1.389303e-10     1.151165e-06   \n",
       "std         0.000087       0.000574    2.437112e-10     1.800572e-07   \n",
       "min         0.000570       0.006591    4.926107e-15     7.781565e-07   \n",
       "25%         0.000828       0.007595    2.523166e-11     1.039159e-06   \n",
       "50%         0.000887       0.007859    7.129253e-11     1.115533e-06   \n",
       "75%         0.000939       0.008225    1.740136e-10     1.215887e-06   \n",
       "max         0.001149       0.010506    1.039173e-08     6.256935e-06   \n",
       "\n",
       "       CO2_tc_add_trend  CH4_tc_add_trend  NO2_tc_add_trend  CO_tc_add_trend  \\\n",
       "count     771007.000000     771007.000000      7.710070e+05    771007.000000   \n",
       "mean         411.060834       1839.187605      3.860907e-06         0.000878   \n",
       "std            0.912635         11.001448      1.283818e-06         0.000085   \n",
       "min          407.145688       1799.198493      3.108598e-07         0.000583   \n",
       "25%          410.510564       1832.879095      3.013398e-06         0.000832   \n",
       "50%          411.220664       1839.077733      3.509161e-06         0.000887   \n",
       "75%          411.716852       1845.571979      4.338641e-06         0.000937   \n",
       "max          415.081281       1890.542741      1.651562e-05         0.001119   \n",
       "\n",
       "       O3_tc_add_trend  \n",
       "count    771007.000000  \n",
       "mean          0.007966  \n",
       "std           0.000542  \n",
       "min           0.006729  \n",
       "25%           0.007608  \n",
       "50%           0.007864  \n",
       "75%           0.008212  \n",
       "max           0.010332  "
      ]
     },
     "execution_count": 22,
     "metadata": {},
     "output_type": "execute_result"
    }
   ],
   "source": [
    "df.describe()"
   ]
  },
  {
   "cell_type": "markdown",
   "metadata": {
    "id": "2liksiW8CRqC"
   },
   "source": [
    "# Model for a single point "
   ]
  },
  {
   "cell_type": "markdown",
   "metadata": {
    "id": "4pLc3D77CXq9"
   },
   "source": [
    "Let's firt try to train a model for a singli latitude-longitude location. This will be very inefficient due to the fact that data available for a single location are around 708 samples (Usually much larger datasets are required to train an LSTM)."
   ]
  },
  {
   "cell_type": "code",
   "execution_count": 23,
   "metadata": {
    "colab": {
     "base_uri": "https://localhost:8080/",
     "height": 819
    },
    "executionInfo": {
     "elapsed": 26,
     "status": "ok",
     "timestamp": 1629649742107,
     "user": {
      "displayName": "Nicolò Brunello",
      "photoUrl": "",
      "userId": "03655516846124206133"
     },
     "user_tz": -120
    },
    "id": "uuDh-dWhCv4W",
    "outputId": "9657fa88-840d-49ea-fd5c-dab8203a6b9b"
   },
   "outputs": [
    {
     "data": {
      "text/html": [
       "<div>\n",
       "<style scoped>\n",
       "    .dataframe tbody tr th:only-of-type {\n",
       "        vertical-align: middle;\n",
       "    }\n",
       "\n",
       "    .dataframe tbody tr th {\n",
       "        vertical-align: top;\n",
       "    }\n",
       "\n",
       "    .dataframe thead th {\n",
       "        text-align: right;\n",
       "    }\n",
       "</style>\n",
       "<table border=\"1\" class=\"dataframe\">\n",
       "  <thead>\n",
       "    <tr style=\"text-align: right;\">\n",
       "      <th></th>\n",
       "      <th>NO_tc</th>\n",
       "      <th>CO2_tc</th>\n",
       "      <th>CH4_tc</th>\n",
       "      <th>NO2_tc</th>\n",
       "      <th>CO_tc</th>\n",
       "      <th>O3_tc</th>\n",
       "      <th>EMISSIONS_2019</th>\n",
       "      <th>NO_tc_add_trend</th>\n",
       "      <th>CO2_tc_add_trend</th>\n",
       "      <th>CH4_tc_add_trend</th>\n",
       "      <th>NO2_tc_add_trend</th>\n",
       "      <th>CO_tc_add_trend</th>\n",
       "      <th>O3_tc_add_trend</th>\n",
       "    </tr>\n",
       "    <tr>\n",
       "      <th>time</th>\n",
       "      <th></th>\n",
       "      <th></th>\n",
       "      <th></th>\n",
       "      <th></th>\n",
       "      <th></th>\n",
       "      <th></th>\n",
       "      <th></th>\n",
       "      <th></th>\n",
       "      <th></th>\n",
       "      <th></th>\n",
       "      <th></th>\n",
       "      <th></th>\n",
       "      <th></th>\n",
       "    </tr>\n",
       "  </thead>\n",
       "  <tbody>\n",
       "    <tr>\n",
       "      <th>2019-05-01 01:00:00</th>\n",
       "      <td>3.538249e-07</td>\n",
       "      <td>411.873205</td>\n",
       "      <td>1858.933505</td>\n",
       "      <td>0.000016</td>\n",
       "      <td>0.001058</td>\n",
       "      <td>0.008345</td>\n",
       "      <td>2.206447e-10</td>\n",
       "      <td>0.000001</td>\n",
       "      <td>411.953745</td>\n",
       "      <td>1858.600206</td>\n",
       "      <td>0.000007</td>\n",
       "      <td>0.001011</td>\n",
       "      <td>0.008067</td>\n",
       "    </tr>\n",
       "    <tr>\n",
       "      <th>2019-05-01 02:00:00</th>\n",
       "      <td>6.158809e-07</td>\n",
       "      <td>411.896466</td>\n",
       "      <td>1858.333090</td>\n",
       "      <td>0.000014</td>\n",
       "      <td>0.001050</td>\n",
       "      <td>0.008320</td>\n",
       "      <td>2.127645e-10</td>\n",
       "      <td>0.000001</td>\n",
       "      <td>411.951271</td>\n",
       "      <td>1858.559906</td>\n",
       "      <td>0.000007</td>\n",
       "      <td>0.001013</td>\n",
       "      <td>0.008061</td>\n",
       "    </tr>\n",
       "    <tr>\n",
       "      <th>2019-05-01 03:00:00</th>\n",
       "      <td>8.779370e-07</td>\n",
       "      <td>411.919728</td>\n",
       "      <td>1857.732676</td>\n",
       "      <td>0.000012</td>\n",
       "      <td>0.001042</td>\n",
       "      <td>0.008296</td>\n",
       "      <td>2.127645e-10</td>\n",
       "      <td>0.000001</td>\n",
       "      <td>411.948797</td>\n",
       "      <td>1858.519606</td>\n",
       "      <td>0.000007</td>\n",
       "      <td>0.001014</td>\n",
       "      <td>0.008054</td>\n",
       "    </tr>\n",
       "    <tr>\n",
       "      <th>2019-05-01 04:00:00</th>\n",
       "      <td>1.139993e-06</td>\n",
       "      <td>411.942990</td>\n",
       "      <td>1857.132261</td>\n",
       "      <td>0.000009</td>\n",
       "      <td>0.001034</td>\n",
       "      <td>0.008271</td>\n",
       "      <td>2.285249e-10</td>\n",
       "      <td>0.000001</td>\n",
       "      <td>411.946324</td>\n",
       "      <td>1858.479306</td>\n",
       "      <td>0.000007</td>\n",
       "      <td>0.001015</td>\n",
       "      <td>0.008047</td>\n",
       "    </tr>\n",
       "    <tr>\n",
       "      <th>2019-05-01 05:00:00</th>\n",
       "      <td>1.402049e-06</td>\n",
       "      <td>411.966252</td>\n",
       "      <td>1856.531847</td>\n",
       "      <td>0.000007</td>\n",
       "      <td>0.001026</td>\n",
       "      <td>0.008246</td>\n",
       "      <td>3.309670e-10</td>\n",
       "      <td>0.000001</td>\n",
       "      <td>411.943850</td>\n",
       "      <td>1858.439006</td>\n",
       "      <td>0.000007</td>\n",
       "      <td>0.001016</td>\n",
       "      <td>0.008040</td>\n",
       "    </tr>\n",
       "    <tr>\n",
       "      <th>...</th>\n",
       "      <td>...</td>\n",
       "      <td>...</td>\n",
       "      <td>...</td>\n",
       "      <td>...</td>\n",
       "      <td>...</td>\n",
       "      <td>...</td>\n",
       "      <td>...</td>\n",
       "      <td>...</td>\n",
       "      <td>...</td>\n",
       "      <td>...</td>\n",
       "      <td>...</td>\n",
       "      <td>...</td>\n",
       "      <td>...</td>\n",
       "    </tr>\n",
       "    <tr>\n",
       "      <th>2019-05-30 08:00:00</th>\n",
       "      <td>2.099804e-06</td>\n",
       "      <td>410.521068</td>\n",
       "      <td>1869.517503</td>\n",
       "      <td>0.000006</td>\n",
       "      <td>0.000904</td>\n",
       "      <td>0.007541</td>\n",
       "      <td>1.572497e-09</td>\n",
       "      <td>0.000002</td>\n",
       "      <td>410.641474</td>\n",
       "      <td>1864.605196</td>\n",
       "      <td>0.000009</td>\n",
       "      <td>0.000873</td>\n",
       "      <td>0.007599</td>\n",
       "    </tr>\n",
       "    <tr>\n",
       "      <th>2019-05-30 09:00:00</th>\n",
       "      <td>2.092169e-06</td>\n",
       "      <td>410.398524</td>\n",
       "      <td>1869.153031</td>\n",
       "      <td>0.000006</td>\n",
       "      <td>0.000907</td>\n",
       "      <td>0.007509</td>\n",
       "      <td>1.439877e-09</td>\n",
       "      <td>0.000002</td>\n",
       "      <td>410.648377</td>\n",
       "      <td>1865.253030</td>\n",
       "      <td>0.000009</td>\n",
       "      <td>0.000874</td>\n",
       "      <td>0.007579</td>\n",
       "    </tr>\n",
       "    <tr>\n",
       "      <th>2019-05-30 10:00:00</th>\n",
       "      <td>2.084535e-06</td>\n",
       "      <td>410.275979</td>\n",
       "      <td>1868.788560</td>\n",
       "      <td>0.000005</td>\n",
       "      <td>0.000910</td>\n",
       "      <td>0.007477</td>\n",
       "      <td>1.250420e-09</td>\n",
       "      <td>0.000002</td>\n",
       "      <td>410.655280</td>\n",
       "      <td>1865.900865</td>\n",
       "      <td>0.000009</td>\n",
       "      <td>0.000874</td>\n",
       "      <td>0.007559</td>\n",
       "    </tr>\n",
       "    <tr>\n",
       "      <th>2019-05-30 11:00:00</th>\n",
       "      <td>2.076900e-06</td>\n",
       "      <td>410.153435</td>\n",
       "      <td>1868.424088</td>\n",
       "      <td>0.000004</td>\n",
       "      <td>0.000912</td>\n",
       "      <td>0.007444</td>\n",
       "      <td>1.108326e-09</td>\n",
       "      <td>0.000002</td>\n",
       "      <td>410.662183</td>\n",
       "      <td>1866.548700</td>\n",
       "      <td>0.000009</td>\n",
       "      <td>0.000875</td>\n",
       "      <td>0.007539</td>\n",
       "    </tr>\n",
       "    <tr>\n",
       "      <th>2019-05-30 12:00:00</th>\n",
       "      <td>2.069266e-06</td>\n",
       "      <td>410.030891</td>\n",
       "      <td>1868.059616</td>\n",
       "      <td>0.000004</td>\n",
       "      <td>0.000915</td>\n",
       "      <td>0.007412</td>\n",
       "      <td>1.089381e-09</td>\n",
       "      <td>0.000002</td>\n",
       "      <td>410.669086</td>\n",
       "      <td>1867.196534</td>\n",
       "      <td>0.000009</td>\n",
       "      <td>0.000875</td>\n",
       "      <td>0.007519</td>\n",
       "    </tr>\n",
       "  </tbody>\n",
       "</table>\n",
       "<p>708 rows × 13 columns</p>\n",
       "</div>"
      ],
      "text/plain": [
       "                            NO_tc      CO2_tc       CH4_tc    NO2_tc  \\\n",
       "time                                                                   \n",
       "2019-05-01 01:00:00  3.538249e-07  411.873205  1858.933505  0.000016   \n",
       "2019-05-01 02:00:00  6.158809e-07  411.896466  1858.333090  0.000014   \n",
       "2019-05-01 03:00:00  8.779370e-07  411.919728  1857.732676  0.000012   \n",
       "2019-05-01 04:00:00  1.139993e-06  411.942990  1857.132261  0.000009   \n",
       "2019-05-01 05:00:00  1.402049e-06  411.966252  1856.531847  0.000007   \n",
       "...                           ...         ...          ...       ...   \n",
       "2019-05-30 08:00:00  2.099804e-06  410.521068  1869.517503  0.000006   \n",
       "2019-05-30 09:00:00  2.092169e-06  410.398524  1869.153031  0.000006   \n",
       "2019-05-30 10:00:00  2.084535e-06  410.275979  1868.788560  0.000005   \n",
       "2019-05-30 11:00:00  2.076900e-06  410.153435  1868.424088  0.000004   \n",
       "2019-05-30 12:00:00  2.069266e-06  410.030891  1868.059616  0.000004   \n",
       "\n",
       "                        CO_tc     O3_tc  EMISSIONS_2019  NO_tc_add_trend  \\\n",
       "time                                                                       \n",
       "2019-05-01 01:00:00  0.001058  0.008345    2.206447e-10         0.000001   \n",
       "2019-05-01 02:00:00  0.001050  0.008320    2.127645e-10         0.000001   \n",
       "2019-05-01 03:00:00  0.001042  0.008296    2.127645e-10         0.000001   \n",
       "2019-05-01 04:00:00  0.001034  0.008271    2.285249e-10         0.000001   \n",
       "2019-05-01 05:00:00  0.001026  0.008246    3.309670e-10         0.000001   \n",
       "...                       ...       ...             ...              ...   \n",
       "2019-05-30 08:00:00  0.000904  0.007541    1.572497e-09         0.000002   \n",
       "2019-05-30 09:00:00  0.000907  0.007509    1.439877e-09         0.000002   \n",
       "2019-05-30 10:00:00  0.000910  0.007477    1.250420e-09         0.000002   \n",
       "2019-05-30 11:00:00  0.000912  0.007444    1.108326e-09         0.000002   \n",
       "2019-05-30 12:00:00  0.000915  0.007412    1.089381e-09         0.000002   \n",
       "\n",
       "                     CO2_tc_add_trend  CH4_tc_add_trend  NO2_tc_add_trend  \\\n",
       "time                                                                        \n",
       "2019-05-01 01:00:00        411.953745       1858.600206          0.000007   \n",
       "2019-05-01 02:00:00        411.951271       1858.559906          0.000007   \n",
       "2019-05-01 03:00:00        411.948797       1858.519606          0.000007   \n",
       "2019-05-01 04:00:00        411.946324       1858.479306          0.000007   \n",
       "2019-05-01 05:00:00        411.943850       1858.439006          0.000007   \n",
       "...                               ...               ...               ...   \n",
       "2019-05-30 08:00:00        410.641474       1864.605196          0.000009   \n",
       "2019-05-30 09:00:00        410.648377       1865.253030          0.000009   \n",
       "2019-05-30 10:00:00        410.655280       1865.900865          0.000009   \n",
       "2019-05-30 11:00:00        410.662183       1866.548700          0.000009   \n",
       "2019-05-30 12:00:00        410.669086       1867.196534          0.000009   \n",
       "\n",
       "                     CO_tc_add_trend  O3_tc_add_trend  \n",
       "time                                                   \n",
       "2019-05-01 01:00:00         0.001011         0.008067  \n",
       "2019-05-01 02:00:00         0.001013         0.008061  \n",
       "2019-05-01 03:00:00         0.001014         0.008054  \n",
       "2019-05-01 04:00:00         0.001015         0.008047  \n",
       "2019-05-01 05:00:00         0.001016         0.008040  \n",
       "...                              ...              ...  \n",
       "2019-05-30 08:00:00         0.000873         0.007599  \n",
       "2019-05-30 09:00:00         0.000874         0.007579  \n",
       "2019-05-30 10:00:00         0.000874         0.007559  \n",
       "2019-05-30 11:00:00         0.000875         0.007539  \n",
       "2019-05-30 12:00:00         0.000875         0.007519  \n",
       "\n",
       "[708 rows x 13 columns]"
      ]
     },
     "execution_count": 23,
     "metadata": {},
     "output_type": "execute_result"
    }
   ],
   "source": [
    "#fix coordinates\n",
    "# Urban area : near Milan lat--> 45.5, long--> 9.25\n",
    "#              south France lat --> 43.25 long --> 5.5\n",
    "lat = 45.5\n",
    "lon = 9.25\n",
    "\n",
    "#fix latitude and longitude \n",
    "mask = (df.index.get_level_values('latitude') == lat) & (df.index.get_level_values('longitude') == lon)\n",
    "selection = df.loc[mask]\n",
    "df = selection.reset_index().drop(columns=['latitude', 'longitude']).set_index('time')\n",
    "df"
   ]
  },
  {
   "cell_type": "markdown",
   "metadata": {
    "id": "GItnfleDDUav"
   },
   "source": [
    "Separate target variable from independent variables"
   ]
  },
  {
   "cell_type": "code",
   "execution_count": 24,
   "metadata": {
    "id": "VE0-cjJhDZ2D"
   },
   "outputs": [],
   "source": [
    "df_target = df['EMISSIONS_2019']\n",
    "df.drop(columns=['EMISSIONS_2019'], inplace=True)"
   ]
  },
  {
   "cell_type": "markdown",
   "metadata": {
    "id": "BTEF8iZwDs9I"
   },
   "source": [
    "Now we have a training set with 12 features and 708 samples"
   ]
  },
  {
   "cell_type": "markdown",
   "metadata": {
    "id": "MuUoGLjMaf7D"
   },
   "source": [
    "### NumPy Arrays\n",
    "\n",
    "We now convert the Pandas data-frames to NumPy arrays that can be input to the neural network."
   ]
  },
  {
   "cell_type": "code",
   "execution_count": 27,
   "metadata": {
    "id": "3-Ws5EF4bcXN"
   },
   "outputs": [],
   "source": [
    "x_data = df.values"
   ]
  },
  {
   "cell_type": "code",
   "execution_count": 28,
   "metadata": {
    "id": "YUe2lxp5bmZ4"
   },
   "outputs": [],
   "source": [
    "y_data = df_target.values"
   ]
  },
  {
   "cell_type": "markdown",
   "metadata": {
    "id": "MjueLRIDnJxu"
   },
   "source": [
    "This is the number of observations (aka. data-points or samples) in the data-set:"
   ]
  },
  {
   "cell_type": "code",
   "execution_count": 29,
   "metadata": {
    "colab": {
     "base_uri": "https://localhost:8080/"
    },
    "executionInfo": {
     "elapsed": 52,
     "status": "ok",
     "timestamp": 1629649742370,
     "user": {
      "displayName": "Nicolò Brunello",
      "photoUrl": "",
      "userId": "03655516846124206133"
     },
     "user_tz": -120
    },
    "id": "dM0GUFrVnJxu",
    "outputId": "33d4af76-bfc6-4e95-fc3c-0ada8faf04d5"
   },
   "outputs": [
    {
     "data": {
      "text/plain": [
       "708"
      ]
     },
     "execution_count": 29,
     "metadata": {},
     "output_type": "execute_result"
    }
   ],
   "source": [
    "num_data = len(x_data)\n",
    "num_data"
   ]
  },
  {
   "cell_type": "markdown",
   "metadata": {
    "id": "4WZHaFiDnJxu"
   },
   "source": [
    "This is the fraction of the data-set that will be used for the training-set:"
   ]
  },
  {
   "cell_type": "code",
   "execution_count": 30,
   "metadata": {
    "id": "1-o2WkYSnJxv"
   },
   "outputs": [],
   "source": [
    "train_split = 0.7"
   ]
  },
  {
   "cell_type": "markdown",
   "metadata": {
    "id": "dFcUQPTlnJxv"
   },
   "source": [
    "This is the number of observations in the training-set:"
   ]
  },
  {
   "cell_type": "code",
   "execution_count": 31,
   "metadata": {
    "colab": {
     "base_uri": "https://localhost:8080/"
    },
    "executionInfo": {
     "elapsed": 50,
     "status": "ok",
     "timestamp": 1629649742371,
     "user": {
      "displayName": "Nicolò Brunello",
      "photoUrl": "",
      "userId": "03655516846124206133"
     },
     "user_tz": -120
    },
    "id": "S6M4s1A2nJxv",
    "outputId": "3be90abc-80a2-483f-be5f-d664d121aefe"
   },
   "outputs": [
    {
     "data": {
      "text/plain": [
       "495"
      ]
     },
     "execution_count": 31,
     "metadata": {},
     "output_type": "execute_result"
    }
   ],
   "source": [
    "num_train = int(train_split * num_data)\n",
    "num_train"
   ]
  },
  {
   "cell_type": "markdown",
   "metadata": {
    "id": "e7uydYQZnJxv"
   },
   "source": [
    "This is the number of observations in the test-set:"
   ]
  },
  {
   "cell_type": "code",
   "execution_count": 33,
   "metadata": {
    "colab": {
     "base_uri": "https://localhost:8080/"
    },
    "executionInfo": {
     "elapsed": 43,
     "status": "ok",
     "timestamp": 1629649742371,
     "user": {
      "displayName": "Nicolò Brunello",
      "photoUrl": "",
      "userId": "03655516846124206133"
     },
     "user_tz": -120
    },
    "id": "ngFzQHjjnJxv",
    "outputId": "b83a1b32-1437-40b7-d45f-4dd4311c25da"
   },
   "outputs": [
    {
     "data": {
      "text/plain": [
       "213"
      ]
     },
     "execution_count": 33,
     "metadata": {},
     "output_type": "execute_result"
    }
   ],
   "source": [
    "num_test = num_data - num_train\n",
    "num_test"
   ]
  },
  {
   "cell_type": "markdown",
   "metadata": {
    "id": "xU1yr7HAnJxw"
   },
   "source": [
    "These are the input-signals for the training- and test-sets:"
   ]
  },
  {
   "cell_type": "code",
   "execution_count": 34,
   "metadata": {
    "colab": {
     "base_uri": "https://localhost:8080/"
    },
    "executionInfo": {
     "elapsed": 37,
     "status": "ok",
     "timestamp": 1629649742371,
     "user": {
      "displayName": "Nicolò Brunello",
      "photoUrl": "",
      "userId": "03655516846124206133"
     },
     "user_tz": -120
    },
    "id": "97h8gcs6nJxw",
    "outputId": "c3b3ae1b-2831-4cfe-f655-a310cd4635c3"
   },
   "outputs": [
    {
     "data": {
      "text/plain": [
       "708"
      ]
     },
     "execution_count": 34,
     "metadata": {},
     "output_type": "execute_result"
    }
   ],
   "source": [
    "x_train = x_data[0:num_train]\n",
    "x_test = x_data[num_train:]\n",
    "len(x_train) + len(x_test)"
   ]
  },
  {
   "cell_type": "markdown",
   "metadata": {
    "id": "u6654OI1nJxw"
   },
   "source": [
    "These are the output-signals for the training- and test-sets:"
   ]
  },
  {
   "cell_type": "code",
   "execution_count": 35,
   "metadata": {
    "colab": {
     "base_uri": "https://localhost:8080/"
    },
    "executionInfo": {
     "elapsed": 34,
     "status": "ok",
     "timestamp": 1629649742372,
     "user": {
      "displayName": "Nicolò Brunello",
      "photoUrl": "",
      "userId": "03655516846124206133"
     },
     "user_tz": -120
    },
    "id": "vPQlx2HbnJxw",
    "outputId": "d47c808d-6c53-4377-dea0-0f4baffaccb9"
   },
   "outputs": [
    {
     "data": {
      "text/plain": [
       "708"
      ]
     },
     "execution_count": 35,
     "metadata": {},
     "output_type": "execute_result"
    }
   ],
   "source": [
    "y_train = y_data[0:num_train].reshape(-1,1)# Reshape like this if you have a single feature\n",
    "y_test = y_data[num_train:].reshape(-1,1)\n",
    "len(y_train) + len(y_test)"
   ]
  },
  {
   "cell_type": "markdown",
   "metadata": {
    "id": "xu7zTmRTnJxw"
   },
   "source": [
    "This is the number of input-signals:"
   ]
  },
  {
   "cell_type": "code",
   "execution_count": 36,
   "metadata": {
    "colab": {
     "base_uri": "https://localhost:8080/"
    },
    "executionInfo": {
     "elapsed": 32,
     "status": "ok",
     "timestamp": 1629649742373,
     "user": {
      "displayName": "Nicolò Brunello",
      "photoUrl": "",
      "userId": "03655516846124206133"
     },
     "user_tz": -120
    },
    "id": "qOPQ2ckZnJxy",
    "outputId": "a980a4a1-3993-4e52-e33a-263a1b172015"
   },
   "outputs": [
    {
     "data": {
      "text/plain": [
       "12"
      ]
     },
     "execution_count": 36,
     "metadata": {},
     "output_type": "execute_result"
    }
   ],
   "source": [
    "num_x_signals = x_data.shape[1]\n",
    "num_x_signals"
   ]
  },
  {
   "cell_type": "markdown",
   "metadata": {
    "id": "urtQv8-4nJxy"
   },
   "source": [
    "This is the number of output-signals:"
   ]
  },
  {
   "cell_type": "code",
   "execution_count": 37,
   "metadata": {
    "colab": {
     "base_uri": "https://localhost:8080/"
    },
    "executionInfo": {
     "elapsed": 28,
     "status": "ok",
     "timestamp": 1629649742373,
     "user": {
      "displayName": "Nicolò Brunello",
      "photoUrl": "",
      "userId": "03655516846124206133"
     },
     "user_tz": -120
    },
    "id": "EL6OrJyWnJxz",
    "outputId": "b6ebc39e-a4b1-4e20-ebdb-898a5215a214",
    "scrolled": true
   },
   "outputs": [
    {
     "data": {
      "text/plain": [
       "1"
      ]
     },
     "execution_count": 37,
     "metadata": {},
     "output_type": "execute_result"
    }
   ],
   "source": [
    "y_data = y_data.reshape(-1, 1)\n",
    "num_y_signals = y_data.shape[1]\n",
    "num_y_signals"
   ]
  },
  {
   "cell_type": "markdown",
   "metadata": {
    "id": "WRFhVbsfnJxz"
   },
   "source": [
    "### Scaled Data\n",
    "\n",
    "The data-set contains a wide range of values:"
   ]
  },
  {
   "cell_type": "code",
   "execution_count": 38,
   "metadata": {
    "colab": {
     "base_uri": "https://localhost:8080/"
    },
    "executionInfo": {
     "elapsed": 26,
     "status": "ok",
     "timestamp": 1629649742374,
     "user": {
      "displayName": "Nicolò Brunello",
      "photoUrl": "",
      "userId": "03655516846124206133"
     },
     "user_tz": -120
    },
    "id": "ZdEhSHHRnJxz",
    "outputId": "019657ff-cee5-467f-c3c7-72f17ce61133"
   },
   "outputs": [
    {
     "name": "stdout",
     "output_type": "stream",
     "text": [
      "Min: 3.274563133693039e-08\n",
      "Max: 1878.6564352593812\n"
     ]
    }
   ],
   "source": [
    "print(\"Min:\", np.min(x_train))\n",
    "print(\"Max:\", np.max(x_train))"
   ]
  },
  {
   "cell_type": "markdown",
   "metadata": {
    "id": "vZlxe3hXnJxz"
   },
   "source": [
    "The neural network works best on values roughly between -1 and 1, so we need to scale the data before it is being input to the neural network. We can use `scikit-learn` for this.\n",
    "\n",
    "We first create a scaler-object for the input-signals."
   ]
  },
  {
   "cell_type": "code",
   "execution_count": 39,
   "metadata": {
    "id": "F8i4txDPnJxz"
   },
   "outputs": [],
   "source": [
    "x_scaler = MinMaxScaler()"
   ]
  },
  {
   "cell_type": "markdown",
   "metadata": {
    "id": "1bFOljVmnJxz"
   },
   "source": [
    "We then detect the range of values from the training-data and scale the training-data."
   ]
  },
  {
   "cell_type": "code",
   "execution_count": 40,
   "metadata": {
    "id": "agNvuiUpnJx0"
   },
   "outputs": [],
   "source": [
    "x_train_scaled = x_scaler.fit_transform(x_train)"
   ]
  },
  {
   "cell_type": "markdown",
   "metadata": {
    "id": "pwZLUGxenJx0"
   },
   "source": [
    "Apart from a small rounding-error, the data has been scaled to be between 0 and 1."
   ]
  },
  {
   "cell_type": "code",
   "execution_count": 41,
   "metadata": {
    "colab": {
     "base_uri": "https://localhost:8080/"
    },
    "executionInfo": {
     "elapsed": 23,
     "status": "ok",
     "timestamp": 1629649742375,
     "user": {
      "displayName": "Nicolò Brunello",
      "photoUrl": "",
      "userId": "03655516846124206133"
     },
     "user_tz": -120
    },
    "id": "jQpseMKJnJx0",
    "outputId": "a081d774-6672-431e-d419-419349463dda"
   },
   "outputs": [
    {
     "name": "stdout",
     "output_type": "stream",
     "text": [
      "Min: 0.0\n",
      "Max: 1.0000000000000004\n"
     ]
    }
   ],
   "source": [
    "print(\"Min:\", np.min(x_train_scaled))\n",
    "print(\"Max:\", np.max(x_train_scaled))"
   ]
  },
  {
   "cell_type": "markdown",
   "metadata": {
    "id": "PslZC4KSnJx0"
   },
   "source": [
    "We use the same scaler-object for the input-signals in the test-set."
   ]
  },
  {
   "cell_type": "code",
   "execution_count": 42,
   "metadata": {
    "id": "W-B9QMxenJx0"
   },
   "outputs": [],
   "source": [
    "x_test_scaled = x_scaler.transform(x_test)"
   ]
  },
  {
   "cell_type": "markdown",
   "metadata": {
    "id": "-Wqp29yQnJx0"
   },
   "source": [
    "The target-data comes from the same data-set as the input-signals, because it is the weather-data for one of the cities that is merely time-shifted. But the target-data could be from a different source with different value-ranges, so we create a separate scaler-object for the target-data."
   ]
  },
  {
   "cell_type": "code",
   "execution_count": 43,
   "metadata": {
    "id": "_tEQvS73nJx0"
   },
   "outputs": [],
   "source": [
    "y_scaler = MinMaxScaler()\n",
    "y_train_scaled = y_scaler.fit_transform(y_train)\n",
    "y_test_scaled = y_scaler.transform(y_test)"
   ]
  },
  {
   "cell_type": "markdown",
   "metadata": {
    "id": "F57yAiyzjLUM"
   },
   "source": [
    "## Data Generator\n",
    "\n",
    "The data-set has now been prepared as 2-dimensional numpy arrays."
   ]
  },
  {
   "cell_type": "code",
   "execution_count": 44,
   "metadata": {
    "colab": {
     "base_uri": "https://localhost:8080/"
    },
    "executionInfo": {
     "elapsed": 21,
     "status": "ok",
     "timestamp": 1629649742379,
     "user": {
      "displayName": "Nicolò Brunello",
      "photoUrl": "",
      "userId": "03655516846124206133"
     },
     "user_tz": -120
    },
    "id": "YO3veCqgjExo",
    "outputId": "6e46fd96-6fa6-4f03-dce6-0c3599573ec6"
   },
   "outputs": [
    {
     "name": "stdout",
     "output_type": "stream",
     "text": [
      "(495, 12)\n",
      "(495, 1)\n"
     ]
    }
   ],
   "source": [
    "print(x_train_scaled.shape)\n",
    "print(y_train_scaled.shape)"
   ]
  },
  {
   "cell_type": "markdown",
   "metadata": {
    "id": "UQ1uccdbj9fD"
   },
   "source": [
    "Instead of training the Recurrent Neural Network on the complete sequences of almost 300k observations, we will use the following function to create a batch of shorter sub-sequences picked at random from the training-data."
   ]
  },
  {
   "cell_type": "code",
   "execution_count": 45,
   "metadata": {
    "id": "ZannKZmqjTPD"
   },
   "outputs": [],
   "source": [
    "def batch_generator(batch_size, sequence_length):\n",
    "    \"\"\"\n",
    "    Generator function for creating random batches of training-data.\n",
    "    \"\"\"\n",
    "\n",
    "    # Infinite loop.\n",
    "    while True:\n",
    "        # Allocate a new array for the batch of input-signals.\n",
    "        x_shape = (batch_size, sequence_length, num_x_signals)\n",
    "        x_batch = np.zeros(shape=x_shape, dtype=np.float16)\n",
    "\n",
    "        # Allocate a new array for the batch of output-signals.\n",
    "        y_shape = (batch_size, sequence_length, num_y_signals)\n",
    "        y_batch = np.zeros(shape=y_shape, dtype=np.float16)\n",
    "\n",
    "        # Fill the batch with random sequences of data.\n",
    "        for i in range(batch_size):\n",
    "            # Get a random start-index.\n",
    "            # This points somewhere into the training-data.\n",
    "            idx = np.random.randint(num_train - sequence_length)\n",
    "            \n",
    "            # Copy the sequences of data starting at this index.\n",
    "            x_batch[i] = x_train_scaled[idx:idx+sequence_length]\n",
    "            y_batch[i] = y_train_scaled[idx:idx+sequence_length]\n",
    "        \n",
    "        yield (x_batch, y_batch)"
   ]
  },
  {
   "cell_type": "markdown",
   "metadata": {
    "id": "Iuwehj7OkFOA"
   },
   "source": [
    "We will use a large batch-size so as to keep the GPU near 100% work-load. You may have to adjust this number depending on your GPU, its RAM and your choice of `sequence_length` below."
   ]
  },
  {
   "cell_type": "code",
   "execution_count": 46,
   "metadata": {
    "id": "ezAw0sX5nJx2"
   },
   "outputs": [],
   "source": [
    "batch_size = 4"
   ]
  },
  {
   "cell_type": "code",
   "execution_count": 47,
   "metadata": {
    "colab": {
     "base_uri": "https://localhost:8080/"
    },
    "executionInfo": {
     "elapsed": 80,
     "status": "ok",
     "timestamp": 1629649742924,
     "user": {
      "displayName": "Nicolò Brunello",
      "photoUrl": "",
      "userId": "03655516846124206133"
     },
     "user_tz": -120
    },
    "id": "OKksJ-ijnJx2",
    "outputId": "9256ae7f-bbc4-4baa-c785-5ebbfed99831"
   },
   "outputs": [
    {
     "data": {
      "text/plain": [
       "24"
      ]
     },
     "execution_count": 47,
     "metadata": {},
     "output_type": "execute_result"
    }
   ],
   "source": [
    "sequence_length = 24 # 1 day of sequence\n",
    "sequence_length"
   ]
  },
  {
   "cell_type": "markdown",
   "metadata": {
    "id": "P2GQAQSznJx2"
   },
   "source": [
    "We then create the batch-generator."
   ]
  },
  {
   "cell_type": "code",
   "execution_count": 48,
   "metadata": {
    "id": "7rB8YbClnJx2"
   },
   "outputs": [],
   "source": [
    "generator = batch_generator(batch_size=batch_size,\n",
    "                            sequence_length=sequence_length)"
   ]
  },
  {
   "cell_type": "markdown",
   "metadata": {
    "id": "50BQ92o3nJx2"
   },
   "source": [
    "We can then test the batch-generator to see if it works."
   ]
  },
  {
   "cell_type": "code",
   "execution_count": 49,
   "metadata": {
    "id": "EYAVdGWKnJx3"
   },
   "outputs": [],
   "source": [
    "x_batch, y_batch = next(generator)"
   ]
  },
  {
   "cell_type": "markdown",
   "metadata": {
    "id": "AsPh2zRonJx3"
   },
   "source": [
    "This gives us a random batch of 4 sequences, each sequence having 24 observations, and each observation having 12 input-signals and 1 output-signals."
   ]
  },
  {
   "cell_type": "code",
   "execution_count": 50,
   "metadata": {
    "colab": {
     "base_uri": "https://localhost:8080/"
    },
    "executionInfo": {
     "elapsed": 80,
     "status": "ok",
     "timestamp": 1629649742928,
     "user": {
      "displayName": "Nicolò Brunello",
      "photoUrl": "",
      "userId": "03655516846124206133"
     },
     "user_tz": -120
    },
    "id": "Tw3WuPrtnJx3",
    "outputId": "b811c450-3d85-4df4-cb10-42cacf300bb5"
   },
   "outputs": [
    {
     "name": "stdout",
     "output_type": "stream",
     "text": [
      "(4, 24, 12)\n",
      "(4, 24, 1)\n"
     ]
    }
   ],
   "source": [
    "print(x_batch.shape)\n",
    "print(y_batch.shape)"
   ]
  },
  {
   "cell_type": "markdown",
   "metadata": {
    "id": "iy3bk3kFnJx3"
   },
   "source": [
    "We can plot one of the 20 input-signals as an example."
   ]
  },
  {
   "cell_type": "code",
   "execution_count": 51,
   "metadata": {
    "colab": {
     "base_uri": "https://localhost:8080/",
     "height": 282
    },
    "executionInfo": {
     "elapsed": 51,
     "status": "ok",
     "timestamp": 1629649742929,
     "user": {
      "displayName": "Nicolò Brunello",
      "photoUrl": "",
      "userId": "03655516846124206133"
     },
     "user_tz": -120
    },
    "id": "1mAr-HzInJx3",
    "outputId": "833ec0a7-8964-4b5e-9956-289b0d8ad536"
   },
   "outputs": [
    {
     "data": {
      "text/plain": [
       "[<matplotlib.lines.Line2D at 0x7fa1f3ff2430>]"
      ]
     },
     "execution_count": 51,
     "metadata": {},
     "output_type": "execute_result"
    },
    {
     "data": {
      "image/png": "[encoded data removed]",
      "text/plain": [
       "<Figure size 432x288 with 1 Axes>"
      ]
     },
     "metadata": {
      "needs_background": "light"
     },
     "output_type": "display_data"
    }
   ],
   "source": [
    "batch = 0   # First sequence in the batch.\n",
    "signal = 0  # First signal from the 12 input-signals.\n",
    "seq = x_batch[batch, :, signal]\n",
    "plt.plot(seq)"
   ]
  },
  {
   "cell_type": "markdown",
   "metadata": {
    "id": "eVSMam_EnJx3"
   },
   "source": [
    "We can also plot one of the output-signals that we want the model to learn how to predict given all those 20 input signals."
   ]
  },
  {
   "cell_type": "code",
   "execution_count": 52,
   "metadata": {
    "colab": {
     "base_uri": "https://localhost:8080/",
     "height": 282
    },
    "executionInfo": {
     "elapsed": 512,
     "status": "ok",
     "timestamp": 1629649743394,
     "user": {
      "displayName": "Nicolò Brunello",
      "photoUrl": "",
      "userId": "03655516846124206133"
     },
     "user_tz": -120
    },
    "id": "6cvFnggEnJx4",
    "outputId": "8986e10b-35aa-4770-cc25-42e508faf13e"
   },
   "outputs": [
    {
     "data": {
      "text/plain": [
       "[<matplotlib.lines.Line2D at 0x7fa1f3ed92e0>]"
      ]
     },
     "execution_count": 52,
     "metadata": {},
     "output_type": "execute_result"
    },
    {
     "data": {
      "image/png": "[encoded data removed]",
      "text/plain": [
       "<Figure size 432x288 with 1 Axes>"
      ]
     },
     "metadata": {
      "needs_background": "light"
     },
     "output_type": "display_data"
    }
   ],
   "source": [
    "seq = y_batch[batch, :, signal]\n",
    "plt.plot(seq)"
   ]
  },
  {
   "cell_type": "markdown",
   "metadata": {
    "id": "XyG8TcD5nJx4"
   },
   "source": [
    "### Validation Set\n",
    "\n",
    "The neural network trains quickly so we can easily run many training epochs. But then there is a risk of overfitting the model to the training-set so it does not generalize well to unseen data. We will therefore monitor the model's performance on the test-set after each epoch and only save the model's weights if the performance is improved on the test-set.\n",
    "\n",
    "The batch-generator randomly selects a batch of short sequences from the training-data and uses that during training. But for the validation-data we will instead run through the entire sequence from the test-set and measure the prediction accuracy on that entire sequence, this is done due to the lack of data."
   ]
  },
  {
   "cell_type": "code",
   "execution_count": 53,
   "metadata": {
    "id": "x8FKBt8snJx4"
   },
   "outputs": [],
   "source": [
    "validation_data = (np.expand_dims(x_test_scaled, axis=0),\n",
    "                   np.expand_dims(y_test_scaled, axis=0))"
   ]
  },
  {
   "cell_type": "markdown",
   "metadata": {
    "id": "UQ7XHlZUnJx4"
   },
   "source": [
    "## Create the Recurrent Neural Network\n",
    "\n",
    "We are now ready to create the Recurrent Neural Network (RNN). We will use the Keras API for this because of its simplicity."
   ]
  },
  {
   "cell_type": "code",
   "execution_count": 54,
   "metadata": {
    "id": "3h8bFyConJx4"
   },
   "outputs": [
    {
     "name": "stderr",
     "output_type": "stream",
     "text": [
      "2021-08-25 18:56:36.475806: W tensorflow/stream_executor/platform/default/dso_loader.cc:64] Could not load dynamic library 'libcuda.so.1'; dlerror: libcuda.so.1: cannot open shared object file: No such file or directory\n",
      "2021-08-25 18:56:36.475855: W tensorflow/stream_executor/cuda/cuda_driver.cc:269] failed call to cuInit: UNKNOWN ERROR (303)\n",
      "2021-08-25 18:56:36.475884: I tensorflow/stream_executor/cuda/cuda_diagnostics.cc:156] kernel driver does not appear to be running on this host (jupyter-vidurmithal): /proc/driver/nvidia/version does not exist\n",
      "2021-08-25 18:56:36.476500: I tensorflow/core/platform/cpu_feature_guard.cc:142] This TensorFlow binary is optimized with oneAPI Deep Neural Network Library (oneDNN) to use the following CPU instructions in performance-critical operations:  AVX2 FMA\n",
      "To enable them in other operations, rebuild TensorFlow with the appropriate compiler flags.\n"
     ]
    }
   ],
   "source": [
    "model = Sequential()"
   ]
  },
  {
   "cell_type": "markdown",
   "metadata": {
    "id": "f370EUt0nJx5"
   },
   "source": [
    "We can now add a Gated Recurrent Unit (GRU) to the network. This will have 32 outputs for each time-step in the sequence.\n",
    "\n",
    "Note that because this is the first layer in the model, Keras needs to know the shape of its input, which is a batch of sequences of arbitrary length (indicated by `None`), where each observation has a number of input-signals (`num_x_signals`)."
   ]
  },
  {
   "cell_type": "code",
   "execution_count": 55,
   "metadata": {
    "id": "TkvdH2sGnJx5"
   },
   "outputs": [],
   "source": [
    "model.add(GRU(units=32,\n",
    "              return_sequences=True,\n",
    "              input_shape=(None, num_x_signals,)))"
   ]
  },
  {
   "cell_type": "markdown",
   "metadata": {
    "id": "0MAczmfNnJx6"
   },
   "source": [
    "The GRU outputs a batch of sequences of 32 values. We want to predict 1 output-signals, so we add a fully-connected (or dense) layer which maps 32 values down to only 1 values.\n",
    "\n",
    "The output-signal in the data-set have been limited to be between 0 and 1 using a scaler-object. So we also limit the output of the neural network using the Sigmoid activation function, which squashes the output to be between 0 and 1."
   ]
  },
  {
   "cell_type": "code",
   "execution_count": 56,
   "metadata": {
    "id": "MpmMKUShnJx6"
   },
   "outputs": [],
   "source": [
    "model.add(Dense(num_y_signals, activation='sigmoid'))"
   ]
  },
  {
   "cell_type": "markdown",
   "metadata": {
    "id": "opCubPCqnJx7"
   },
   "source": [
    "A problem with using the Sigmoid activation function, is that we can now only output values in the same range as the training-data.\n",
    "\n",
    "For example, if the training-data only has temperatures between -20 and +30 degrees, then the scaler-object will map -20 to 0 and +30 to 1. So if we limit the output of the neural network to be between 0 and 1 using the Sigmoid function, this can only be mapped back to temperature values between -20 and +30.\n",
    "\n",
    "We can use a linear activation function on the output instead. This allows for the output to take on arbitrary values. It might work with the standard initialization for a simple network architecture, but for more complicated network architectures e.g. with more layers, it might be necessary to initialize the weights with smaller values to avoid `NaN` values during training. You may need to experiment with this to get it working.\n",
    "Since the netowrk is quite simple and shallow."
   ]
  },
  {
   "cell_type": "code",
   "execution_count": 57,
   "metadata": {
    "id": "lB42iw66nJx7"
   },
   "outputs": [],
   "source": [
    "if False:\n",
    "    from tensorflow.python.keras.initializers import RandomUniform\n",
    "\n",
    "    # Maybe use lower init-ranges.\n",
    "    init = RandomUniform(minval=-0.05, maxval=0.05)\n",
    "\n",
    "    model.add(Dense(num_y_signals,\n",
    "                    activation='linear',\n",
    "                    kernel_initializer=init))"
   ]
  },
  {
   "cell_type": "markdown",
   "metadata": {
    "id": "fI1u4nSknJx7"
   },
   "source": [
    "### Loss Function\n",
    "\n",
    "We will use Mean Squared Error (MSE) as the loss-function that will be minimized. This measures how closely the model's output matches the true output signals.\n",
    "\n",
    "However, at the beginning of a sequence, the model has only seen input-signals for a few time-steps, so its generated output may be very inaccurate. Using the loss-value for the early time-steps may cause the model to distort its later output. We therefore give the model a \"warmup-period\" of 5 time-steps where we don't use its accuracy in the loss-function, in hope of improving the accuracy for later time-steps."
   ]
  },
  {
   "cell_type": "code",
   "execution_count": 58,
   "metadata": {
    "id": "G_fLi1dXnJx8"
   },
   "outputs": [],
   "source": [
    "warmup_steps = 5"
   ]
  },
  {
   "cell_type": "code",
   "execution_count": 59,
   "metadata": {
    "id": "JSd0fm5PnJx9"
   },
   "outputs": [],
   "source": [
    "def loss_mse_warmup(y_true, y_pred):\n",
    "    \"\"\"\n",
    "    Calculate the Mean Squared Error between y_true and y_pred,\n",
    "    but ignore the beginning \"warmup\" part of the sequences.\n",
    "    \n",
    "    y_true is the desired output.\n",
    "    y_pred is the model's output.\n",
    "    \"\"\"\n",
    "\n",
    "    # The shape of both input tensors are:\n",
    "    # [batch_size, sequence_length, num_y_signals].\n",
    "\n",
    "    # Ignore the \"warmup\" parts of the sequences\n",
    "    # by taking slices of the tensors.\n",
    "    y_true_slice = y_true[:, warmup_steps:, :]\n",
    "    y_pred_slice = y_pred[:, warmup_steps:, :]\n",
    "\n",
    "    # These sliced tensors both have this shape:\n",
    "    # [batch_size, sequence_length - warmup_steps, num_y_signals]\n",
    "\n",
    "    # Calculat the Mean Squared Error and use it as loss.\n",
    "    mse = mean(square(y_true_slice - y_pred_slice))\n",
    "    \n",
    "    return mse"
   ]
  },
  {
   "cell_type": "markdown",
   "metadata": {
    "id": "2hT1pcuhnJx9"
   },
   "source": [
    "### Compile Model\n",
    "\n",
    "This is the optimizer and the beginning learning-rate that we will use."
   ]
  },
  {
   "cell_type": "code",
   "execution_count": 60,
   "metadata": {
    "colab": {
     "base_uri": "https://localhost:8080/"
    },
    "executionInfo": {
     "elapsed": 30,
     "status": "ok",
     "timestamp": 1629649743771,
     "user": {
      "displayName": "Nicolò Brunello",
      "photoUrl": "",
      "userId": "03655516846124206133"
     },
     "user_tz": -120
    },
    "id": "XrMGRY1JnJx9",
    "outputId": "5c5081ec-20ff-43ab-a505-4d40bb2d1b5d"
   },
   "outputs": [
    {
     "name": "stderr",
     "output_type": "stream",
     "text": [
      "/opt/conda/lib/python3.8/site-packages/keras/optimizer_v2/optimizer_v2.py:355: UserWarning: The `lr` argument is deprecated, use `learning_rate` instead.\n",
      "  warnings.warn(\n"
     ]
    }
   ],
   "source": [
    "optimizer = Adam(lr=1e-3)"
   ]
  },
  {
   "cell_type": "markdown",
   "metadata": {
    "id": "FLH02xdwnJx9"
   },
   "source": [
    "We then compile the Keras model so it is ready for training."
   ]
  },
  {
   "cell_type": "code",
   "execution_count": 61,
   "metadata": {
    "id": "CtHsZFDUnJx-"
   },
   "outputs": [],
   "source": [
    "model.compile(loss=loss_mse_warmup, optimizer=optimizer)"
   ]
  },
  {
   "cell_type": "markdown",
   "metadata": {
    "id": "vHeB0wQAnJx-"
   },
   "source": [
    "This is a very small model with only two layers. The output shape of `(None, None, 1)` means that the model will output a batch with an arbitrary number of sequences, each of which has an arbitrary number of observations, and each observation has 1 signals. This corresponds to the target signal we want to predict."
   ]
  },
  {
   "cell_type": "code",
   "execution_count": 62,
   "metadata": {
    "colab": {
     "base_uri": "https://localhost:8080/"
    },
    "executionInfo": {
     "elapsed": 20,
     "status": "ok",
     "timestamp": 1629649743772,
     "user": {
      "displayName": "Nicolò Brunello",
      "photoUrl": "",
      "userId": "03655516846124206133"
     },
     "user_tz": -120
    },
    "id": "Nm1smzfunJx-",
    "outputId": "6f689d5b-dfe0-491a-8996-e99627806600"
   },
   "outputs": [
    {
     "name": "stdout",
     "output_type": "stream",
     "text": [
      "Model: \"sequential\"\n",
      "_________________________________________________________________\n",
      "Layer (type)                 Output Shape              Param #   \n",
      "=================================================================\n",
      "gru (GRU)                    (None, None, 32)          4416      \n",
      "_________________________________________________________________\n",
      "dense (Dense)                (None, None, 1)           33        \n",
      "=================================================================\n",
      "Total params: 4,449\n",
      "Trainable params: 4,449\n",
      "Non-trainable params: 0\n",
      "_________________________________________________________________\n"
     ]
    }
   ],
   "source": [
    "model.summary()"
   ]
  },
  {
   "cell_type": "markdown",
   "metadata": {
    "id": "6VaTR5otnJx-"
   },
   "source": [
    "### Callback Functions\n",
    "\n",
    "During training we want to save checkpoints and log the progress to TensorBoard so we create the appropriate callbacks for Keras.\n",
    "\n",
    "This is the callback for writing checkpoints during training."
   ]
  },
  {
   "cell_type": "code",
   "execution_count": 63,
   "metadata": {
    "id": "ds30nigXnJx-"
   },
   "outputs": [],
   "source": [
    "path_checkpoint = 'Training_checkpoints/base_checkpoint.keras'\n",
    "callback_checkpoint = ModelCheckpoint(filepath=path_checkpoint,\n",
    "                                      monitor='val_loss',\n",
    "                                      verbose=1,\n",
    "                                      save_weights_only=True,\n",
    "                                      save_best_only=True)"
   ]
  },
  {
   "cell_type": "markdown",
   "metadata": {
    "id": "_5fTiOAAnJx-"
   },
   "source": [
    "This is the callback for stopping the optimization when performance worsens on the validation-set."
   ]
  },
  {
   "cell_type": "code",
   "execution_count": 64,
   "metadata": {
    "id": "gOCmWJgsnJx_"
   },
   "outputs": [],
   "source": [
    "callback_early_stopping = EarlyStopping(monitor='val_loss',\n",
    "                                        patience=5, verbose=1)"
   ]
  },
  {
   "cell_type": "markdown",
   "metadata": {
    "id": "eyyIFqjjnJx_"
   },
   "source": [
    "This is the callback for writing the TensorBoard log during training."
   ]
  },
  {
   "cell_type": "code",
   "execution_count": 65,
   "metadata": {
    "id": "pyHx-sGCnJx_"
   },
   "outputs": [
    {
     "name": "stderr",
     "output_type": "stream",
     "text": [
      "2021-08-25 18:57:01.263097: I tensorflow/core/profiler/lib/profiler_session.cc:131] Profiler session initializing.\n",
      "2021-08-25 18:57:01.263150: I tensorflow/core/profiler/lib/profiler_session.cc:146] Profiler session started.\n",
      "2021-08-25 18:57:01.263408: I tensorflow/core/profiler/lib/profiler_session.cc:164] Profiler session tear down.\n"
     ]
    }
   ],
   "source": [
    "callback_tensorboard = TensorBoard(log_dir='./base_logs/',\n",
    "                                   histogram_freq=0,\n",
    "                                   write_graph=False)"
   ]
  },
  {
   "cell_type": "markdown",
   "metadata": {
    "id": "IzhVxrtdnJx_"
   },
   "source": [
    "This callback reduces the learning-rate for the optimizer if the validation-loss has not improved since the last epoch (as indicated by `patience=0`). The learning-rate will be reduced by multiplying it with the given factor. We set a start learning-rate of 1e-3 above, so multiplying it by 0.1 gives a learning-rate of 1e-4. We don't want the learning-rate to go any lower than this."
   ]
  },
  {
   "cell_type": "code",
   "execution_count": 66,
   "metadata": {
    "id": "dp0CV3NInJx_"
   },
   "outputs": [],
   "source": [
    "callback_reduce_lr = ReduceLROnPlateau(monitor='val_loss',\n",
    "                                       factor=0.01,\n",
    "                                       min_lr=1e-4,\n",
    "                                       patience=0,\n",
    "                                       verbose=1)"
   ]
  },
  {
   "cell_type": "code",
   "execution_count": 67,
   "metadata": {
    "id": "Uc5DL_oxnJx_"
   },
   "outputs": [],
   "source": [
    "callbacks = [callback_early_stopping,\n",
    "             callback_checkpoint,\n",
    "             callback_tensorboard,\n",
    "             callback_reduce_lr]"
   ]
  },
  {
   "cell_type": "markdown",
   "metadata": {
    "id": "K9WgaXBQnJx_"
   },
   "source": [
    "## Train the Recurrent Neural Network\n",
    "\n",
    "We can now train the neural network.\n",
    "\n",
    "Note that a single \"epoch\" does not correspond to a single processing of the training-set, because of how the batch-generator randomly selects sub-sequences from the training-set. Instead we have selected `steps_per_epoch` so that one \"epoch\" is processed in a few minutes.\n",
    "\n",
    "\n",
    "Also note that the loss sometimes becomes `NaN` (not-a-number). This is often resolved by restarting and running the Notebook again. But it may also be caused by your neural network architecture, learning-rate, batch-size, sequence-length, etc. in which case you may have to modify those settings."
   ]
  },
  {
   "cell_type": "code",
   "execution_count": 68,
   "metadata": {
    "colab": {
     "base_uri": "https://localhost:8080/"
    },
    "executionInfo": {
     "elapsed": 8373,
     "status": "ok",
     "timestamp": 1629649752131,
     "user": {
      "displayName": "Nicolò Brunello",
      "photoUrl": "",
      "userId": "03655516846124206133"
     },
     "user_tz": -120
    },
    "id": "z-1vjBFrnJyA",
    "outputId": "42bdc708-46a3-4568-b488-70e889c84c53"
   },
   "outputs": [
    {
     "name": "stderr",
     "output_type": "stream",
     "text": [
      "2021-08-25 18:57:05.584292: W tensorflow/core/framework/op_kernel.cc:1692] OP_REQUIRES failed at summary_kernels.cc:57 : Permission denied: ./base_logs; Permission denied\n"
     ]
    },
    {
     "ename": "PermissionDeniedError",
     "evalue": "./base_logs; Permission denied [Op:CreateSummaryFileWriter]",
     "output_type": "error",
     "traceback": [
      "\u001b[0;31m---------------------------------------------------------------------------\u001b[0m",
      "\u001b[0;31mPermissionDeniedError\u001b[0m                     Traceback (most recent call last)",
      "\u001b[0;32m<timed eval>\u001b[0m in \u001b[0;36m<module>\u001b[0;34m\u001b[0m\n",
      "\u001b[0;32m/opt/conda/lib/python3.8/site-packages/keras/engine/training.py\u001b[0m in \u001b[0;36mfit\u001b[0;34m(self, x, y, batch_size, epochs, verbose, callbacks, validation_split, validation_data, shuffle, class_weight, sample_weight, initial_epoch, steps_per_epoch, validation_steps, validation_batch_size, validation_freq, max_queue_size, workers, use_multiprocessing)\u001b[0m\n\u001b[1;32m   1162\u001b[0m       \u001b[0mself\u001b[0m\u001b[0;34m.\u001b[0m\u001b[0mtrain_function\u001b[0m \u001b[0;34m=\u001b[0m \u001b[0mself\u001b[0m\u001b[0;34m.\u001b[0m\u001b[0mmake_train_function\u001b[0m\u001b[0;34m(\u001b[0m\u001b[0;34m)\u001b[0m\u001b[0;34m\u001b[0m\u001b[0;34m\u001b[0m\u001b[0m\n\u001b[1;32m   1163\u001b[0m       \u001b[0mself\u001b[0m\u001b[0;34m.\u001b[0m\u001b[0m_train_counter\u001b[0m\u001b[0;34m.\u001b[0m\u001b[0massign\u001b[0m\u001b[0;34m(\u001b[0m\u001b[0;36m0\u001b[0m\u001b[0;34m)\u001b[0m\u001b[0;34m\u001b[0m\u001b[0;34m\u001b[0m\u001b[0m\n\u001b[0;32m-> 1164\u001b[0;31m       \u001b[0mcallbacks\u001b[0m\u001b[0;34m.\u001b[0m\u001b[0mon_train_begin\u001b[0m\u001b[0;34m(\u001b[0m\u001b[0;34m)\u001b[0m\u001b[0;34m\u001b[0m\u001b[0;34m\u001b[0m\u001b[0m\n\u001b[0m\u001b[1;32m   1165\u001b[0m       \u001b[0mtraining_logs\u001b[0m \u001b[0;34m=\u001b[0m \u001b[0;32mNone\u001b[0m\u001b[0;34m\u001b[0m\u001b[0;34m\u001b[0m\u001b[0m\n\u001b[1;32m   1166\u001b[0m       \u001b[0;31m# Handle fault-tolerance for multi-worker.\u001b[0m\u001b[0;34m\u001b[0m\u001b[0;34m\u001b[0m\u001b[0;34m\u001b[0m\u001b[0m\n",
      "\u001b[0;32m/opt/conda/lib/python3.8/site-packages/keras/callbacks.py\u001b[0m in \u001b[0;36mon_train_begin\u001b[0;34m(self, logs)\u001b[0m\n\u001b[1;32m    488\u001b[0m     \u001b[0mlogs\u001b[0m \u001b[0;34m=\u001b[0m \u001b[0mself\u001b[0m\u001b[0;34m.\u001b[0m\u001b[0m_process_logs\u001b[0m\u001b[0;34m(\u001b[0m\u001b[0mlogs\u001b[0m\u001b[0;34m)\u001b[0m\u001b[0;34m\u001b[0m\u001b[0;34m\u001b[0m\u001b[0m\n\u001b[1;32m    489\u001b[0m     \u001b[0;32mfor\u001b[0m \u001b[0mcallback\u001b[0m \u001b[0;32min\u001b[0m \u001b[0mself\u001b[0m\u001b[0;34m.\u001b[0m\u001b[0mcallbacks\u001b[0m\u001b[0;34m:\u001b[0m\u001b[0;34m\u001b[0m\u001b[0;34m\u001b[0m\u001b[0m\n\u001b[0;32m--> 490\u001b[0;31m       \u001b[0mcallback\u001b[0m\u001b[0;34m.\u001b[0m\u001b[0mon_train_begin\u001b[0m\u001b[0;34m(\u001b[0m\u001b[0mlogs\u001b[0m\u001b[0;34m)\u001b[0m\u001b[0;34m\u001b[0m\u001b[0;34m\u001b[0m\u001b[0m\n\u001b[0m\u001b[1;32m    491\u001b[0m \u001b[0;34m\u001b[0m\u001b[0m\n\u001b[1;32m    492\u001b[0m   \u001b[0;32mdef\u001b[0m \u001b[0mon_train_end\u001b[0m\u001b[0;34m(\u001b[0m\u001b[0mself\u001b[0m\u001b[0;34m,\u001b[0m \u001b[0mlogs\u001b[0m\u001b[0;34m=\u001b[0m\u001b[0;32mNone\u001b[0m\u001b[0;34m)\u001b[0m\u001b[0;34m:\u001b[0m\u001b[0;34m\u001b[0m\u001b[0;34m\u001b[0m\u001b[0m\n",
      "\u001b[0;32m/opt/conda/lib/python3.8/site-packages/keras/callbacks.py\u001b[0m in \u001b[0;36mon_train_begin\u001b[0;34m(self, logs)\u001b[0m\n\u001b[1;32m   2381\u001b[0m     \u001b[0mself\u001b[0m\u001b[0;34m.\u001b[0m\u001b[0m_previous_epoch_iterations\u001b[0m \u001b[0;34m=\u001b[0m \u001b[0;36m0\u001b[0m\u001b[0;34m\u001b[0m\u001b[0;34m\u001b[0m\u001b[0m\n\u001b[1;32m   2382\u001b[0m     \u001b[0mself\u001b[0m\u001b[0;34m.\u001b[0m\u001b[0m_train_accumulated_time\u001b[0m \u001b[0;34m=\u001b[0m \u001b[0;36m0\u001b[0m\u001b[0;34m\u001b[0m\u001b[0;34m\u001b[0m\u001b[0m\n\u001b[0;32m-> 2383\u001b[0;31m     \u001b[0mself\u001b[0m\u001b[0;34m.\u001b[0m\u001b[0m_push_writer\u001b[0m\u001b[0;34m(\u001b[0m\u001b[0mself\u001b[0m\u001b[0;34m.\u001b[0m\u001b[0m_train_writer\u001b[0m\u001b[0;34m,\u001b[0m \u001b[0mself\u001b[0m\u001b[0;34m.\u001b[0m\u001b[0m_train_step\u001b[0m\u001b[0;34m)\u001b[0m\u001b[0;34m\u001b[0m\u001b[0;34m\u001b[0m\u001b[0m\n\u001b[0m\u001b[1;32m   2384\u001b[0m \u001b[0;34m\u001b[0m\u001b[0m\n\u001b[1;32m   2385\u001b[0m   \u001b[0;32mdef\u001b[0m \u001b[0mon_train_end\u001b[0m\u001b[0;34m(\u001b[0m\u001b[0mself\u001b[0m\u001b[0;34m,\u001b[0m \u001b[0mlogs\u001b[0m\u001b[0;34m=\u001b[0m\u001b[0;32mNone\u001b[0m\u001b[0;34m)\u001b[0m\u001b[0;34m:\u001b[0m\u001b[0;34m\u001b[0m\u001b[0;34m\u001b[0m\u001b[0m\n",
      "\u001b[0;32m/opt/conda/lib/python3.8/site-packages/keras/callbacks.py\u001b[0m in \u001b[0;36m_train_writer\u001b[0;34m(self)\u001b[0m\n\u001b[1;32m   2225\u001b[0m   \u001b[0;32mdef\u001b[0m \u001b[0m_train_writer\u001b[0m\u001b[0;34m(\u001b[0m\u001b[0mself\u001b[0m\u001b[0;34m)\u001b[0m\u001b[0;34m:\u001b[0m\u001b[0;34m\u001b[0m\u001b[0;34m\u001b[0m\u001b[0m\n\u001b[1;32m   2226\u001b[0m     \u001b[0;32mif\u001b[0m \u001b[0;34m'train'\u001b[0m \u001b[0;32mnot\u001b[0m \u001b[0;32min\u001b[0m \u001b[0mself\u001b[0m\u001b[0;34m.\u001b[0m\u001b[0m_writers\u001b[0m\u001b[0;34m:\u001b[0m\u001b[0;34m\u001b[0m\u001b[0;34m\u001b[0m\u001b[0m\n\u001b[0;32m-> 2227\u001b[0;31m       self._writers['train'] = tf.summary.create_file_writer(\n\u001b[0m\u001b[1;32m   2228\u001b[0m           self._train_dir)\n\u001b[1;32m   2229\u001b[0m     \u001b[0;32mreturn\u001b[0m \u001b[0mself\u001b[0m\u001b[0;34m.\u001b[0m\u001b[0m_writers\u001b[0m\u001b[0;34m[\u001b[0m\u001b[0;34m'train'\u001b[0m\u001b[0;34m]\u001b[0m\u001b[0;34m\u001b[0m\u001b[0;34m\u001b[0m\u001b[0m\n",
      "\u001b[0;32m/opt/conda/lib/python3.8/site-packages/tensorflow/python/ops/summary_ops_v2.py\u001b[0m in \u001b[0;36mcreate_file_writer_v2\u001b[0;34m(logdir, max_queue, flush_millis, filename_suffix, name, experimental_trackable)\u001b[0m\n\u001b[1;32m    551\u001b[0m             create_fn=create_fn, init_op_fn=init_op_fn)\n\u001b[1;32m    552\u001b[0m       \u001b[0;32melse\u001b[0m\u001b[0;34m:\u001b[0m\u001b[0;34m\u001b[0m\u001b[0;34m\u001b[0m\u001b[0m\n\u001b[0;32m--> 553\u001b[0;31m         return _ResourceSummaryWriter(\n\u001b[0m\u001b[1;32m    554\u001b[0m             create_fn=create_fn, init_op_fn=init_op_fn)\n\u001b[1;32m    555\u001b[0m \u001b[0;34m\u001b[0m\u001b[0m\n",
      "\u001b[0;32m/opt/conda/lib/python3.8/site-packages/tensorflow/python/ops/summary_ops_v2.py\u001b[0m in \u001b[0;36m__init__\u001b[0;34m(self, create_fn, init_op_fn)\u001b[0m\n\u001b[1;32m    311\u001b[0m   \u001b[0;32mdef\u001b[0m \u001b[0m__init__\u001b[0m\u001b[0;34m(\u001b[0m\u001b[0mself\u001b[0m\u001b[0;34m,\u001b[0m \u001b[0mcreate_fn\u001b[0m\u001b[0;34m,\u001b[0m \u001b[0minit_op_fn\u001b[0m\u001b[0;34m)\u001b[0m\u001b[0;34m:\u001b[0m\u001b[0;34m\u001b[0m\u001b[0;34m\u001b[0m\u001b[0m\n\u001b[1;32m    312\u001b[0m     \u001b[0mself\u001b[0m\u001b[0;34m.\u001b[0m\u001b[0m_resource\u001b[0m \u001b[0;34m=\u001b[0m \u001b[0mcreate_fn\u001b[0m\u001b[0;34m(\u001b[0m\u001b[0;34m)\u001b[0m\u001b[0;34m\u001b[0m\u001b[0;34m\u001b[0m\u001b[0m\n\u001b[0;32m--> 313\u001b[0;31m     \u001b[0mself\u001b[0m\u001b[0;34m.\u001b[0m\u001b[0m_init_op\u001b[0m \u001b[0;34m=\u001b[0m \u001b[0minit_op_fn\u001b[0m\u001b[0;34m(\u001b[0m\u001b[0mself\u001b[0m\u001b[0;34m.\u001b[0m\u001b[0m_resource\u001b[0m\u001b[0;34m)\u001b[0m\u001b[0;34m\u001b[0m\u001b[0;34m\u001b[0m\u001b[0m\n\u001b[0m\u001b[1;32m    314\u001b[0m     \u001b[0mself\u001b[0m\u001b[0;34m.\u001b[0m\u001b[0m_closed\u001b[0m \u001b[0;34m=\u001b[0m \u001b[0;32mFalse\u001b[0m\u001b[0;34m\u001b[0m\u001b[0;34m\u001b[0m\u001b[0m\n\u001b[1;32m    315\u001b[0m     \u001b[0;32mif\u001b[0m \u001b[0mcontext\u001b[0m\u001b[0;34m.\u001b[0m\u001b[0mexecuting_eagerly\u001b[0m\u001b[0;34m(\u001b[0m\u001b[0;34m)\u001b[0m\u001b[0;34m:\u001b[0m\u001b[0;34m\u001b[0m\u001b[0;34m\u001b[0m\u001b[0m\n",
      "\u001b[0;32m/opt/conda/lib/python3.8/site-packages/tensorflow/python/ops/gen_summary_ops.py\u001b[0m in \u001b[0;36mcreate_summary_file_writer\u001b[0;34m(writer, logdir, max_queue, flush_millis, filename_suffix, name)\u001b[0m\n\u001b[1;32m    144\u001b[0m       \u001b[0;32mreturn\u001b[0m \u001b[0m_result\u001b[0m\u001b[0;34m\u001b[0m\u001b[0;34m\u001b[0m\u001b[0m\n\u001b[1;32m    145\u001b[0m     \u001b[0;32mexcept\u001b[0m \u001b[0m_core\u001b[0m\u001b[0;34m.\u001b[0m\u001b[0m_NotOkStatusException\u001b[0m \u001b[0;32mas\u001b[0m \u001b[0me\u001b[0m\u001b[0;34m:\u001b[0m\u001b[0;34m\u001b[0m\u001b[0;34m\u001b[0m\u001b[0m\n\u001b[0;32m--> 146\u001b[0;31m       \u001b[0m_ops\u001b[0m\u001b[0;34m.\u001b[0m\u001b[0mraise_from_not_ok_status\u001b[0m\u001b[0;34m(\u001b[0m\u001b[0me\u001b[0m\u001b[0;34m,\u001b[0m \u001b[0mname\u001b[0m\u001b[0;34m)\u001b[0m\u001b[0;34m\u001b[0m\u001b[0;34m\u001b[0m\u001b[0m\n\u001b[0m\u001b[1;32m    147\u001b[0m     \u001b[0;32mexcept\u001b[0m \u001b[0m_core\u001b[0m\u001b[0;34m.\u001b[0m\u001b[0m_FallbackException\u001b[0m\u001b[0;34m:\u001b[0m\u001b[0;34m\u001b[0m\u001b[0;34m\u001b[0m\u001b[0m\n\u001b[1;32m    148\u001b[0m       \u001b[0;32mpass\u001b[0m\u001b[0;34m\u001b[0m\u001b[0;34m\u001b[0m\u001b[0m\n",
      "\u001b[0;32m/opt/conda/lib/python3.8/site-packages/tensorflow/python/framework/ops.py\u001b[0m in \u001b[0;36mraise_from_not_ok_status\u001b[0;34m(e, name)\u001b[0m\n\u001b[1;32m   6939\u001b[0m   \u001b[0mmessage\u001b[0m \u001b[0;34m=\u001b[0m \u001b[0me\u001b[0m\u001b[0;34m.\u001b[0m\u001b[0mmessage\u001b[0m \u001b[0;34m+\u001b[0m \u001b[0;34m(\u001b[0m\u001b[0;34m\" name: \"\u001b[0m \u001b[0;34m+\u001b[0m \u001b[0mname\u001b[0m \u001b[0;32mif\u001b[0m \u001b[0mname\u001b[0m \u001b[0;32mis\u001b[0m \u001b[0;32mnot\u001b[0m \u001b[0;32mNone\u001b[0m \u001b[0;32melse\u001b[0m \u001b[0;34m\"\"\u001b[0m\u001b[0;34m)\u001b[0m\u001b[0;34m\u001b[0m\u001b[0;34m\u001b[0m\u001b[0m\n\u001b[1;32m   6940\u001b[0m   \u001b[0;31m# pylint: disable=protected-access\u001b[0m\u001b[0;34m\u001b[0m\u001b[0;34m\u001b[0m\u001b[0;34m\u001b[0m\u001b[0m\n\u001b[0;32m-> 6941\u001b[0;31m   \u001b[0msix\u001b[0m\u001b[0;34m.\u001b[0m\u001b[0mraise_from\u001b[0m\u001b[0;34m(\u001b[0m\u001b[0mcore\u001b[0m\u001b[0;34m.\u001b[0m\u001b[0m_status_to_exception\u001b[0m\u001b[0;34m(\u001b[0m\u001b[0me\u001b[0m\u001b[0;34m.\u001b[0m\u001b[0mcode\u001b[0m\u001b[0;34m,\u001b[0m \u001b[0mmessage\u001b[0m\u001b[0;34m)\u001b[0m\u001b[0;34m,\u001b[0m \u001b[0;32mNone\u001b[0m\u001b[0;34m)\u001b[0m\u001b[0;34m\u001b[0m\u001b[0;34m\u001b[0m\u001b[0m\n\u001b[0m\u001b[1;32m   6942\u001b[0m   \u001b[0;31m# pylint: enable=protected-access\u001b[0m\u001b[0;34m\u001b[0m\u001b[0;34m\u001b[0m\u001b[0;34m\u001b[0m\u001b[0m\n\u001b[1;32m   6943\u001b[0m \u001b[0;34m\u001b[0m\u001b[0m\n",
      "\u001b[0;32m/opt/conda/lib/python3.8/site-packages/six.py\u001b[0m in \u001b[0;36mraise_from\u001b[0;34m(value, from_value)\u001b[0m\n",
      "\u001b[0;31mPermissionDeniedError\u001b[0m: ./base_logs; Permission denied [Op:CreateSummaryFileWriter]"
     ]
    }
   ],
   "source": [
    "%%time\n",
    "model.fit(x=generator,\n",
    "          epochs=20,\n",
    "          steps_per_epoch=25,\n",
    "          validation_data=validation_data,\n",
    "          callbacks=callbacks)"
   ]
  },
  {
   "cell_type": "markdown",
   "metadata": {
    "id": "QF8gTj6TnJyA"
   },
   "source": [
    "### Load Checkpoint\n",
    "\n",
    "Because we use early-stopping when training the model, it is possible that the model's performance has worsened on the test-set for several epochs before training was stopped. We therefore reload the last saved checkpoint, which should have the best performance on the test-set."
   ]
  },
  {
   "cell_type": "code",
   "execution_count": 69,
   "metadata": {
    "id": "jBkyg1-vnJyB"
   },
   "outputs": [
    {
     "name": "stdout",
     "output_type": "stream",
     "text": [
      "Error trying to load checkpoint.\n",
      "Unable to open file (unable to open file: name = 'Training_checkpoints/base_checkpoint.keras', errno = 2, error message = 'No such file or directory', flags = 0, o_flags = 0)\n"
     ]
    }
   ],
   "source": [
    "try:\n",
    "    model.load_weights(path_checkpoint)\n",
    "except Exception as error:\n",
    "    print(\"Error trying to load checkpoint.\")\n",
    "    print(error)"
   ]
  },
  {
   "cell_type": "markdown",
   "metadata": {
    "id": "3MS0ThoNnJyB"
   },
   "source": [
    "## Performance on Test-Set\n",
    "\n",
    "We can now evaluate the model's performance on the test-set. This function expects a batch of data, but we will just use one long time-series for the test-set, so we just expand the array-dimensionality to create a batch with that one sequence."
   ]
  },
  {
   "cell_type": "code",
   "execution_count": 70,
   "metadata": {
    "colab": {
     "base_uri": "https://localhost:8080/"
    },
    "executionInfo": {
     "elapsed": 3575,
     "status": "ok",
     "timestamp": 1629649755680,
     "user": {
      "displayName": "Nicolò Brunello",
      "photoUrl": "",
      "userId": "03655516846124206133"
     },
     "user_tz": -120
    },
    "id": "BB8zEHBMnJyB",
    "outputId": "28ed5e7c-95a9-489b-90fc-bc7fa1a5bfc8"
   },
   "outputs": [
    {
     "name": "stderr",
     "output_type": "stream",
     "text": [
      "2021-08-25 18:57:53.865008: I tensorflow/compiler/mlir/mlir_graph_optimization_pass.cc:185] None of the MLIR Optimization Passes are enabled (registered 2)\n"
     ]
    },
    {
     "name": "stdout",
     "output_type": "stream",
     "text": [
      "1/1 [==============================] - 1s 709ms/step - loss: 0.1779\n"
     ]
    }
   ],
   "source": [
    "result = model.evaluate(x=np.expand_dims(x_test_scaled, axis=0),\n",
    "                        y=np.expand_dims(y_test_scaled, axis=0))"
   ]
  },
  {
   "cell_type": "code",
   "execution_count": 71,
   "metadata": {
    "colab": {
     "base_uri": "https://localhost:8080/"
    },
    "executionInfo": {
     "elapsed": 28,
     "status": "ok",
     "timestamp": 1629649755683,
     "user": {
      "displayName": "Nicolò Brunello",
      "photoUrl": "",
      "userId": "03655516846124206133"
     },
     "user_tz": -120
    },
    "id": "IVwz9bTonJyB",
    "outputId": "4e1dd4a4-9105-4f95-9b0d-10dc976afe7a"
   },
   "outputs": [
    {
     "name": "stdout",
     "output_type": "stream",
     "text": [
      "loss (test-set): 0.1779162585735321\n"
     ]
    }
   ],
   "source": [
    "print(\"loss (test-set):\", result)"
   ]
  },
  {
   "cell_type": "code",
   "execution_count": 72,
   "metadata": {
    "id": "Pj-J6WyinJyC"
   },
   "outputs": [],
   "source": [
    "# If you have several metrics you can use this instead.\n",
    "if False:\n",
    "    for res, metric in zip(result, model.metrics_names):\n",
    "        print(\"{0}: {1:.3e}\".format(metric, res))"
   ]
  },
  {
   "cell_type": "markdown",
   "metadata": {
    "id": "Lv6Az2fnnJyC"
   },
   "source": [
    "## Generate Predictions\n",
    "\n",
    "This helper-function plots the predicted and true output-signals."
   ]
  },
  {
   "cell_type": "code",
   "execution_count": 73,
   "metadata": {
    "id": "WaJXRHJqrnoR"
   },
   "outputs": [],
   "source": [
    "def plot_comparison_fulltest():\n",
    "    \"\"\"\n",
    "    Plot the predicted and true output-signals of test set\n",
    "    \"\"\"\n",
    "    # Use test-data.\n",
    "    x = x_test_scaled\n",
    "    y_true = y_test\n",
    "    \n",
    "    # Input-signals for the model.\n",
    "    x = np.expand_dims(x, axis=0)\n",
    "\n",
    "    # Use the model to predict the output-signals.\n",
    "    y_pred = model.predict(x)\n",
    "    \n",
    "    # The output of the model is between 0 and 1.\n",
    "    # Do an inverse map to get it back to the scale\n",
    "    # of the original data-set.\n",
    "    y_pred_rescaled = y_scaler.inverse_transform(y_pred[0])\n",
    "    \n",
    "    signal = 'EMISSIONS_2019'\n",
    "    # Get the output-signal predicted by the model.\n",
    "    signal_pred = y_pred_rescaled[:]\n",
    "    \n",
    "    # Get the true output-signal from the data-set.\n",
    "    signal_true = y_true[:]\n",
    "\n",
    "    # Make the plotting-canvas bigger.\n",
    "    plt.figure(figsize=(15,5))\n",
    "    \n",
    "    # Plot and compare the two signals.\n",
    "    plt.plot(signal_true, label='true')\n",
    "    plt.plot(signal_pred, label='pred')\n",
    "    \n",
    "    # Plot grey box for warmup-period.\n",
    "    p = plt.axvspan(0, warmup_steps, facecolor='black', alpha=0.15)\n",
    "    \n",
    "    # Plot labels etc.\n",
    "    plt.ylabel(signal)\n",
    "    plt.legend()\n",
    "    plt.show()"
   ]
  },
  {
   "cell_type": "markdown",
   "metadata": {
    "id": "mbTOixjlnJyD"
   },
   "source": [
    "We can now plot an example of predicted output-signal. It is important to understand what these plots show, as they are actually a bit more complicated than you might think."
   ]
  },
  {
   "cell_type": "code",
   "execution_count": 74,
   "metadata": {
    "colab": {
     "base_uri": "https://localhost:8080/",
     "height": 331
    },
    "executionInfo": {
     "elapsed": 1067,
     "status": "ok",
     "timestamp": 1629649756730,
     "user": {
      "displayName": "Nicolò Brunello",
      "photoUrl": "",
      "userId": "03655516846124206133"
     },
     "user_tz": -120
    },
    "id": "Q3wrc_BhnJyD",
    "outputId": "faf5e067-1e3f-4db6-d286-ebf17a0e134a",
    "scrolled": true
   },
   "outputs": [
    {
     "data": {
      "image/png": "[encoded data removed]",
      "text/plain": [
       "<Figure size 1080x360 with 1 Axes>"
      ]
     },
     "metadata": {
      "needs_background": "light"
     },
     "output_type": "display_data"
    }
   ],
   "source": [
    "plot_comparison_fulltest()"
   ]
  },
  {
   "cell_type": "markdown",
   "metadata": {
    "id": "TWnmv4iKnJyD"
   },
   "source": [
    "The model performance is very low and it is not even able to capture the daily variability. This is because we use too few training samples"
   ]
  }
 ],
 "metadata": {
  "colab": {
   "name": "LSTM_basemodel_concentrations.ipynb",
   "provenance": []
  },
  "kernelspec": {
   "display_name": "Python 3 (ipykernel)",
   "language": "python",
   "name": "python3"
  },
  "language_info": {
   "codemirror_mode": {
    "name": "ipython",
    "version": 3
   },
   "file_extension": ".py",
   "mimetype": "text/x-python",
   "name": "python",
   "nbconvert_exporter": "python",
   "pygments_lexer": "ipython3",
   "version": "3.8.6"
  }
 },
 "nbformat": 4,
 "nbformat_minor": 4
}
