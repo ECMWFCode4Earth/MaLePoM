{
 "cells": [
  {
   "cell_type": "markdown",
   "metadata": {
    "id": "lJOCjRKW8Jxg"
   },
   "source": [
    "#Create the environment"
   ]
  },
  {
   "cell_type": "code",
   "execution_count": 3,
   "metadata": {
    "colab": {
     "base_uri": "https://localhost:8080/"
    },
    "executionInfo": {
     "elapsed": 459,
     "status": "ok",
     "timestamp": 1629732985649,
     "user": {
      "displayName": "Paolo Fornoni",
      "photoUrl": "",
      "userId": "04111805272867115673"
     },
     "user_tz": -120
    },
    "id": "8lnpHcv58FYu",
    "outputId": "53724946-e6ed-46e4-8fdd-2bb5ea5ecee3"
   },
   "outputs": [
    {
     "name": "stdout",
     "output_type": "stream",
     "text": [
      "Drive already mounted at /content/drive; to attempt to forcibly remount, call drive.mount(\"/content/drive\", force_remount=True).\n"
     ]
    }
   ],
   "source": [
    "from google.colab import drive\n",
    "drive.mount('/content/drive')"
   ]
  },
  {
   "cell_type": "code",
   "execution_count": 4,
   "metadata": {
    "colab": {
     "base_uri": "https://localhost:8080/"
    },
    "executionInfo": {
     "elapsed": 336,
     "status": "ok",
     "timestamp": 1629732986446,
     "user": {
      "displayName": "Paolo Fornoni",
      "photoUrl": "",
      "userId": "04111805272867115673"
     },
     "user_tz": -120
    },
    "id": "pugrOgo38MxM",
    "outputId": "8ad25c43-497c-44cc-aa75-9c6c148857c1"
   },
   "outputs": [
    {
     "name": "stdout",
     "output_type": "stream",
     "text": [
      "/content/drive/My Drive/ESoWC\n"
     ]
    }
   ],
   "source": [
    "%cd /content/drive/My Drive/ESoWC"
   ]
  },
  {
   "cell_type": "code",
   "execution_count": 1,
   "metadata": {
    "executionInfo": {
     "elapsed": 1761,
     "status": "ok",
     "timestamp": 1629732988204,
     "user": {
      "displayName": "Paolo Fornoni",
      "photoUrl": "",
      "userId": "04111805272867115673"
     },
     "user_tz": -120
    },
    "id": "e9INE_CR8O1v"
   },
   "outputs": [],
   "source": [
    "import pandas as pd\n",
    "import xarray as xr\n",
    "import numpy as np\n",
    "import random\n",
    "\n",
    "from sklearn import linear_model\n",
    "from sklearn.linear_model import LinearRegression\n",
    "from sklearn.ensemble import ExtraTreesRegressor\n",
    "\n",
    "from sklearn.feature_selection import VarianceThreshold\n",
    "\n",
    "from sklearn.decomposition import PCA\n",
    "\n",
    "from sklearn.model_selection import KFold\n",
    "from sklearn.model_selection import cross_val_score\n",
    "\n",
    "from sklearn.preprocessing import MinMaxScaler\n",
    "from sklearn.model_selection import train_test_split\n",
    "\n",
    "from xgboost import XGBRegressor\n",
    "from sklearn.metrics import mean_absolute_error\n",
    "\n",
    "import matplotlib.pyplot as plt"
   ]
  },
  {
   "cell_type": "markdown",
   "metadata": {
    "id": "P80zc9Hl8T9q"
   },
   "source": [
    "#Load dataset and clean"
   ]
  },
  {
   "cell_type": "code",
   "execution_count": 3,
   "metadata": {
    "colab": {
     "base_uri": "https://localhost:8080/",
     "height": 242
    },
    "executionInfo": {
     "elapsed": 2065,
     "status": "ok",
     "timestamp": 1629732990265,
     "user": {
      "displayName": "Paolo Fornoni",
      "photoUrl": "",
      "userId": "04111805272867115673"
     },
     "user_tz": -120
    },
    "id": "WwyGqBmo8SB8",
    "outputId": "08fb5a34-1740-4cb8-8b0f-a373a33522c0"
   },
   "outputs": [
    {
     "data": {
      "text/html": [
       "<div><svg style=\"position: absolute; width: 0; height: 0; overflow: hidden\">\n",
       "<defs>\n",
       "<symbol id=\"icon-database\" viewBox=\"0 0 32 32\">\n",
       "<path d=\"M16 0c-8.837 0-16 2.239-16 5v4c0 2.761 7.163 5 16 5s16-2.239 16-5v-4c0-2.761-7.163-5-16-5z\"></path>\n",
       "<path d=\"M16 17c-8.837 0-16-2.239-16-5v6c0 2.761 7.163 5 16 5s16-2.239 16-5v-6c0 2.761-7.163 5-16 5z\"></path>\n",
       "<path d=\"M16 26c-8.837 0-16-2.239-16-5v6c0 2.761 7.163 5 16 5s16-2.239 16-5v-6c0 2.761-7.163 5-16 5z\"></path>\n",
       "</symbol>\n",
       "<symbol id=\"icon-file-text2\" viewBox=\"0 0 32 32\">\n",
       "<path d=\"M28.681 7.159c-0.694-0.947-1.662-2.053-2.724-3.116s-2.169-2.030-3.116-2.724c-1.612-1.182-2.393-1.319-2.841-1.319h-15.5c-1.378 0-2.5 1.121-2.5 2.5v27c0 1.378 1.122 2.5 2.5 2.5h23c1.378 0 2.5-1.122 2.5-2.5v-19.5c0-0.448-0.137-1.23-1.319-2.841zM24.543 5.457c0.959 0.959 1.712 1.825 2.268 2.543h-4.811v-4.811c0.718 0.556 1.584 1.309 2.543 2.268zM28 29.5c0 0.271-0.229 0.5-0.5 0.5h-23c-0.271 0-0.5-0.229-0.5-0.5v-27c0-0.271 0.229-0.5 0.5-0.5 0 0 15.499-0 15.5 0v7c0 0.552 0.448 1 1 1h7v19.5z\"></path>\n",
       "<path d=\"M23 26h-14c-0.552 0-1-0.448-1-1s0.448-1 1-1h14c0.552 0 1 0.448 1 1s-0.448 1-1 1z\"></path>\n",
       "<path d=\"M23 22h-14c-0.552 0-1-0.448-1-1s0.448-1 1-1h14c0.552 0 1 0.448 1 1s-0.448 1-1 1z\"></path>\n",
       "<path d=\"M23 18h-14c-0.552 0-1-0.448-1-1s0.448-1 1-1h14c0.552 0 1 0.448 1 1s-0.448 1-1 1z\"></path>\n",
       "</symbol>\n",
       "</defs>\n",
       "</svg>\n",
       "<style>/* CSS stylesheet for displaying xarray objects in jupyterlab.\n",
       " *\n",
       " */\n",
       "\n",
       ":root {\n",
       "  --xr-font-color0: var(--jp-content-font-color0, rgba(0, 0, 0, 1));\n",
       "  --xr-font-color2: var(--jp-content-font-color2, rgba(0, 0, 0, 0.54));\n",
       "  --xr-font-color3: var(--jp-content-font-color3, rgba(0, 0, 0, 0.38));\n",
       "  --xr-border-color: var(--jp-border-color2, #e0e0e0);\n",
       "  --xr-disabled-color: var(--jp-layout-color3, #bdbdbd);\n",
       "  --xr-background-color: var(--jp-layout-color0, white);\n",
       "  --xr-background-color-row-even: var(--jp-layout-color1, white);\n",
       "  --xr-background-color-row-odd: var(--jp-layout-color2, #eeeeee);\n",
       "}\n",
       "\n",
       "html[theme=dark],\n",
       "body.vscode-dark {\n",
       "  --xr-font-color0: rgba(255, 255, 255, 1);\n",
       "  --xr-font-color2: rgba(255, 255, 255, 0.54);\n",
       "  --xr-font-color3: rgba(255, 255, 255, 0.38);\n",
       "  --xr-border-color: #1F1F1F;\n",
       "  --xr-disabled-color: #515151;\n",
       "  --xr-background-color: #111111;\n",
       "  --xr-background-color-row-even: #111111;\n",
       "  --xr-background-color-row-odd: #313131;\n",
       "}\n",
       "\n",
       ".xr-wrap {\n",
       "  display: block;\n",
       "  min-width: 300px;\n",
       "  max-width: 700px;\n",
       "}\n",
       "\n",
       ".xr-text-repr-fallback {\n",
       "  /* fallback to plain text repr when CSS is not injected (untrusted notebook) */\n",
       "  display: none;\n",
       "}\n",
       "\n",
       ".xr-header {\n",
       "  padding-top: 6px;\n",
       "  padding-bottom: 6px;\n",
       "  margin-bottom: 4px;\n",
       "  border-bottom: solid 1px var(--xr-border-color);\n",
       "}\n",
       "\n",
       ".xr-header > div,\n",
       ".xr-header > ul {\n",
       "  display: inline;\n",
       "  margin-top: 0;\n",
       "  margin-bottom: 0;\n",
       "}\n",
       "\n",
       ".xr-obj-type,\n",
       ".xr-array-name {\n",
       "  margin-left: 2px;\n",
       "  margin-right: 10px;\n",
       "}\n",
       "\n",
       ".xr-obj-type {\n",
       "  color: var(--xr-font-color2);\n",
       "}\n",
       "\n",
       ".xr-sections {\n",
       "  padding-left: 0 !important;\n",
       "  display: grid;\n",
       "  grid-template-columns: 150px auto auto 1fr 20px 20px;\n",
       "}\n",
       "\n",
       ".xr-section-item {\n",
       "  display: contents;\n",
       "}\n",
       "\n",
       ".xr-section-item input {\n",
       "  display: none;\n",
       "}\n",
       "\n",
       ".xr-section-item input + label {\n",
       "  color: var(--xr-disabled-color);\n",
       "}\n",
       "\n",
       ".xr-section-item input:enabled + label {\n",
       "  cursor: pointer;\n",
       "  color: var(--xr-font-color2);\n",
       "}\n",
       "\n",
       ".xr-section-item input:enabled + label:hover {\n",
       "  color: var(--xr-font-color0);\n",
       "}\n",
       "\n",
       ".xr-section-summary {\n",
       "  grid-column: 1;\n",
       "  color: var(--xr-font-color2);\n",
       "  font-weight: 500;\n",
       "}\n",
       "\n",
       ".xr-section-summary > span {\n",
       "  display: inline-block;\n",
       "  padding-left: 0.5em;\n",
       "}\n",
       "\n",
       ".xr-section-summary-in:disabled + label {\n",
       "  color: var(--xr-font-color2);\n",
       "}\n",
       "\n",
       ".xr-section-summary-in + label:before {\n",
       "  display: inline-block;\n",
       "  content: '►';\n",
       "  font-size: 11px;\n",
       "  width: 15px;\n",
       "  text-align: center;\n",
       "}\n",
       "\n",
       ".xr-section-summary-in:disabled + label:before {\n",
       "  color: var(--xr-disabled-color);\n",
       "}\n",
       "\n",
       ".xr-section-summary-in:checked + label:before {\n",
       "  content: '▼';\n",
       "}\n",
       "\n",
       ".xr-section-summary-in:checked + label > span {\n",
       "  display: none;\n",
       "}\n",
       "\n",
       ".xr-section-summary,\n",
       ".xr-section-inline-details {\n",
       "  padding-top: 4px;\n",
       "  padding-bottom: 4px;\n",
       "}\n",
       "\n",
       ".xr-section-inline-details {\n",
       "  grid-column: 2 / -1;\n",
       "}\n",
       "\n",
       ".xr-section-details {\n",
       "  display: none;\n",
       "  grid-column: 1 / -1;\n",
       "  margin-bottom: 5px;\n",
       "}\n",
       "\n",
       ".xr-section-summary-in:checked ~ .xr-section-details {\n",
       "  display: contents;\n",
       "}\n",
       "\n",
       ".xr-array-wrap {\n",
       "  grid-column: 1 / -1;\n",
       "  display: grid;\n",
       "  grid-template-columns: 20px auto;\n",
       "}\n",
       "\n",
       ".xr-array-wrap > label {\n",
       "  grid-column: 1;\n",
       "  vertical-align: top;\n",
       "}\n",
       "\n",
       ".xr-preview {\n",
       "  color: var(--xr-font-color3);\n",
       "}\n",
       "\n",
       ".xr-array-preview,\n",
       ".xr-array-data {\n",
       "  padding: 0 5px !important;\n",
       "  grid-column: 2;\n",
       "}\n",
       "\n",
       ".xr-array-data,\n",
       ".xr-array-in:checked ~ .xr-array-preview {\n",
       "  display: none;\n",
       "}\n",
       "\n",
       ".xr-array-in:checked ~ .xr-array-data,\n",
       ".xr-array-preview {\n",
       "  display: inline-block;\n",
       "}\n",
       "\n",
       ".xr-dim-list {\n",
       "  display: inline-block !important;\n",
       "  list-style: none;\n",
       "  padding: 0 !important;\n",
       "  margin: 0;\n",
       "}\n",
       "\n",
       ".xr-dim-list li {\n",
       "  display: inline-block;\n",
       "  padding: 0;\n",
       "  margin: 0;\n",
       "}\n",
       "\n",
       ".xr-dim-list:before {\n",
       "  content: '(';\n",
       "}\n",
       "\n",
       ".xr-dim-list:after {\n",
       "  content: ')';\n",
       "}\n",
       "\n",
       ".xr-dim-list li:not(:last-child):after {\n",
       "  content: ',';\n",
       "  padding-right: 5px;\n",
       "}\n",
       "\n",
       ".xr-has-index {\n",
       "  font-weight: bold;\n",
       "}\n",
       "\n",
       ".xr-var-list,\n",
       ".xr-var-item {\n",
       "  display: contents;\n",
       "}\n",
       "\n",
       ".xr-var-item > div,\n",
       ".xr-var-item label,\n",
       ".xr-var-item > .xr-var-name span {\n",
       "  background-color: var(--xr-background-color-row-even);\n",
       "  margin-bottom: 0;\n",
       "}\n",
       "\n",
       ".xr-var-item > .xr-var-name:hover span {\n",
       "  padding-right: 5px;\n",
       "}\n",
       "\n",
       ".xr-var-list > li:nth-child(odd) > div,\n",
       ".xr-var-list > li:nth-child(odd) > label,\n",
       ".xr-var-list > li:nth-child(odd) > .xr-var-name span {\n",
       "  background-color: var(--xr-background-color-row-odd);\n",
       "}\n",
       "\n",
       ".xr-var-name {\n",
       "  grid-column: 1;\n",
       "}\n",
       "\n",
       ".xr-var-dims {\n",
       "  grid-column: 2;\n",
       "}\n",
       "\n",
       ".xr-var-dtype {\n",
       "  grid-column: 3;\n",
       "  text-align: right;\n",
       "  color: var(--xr-font-color2);\n",
       "}\n",
       "\n",
       ".xr-var-preview {\n",
       "  grid-column: 4;\n",
       "}\n",
       "\n",
       ".xr-var-name,\n",
       ".xr-var-dims,\n",
       ".xr-var-dtype,\n",
       ".xr-preview,\n",
       ".xr-attrs dt {\n",
       "  white-space: nowrap;\n",
       "  overflow: hidden;\n",
       "  text-overflow: ellipsis;\n",
       "  padding-right: 10px;\n",
       "}\n",
       "\n",
       ".xr-var-name:hover,\n",
       ".xr-var-dims:hover,\n",
       ".xr-var-dtype:hover,\n",
       ".xr-attrs dt:hover {\n",
       "  overflow: visible;\n",
       "  width: auto;\n",
       "  z-index: 1;\n",
       "}\n",
       "\n",
       ".xr-var-attrs,\n",
       ".xr-var-data {\n",
       "  display: none;\n",
       "  background-color: var(--xr-background-color) !important;\n",
       "  padding-bottom: 5px !important;\n",
       "}\n",
       "\n",
       ".xr-var-attrs-in:checked ~ .xr-var-attrs,\n",
       ".xr-var-data-in:checked ~ .xr-var-data {\n",
       "  display: block;\n",
       "}\n",
       "\n",
       ".xr-var-data > table {\n",
       "  float: right;\n",
       "}\n",
       "\n",
       ".xr-var-name span,\n",
       ".xr-var-data,\n",
       ".xr-attrs {\n",
       "  padding-left: 25px !important;\n",
       "}\n",
       "\n",
       ".xr-attrs,\n",
       ".xr-var-attrs,\n",
       ".xr-var-data {\n",
       "  grid-column: 1 / -1;\n",
       "}\n",
       "\n",
       "dl.xr-attrs {\n",
       "  padding: 0;\n",
       "  margin: 0;\n",
       "  display: grid;\n",
       "  grid-template-columns: 125px auto;\n",
       "}\n",
       "\n",
       ".xr-attrs dt,\n",
       ".xr-attrs dd {\n",
       "  padding: 0;\n",
       "  margin: 0;\n",
       "  float: left;\n",
       "  padding-right: 10px;\n",
       "  width: auto;\n",
       "}\n",
       "\n",
       ".xr-attrs dt {\n",
       "  font-weight: normal;\n",
       "  grid-column: 1;\n",
       "}\n",
       "\n",
       ".xr-attrs dt:hover span {\n",
       "  display: inline-block;\n",
       "  background: var(--xr-background-color);\n",
       "  padding-right: 10px;\n",
       "}\n",
       "\n",
       ".xr-attrs dd {\n",
       "  grid-column: 2;\n",
       "  white-space: pre-wrap;\n",
       "  word-break: break-all;\n",
       "}\n",
       "\n",
       ".xr-icon-database,\n",
       ".xr-icon-file-text2 {\n",
       "  display: inline-block;\n",
       "  vertical-align: middle;\n",
       "  width: 1em;\n",
       "  height: 1.5em !important;\n",
       "  stroke-width: 0;\n",
       "  stroke: currentColor;\n",
       "  fill: currentColor;\n",
       "}\n",
       "</style><pre class='xr-text-repr-fallback'>&lt;xarray.Dataset&gt;\n",
       "Dimensions:            (Days: 31, Hours: 24, latitude: 33, longitude: 33)\n",
       "Coordinates:\n",
       "  * Days               (Days) int64 1 2 3 4 5 6 7 8 ... 24 25 26 27 28 29 30 31\n",
       "  * latitude           (latitude) float64 43.0 43.25 43.5 ... 50.5 50.75 51.0\n",
       "  * longitude          (longitude) float64 4.0 4.25 4.5 4.75 ... 11.5 11.75 12.0\n",
       "  * Hours              (Hours) int64 0 1 2 3 4 5 6 7 ... 16 17 18 19 20 21 22 23\n",
       "Data variables: (12/32)\n",
       "    EMISSIONS_2019     (latitude, longitude, Days, Hours) float64 ...\n",
       "    u10                (latitude, longitude, Days, Hours) float64 ...\n",
       "    v10                (latitude, longitude, Days, Hours) float64 ...\n",
       "    hcc                (latitude, longitude, Days, Hours) float64 ...\n",
       "    lcc                (latitude, longitude, Days, Hours) float64 ...\n",
       "    tcc                (latitude, longitude, Days, Hours) float64 ...\n",
       "    ...                 ...\n",
       "    CO2_tc_add_trend   (latitude, longitude, Days, Hours) float64 ...\n",
       "    CH4_tc_add_trend   (latitude, longitude, Days, Hours) float64 ...\n",
       "    NO2_tc_add_trend   (latitude, longitude, Days, Hours) float64 ...\n",
       "    CO_tc_add_trend    (latitude, longitude, Days, Hours) float64 ...\n",
       "    O3_tc_add_trend    (latitude, longitude, Days, Hours) float64 ...\n",
       "    traffic            (latitude, longitude, Days, Hours) float64 ...</pre><div class='xr-wrap' hidden><div class='xr-header'><div class='xr-obj-type'>xarray.Dataset</div></div><ul class='xr-sections'><li class='xr-section-item'><input id='section-db78efdb-c446-40bc-b436-ce5246aa05fe' class='xr-section-summary-in' type='checkbox' disabled ><label for='section-db78efdb-c446-40bc-b436-ce5246aa05fe' class='xr-section-summary'  title='Expand/collapse section'>Dimensions:</label><div class='xr-section-inline-details'><ul class='xr-dim-list'><li><span class='xr-has-index'>Days</span>: 31</li><li><span class='xr-has-index'>Hours</span>: 24</li><li><span class='xr-has-index'>latitude</span>: 33</li><li><span class='xr-has-index'>longitude</span>: 33</li></ul></div><div class='xr-section-details'></div></li><li class='xr-section-item'><input id='section-07e644e3-9ffc-4d4d-9132-a50f3c874c18' class='xr-section-summary-in' type='checkbox'  checked><label for='section-07e644e3-9ffc-4d4d-9132-a50f3c874c18' class='xr-section-summary' >Coordinates: <span>(4)</span></label><div class='xr-section-inline-details'></div><div class='xr-section-details'><ul class='xr-var-list'><li class='xr-var-item'><div class='xr-var-name'><span class='xr-has-index'>Days</span></div><div class='xr-var-dims'>(Days)</div><div class='xr-var-dtype'>int64</div><div class='xr-var-preview xr-preview'>1 2 3 4 5 6 7 ... 26 27 28 29 30 31</div><input id='attrs-0219a306-bbfd-4288-8f11-d734150a30d6' class='xr-var-attrs-in' type='checkbox' disabled><label for='attrs-0219a306-bbfd-4288-8f11-d734150a30d6' title='Show/Hide attributes'><svg class='icon xr-icon-file-text2'><use xlink:href='#icon-file-text2'></use></svg></label><input id='data-54f8e419-654c-4579-b8e6-62154afeb131' class='xr-var-data-in' type='checkbox'><label for='data-54f8e419-654c-4579-b8e6-62154afeb131' title='Show/Hide data repr'><svg class='icon xr-icon-database'><use xlink:href='#icon-database'></use></svg></label><div class='xr-var-attrs'><dl class='xr-attrs'></dl></div><div class='xr-var-data'><pre>array([ 1,  2,  3,  4,  5,  6,  7,  8,  9, 10, 11, 12, 13, 14, 15, 16, 17, 18,\n",
       "       19, 20, 21, 22, 23, 24, 25, 26, 27, 28, 29, 30, 31])</pre></div></li><li class='xr-var-item'><div class='xr-var-name'><span class='xr-has-index'>latitude</span></div><div class='xr-var-dims'>(latitude)</div><div class='xr-var-dtype'>float64</div><div class='xr-var-preview xr-preview'>43.0 43.25 43.5 ... 50.5 50.75 51.0</div><input id='attrs-5917f6a6-2e46-4d5c-8630-d81c00cecbf3' class='xr-var-attrs-in' type='checkbox' disabled><label for='attrs-5917f6a6-2e46-4d5c-8630-d81c00cecbf3' title='Show/Hide attributes'><svg class='icon xr-icon-file-text2'><use xlink:href='#icon-file-text2'></use></svg></label><input id='data-2dcf5e36-4efe-4a53-a752-b7588a124643' class='xr-var-data-in' type='checkbox'><label for='data-2dcf5e36-4efe-4a53-a752-b7588a124643' title='Show/Hide data repr'><svg class='icon xr-icon-database'><use xlink:href='#icon-database'></use></svg></label><div class='xr-var-attrs'><dl class='xr-attrs'></dl></div><div class='xr-var-data'><pre>array([43.  , 43.25, 43.5 , 43.75, 44.  , 44.25, 44.5 , 44.75, 45.  , 45.25,\n",
       "       45.5 , 45.75, 46.  , 46.25, 46.5 , 46.75, 47.  , 47.25, 47.5 , 47.75,\n",
       "       48.  , 48.25, 48.5 , 48.75, 49.  , 49.25, 49.5 , 49.75, 50.  , 50.25,\n",
       "       50.5 , 50.75, 51.  ])</pre></div></li><li class='xr-var-item'><div class='xr-var-name'><span class='xr-has-index'>longitude</span></div><div class='xr-var-dims'>(longitude)</div><div class='xr-var-dtype'>float64</div><div class='xr-var-preview xr-preview'>4.0 4.25 4.5 ... 11.5 11.75 12.0</div><input id='attrs-c1a2f983-7963-4887-9f91-c60d12ec1a72' class='xr-var-attrs-in' type='checkbox' disabled><label for='attrs-c1a2f983-7963-4887-9f91-c60d12ec1a72' title='Show/Hide attributes'><svg class='icon xr-icon-file-text2'><use xlink:href='#icon-file-text2'></use></svg></label><input id='data-04584fd3-051a-421c-8d6f-bef92f19b4a4' class='xr-var-data-in' type='checkbox'><label for='data-04584fd3-051a-421c-8d6f-bef92f19b4a4' title='Show/Hide data repr'><svg class='icon xr-icon-database'><use xlink:href='#icon-database'></use></svg></label><div class='xr-var-attrs'><dl class='xr-attrs'></dl></div><div class='xr-var-data'><pre>array([ 4.  ,  4.25,  4.5 ,  4.75,  5.  ,  5.25,  5.5 ,  5.75,  6.  ,  6.25,\n",
       "        6.5 ,  6.75,  7.  ,  7.25,  7.5 ,  7.75,  8.  ,  8.25,  8.5 ,  8.75,\n",
       "        9.  ,  9.25,  9.5 ,  9.75, 10.  , 10.25, 10.5 , 10.75, 11.  , 11.25,\n",
       "       11.5 , 11.75, 12.  ])</pre></div></li><li class='xr-var-item'><div class='xr-var-name'><span class='xr-has-index'>Hours</span></div><div class='xr-var-dims'>(Hours)</div><div class='xr-var-dtype'>int64</div><div class='xr-var-preview xr-preview'>0 1 2 3 4 5 6 ... 18 19 20 21 22 23</div><input id='attrs-62d0ba95-cdde-42bf-8331-8fca8ff0e4c8' class='xr-var-attrs-in' type='checkbox' disabled><label for='attrs-62d0ba95-cdde-42bf-8331-8fca8ff0e4c8' title='Show/Hide attributes'><svg class='icon xr-icon-file-text2'><use xlink:href='#icon-file-text2'></use></svg></label><input id='data-53cd09ab-db1f-4a17-86f4-c3d236dab62f' class='xr-var-data-in' type='checkbox'><label for='data-53cd09ab-db1f-4a17-86f4-c3d236dab62f' title='Show/Hide data repr'><svg class='icon xr-icon-database'><use xlink:href='#icon-database'></use></svg></label><div class='xr-var-attrs'><dl class='xr-attrs'></dl></div><div class='xr-var-data'><pre>array([ 0,  1,  2,  3,  4,  5,  6,  7,  8,  9, 10, 11, 12, 13, 14, 15, 16, 17,\n",
       "       18, 19, 20, 21, 22, 23])</pre></div></li></ul></div></li><li class='xr-section-item'><input id='section-6ac35c9d-e243-4faa-9aa8-a252f20a4205' class='xr-section-summary-in' type='checkbox'  ><label for='section-6ac35c9d-e243-4faa-9aa8-a252f20a4205' class='xr-section-summary' >Data variables: <span>(32)</span></label><div class='xr-section-inline-details'></div><div class='xr-section-details'><ul class='xr-var-list'><li class='xr-var-item'><div class='xr-var-name'><span>EMISSIONS_2019</span></div><div class='xr-var-dims'>(latitude, longitude, Days, Hours)</div><div class='xr-var-dtype'>float64</div><div class='xr-var-preview xr-preview'>...</div><input id='attrs-bbc48528-8aea-46e9-9413-be7433b36db5' class='xr-var-attrs-in' type='checkbox' disabled><label for='attrs-bbc48528-8aea-46e9-9413-be7433b36db5' title='Show/Hide attributes'><svg class='icon xr-icon-file-text2'><use xlink:href='#icon-file-text2'></use></svg></label><input id='data-f415f9f9-d630-421d-a0f9-74fc7606a62e' class='xr-var-data-in' type='checkbox'><label for='data-f415f9f9-d630-421d-a0f9-74fc7606a62e' title='Show/Hide data repr'><svg class='icon xr-icon-database'><use xlink:href='#icon-database'></use></svg></label><div class='xr-var-attrs'><dl class='xr-attrs'></dl></div><div class='xr-var-data'><pre>[810216 values with dtype=float64]</pre></div></li><li class='xr-var-item'><div class='xr-var-name'><span>u10</span></div><div class='xr-var-dims'>(latitude, longitude, Days, Hours)</div><div class='xr-var-dtype'>float64</div><div class='xr-var-preview xr-preview'>...</div><input id='attrs-0f32d4fe-794a-46c7-a872-b1b4a715816d' class='xr-var-attrs-in' type='checkbox' disabled><label for='attrs-0f32d4fe-794a-46c7-a872-b1b4a715816d' title='Show/Hide attributes'><svg class='icon xr-icon-file-text2'><use xlink:href='#icon-file-text2'></use></svg></label><input id='data-f7baccac-5392-4bd4-9767-29927fdaf759' class='xr-var-data-in' type='checkbox'><label for='data-f7baccac-5392-4bd4-9767-29927fdaf759' title='Show/Hide data repr'><svg class='icon xr-icon-database'><use xlink:href='#icon-database'></use></svg></label><div class='xr-var-attrs'><dl class='xr-attrs'></dl></div><div class='xr-var-data'><pre>[810216 values with dtype=float64]</pre></div></li><li class='xr-var-item'><div class='xr-var-name'><span>v10</span></div><div class='xr-var-dims'>(latitude, longitude, Days, Hours)</div><div class='xr-var-dtype'>float64</div><div class='xr-var-preview xr-preview'>...</div><input id='attrs-ba348921-617a-4057-9f32-d32745648668' class='xr-var-attrs-in' type='checkbox' disabled><label for='attrs-ba348921-617a-4057-9f32-d32745648668' title='Show/Hide attributes'><svg class='icon xr-icon-file-text2'><use xlink:href='#icon-file-text2'></use></svg></label><input id='data-486339eb-a21a-460b-a592-8d4b5dbed63e' class='xr-var-data-in' type='checkbox'><label for='data-486339eb-a21a-460b-a592-8d4b5dbed63e' title='Show/Hide data repr'><svg class='icon xr-icon-database'><use xlink:href='#icon-database'></use></svg></label><div class='xr-var-attrs'><dl class='xr-attrs'></dl></div><div class='xr-var-data'><pre>[810216 values with dtype=float64]</pre></div></li><li class='xr-var-item'><div class='xr-var-name'><span>hcc</span></div><div class='xr-var-dims'>(latitude, longitude, Days, Hours)</div><div class='xr-var-dtype'>float64</div><div class='xr-var-preview xr-preview'>...</div><input id='attrs-e3ed5e2e-61d2-4b3e-b162-034ae30d6c63' class='xr-var-attrs-in' type='checkbox' disabled><label for='attrs-e3ed5e2e-61d2-4b3e-b162-034ae30d6c63' title='Show/Hide attributes'><svg class='icon xr-icon-file-text2'><use xlink:href='#icon-file-text2'></use></svg></label><input id='data-47f05227-e9fd-4134-9790-c38d67c365c5' class='xr-var-data-in' type='checkbox'><label for='data-47f05227-e9fd-4134-9790-c38d67c365c5' title='Show/Hide data repr'><svg class='icon xr-icon-database'><use xlink:href='#icon-database'></use></svg></label><div class='xr-var-attrs'><dl class='xr-attrs'></dl></div><div class='xr-var-data'><pre>[810216 values with dtype=float64]</pre></div></li><li class='xr-var-item'><div class='xr-var-name'><span>lcc</span></div><div class='xr-var-dims'>(latitude, longitude, Days, Hours)</div><div class='xr-var-dtype'>float64</div><div class='xr-var-preview xr-preview'>...</div><input id='attrs-594684cd-7f69-4fab-bf4e-422b7eb19ca0' class='xr-var-attrs-in' type='checkbox' disabled><label for='attrs-594684cd-7f69-4fab-bf4e-422b7eb19ca0' title='Show/Hide attributes'><svg class='icon xr-icon-file-text2'><use xlink:href='#icon-file-text2'></use></svg></label><input id='data-f1e59a1b-5fef-4e8d-af16-29d2ee2e171e' class='xr-var-data-in' type='checkbox'><label for='data-f1e59a1b-5fef-4e8d-af16-29d2ee2e171e' title='Show/Hide data repr'><svg class='icon xr-icon-database'><use xlink:href='#icon-database'></use></svg></label><div class='xr-var-attrs'><dl class='xr-attrs'></dl></div><div class='xr-var-data'><pre>[810216 values with dtype=float64]</pre></div></li><li class='xr-var-item'><div class='xr-var-name'><span>tcc</span></div><div class='xr-var-dims'>(latitude, longitude, Days, Hours)</div><div class='xr-var-dtype'>float64</div><div class='xr-var-preview xr-preview'>...</div><input id='attrs-d288ca99-d850-46bd-b724-d71a57de5ede' class='xr-var-attrs-in' type='checkbox' disabled><label for='attrs-d288ca99-d850-46bd-b724-d71a57de5ede' title='Show/Hide attributes'><svg class='icon xr-icon-file-text2'><use xlink:href='#icon-file-text2'></use></svg></label><input id='data-985875d5-ade1-436f-b2ba-a3d6b9e0c6f5' class='xr-var-data-in' type='checkbox'><label for='data-985875d5-ade1-436f-b2ba-a3d6b9e0c6f5' title='Show/Hide data repr'><svg class='icon xr-icon-database'><use xlink:href='#icon-database'></use></svg></label><div class='xr-var-attrs'><dl class='xr-attrs'></dl></div><div class='xr-var-data'><pre>[810216 values with dtype=float64]</pre></div></li><li class='xr-var-item'><div class='xr-var-name'><span>cvl</span></div><div class='xr-var-dims'>(latitude, longitude, Days, Hours)</div><div class='xr-var-dtype'>float64</div><div class='xr-var-preview xr-preview'>...</div><input id='attrs-2dcbaea4-c836-499f-ae23-b656b0f07603' class='xr-var-attrs-in' type='checkbox' disabled><label for='attrs-2dcbaea4-c836-499f-ae23-b656b0f07603' title='Show/Hide attributes'><svg class='icon xr-icon-file-text2'><use xlink:href='#icon-file-text2'></use></svg></label><input id='data-f13682fe-42da-4cd9-93d5-1ae96847eb9b' class='xr-var-data-in' type='checkbox'><label for='data-f13682fe-42da-4cd9-93d5-1ae96847eb9b' title='Show/Hide data repr'><svg class='icon xr-icon-database'><use xlink:href='#icon-database'></use></svg></label><div class='xr-var-attrs'><dl class='xr-attrs'></dl></div><div class='xr-var-data'><pre>[810216 values with dtype=float64]</pre></div></li><li class='xr-var-item'><div class='xr-var-name'><span>cvh</span></div><div class='xr-var-dims'>(latitude, longitude, Days, Hours)</div><div class='xr-var-dtype'>float64</div><div class='xr-var-preview xr-preview'>...</div><input id='attrs-4d962458-c718-443b-9292-8bdbf35b54cd' class='xr-var-attrs-in' type='checkbox' disabled><label for='attrs-4d962458-c718-443b-9292-8bdbf35b54cd' title='Show/Hide attributes'><svg class='icon xr-icon-file-text2'><use xlink:href='#icon-file-text2'></use></svg></label><input id='data-3afd88bf-cad5-4ac3-8a14-e5a2942edcd3' class='xr-var-data-in' type='checkbox'><label for='data-3afd88bf-cad5-4ac3-8a14-e5a2942edcd3' title='Show/Hide data repr'><svg class='icon xr-icon-database'><use xlink:href='#icon-database'></use></svg></label><div class='xr-var-attrs'><dl class='xr-attrs'></dl></div><div class='xr-var-data'><pre>[810216 values with dtype=float64]</pre></div></li><li class='xr-var-item'><div class='xr-var-name'><span>sp</span></div><div class='xr-var-dims'>(latitude, longitude, Days, Hours)</div><div class='xr-var-dtype'>float64</div><div class='xr-var-preview xr-preview'>...</div><input id='attrs-bdc5c54c-e8fe-45b1-91f6-9e66b83557dd' class='xr-var-attrs-in' type='checkbox' disabled><label for='attrs-bdc5c54c-e8fe-45b1-91f6-9e66b83557dd' title='Show/Hide attributes'><svg class='icon xr-icon-file-text2'><use xlink:href='#icon-file-text2'></use></svg></label><input id='data-9f575bad-04a9-49c2-83d5-140fa54f5dc3' class='xr-var-data-in' type='checkbox'><label for='data-9f575bad-04a9-49c2-83d5-140fa54f5dc3' title='Show/Hide data repr'><svg class='icon xr-icon-database'><use xlink:href='#icon-database'></use></svg></label><div class='xr-var-attrs'><dl class='xr-attrs'></dl></div><div class='xr-var-data'><pre>[810216 values with dtype=float64]</pre></div></li><li class='xr-var-item'><div class='xr-var-name'><span>tmp</span></div><div class='xr-var-dims'>(latitude, longitude, Days, Hours)</div><div class='xr-var-dtype'>float64</div><div class='xr-var-preview xr-preview'>...</div><input id='attrs-00a4dee4-aafc-4391-9c6f-578878690815' class='xr-var-attrs-in' type='checkbox' disabled><label for='attrs-00a4dee4-aafc-4391-9c6f-578878690815' title='Show/Hide attributes'><svg class='icon xr-icon-file-text2'><use xlink:href='#icon-file-text2'></use></svg></label><input id='data-68da92ed-17f6-4907-8095-26f31e35de01' class='xr-var-data-in' type='checkbox'><label for='data-68da92ed-17f6-4907-8095-26f31e35de01' title='Show/Hide data repr'><svg class='icon xr-icon-database'><use xlink:href='#icon-database'></use></svg></label><div class='xr-var-attrs'><dl class='xr-attrs'></dl></div><div class='xr-var-data'><pre>[810216 values with dtype=float64]</pre></div></li><li class='xr-var-item'><div class='xr-var-name'><span>sp_hum</span></div><div class='xr-var-dims'>(latitude, longitude, Days, Hours)</div><div class='xr-var-dtype'>float64</div><div class='xr-var-preview xr-preview'>...</div><input id='attrs-61e50d33-18ec-4ac2-9a95-74486fa5e449' class='xr-var-attrs-in' type='checkbox' disabled><label for='attrs-61e50d33-18ec-4ac2-9a95-74486fa5e449' title='Show/Hide attributes'><svg class='icon xr-icon-file-text2'><use xlink:href='#icon-file-text2'></use></svg></label><input id='data-93875cbb-59a8-4174-a6ae-0c9976b61fdb' class='xr-var-data-in' type='checkbox'><label for='data-93875cbb-59a8-4174-a6ae-0c9976b61fdb' title='Show/Hide data repr'><svg class='icon xr-icon-database'><use xlink:href='#icon-database'></use></svg></label><div class='xr-var-attrs'><dl class='xr-attrs'></dl></div><div class='xr-var-data'><pre>[810216 values with dtype=float64]</pre></div></li><li class='xr-var-item'><div class='xr-var-name'><span>rel_hum</span></div><div class='xr-var-dims'>(latitude, longitude, Days, Hours)</div><div class='xr-var-dtype'>float64</div><div class='xr-var-preview xr-preview'>...</div><input id='attrs-e84d94ea-88b3-4299-b1f9-bd71c37cc936' class='xr-var-attrs-in' type='checkbox' disabled><label for='attrs-e84d94ea-88b3-4299-b1f9-bd71c37cc936' title='Show/Hide attributes'><svg class='icon xr-icon-file-text2'><use xlink:href='#icon-file-text2'></use></svg></label><input id='data-df6e37fb-c7b9-4426-94c2-b98b671b40da' class='xr-var-data-in' type='checkbox'><label for='data-df6e37fb-c7b9-4426-94c2-b98b671b40da' title='Show/Hide data repr'><svg class='icon xr-icon-database'><use xlink:href='#icon-database'></use></svg></label><div class='xr-var-attrs'><dl class='xr-attrs'></dl></div><div class='xr-var-data'><pre>[810216 values with dtype=float64]</pre></div></li><li class='xr-var-item'><div class='xr-var-name'><span>tcw</span></div><div class='xr-var-dims'>(latitude, longitude, Days, Hours)</div><div class='xr-var-dtype'>float64</div><div class='xr-var-preview xr-preview'>...</div><input id='attrs-0863b0ef-bfed-401e-9b18-498a4bca20c2' class='xr-var-attrs-in' type='checkbox' disabled><label for='attrs-0863b0ef-bfed-401e-9b18-498a4bca20c2' title='Show/Hide attributes'><svg class='icon xr-icon-file-text2'><use xlink:href='#icon-file-text2'></use></svg></label><input id='data-e6e758af-2ec0-4d82-96af-1c7cd91a7d8d' class='xr-var-data-in' type='checkbox'><label for='data-e6e758af-2ec0-4d82-96af-1c7cd91a7d8d' title='Show/Hide data repr'><svg class='icon xr-icon-database'><use xlink:href='#icon-database'></use></svg></label><div class='xr-var-attrs'><dl class='xr-attrs'></dl></div><div class='xr-var-data'><pre>[810216 values with dtype=float64]</pre></div></li><li class='xr-var-item'><div class='xr-var-name'><span>tot_wind</span></div><div class='xr-var-dims'>(latitude, longitude, Days, Hours)</div><div class='xr-var-dtype'>float64</div><div class='xr-var-preview xr-preview'>...</div><input id='attrs-3b94a7a0-e29d-42b0-a9ea-4ad6f0c8872d' class='xr-var-attrs-in' type='checkbox' disabled><label for='attrs-3b94a7a0-e29d-42b0-a9ea-4ad6f0c8872d' title='Show/Hide attributes'><svg class='icon xr-icon-file-text2'><use xlink:href='#icon-file-text2'></use></svg></label><input id='data-df7753aa-30b7-47c2-86be-5d558b66a491' class='xr-var-data-in' type='checkbox'><label for='data-df7753aa-30b7-47c2-86be-5d558b66a491' title='Show/Hide data repr'><svg class='icon xr-icon-database'><use xlink:href='#icon-database'></use></svg></label><div class='xr-var-attrs'><dl class='xr-attrs'></dl></div><div class='xr-var-data'><pre>[810216 values with dtype=float64]</pre></div></li><li class='xr-var-item'><div class='xr-var-name'><span>tmp_shift_8</span></div><div class='xr-var-dims'>(latitude, longitude, Days, Hours)</div><div class='xr-var-dtype'>float64</div><div class='xr-var-preview xr-preview'>...</div><input id='attrs-7866c2fd-071a-404b-9493-dd8a6356f93d' class='xr-var-attrs-in' type='checkbox' disabled><label for='attrs-7866c2fd-071a-404b-9493-dd8a6356f93d' title='Show/Hide attributes'><svg class='icon xr-icon-file-text2'><use xlink:href='#icon-file-text2'></use></svg></label><input id='data-eeaa6a24-a5ae-4ecf-8670-3bda210da373' class='xr-var-data-in' type='checkbox'><label for='data-eeaa6a24-a5ae-4ecf-8670-3bda210da373' title='Show/Hide data repr'><svg class='icon xr-icon-database'><use xlink:href='#icon-database'></use></svg></label><div class='xr-var-attrs'><dl class='xr-attrs'></dl></div><div class='xr-var-data'><pre>[810216 values with dtype=float64]</pre></div></li><li class='xr-var-item'><div class='xr-var-name'><span>tot_wind_shift_12</span></div><div class='xr-var-dims'>(latitude, longitude, Days, Hours)</div><div class='xr-var-dtype'>float64</div><div class='xr-var-preview xr-preview'>...</div><input id='attrs-591f3b86-4090-4f82-a106-e14db75578ef' class='xr-var-attrs-in' type='checkbox' disabled><label for='attrs-591f3b86-4090-4f82-a106-e14db75578ef' title='Show/Hide attributes'><svg class='icon xr-icon-file-text2'><use xlink:href='#icon-file-text2'></use></svg></label><input id='data-a2d0db51-b20c-4d3d-83a8-59ba4c4a08f3' class='xr-var-data-in' type='checkbox'><label for='data-a2d0db51-b20c-4d3d-83a8-59ba4c4a08f3' title='Show/Hide data repr'><svg class='icon xr-icon-database'><use xlink:href='#icon-database'></use></svg></label><div class='xr-var-attrs'><dl class='xr-attrs'></dl></div><div class='xr-var-data'><pre>[810216 values with dtype=float64]</pre></div></li><li class='xr-var-item'><div class='xr-var-name'><span>rel_hum_shift_8</span></div><div class='xr-var-dims'>(latitude, longitude, Days, Hours)</div><div class='xr-var-dtype'>float64</div><div class='xr-var-preview xr-preview'>...</div><input id='attrs-33fca943-0752-442b-99f3-9dee4f701430' class='xr-var-attrs-in' type='checkbox' disabled><label for='attrs-33fca943-0752-442b-99f3-9dee4f701430' title='Show/Hide attributes'><svg class='icon xr-icon-file-text2'><use xlink:href='#icon-file-text2'></use></svg></label><input id='data-1da0a0a0-7658-412b-871b-af35f482444a' class='xr-var-data-in' type='checkbox'><label for='data-1da0a0a0-7658-412b-871b-af35f482444a' title='Show/Hide data repr'><svg class='icon xr-icon-database'><use xlink:href='#icon-database'></use></svg></label><div class='xr-var-attrs'><dl class='xr-attrs'></dl></div><div class='xr-var-data'><pre>[810216 values with dtype=float64]</pre></div></li><li class='xr-var-item'><div class='xr-var-name'><span>height</span></div><div class='xr-var-dims'>(latitude, longitude, Days, Hours)</div><div class='xr-var-dtype'>float32</div><div class='xr-var-preview xr-preview'>...</div><input id='attrs-e26bdc98-f522-4af5-8219-200dcf9a3d9e' class='xr-var-attrs-in' type='checkbox' ><label for='attrs-e26bdc98-f522-4af5-8219-200dcf9a3d9e' title='Show/Hide attributes'><svg class='icon xr-icon-file-text2'><use xlink:href='#icon-file-text2'></use></svg></label><input id='data-36a2961f-ac0f-4f2b-968e-1d2ec57bdcb4' class='xr-var-data-in' type='checkbox'><label for='data-36a2961f-ac0f-4f2b-968e-1d2ec57bdcb4' title='Show/Hide data repr'><svg class='icon xr-icon-database'><use xlink:href='#icon-database'></use></svg></label><div class='xr-var-attrs'><dl class='xr-attrs'><dt><span>units :</span></dt><dd>m</dd><dt><span>long_name :</span></dt><dd>Average height</dd></dl></div><div class='xr-var-data'><pre>[810216 values with dtype=float32]</pre></div></li><li class='xr-var-item'><div class='xr-var-name'><span>built</span></div><div class='xr-var-dims'>(latitude, longitude, Days, Hours)</div><div class='xr-var-dtype'>float32</div><div class='xr-var-preview xr-preview'>...</div><input id='attrs-d7d5062d-fa77-4e9d-857e-6ce308fe2664' class='xr-var-attrs-in' type='checkbox' ><label for='attrs-d7d5062d-fa77-4e9d-857e-6ce308fe2664' title='Show/Hide attributes'><svg class='icon xr-icon-file-text2'><use xlink:href='#icon-file-text2'></use></svg></label><input id='data-f1c99abd-2efb-4be9-bfc4-b524826f0008' class='xr-var-data-in' type='checkbox'><label for='data-f1c99abd-2efb-4be9-bfc4-b524826f0008' title='Show/Hide data repr'><svg class='icon xr-icon-database'><use xlink:href='#icon-database'></use></svg></label><div class='xr-var-attrs'><dl class='xr-attrs'><dt><span>units :</span></dt><dd></dd><dt><span>long_name :</span></dt><dd>Urban fraction</dd></dl></div><div class='xr-var-data'><pre>[810216 values with dtype=float32]</pre></div></li><li class='xr-var-item'><div class='xr-var-name'><span>NO_tc</span></div><div class='xr-var-dims'>(latitude, longitude, Days, Hours)</div><div class='xr-var-dtype'>float64</div><div class='xr-var-preview xr-preview'>...</div><input id='attrs-f29abae1-4de2-4669-a59c-b2be61433d8b' class='xr-var-attrs-in' type='checkbox' disabled><label for='attrs-f29abae1-4de2-4669-a59c-b2be61433d8b' title='Show/Hide attributes'><svg class='icon xr-icon-file-text2'><use xlink:href='#icon-file-text2'></use></svg></label><input id='data-95803834-8fb7-4bc1-aff8-4f71bc1542e2' class='xr-var-data-in' type='checkbox'><label for='data-95803834-8fb7-4bc1-aff8-4f71bc1542e2' title='Show/Hide data repr'><svg class='icon xr-icon-database'><use xlink:href='#icon-database'></use></svg></label><div class='xr-var-attrs'><dl class='xr-attrs'></dl></div><div class='xr-var-data'><pre>[810216 values with dtype=float64]</pre></div></li><li class='xr-var-item'><div class='xr-var-name'><span>CO2_tc</span></div><div class='xr-var-dims'>(latitude, longitude, Days, Hours)</div><div class='xr-var-dtype'>float64</div><div class='xr-var-preview xr-preview'>...</div><input id='attrs-81e0fbef-fe0b-4beb-865e-487d99646f54' class='xr-var-attrs-in' type='checkbox' disabled><label for='attrs-81e0fbef-fe0b-4beb-865e-487d99646f54' title='Show/Hide attributes'><svg class='icon xr-icon-file-text2'><use xlink:href='#icon-file-text2'></use></svg></label><input id='data-d3b37e7a-f296-4235-99ca-4b44fc6d226c' class='xr-var-data-in' type='checkbox'><label for='data-d3b37e7a-f296-4235-99ca-4b44fc6d226c' title='Show/Hide data repr'><svg class='icon xr-icon-database'><use xlink:href='#icon-database'></use></svg></label><div class='xr-var-attrs'><dl class='xr-attrs'></dl></div><div class='xr-var-data'><pre>[810216 values with dtype=float64]</pre></div></li><li class='xr-var-item'><div class='xr-var-name'><span>CH4_tc</span></div><div class='xr-var-dims'>(latitude, longitude, Days, Hours)</div><div class='xr-var-dtype'>float64</div><div class='xr-var-preview xr-preview'>...</div><input id='attrs-0c550c48-9476-44f1-934f-3a744d065661' class='xr-var-attrs-in' type='checkbox' disabled><label for='attrs-0c550c48-9476-44f1-934f-3a744d065661' title='Show/Hide attributes'><svg class='icon xr-icon-file-text2'><use xlink:href='#icon-file-text2'></use></svg></label><input id='data-2fc4ae4a-f340-405f-baff-12e78ac061da' class='xr-var-data-in' type='checkbox'><label for='data-2fc4ae4a-f340-405f-baff-12e78ac061da' title='Show/Hide data repr'><svg class='icon xr-icon-database'><use xlink:href='#icon-database'></use></svg></label><div class='xr-var-attrs'><dl class='xr-attrs'></dl></div><div class='xr-var-data'><pre>[810216 values with dtype=float64]</pre></div></li><li class='xr-var-item'><div class='xr-var-name'><span>NO2_tc</span></div><div class='xr-var-dims'>(latitude, longitude, Days, Hours)</div><div class='xr-var-dtype'>float64</div><div class='xr-var-preview xr-preview'>...</div><input id='attrs-3167b246-ff9e-4e09-9fa6-0227dea62fb0' class='xr-var-attrs-in' type='checkbox' disabled><label for='attrs-3167b246-ff9e-4e09-9fa6-0227dea62fb0' title='Show/Hide attributes'><svg class='icon xr-icon-file-text2'><use xlink:href='#icon-file-text2'></use></svg></label><input id='data-96167ddc-737a-462b-9b45-4dd63f72536b' class='xr-var-data-in' type='checkbox'><label for='data-96167ddc-737a-462b-9b45-4dd63f72536b' title='Show/Hide data repr'><svg class='icon xr-icon-database'><use xlink:href='#icon-database'></use></svg></label><div class='xr-var-attrs'><dl class='xr-attrs'></dl></div><div class='xr-var-data'><pre>[810216 values with dtype=float64]</pre></div></li><li class='xr-var-item'><div class='xr-var-name'><span>CO_tc</span></div><div class='xr-var-dims'>(latitude, longitude, Days, Hours)</div><div class='xr-var-dtype'>float64</div><div class='xr-var-preview xr-preview'>...</div><input id='attrs-2c95751b-ce7e-40ce-bc89-4a6a2ea9a20d' class='xr-var-attrs-in' type='checkbox' disabled><label for='attrs-2c95751b-ce7e-40ce-bc89-4a6a2ea9a20d' title='Show/Hide attributes'><svg class='icon xr-icon-file-text2'><use xlink:href='#icon-file-text2'></use></svg></label><input id='data-edf624c9-6167-47ac-bf70-bd4b37ed031f' class='xr-var-data-in' type='checkbox'><label for='data-edf624c9-6167-47ac-bf70-bd4b37ed031f' title='Show/Hide data repr'><svg class='icon xr-icon-database'><use xlink:href='#icon-database'></use></svg></label><div class='xr-var-attrs'><dl class='xr-attrs'></dl></div><div class='xr-var-data'><pre>[810216 values with dtype=float64]</pre></div></li><li class='xr-var-item'><div class='xr-var-name'><span>O3_tc</span></div><div class='xr-var-dims'>(latitude, longitude, Days, Hours)</div><div class='xr-var-dtype'>float64</div><div class='xr-var-preview xr-preview'>...</div><input id='attrs-76d3b5e8-090a-48d9-8721-67fa89e7edc6' class='xr-var-attrs-in' type='checkbox' disabled><label for='attrs-76d3b5e8-090a-48d9-8721-67fa89e7edc6' title='Show/Hide attributes'><svg class='icon xr-icon-file-text2'><use xlink:href='#icon-file-text2'></use></svg></label><input id='data-3f465ec8-4885-4962-8240-d5420f342ae3' class='xr-var-data-in' type='checkbox'><label for='data-3f465ec8-4885-4962-8240-d5420f342ae3' title='Show/Hide data repr'><svg class='icon xr-icon-database'><use xlink:href='#icon-database'></use></svg></label><div class='xr-var-attrs'><dl class='xr-attrs'></dl></div><div class='xr-var-data'><pre>[810216 values with dtype=float64]</pre></div></li><li class='xr-var-item'><div class='xr-var-name'><span>NO_tc_add_trend</span></div><div class='xr-var-dims'>(latitude, longitude, Days, Hours)</div><div class='xr-var-dtype'>float64</div><div class='xr-var-preview xr-preview'>...</div><input id='attrs-b1a46bc7-683d-477d-bf39-6628fcae8908' class='xr-var-attrs-in' type='checkbox' disabled><label for='attrs-b1a46bc7-683d-477d-bf39-6628fcae8908' title='Show/Hide attributes'><svg class='icon xr-icon-file-text2'><use xlink:href='#icon-file-text2'></use></svg></label><input id='data-08ab2360-5694-44dc-95c1-ef4d0a82073c' class='xr-var-data-in' type='checkbox'><label for='data-08ab2360-5694-44dc-95c1-ef4d0a82073c' title='Show/Hide data repr'><svg class='icon xr-icon-database'><use xlink:href='#icon-database'></use></svg></label><div class='xr-var-attrs'><dl class='xr-attrs'></dl></div><div class='xr-var-data'><pre>[810216 values with dtype=float64]</pre></div></li><li class='xr-var-item'><div class='xr-var-name'><span>CO2_tc_add_trend</span></div><div class='xr-var-dims'>(latitude, longitude, Days, Hours)</div><div class='xr-var-dtype'>float64</div><div class='xr-var-preview xr-preview'>...</div><input id='attrs-a22ca6f8-47d4-4ba4-a5da-0cf77b30f9d9' class='xr-var-attrs-in' type='checkbox' disabled><label for='attrs-a22ca6f8-47d4-4ba4-a5da-0cf77b30f9d9' title='Show/Hide attributes'><svg class='icon xr-icon-file-text2'><use xlink:href='#icon-file-text2'></use></svg></label><input id='data-26247972-6340-4cac-8257-8ad28f0b4933' class='xr-var-data-in' type='checkbox'><label for='data-26247972-6340-4cac-8257-8ad28f0b4933' title='Show/Hide data repr'><svg class='icon xr-icon-database'><use xlink:href='#icon-database'></use></svg></label><div class='xr-var-attrs'><dl class='xr-attrs'></dl></div><div class='xr-var-data'><pre>[810216 values with dtype=float64]</pre></div></li><li class='xr-var-item'><div class='xr-var-name'><span>CH4_tc_add_trend</span></div><div class='xr-var-dims'>(latitude, longitude, Days, Hours)</div><div class='xr-var-dtype'>float64</div><div class='xr-var-preview xr-preview'>...</div><input id='attrs-e659e40d-a914-49f8-ba7c-432d9be5332d' class='xr-var-attrs-in' type='checkbox' disabled><label for='attrs-e659e40d-a914-49f8-ba7c-432d9be5332d' title='Show/Hide attributes'><svg class='icon xr-icon-file-text2'><use xlink:href='#icon-file-text2'></use></svg></label><input id='data-17cbed94-7e2e-4703-8471-b94e67346f18' class='xr-var-data-in' type='checkbox'><label for='data-17cbed94-7e2e-4703-8471-b94e67346f18' title='Show/Hide data repr'><svg class='icon xr-icon-database'><use xlink:href='#icon-database'></use></svg></label><div class='xr-var-attrs'><dl class='xr-attrs'></dl></div><div class='xr-var-data'><pre>[810216 values with dtype=float64]</pre></div></li><li class='xr-var-item'><div class='xr-var-name'><span>NO2_tc_add_trend</span></div><div class='xr-var-dims'>(latitude, longitude, Days, Hours)</div><div class='xr-var-dtype'>float64</div><div class='xr-var-preview xr-preview'>...</div><input id='attrs-12feccae-ff35-4c24-b45d-75b17a8f2daa' class='xr-var-attrs-in' type='checkbox' disabled><label for='attrs-12feccae-ff35-4c24-b45d-75b17a8f2daa' title='Show/Hide attributes'><svg class='icon xr-icon-file-text2'><use xlink:href='#icon-file-text2'></use></svg></label><input id='data-60e805bb-4d99-421a-853b-6c2a0d8926c2' class='xr-var-data-in' type='checkbox'><label for='data-60e805bb-4d99-421a-853b-6c2a0d8926c2' title='Show/Hide data repr'><svg class='icon xr-icon-database'><use xlink:href='#icon-database'></use></svg></label><div class='xr-var-attrs'><dl class='xr-attrs'></dl></div><div class='xr-var-data'><pre>[810216 values with dtype=float64]</pre></div></li><li class='xr-var-item'><div class='xr-var-name'><span>CO_tc_add_trend</span></div><div class='xr-var-dims'>(latitude, longitude, Days, Hours)</div><div class='xr-var-dtype'>float64</div><div class='xr-var-preview xr-preview'>...</div><input id='attrs-fc3b7272-25dc-4260-b8e3-c07b6e6b7ece' class='xr-var-attrs-in' type='checkbox' disabled><label for='attrs-fc3b7272-25dc-4260-b8e3-c07b6e6b7ece' title='Show/Hide attributes'><svg class='icon xr-icon-file-text2'><use xlink:href='#icon-file-text2'></use></svg></label><input id='data-db9a7a43-7b20-4362-8b53-736cc157de63' class='xr-var-data-in' type='checkbox'><label for='data-db9a7a43-7b20-4362-8b53-736cc157de63' title='Show/Hide data repr'><svg class='icon xr-icon-database'><use xlink:href='#icon-database'></use></svg></label><div class='xr-var-attrs'><dl class='xr-attrs'></dl></div><div class='xr-var-data'><pre>[810216 values with dtype=float64]</pre></div></li><li class='xr-var-item'><div class='xr-var-name'><span>O3_tc_add_trend</span></div><div class='xr-var-dims'>(latitude, longitude, Days, Hours)</div><div class='xr-var-dtype'>float64</div><div class='xr-var-preview xr-preview'>...</div><input id='attrs-17a91432-f842-4020-a34f-f60ecad56000' class='xr-var-attrs-in' type='checkbox' disabled><label for='attrs-17a91432-f842-4020-a34f-f60ecad56000' title='Show/Hide attributes'><svg class='icon xr-icon-file-text2'><use xlink:href='#icon-file-text2'></use></svg></label><input id='data-ef5082f1-66e2-49be-a629-43c19341f147' class='xr-var-data-in' type='checkbox'><label for='data-ef5082f1-66e2-49be-a629-43c19341f147' title='Show/Hide data repr'><svg class='icon xr-icon-database'><use xlink:href='#icon-database'></use></svg></label><div class='xr-var-attrs'><dl class='xr-attrs'></dl></div><div class='xr-var-data'><pre>[810216 values with dtype=float64]</pre></div></li><li class='xr-var-item'><div class='xr-var-name'><span>traffic</span></div><div class='xr-var-dims'>(latitude, longitude, Days, Hours)</div><div class='xr-var-dtype'>float64</div><div class='xr-var-preview xr-preview'>...</div><input id='attrs-a2456229-ffcf-4236-b1bb-c82044725cfb' class='xr-var-attrs-in' type='checkbox' disabled><label for='attrs-a2456229-ffcf-4236-b1bb-c82044725cfb' title='Show/Hide attributes'><svg class='icon xr-icon-file-text2'><use xlink:href='#icon-file-text2'></use></svg></label><input id='data-0b4ddadd-7c64-4490-93e1-a4119cf4c581' class='xr-var-data-in' type='checkbox'><label for='data-0b4ddadd-7c64-4490-93e1-a4119cf4c581' title='Show/Hide data repr'><svg class='icon xr-icon-database'><use xlink:href='#icon-database'></use></svg></label><div class='xr-var-attrs'><dl class='xr-attrs'></dl></div><div class='xr-var-data'><pre>[810216 values with dtype=float64]</pre></div></li></ul></div></li><li class='xr-section-item'><input id='section-6a3ab11d-764c-4078-aed0-a1b2a4efac78' class='xr-section-summary-in' type='checkbox' disabled ><label for='section-6a3ab11d-764c-4078-aed0-a1b2a4efac78' class='xr-section-summary'  title='Expand/collapse section'>Attributes: <span>(0)</span></label><div class='xr-section-inline-details'></div><div class='xr-section-details'><dl class='xr-attrs'></dl></div></li></ul></div></div>"
      ],
      "text/plain": [
       "<xarray.Dataset>\n",
       "Dimensions:            (Days: 31, Hours: 24, latitude: 33, longitude: 33)\n",
       "Coordinates:\n",
       "  * Days               (Days) int64 1 2 3 4 5 6 7 8 ... 24 25 26 27 28 29 30 31\n",
       "  * latitude           (latitude) float64 43.0 43.25 43.5 ... 50.5 50.75 51.0\n",
       "  * longitude          (longitude) float64 4.0 4.25 4.5 4.75 ... 11.5 11.75 12.0\n",
       "  * Hours              (Hours) int64 0 1 2 3 4 5 6 7 ... 16 17 18 19 20 21 22 23\n",
       "Data variables: (12/32)\n",
       "    EMISSIONS_2019     (latitude, longitude, Days, Hours) float64 ...\n",
       "    u10                (latitude, longitude, Days, Hours) float64 ...\n",
       "    v10                (latitude, longitude, Days, Hours) float64 ...\n",
       "    hcc                (latitude, longitude, Days, Hours) float64 ...\n",
       "    lcc                (latitude, longitude, Days, Hours) float64 ...\n",
       "    tcc                (latitude, longitude, Days, Hours) float64 ...\n",
       "    ...                 ...\n",
       "    CO2_tc_add_trend   (latitude, longitude, Days, Hours) float64 ...\n",
       "    CH4_tc_add_trend   (latitude, longitude, Days, Hours) float64 ...\n",
       "    NO2_tc_add_trend   (latitude, longitude, Days, Hours) float64 ...\n",
       "    CO_tc_add_trend    (latitude, longitude, Days, Hours) float64 ...\n",
       "    O3_tc_add_trend    (latitude, longitude, Days, Hours) float64 ...\n",
       "    traffic            (latitude, longitude, Days, Hours) float64 ..."
      ]
     },
     "execution_count": 3,
     "metadata": {},
     "output_type": "execute_result"
    }
   ],
   "source": [
    "dataset = xr.open_dataset('../../data/dataset_complete_for_model_CO.nc')\n",
    "dataset"
   ]
  },
  {
   "cell_type": "code",
   "execution_count": 5,
   "metadata": {
    "colab": {
     "base_uri": "https://localhost:8080/",
     "height": 338
    },
    "executionInfo": {
     "elapsed": 1086,
     "status": "ok",
     "timestamp": 1629732991348,
     "user": {
      "displayName": "Paolo Fornoni",
      "photoUrl": "",
      "userId": "04111805272867115673"
     },
     "user_tz": -120
    },
    "id": "iqw7AMWk8Xcr",
    "outputId": "340a4f6f-0528-4eb5-85f2-5e031e7ddc59"
   },
   "outputs": [
    {
     "data": {
      "text/html": [
       "<div>\n",
       "<style scoped>\n",
       "    .dataframe tbody tr th:only-of-type {\n",
       "        vertical-align: middle;\n",
       "    }\n",
       "\n",
       "    .dataframe tbody tr th {\n",
       "        vertical-align: top;\n",
       "    }\n",
       "\n",
       "    .dataframe thead th {\n",
       "        text-align: right;\n",
       "    }\n",
       "</style>\n",
       "<table border=\"1\" class=\"dataframe\">\n",
       "  <thead>\n",
       "    <tr style=\"text-align: right;\">\n",
       "      <th></th>\n",
       "      <th></th>\n",
       "      <th></th>\n",
       "      <th></th>\n",
       "      <th>EMISSIONS_2019</th>\n",
       "      <th>u10</th>\n",
       "      <th>v10</th>\n",
       "      <th>hcc</th>\n",
       "      <th>lcc</th>\n",
       "      <th>tcc</th>\n",
       "      <th>cvl</th>\n",
       "      <th>cvh</th>\n",
       "      <th>sp</th>\n",
       "      <th>tmp</th>\n",
       "      <th>...</th>\n",
       "      <th>NO2_tc</th>\n",
       "      <th>CO_tc</th>\n",
       "      <th>O3_tc</th>\n",
       "      <th>NO_tc_add_trend</th>\n",
       "      <th>CO2_tc_add_trend</th>\n",
       "      <th>CH4_tc_add_trend</th>\n",
       "      <th>NO2_tc_add_trend</th>\n",
       "      <th>CO_tc_add_trend</th>\n",
       "      <th>O3_tc_add_trend</th>\n",
       "      <th>traffic</th>\n",
       "    </tr>\n",
       "    <tr>\n",
       "      <th>Days</th>\n",
       "      <th>Hours</th>\n",
       "      <th>latitude</th>\n",
       "      <th>longitude</th>\n",
       "      <th></th>\n",
       "      <th></th>\n",
       "      <th></th>\n",
       "      <th></th>\n",
       "      <th></th>\n",
       "      <th></th>\n",
       "      <th></th>\n",
       "      <th></th>\n",
       "      <th></th>\n",
       "      <th></th>\n",
       "      <th></th>\n",
       "      <th></th>\n",
       "      <th></th>\n",
       "      <th></th>\n",
       "      <th></th>\n",
       "      <th></th>\n",
       "      <th></th>\n",
       "      <th></th>\n",
       "      <th></th>\n",
       "      <th></th>\n",
       "      <th></th>\n",
       "    </tr>\n",
       "  </thead>\n",
       "  <tbody>\n",
       "    <tr>\n",
       "      <th rowspan=\"5\" valign=\"top\">1</th>\n",
       "      <th rowspan=\"5\" valign=\"top\">1</th>\n",
       "      <th rowspan=\"5\" valign=\"top\">43.25</th>\n",
       "      <th>4.00</th>\n",
       "      <td>1.773538e-13</td>\n",
       "      <td>2.410286</td>\n",
       "      <td>-4.471569</td>\n",
       "      <td>0.00000</td>\n",
       "      <td>0.033220</td>\n",
       "      <td>0.033949</td>\n",
       "      <td>0.082098</td>\n",
       "      <td>0.251190</td>\n",
       "      <td>100328.221395</td>\n",
       "      <td>263.794434</td>\n",
       "      <td>...</td>\n",
       "      <td>0.000005</td>\n",
       "      <td>0.001010</td>\n",
       "      <td>0.007961</td>\n",
       "      <td>0.000001</td>\n",
       "      <td>412.738828</td>\n",
       "      <td>1879.710034</td>\n",
       "      <td>0.000003</td>\n",
       "      <td>0.001065</td>\n",
       "      <td>0.007318</td>\n",
       "      <td>0.0</td>\n",
       "    </tr>\n",
       "    <tr>\n",
       "      <th>4.25</th>\n",
       "      <td>1.842122e-13</td>\n",
       "      <td>2.419098</td>\n",
       "      <td>-4.482981</td>\n",
       "      <td>0.00000</td>\n",
       "      <td>0.023336</td>\n",
       "      <td>0.023822</td>\n",
       "      <td>0.129154</td>\n",
       "      <td>0.202121</td>\n",
       "      <td>100443.008423</td>\n",
       "      <td>263.778515</td>\n",
       "      <td>...</td>\n",
       "      <td>0.000005</td>\n",
       "      <td>0.001004</td>\n",
       "      <td>0.007925</td>\n",
       "      <td>0.000001</td>\n",
       "      <td>412.724691</td>\n",
       "      <td>1877.825388</td>\n",
       "      <td>0.000003</td>\n",
       "      <td>0.001054</td>\n",
       "      <td>0.007345</td>\n",
       "      <td>0.0</td>\n",
       "    </tr>\n",
       "    <tr>\n",
       "      <th>4.50</th>\n",
       "      <td>1.400026e-13</td>\n",
       "      <td>2.427910</td>\n",
       "      <td>-4.494392</td>\n",
       "      <td>0.00000</td>\n",
       "      <td>0.013452</td>\n",
       "      <td>0.013695</td>\n",
       "      <td>0.176211</td>\n",
       "      <td>0.153052</td>\n",
       "      <td>100557.795451</td>\n",
       "      <td>263.762596</td>\n",
       "      <td>...</td>\n",
       "      <td>0.000005</td>\n",
       "      <td>0.001001</td>\n",
       "      <td>0.007889</td>\n",
       "      <td>0.000001</td>\n",
       "      <td>412.690398</td>\n",
       "      <td>1877.833993</td>\n",
       "      <td>0.000004</td>\n",
       "      <td>0.001054</td>\n",
       "      <td>0.007361</td>\n",
       "      <td>0.0</td>\n",
       "    </tr>\n",
       "    <tr>\n",
       "      <th>4.75</th>\n",
       "      <td>2.102720e-13</td>\n",
       "      <td>2.436721</td>\n",
       "      <td>-4.505804</td>\n",
       "      <td>0.00000</td>\n",
       "      <td>0.003567</td>\n",
       "      <td>0.003567</td>\n",
       "      <td>0.223267</td>\n",
       "      <td>0.103982</td>\n",
       "      <td>100672.582479</td>\n",
       "      <td>263.746677</td>\n",
       "      <td>...</td>\n",
       "      <td>0.000005</td>\n",
       "      <td>0.000994</td>\n",
       "      <td>0.007861</td>\n",
       "      <td>0.000001</td>\n",
       "      <td>412.684022</td>\n",
       "      <td>1877.380606</td>\n",
       "      <td>0.000004</td>\n",
       "      <td>0.001052</td>\n",
       "      <td>0.007380</td>\n",
       "      <td>0.0</td>\n",
       "    </tr>\n",
       "    <tr>\n",
       "      <th>5.00</th>\n",
       "      <td>2.817246e-12</td>\n",
       "      <td>2.065145</td>\n",
       "      <td>-3.833641</td>\n",
       "      <td>0.00037</td>\n",
       "      <td>0.002378</td>\n",
       "      <td>0.002748</td>\n",
       "      <td>0.232694</td>\n",
       "      <td>0.096582</td>\n",
       "      <td>100300.658291</td>\n",
       "      <td>263.738550</td>\n",
       "      <td>...</td>\n",
       "      <td>0.000005</td>\n",
       "      <td>0.000985</td>\n",
       "      <td>0.007841</td>\n",
       "      <td>0.000001</td>\n",
       "      <td>412.692758</td>\n",
       "      <td>1876.723543</td>\n",
       "      <td>0.000004</td>\n",
       "      <td>0.001046</td>\n",
       "      <td>0.007403</td>\n",
       "      <td>0.0</td>\n",
       "    </tr>\n",
       "  </tbody>\n",
       "</table>\n",
       "<p>5 rows × 32 columns</p>\n",
       "</div>"
      ],
      "text/plain": [
       "                               EMISSIONS_2019       u10       v10      hcc  \\\n",
       "Days Hours latitude longitude                                                \n",
       "1    1     43.25    4.00         1.773538e-13  2.410286 -4.471569  0.00000   \n",
       "                    4.25         1.842122e-13  2.419098 -4.482981  0.00000   \n",
       "                    4.50         1.400026e-13  2.427910 -4.494392  0.00000   \n",
       "                    4.75         2.102720e-13  2.436721 -4.505804  0.00000   \n",
       "                    5.00         2.817246e-12  2.065145 -3.833641  0.00037   \n",
       "\n",
       "                                    lcc       tcc       cvl       cvh  \\\n",
       "Days Hours latitude longitude                                           \n",
       "1    1     43.25    4.00       0.033220  0.033949  0.082098  0.251190   \n",
       "                    4.25       0.023336  0.023822  0.129154  0.202121   \n",
       "                    4.50       0.013452  0.013695  0.176211  0.153052   \n",
       "                    4.75       0.003567  0.003567  0.223267  0.103982   \n",
       "                    5.00       0.002378  0.002748  0.232694  0.096582   \n",
       "\n",
       "                                          sp         tmp  ...    NO2_tc  \\\n",
       "Days Hours latitude longitude                             ...             \n",
       "1    1     43.25    4.00       100328.221395  263.794434  ...  0.000005   \n",
       "                    4.25       100443.008423  263.778515  ...  0.000005   \n",
       "                    4.50       100557.795451  263.762596  ...  0.000005   \n",
       "                    4.75       100672.582479  263.746677  ...  0.000005   \n",
       "                    5.00       100300.658291  263.738550  ...  0.000005   \n",
       "\n",
       "                                  CO_tc     O3_tc  NO_tc_add_trend  \\\n",
       "Days Hours latitude longitude                                        \n",
       "1    1     43.25    4.00       0.001010  0.007961         0.000001   \n",
       "                    4.25       0.001004  0.007925         0.000001   \n",
       "                    4.50       0.001001  0.007889         0.000001   \n",
       "                    4.75       0.000994  0.007861         0.000001   \n",
       "                    5.00       0.000985  0.007841         0.000001   \n",
       "\n",
       "                               CO2_tc_add_trend  CH4_tc_add_trend  \\\n",
       "Days Hours latitude longitude                                       \n",
       "1    1     43.25    4.00             412.738828       1879.710034   \n",
       "                    4.25             412.724691       1877.825388   \n",
       "                    4.50             412.690398       1877.833993   \n",
       "                    4.75             412.684022       1877.380606   \n",
       "                    5.00             412.692758       1876.723543   \n",
       "\n",
       "                               NO2_tc_add_trend  CO_tc_add_trend  \\\n",
       "Days Hours latitude longitude                                      \n",
       "1    1     43.25    4.00               0.000003         0.001065   \n",
       "                    4.25               0.000003         0.001054   \n",
       "                    4.50               0.000004         0.001054   \n",
       "                    4.75               0.000004         0.001052   \n",
       "                    5.00               0.000004         0.001046   \n",
       "\n",
       "                               O3_tc_add_trend  traffic  \n",
       "Days Hours latitude longitude                            \n",
       "1    1     43.25    4.00              0.007318      0.0  \n",
       "                    4.25              0.007345      0.0  \n",
       "                    4.50              0.007361      0.0  \n",
       "                    4.75              0.007380      0.0  \n",
       "                    5.00              0.007403      0.0  \n",
       "\n",
       "[5 rows x 32 columns]"
      ]
     },
     "execution_count": 5,
     "metadata": {},
     "output_type": "execute_result"
    }
   ],
   "source": [
    "df = dataset.to_dataframe()\n",
    "df = df.dropna()\n",
    "df.head()"
   ]
  },
  {
   "cell_type": "code",
   "execution_count": 6,
   "metadata": {
    "colab": {
     "base_uri": "https://localhost:8080/"
    },
    "executionInfo": {
     "elapsed": 238,
     "status": "ok",
     "timestamp": 1629732991582,
     "user": {
      "displayName": "Paolo Fornoni",
      "photoUrl": "",
      "userId": "04111805272867115673"
     },
     "user_tz": -120
    },
    "id": "nmXdRHZZQzhA",
    "outputId": "978b4e16-21ea-42e9-fbab-d6c0acb185d8"
   },
   "outputs": [
    {
     "data": {
      "text/plain": [
       "(407100, 32)"
      ]
     },
     "execution_count": 6,
     "metadata": {},
     "output_type": "execute_result"
    }
   ],
   "source": [
    "df.shape"
   ]
  },
  {
   "cell_type": "markdown",
   "metadata": {
    "id": "xIas8gfp8axd"
   },
   "source": [
    "#Managing dataframe"
   ]
  },
  {
   "cell_type": "code",
   "execution_count": 7,
   "metadata": {
    "colab": {
     "base_uri": "https://localhost:8080/",
     "height": 307
    },
    "executionInfo": {
     "elapsed": 10,
     "status": "ok",
     "timestamp": 1629732991583,
     "user": {
      "displayName": "Paolo Fornoni",
      "photoUrl": "",
      "userId": "04111805272867115673"
     },
     "user_tz": -120
    },
    "id": "-9gR5OWZ8ZE7",
    "outputId": "bd6919e2-a208-4578-8b98-27d1c3f92040"
   },
   "outputs": [
    {
     "data": {
      "text/html": [
       "<div>\n",
       "<style scoped>\n",
       "    .dataframe tbody tr th:only-of-type {\n",
       "        vertical-align: middle;\n",
       "    }\n",
       "\n",
       "    .dataframe tbody tr th {\n",
       "        vertical-align: top;\n",
       "    }\n",
       "\n",
       "    .dataframe thead th {\n",
       "        text-align: right;\n",
       "    }\n",
       "</style>\n",
       "<table border=\"1\" class=\"dataframe\">\n",
       "  <thead>\n",
       "    <tr style=\"text-align: right;\">\n",
       "      <th></th>\n",
       "      <th>Days</th>\n",
       "      <th>Hours</th>\n",
       "      <th>latitude</th>\n",
       "      <th>longitude</th>\n",
       "      <th>EMISSIONS_2019</th>\n",
       "      <th>u10</th>\n",
       "      <th>v10</th>\n",
       "      <th>hcc</th>\n",
       "      <th>lcc</th>\n",
       "      <th>tcc</th>\n",
       "      <th>...</th>\n",
       "      <th>NO2_tc</th>\n",
       "      <th>CO_tc</th>\n",
       "      <th>O3_tc</th>\n",
       "      <th>NO_tc_add_trend</th>\n",
       "      <th>CO2_tc_add_trend</th>\n",
       "      <th>CH4_tc_add_trend</th>\n",
       "      <th>NO2_tc_add_trend</th>\n",
       "      <th>CO_tc_add_trend</th>\n",
       "      <th>O3_tc_add_trend</th>\n",
       "      <th>traffic</th>\n",
       "    </tr>\n",
       "  </thead>\n",
       "  <tbody>\n",
       "    <tr>\n",
       "      <th>0</th>\n",
       "      <td>1</td>\n",
       "      <td>1</td>\n",
       "      <td>43.25</td>\n",
       "      <td>4.00</td>\n",
       "      <td>1.773538e-13</td>\n",
       "      <td>2.410286</td>\n",
       "      <td>-4.471569</td>\n",
       "      <td>0.00000</td>\n",
       "      <td>0.033220</td>\n",
       "      <td>0.033949</td>\n",
       "      <td>...</td>\n",
       "      <td>0.000005</td>\n",
       "      <td>0.001010</td>\n",
       "      <td>0.007961</td>\n",
       "      <td>0.000001</td>\n",
       "      <td>412.738828</td>\n",
       "      <td>1879.710034</td>\n",
       "      <td>0.000003</td>\n",
       "      <td>0.001065</td>\n",
       "      <td>0.007318</td>\n",
       "      <td>0.0</td>\n",
       "    </tr>\n",
       "    <tr>\n",
       "      <th>1</th>\n",
       "      <td>1</td>\n",
       "      <td>1</td>\n",
       "      <td>43.25</td>\n",
       "      <td>4.25</td>\n",
       "      <td>1.842122e-13</td>\n",
       "      <td>2.419098</td>\n",
       "      <td>-4.482981</td>\n",
       "      <td>0.00000</td>\n",
       "      <td>0.023336</td>\n",
       "      <td>0.023822</td>\n",
       "      <td>...</td>\n",
       "      <td>0.000005</td>\n",
       "      <td>0.001004</td>\n",
       "      <td>0.007925</td>\n",
       "      <td>0.000001</td>\n",
       "      <td>412.724691</td>\n",
       "      <td>1877.825388</td>\n",
       "      <td>0.000003</td>\n",
       "      <td>0.001054</td>\n",
       "      <td>0.007345</td>\n",
       "      <td>0.0</td>\n",
       "    </tr>\n",
       "    <tr>\n",
       "      <th>2</th>\n",
       "      <td>1</td>\n",
       "      <td>1</td>\n",
       "      <td>43.25</td>\n",
       "      <td>4.50</td>\n",
       "      <td>1.400026e-13</td>\n",
       "      <td>2.427910</td>\n",
       "      <td>-4.494392</td>\n",
       "      <td>0.00000</td>\n",
       "      <td>0.013452</td>\n",
       "      <td>0.013695</td>\n",
       "      <td>...</td>\n",
       "      <td>0.000005</td>\n",
       "      <td>0.001001</td>\n",
       "      <td>0.007889</td>\n",
       "      <td>0.000001</td>\n",
       "      <td>412.690398</td>\n",
       "      <td>1877.833993</td>\n",
       "      <td>0.000004</td>\n",
       "      <td>0.001054</td>\n",
       "      <td>0.007361</td>\n",
       "      <td>0.0</td>\n",
       "    </tr>\n",
       "    <tr>\n",
       "      <th>3</th>\n",
       "      <td>1</td>\n",
       "      <td>1</td>\n",
       "      <td>43.25</td>\n",
       "      <td>4.75</td>\n",
       "      <td>2.102720e-13</td>\n",
       "      <td>2.436721</td>\n",
       "      <td>-4.505804</td>\n",
       "      <td>0.00000</td>\n",
       "      <td>0.003567</td>\n",
       "      <td>0.003567</td>\n",
       "      <td>...</td>\n",
       "      <td>0.000005</td>\n",
       "      <td>0.000994</td>\n",
       "      <td>0.007861</td>\n",
       "      <td>0.000001</td>\n",
       "      <td>412.684022</td>\n",
       "      <td>1877.380606</td>\n",
       "      <td>0.000004</td>\n",
       "      <td>0.001052</td>\n",
       "      <td>0.007380</td>\n",
       "      <td>0.0</td>\n",
       "    </tr>\n",
       "    <tr>\n",
       "      <th>4</th>\n",
       "      <td>1</td>\n",
       "      <td>1</td>\n",
       "      <td>43.25</td>\n",
       "      <td>5.00</td>\n",
       "      <td>2.817246e-12</td>\n",
       "      <td>2.065145</td>\n",
       "      <td>-3.833641</td>\n",
       "      <td>0.00037</td>\n",
       "      <td>0.002378</td>\n",
       "      <td>0.002748</td>\n",
       "      <td>...</td>\n",
       "      <td>0.000005</td>\n",
       "      <td>0.000985</td>\n",
       "      <td>0.007841</td>\n",
       "      <td>0.000001</td>\n",
       "      <td>412.692758</td>\n",
       "      <td>1876.723543</td>\n",
       "      <td>0.000004</td>\n",
       "      <td>0.001046</td>\n",
       "      <td>0.007403</td>\n",
       "      <td>0.0</td>\n",
       "    </tr>\n",
       "  </tbody>\n",
       "</table>\n",
       "<p>5 rows × 36 columns</p>\n",
       "</div>"
      ],
      "text/plain": [
       "   Days  Hours  latitude  longitude  EMISSIONS_2019       u10       v10  \\\n",
       "0     1      1     43.25       4.00    1.773538e-13  2.410286 -4.471569   \n",
       "1     1      1     43.25       4.25    1.842122e-13  2.419098 -4.482981   \n",
       "2     1      1     43.25       4.50    1.400026e-13  2.427910 -4.494392   \n",
       "3     1      1     43.25       4.75    2.102720e-13  2.436721 -4.505804   \n",
       "4     1      1     43.25       5.00    2.817246e-12  2.065145 -3.833641   \n",
       "\n",
       "       hcc       lcc       tcc  ...    NO2_tc     CO_tc     O3_tc  \\\n",
       "0  0.00000  0.033220  0.033949  ...  0.000005  0.001010  0.007961   \n",
       "1  0.00000  0.023336  0.023822  ...  0.000005  0.001004  0.007925   \n",
       "2  0.00000  0.013452  0.013695  ...  0.000005  0.001001  0.007889   \n",
       "3  0.00000  0.003567  0.003567  ...  0.000005  0.000994  0.007861   \n",
       "4  0.00037  0.002378  0.002748  ...  0.000005  0.000985  0.007841   \n",
       "\n",
       "   NO_tc_add_trend  CO2_tc_add_trend  CH4_tc_add_trend  NO2_tc_add_trend  \\\n",
       "0         0.000001        412.738828       1879.710034          0.000003   \n",
       "1         0.000001        412.724691       1877.825388          0.000003   \n",
       "2         0.000001        412.690398       1877.833993          0.000004   \n",
       "3         0.000001        412.684022       1877.380606          0.000004   \n",
       "4         0.000001        412.692758       1876.723543          0.000004   \n",
       "\n",
       "   CO_tc_add_trend  O3_tc_add_trend  traffic  \n",
       "0         0.001065         0.007318      0.0  \n",
       "1         0.001054         0.007345      0.0  \n",
       "2         0.001054         0.007361      0.0  \n",
       "3         0.001052         0.007380      0.0  \n",
       "4         0.001046         0.007403      0.0  \n",
       "\n",
       "[5 rows x 36 columns]"
      ]
     },
     "execution_count": 7,
     "metadata": {},
     "output_type": "execute_result"
    }
   ],
   "source": [
    "df_flat= df.reset_index()\n",
    "df_flat.head()"
   ]
  },
  {
   "cell_type": "markdown",
   "metadata": {
    "id": "UlrNoSm6RYBC"
   },
   "source": [
    "Split the dataframe in features and target"
   ]
  },
  {
   "cell_type": "code",
   "execution_count": 8,
   "metadata": {
    "executionInfo": {
     "elapsed": 8,
     "status": "ok",
     "timestamp": 1629732991584,
     "user": {
      "displayName": "Paolo Fornoni",
      "photoUrl": "",
      "userId": "04111805272867115673"
     },
     "user_tz": -120
    },
    "id": "QFMQNStL8cWz"
   },
   "outputs": [],
   "source": [
    "X = df_flat.drop(columns = ['EMISSIONS_2019'])\n",
    "y = df_flat['EMISSIONS_2019']\n",
    "\n",
    "input_variables = X.columns\n",
    "target_variable = 'EMISSIONS_2019'\n",
    "\n",
    "seed = 1234"
   ]
  },
  {
   "cell_type": "markdown",
   "metadata": {
    "id": "3Y-c8JVbRW45"
   },
   "source": [
    "Normalizing"
   ]
  },
  {
   "cell_type": "code",
   "execution_count": 9,
   "metadata": {
    "colab": {
     "base_uri": "https://localhost:8080/",
     "height": 307
    },
    "executionInfo": {
     "elapsed": 267,
     "status": "ok",
     "timestamp": 1629732991844,
     "user": {
      "displayName": "Paolo Fornoni",
      "photoUrl": "",
      "userId": "04111805272867115673"
     },
     "user_tz": -120
    },
    "id": "kC58Nybc8fND",
    "outputId": "380f64b7-7b4e-4ba6-d66e-e766994f6bb2"
   },
   "outputs": [
    {
     "data": {
      "text/html": [
       "<div>\n",
       "<style scoped>\n",
       "    .dataframe tbody tr th:only-of-type {\n",
       "        vertical-align: middle;\n",
       "    }\n",
       "\n",
       "    .dataframe tbody tr th {\n",
       "        vertical-align: top;\n",
       "    }\n",
       "\n",
       "    .dataframe thead th {\n",
       "        text-align: right;\n",
       "    }\n",
       "</style>\n",
       "<table border=\"1\" class=\"dataframe\">\n",
       "  <thead>\n",
       "    <tr style=\"text-align: right;\">\n",
       "      <th></th>\n",
       "      <th>Days</th>\n",
       "      <th>Hours</th>\n",
       "      <th>latitude</th>\n",
       "      <th>longitude</th>\n",
       "      <th>EMISSIONS_2019</th>\n",
       "      <th>u10</th>\n",
       "      <th>v10</th>\n",
       "      <th>hcc</th>\n",
       "      <th>lcc</th>\n",
       "      <th>tcc</th>\n",
       "      <th>...</th>\n",
       "      <th>NO2_tc</th>\n",
       "      <th>CO_tc</th>\n",
       "      <th>O3_tc</th>\n",
       "      <th>NO_tc_add_trend</th>\n",
       "      <th>CO2_tc_add_trend</th>\n",
       "      <th>CH4_tc_add_trend</th>\n",
       "      <th>NO2_tc_add_trend</th>\n",
       "      <th>CO_tc_add_trend</th>\n",
       "      <th>O3_tc_add_trend</th>\n",
       "      <th>traffic</th>\n",
       "    </tr>\n",
       "  </thead>\n",
       "  <tbody>\n",
       "    <tr>\n",
       "      <th>0</th>\n",
       "      <td>0.0</td>\n",
       "      <td>0.043478</td>\n",
       "      <td>0.0</td>\n",
       "      <td>0.000000</td>\n",
       "      <td>0.000028</td>\n",
       "      <td>0.556251</td>\n",
       "      <td>0.444753</td>\n",
       "      <td>2.980215e-08</td>\n",
       "      <td>0.033220</td>\n",
       "      <td>0.033949</td>\n",
       "      <td>...</td>\n",
       "      <td>0.196467</td>\n",
       "      <td>0.773550</td>\n",
       "      <td>0.350916</td>\n",
       "      <td>0.138012</td>\n",
       "      <td>0.952689</td>\n",
       "      <td>0.879231</td>\n",
       "      <td>0.153645</td>\n",
       "      <td>0.954043</td>\n",
       "      <td>0.159592</td>\n",
       "      <td>8.775587e-09</td>\n",
       "    </tr>\n",
       "    <tr>\n",
       "      <th>1</th>\n",
       "      <td>0.0</td>\n",
       "      <td>0.043478</td>\n",
       "      <td>0.0</td>\n",
       "      <td>0.041667</td>\n",
       "      <td>0.000030</td>\n",
       "      <td>0.556734</td>\n",
       "      <td>0.444279</td>\n",
       "      <td>2.980215e-08</td>\n",
       "      <td>0.023336</td>\n",
       "      <td>0.023822</td>\n",
       "      <td>...</td>\n",
       "      <td>0.189913</td>\n",
       "      <td>0.762899</td>\n",
       "      <td>0.341442</td>\n",
       "      <td>0.142010</td>\n",
       "      <td>0.949880</td>\n",
       "      <td>0.858220</td>\n",
       "      <td>0.151908</td>\n",
       "      <td>0.932749</td>\n",
       "      <td>0.167478</td>\n",
       "      <td>8.775587e-09</td>\n",
       "    </tr>\n",
       "    <tr>\n",
       "      <th>2</th>\n",
       "      <td>0.0</td>\n",
       "      <td>0.043478</td>\n",
       "      <td>0.0</td>\n",
       "      <td>0.083333</td>\n",
       "      <td>0.000022</td>\n",
       "      <td>0.557218</td>\n",
       "      <td>0.443805</td>\n",
       "      <td>2.980215e-08</td>\n",
       "      <td>0.013452</td>\n",
       "      <td>0.013695</td>\n",
       "      <td>...</td>\n",
       "      <td>0.193637</td>\n",
       "      <td>0.757579</td>\n",
       "      <td>0.331760</td>\n",
       "      <td>0.164538</td>\n",
       "      <td>0.943065</td>\n",
       "      <td>0.858316</td>\n",
       "      <td>0.175453</td>\n",
       "      <td>0.933460</td>\n",
       "      <td>0.172263</td>\n",
       "      <td>8.775587e-09</td>\n",
       "    </tr>\n",
       "    <tr>\n",
       "      <th>3</th>\n",
       "      <td>0.0</td>\n",
       "      <td>0.043478</td>\n",
       "      <td>0.0</td>\n",
       "      <td>0.125000</td>\n",
       "      <td>0.000034</td>\n",
       "      <td>0.557702</td>\n",
       "      <td>0.443330</td>\n",
       "      <td>2.980215e-08</td>\n",
       "      <td>0.003567</td>\n",
       "      <td>0.003567</td>\n",
       "      <td>...</td>\n",
       "      <td>0.196838</td>\n",
       "      <td>0.745434</td>\n",
       "      <td>0.324478</td>\n",
       "      <td>0.244194</td>\n",
       "      <td>0.941798</td>\n",
       "      <td>0.853261</td>\n",
       "      <td>0.221728</td>\n",
       "      <td>0.928250</td>\n",
       "      <td>0.177881</td>\n",
       "      <td>8.775587e-09</td>\n",
       "    </tr>\n",
       "    <tr>\n",
       "      <th>4</th>\n",
       "      <td>0.0</td>\n",
       "      <td>0.043478</td>\n",
       "      <td>0.0</td>\n",
       "      <td>0.166667</td>\n",
       "      <td>0.000463</td>\n",
       "      <td>0.537311</td>\n",
       "      <td>0.471267</td>\n",
       "      <td>3.696493e-04</td>\n",
       "      <td>0.002378</td>\n",
       "      <td>0.002748</td>\n",
       "      <td>...</td>\n",
       "      <td>0.204302</td>\n",
       "      <td>0.729517</td>\n",
       "      <td>0.319136</td>\n",
       "      <td>0.335434</td>\n",
       "      <td>0.943534</td>\n",
       "      <td>0.845936</td>\n",
       "      <td>0.269468</td>\n",
       "      <td>0.917581</td>\n",
       "      <td>0.184863</td>\n",
       "      <td>8.775587e-09</td>\n",
       "    </tr>\n",
       "  </tbody>\n",
       "</table>\n",
       "<p>5 rows × 36 columns</p>\n",
       "</div>"
      ],
      "text/plain": [
       "   Days     Hours  latitude  longitude  EMISSIONS_2019       u10       v10  \\\n",
       "0   0.0  0.043478       0.0   0.000000        0.000028  0.556251  0.444753   \n",
       "1   0.0  0.043478       0.0   0.041667        0.000030  0.556734  0.444279   \n",
       "2   0.0  0.043478       0.0   0.083333        0.000022  0.557218  0.443805   \n",
       "3   0.0  0.043478       0.0   0.125000        0.000034  0.557702  0.443330   \n",
       "4   0.0  0.043478       0.0   0.166667        0.000463  0.537311  0.471267   \n",
       "\n",
       "            hcc       lcc       tcc  ...    NO2_tc     CO_tc     O3_tc  \\\n",
       "0  2.980215e-08  0.033220  0.033949  ...  0.196467  0.773550  0.350916   \n",
       "1  2.980215e-08  0.023336  0.023822  ...  0.189913  0.762899  0.341442   \n",
       "2  2.980215e-08  0.013452  0.013695  ...  0.193637  0.757579  0.331760   \n",
       "3  2.980215e-08  0.003567  0.003567  ...  0.196838  0.745434  0.324478   \n",
       "4  3.696493e-04  0.002378  0.002748  ...  0.204302  0.729517  0.319136   \n",
       "\n",
       "   NO_tc_add_trend  CO2_tc_add_trend  CH4_tc_add_trend  NO2_tc_add_trend  \\\n",
       "0         0.138012          0.952689          0.879231          0.153645   \n",
       "1         0.142010          0.949880          0.858220          0.151908   \n",
       "2         0.164538          0.943065          0.858316          0.175453   \n",
       "3         0.244194          0.941798          0.853261          0.221728   \n",
       "4         0.335434          0.943534          0.845936          0.269468   \n",
       "\n",
       "   CO_tc_add_trend  O3_tc_add_trend       traffic  \n",
       "0         0.954043         0.159592  8.775587e-09  \n",
       "1         0.932749         0.167478  8.775587e-09  \n",
       "2         0.933460         0.172263  8.775587e-09  \n",
       "3         0.928250         0.177881  8.775587e-09  \n",
       "4         0.917581         0.184863  8.775587e-09  \n",
       "\n",
       "[5 rows x 36 columns]"
      ]
     },
     "execution_count": 9,
     "metadata": {},
     "output_type": "execute_result"
    }
   ],
   "source": [
    "scaler = MinMaxScaler()\n",
    "df_sc = scaler.fit_transform(df_flat)\n",
    "\n",
    "df_norm = pd.DataFrame(df_sc, columns=df_flat.columns)\n",
    "df_norm.head()"
   ]
  },
  {
   "cell_type": "markdown",
   "metadata": {
    "id": "IFD0dto68hrh"
   },
   "source": [
    "#Baseline performance: Linear regression with 10 fold cross validation"
   ]
  },
  {
   "cell_type": "code",
   "execution_count": 10,
   "metadata": {
    "colab": {
     "base_uri": "https://localhost:8080/"
    },
    "executionInfo": {
     "elapsed": 6999,
     "status": "ok",
     "timestamp": 1629732998840,
     "user": {
      "displayName": "Paolo Fornoni",
      "photoUrl": "",
      "userId": "04111805272867115673"
     },
     "user_tz": -120
    },
    "id": "DqtrtTKC8fWh",
    "outputId": "c955a275-eed7-4317-97cf-09c81624d6d4"
   },
   "outputs": [
    {
     "name": "stdout",
     "output_type": "stream",
     "text": [
      "R2 Mean 0.328 StdDev 0.018\n"
     ]
    }
   ],
   "source": [
    "kfolds = KFold(10,shuffle=True,random_state=seed)\n",
    "\n",
    "model = linear_model.LinearRegression()\n",
    "scores = cross_val_score(model, df_norm[input_variables], df_norm[target_variable], cv=kfolds)\n",
    "\n",
    "print(\"R2 Mean %.3f StdDev %.3f\"%(scores.mean(),scores.std()))"
   ]
  },
  {
   "cell_type": "markdown",
   "metadata": {
    "id": "D90MJ8648j79"
   },
   "source": [
    "#Reduced variance feature selection"
   ]
  },
  {
   "cell_type": "code",
   "execution_count": 11,
   "metadata": {
    "colab": {
     "base_uri": "https://localhost:8080/"
    },
    "executionInfo": {
     "elapsed": 14,
     "status": "ok",
     "timestamp": 1629732998841,
     "user": {
      "displayName": "Paolo Fornoni",
      "photoUrl": "",
      "userId": "04111805272867115673"
     },
     "user_tz": -120
    },
    "id": "-aZVAaCO8jcx",
    "outputId": "e9d4058e-9992-4ca5-88af-9859b6bcec27"
   },
   "outputs": [
    {
     "name": "stdout",
     "output_type": "stream",
     "text": [
      "Reduced data set shape =  (407100, 18)\n",
      "     Selected features =  Index(['Days', 'Hours', 'latitude', 'longitude', 'u10', 'v10', 'sp', 'tmp',\n",
      "       'tcw', 'tot_wind', 'tmp_shift_8', 'tot_wind_shift_12', 'height',\n",
      "       'CO2_tc', 'CH4_tc', 'CO2_tc_add_trend', 'CH4_tc_add_trend', 'traffic'],\n",
      "      dtype='object')\n",
      "      Deleted Features =  Index(['hcc', 'lcc', 'tcc', 'cvl', 'cvh', 'sp_hum', 'rel_hum',\n",
      "       'rel_hum_shift_8', 'built', 'NO_tc', 'NO2_tc', 'CO_tc', 'O3_tc',\n",
      "       'NO_tc_add_trend', 'NO2_tc_add_trend', 'CO_tc_add_trend',\n",
      "       'O3_tc_add_trend'],\n",
      "      dtype='object')\n"
     ]
    }
   ],
   "source": [
    "feature_selection_variance_model = VarianceThreshold(threshold=(.8 * (1 - .8)))\n",
    "X_selected_features_variance = feature_selection_variance_model.fit_transform(X)\n",
    "\n",
    "mask = feature_selection_variance_model.get_support() #list of booleans\n",
    "print(\"Reduced data set shape = \", X_selected_features_variance.shape)\n",
    "print(\"     Selected features = \", X.loc[:, mask].columns)\n",
    "print(\"      Deleted Features = \", X.loc[:, ~mask].columns)"
   ]
  },
  {
   "cell_type": "code",
   "execution_count": 12,
   "metadata": {
    "colab": {
     "base_uri": "https://localhost:8080/"
    },
    "executionInfo": {
     "elapsed": 2765,
     "status": "ok",
     "timestamp": 1629733001925,
     "user": {
      "displayName": "Paolo Fornoni",
      "photoUrl": "",
      "userId": "04111805272867115673"
     },
     "user_tz": -120
    },
    "id": "p30Zqc3S8ogA",
    "outputId": "eab4e905-cc7c-459d-f555-193f5340029e"
   },
   "outputs": [
    {
     "name": "stdout",
     "output_type": "stream",
     "text": [
      "Variance Model R2 Mean 0.297 StdDev 0.018\n"
     ]
    }
   ],
   "source": [
    "variance_model = LinearRegression()\n",
    "variance_scores = cross_val_score(variance_model, X.loc[:,mask], y, cv=kfolds)\n",
    "print(\"Variance Model R2 Mean %.3f StdDev %.3f\"%(variance_scores.mean(),variance_scores.std()))"
   ]
  },
  {
   "cell_type": "markdown",
   "metadata": {
    "id": "a2ShZBXA8rHx"
   },
   "source": [
    "#Principal Component Analysis"
   ]
  },
  {
   "cell_type": "code",
   "execution_count": 13,
   "metadata": {
    "colab": {
     "base_uri": "https://localhost:8080/"
    },
    "executionInfo": {
     "elapsed": 1210,
     "status": "ok",
     "timestamp": 1629733003132,
     "user": {
      "displayName": "Paolo Fornoni",
      "photoUrl": "",
      "userId": "04111805272867115673"
     },
     "user_tz": -120
    },
    "id": "QJhbm2L28qLN",
    "outputId": "94d5f286-63af-4aea-fc3a-91483c7e500a"
   },
   "outputs": [
    {
     "data": {
      "text/plain": [
       "array([2.09757715e-01, 1.21327371e-01, 1.10574285e-01, 9.57801386e-02,\n",
       "       8.57148920e-02, 6.62409541e-02, 5.32964197e-02, 5.24646309e-02,\n",
       "       4.32553159e-02, 2.83379707e-02, 2.33675418e-02, 1.83489187e-02,\n",
       "       1.57515185e-02, 1.35707071e-02, 9.52713635e-03, 8.70699397e-03,\n",
       "       7.53440304e-03, 7.13722061e-03, 5.98757109e-03, 4.88008958e-03,\n",
       "       3.81361201e-03, 3.58317314e-03, 2.64048874e-03, 2.28919131e-03,\n",
       "       1.96481921e-03, 1.47226976e-03, 6.69675139e-04, 5.30885696e-04,\n",
       "       3.68999071e-04, 3.28104572e-04, 2.89426645e-04, 1.96838829e-04,\n",
       "       1.33376418e-04, 8.32100547e-05, 7.41356993e-05])"
      ]
     },
     "execution_count": 13,
     "metadata": {},
     "output_type": "execute_result"
    }
   ],
   "source": [
    "full_pca_model = PCA()\n",
    "full_fitted_model = full_pca_model.fit(df_norm[input_variables])\n",
    "full_fitted_model.explained_variance_ratio_"
   ]
  },
  {
   "cell_type": "code",
   "execution_count": 14,
   "metadata": {
    "colab": {
     "base_uri": "https://localhost:8080/"
    },
    "executionInfo": {
     "elapsed": 5,
     "status": "ok",
     "timestamp": 1629733003133,
     "user": {
      "displayName": "Paolo Fornoni",
      "photoUrl": "",
      "userId": "04111805272867115673"
     },
     "user_tz": -120
    },
    "id": "agUD3jwo8uOC",
    "outputId": "f260b9b5-7329-4cd3-d1f0-da801fd012ca"
   },
   "outputs": [
    {
     "data": {
      "text/plain": [
       "35"
      ]
     },
     "execution_count": 14,
     "metadata": {},
     "output_type": "execute_result"
    }
   ],
   "source": [
    "x_max=len(X.columns)\n",
    "x_max"
   ]
  },
  {
   "cell_type": "code",
   "execution_count": 15,
   "metadata": {
    "colab": {
     "base_uri": "https://localhost:8080/",
     "height": 279
    },
    "executionInfo": {
     "elapsed": 547,
     "status": "ok",
     "timestamp": 1629733003677,
     "user": {
      "displayName": "Paolo Fornoni",
      "photoUrl": "",
      "userId": "04111805272867115673"
     },
     "user_tz": -120
    },
    "id": "-iUXsflQ8vuG",
    "outputId": "6fd2f3f0-f48f-4da6-c094-e356374f43a2"
   },
   "outputs": [
    {
     "data": {
      "image/png": "[encoded data removed]",
      "text/plain": [
       "<Figure size 648x288 with 1 Axes>"
      ]
     },
     "metadata": {
      "needs_background": "light"
     },
     "output_type": "display_data"
    }
   ],
   "source": [
    "plt.figure(figsize=(9, 4))\n",
    "plt.plot(full_fitted_model.explained_variance_ratio_, '--o');\n",
    "plt.xticks(np.arange(0,x_max,1),labels=np.arange(1,x_max+1,1));\n",
    "plt.xlabel(\"Feature\");\n",
    "plt.ylabel(\"Percentage of explained variance\");\n",
    "plt.xticks(np.arange(0,x_max,1),labels=np.arange(1,x_max+1,1));\n",
    "plt.yticks(np.arange(0.0,0.31,.1),labels=[\"%.0f%%\"%(x*100) for x in np.arange(0.0,0.31,.1)]);\n",
    "plt.ylim([0.0,0.31]);"
   ]
  },
  {
   "cell_type": "code",
   "execution_count": 16,
   "metadata": {
    "colab": {
     "base_uri": "https://localhost:8080/",
     "height": 279
    },
    "executionInfo": {
     "elapsed": 379,
     "status": "ok",
     "timestamp": 1629733004052,
     "user": {
      "displayName": "Paolo Fornoni",
      "photoUrl": "",
      "userId": "04111805272867115673"
     },
     "user_tz": -120
    },
    "id": "AwVeltcL8xFl",
    "outputId": "dda3daa1-bdba-4dae-ae1a-8b95040959d1"
   },
   "outputs": [
    {
     "data": {
      "image/png": "[encoded data removed]",
      "text/plain": [
       "<Figure size 648x288 with 1 Axes>"
      ]
     },
     "metadata": {
      "needs_background": "light"
     },
     "output_type": "display_data"
    }
   ],
   "source": [
    "plt.figure(figsize=(9, 4))\n",
    "plt.plot(full_fitted_model.explained_variance_ratio_.cumsum(), '--o');\n",
    "plt.xticks(np.arange(0,x_max,1),labels=np.arange(1,x_max+1,1));\n",
    "plt.yticks(np.arange(0.4,1.1,.1),labels=[\"%.0f%%\"%(x*100) for x in np.arange(0.4,1.1,.1)]);\n",
    "plt.ylim([0.4,1.05]);\n",
    "plt.plot([0,x_max],[.9,.9],':');\n",
    "plt.plot([0,x_max],[.8,.8],':');\n",
    "plt.xlabel(\"Number of Features Considered\");\n",
    "plt.ylabel(\"Cumulative Explained Variance Ratio\");"
   ]
  },
  {
   "cell_type": "code",
   "execution_count": 17,
   "metadata": {
    "colab": {
     "base_uri": "https://localhost:8080/"
    },
    "executionInfo": {
     "elapsed": 2202,
     "status": "ok",
     "timestamp": 1629733006251,
     "user": {
      "displayName": "Paolo Fornoni",
      "photoUrl": "",
      "userId": "04111805272867115673"
     },
     "user_tz": -120
    },
    "id": "L4ORkzSt8zFf",
    "outputId": "73b50b9b-ee63-4838-8eb4-5a963c35c3f3"
   },
   "outputs": [
    {
     "name": "stdout",
     "output_type": "stream",
     "text": [
      "    Explained Variance = 0.867\n",
      "Reduced data set shape = (407100, 10)\n"
     ]
    }
   ],
   "source": [
    "feature_selection_pca_model = PCA(n_components=10)\n",
    "fitted_model = feature_selection_pca_model.fit(df_norm[input_variables])\n",
    "\n",
    "X_selected_features_pca = fitted_model.transform(df_norm[input_variables])\n",
    "print(\"    Explained Variance = %.3f\" % fitted_model.explained_variance_ratio_.cumsum()[-1])\n",
    "print(\"Reduced data set shape =\",X_selected_features_pca.shape)"
   ]
  },
  {
   "cell_type": "code",
   "execution_count": 18,
   "metadata": {
    "colab": {
     "base_uri": "https://localhost:8080/"
    },
    "executionInfo": {
     "elapsed": 2208,
     "status": "ok",
     "timestamp": 1629733008457,
     "user": {
      "displayName": "Paolo Fornoni",
      "photoUrl": "",
      "userId": "04111805272867115673"
     },
     "user_tz": -120
    },
    "id": "k22aGLP787__",
    "outputId": "0febd46b-eb43-4088-940d-cc0ea3e8f49f"
   },
   "outputs": [
    {
     "name": "stdout",
     "output_type": "stream",
     "text": [
      "PCA Model R2 Mean 0.148 StdDev 0.011\n"
     ]
    }
   ],
   "source": [
    "pca_model = linear_model.LinearRegression()\n",
    "pca_scores = cross_val_score(pca_model, X_selected_features_pca, y, cv=kfolds)\n",
    "pca_scores.mean()\n",
    "print(\"PCA Model R2 Mean %.3f StdDev %.3f\"%(pca_scores.mean(),pca_scores.std()))"
   ]
  },
  {
   "cell_type": "markdown",
   "metadata": {
    "id": "hoYhGAta8_u1"
   },
   "source": [
    "#Random Forest feature importance"
   ]
  },
  {
   "cell_type": "code",
   "execution_count": 21,
   "metadata": {
    "colab": {
     "base_uri": "https://localhost:8080/"
    },
    "executionInfo": {
     "elapsed": 366787,
     "status": "ok",
     "timestamp": 1629733375240,
     "user": {
      "displayName": "Paolo Fornoni",
      "photoUrl": "",
      "userId": "04111805272867115673"
     },
     "user_tz": -120
    },
    "id": "YYzR28IO886o",
    "outputId": "7ea460dd-591e-4bb6-bca6-acb970fbd8a2"
   },
   "outputs": [
    {
     "data": {
      "text/plain": [
       "array([0.03290028, 0.0626166 , 0.04975536, 0.0676211 , 0.01000667,\n",
       "       0.0108991 , 0.01282698, 0.00807474, 0.00992167, 0.04756347,\n",
       "       0.04134442, 0.0281165 , 0.0061513 , 0.01464044, 0.00660673,\n",
       "       0.01505031, 0.00955675, 0.01015093, 0.02132474, 0.00947619,\n",
       "       0.11065409, 0.0994063 , 0.01828841, 0.0071208 , 0.0144167 ,\n",
       "       0.00518492, 0.02675669, 0.01116129, 0.01219857, 0.01314937,\n",
       "       0.01293892, 0.0232959 , 0.03650271, 0.01261008, 0.12171099])"
      ]
     },
     "execution_count": 21,
     "metadata": {},
     "output_type": "execute_result"
    }
   ],
   "source": [
    "forest = ExtraTreesRegressor(n_estimators=100, random_state=0)\n",
    "forest.fit(df_norm[input_variables], df_norm[target_variable])\n",
    "importances = forest.feature_importances_\n",
    "importances"
   ]
  },
  {
   "cell_type": "code",
   "execution_count": 22,
   "metadata": {
    "colab": {
     "base_uri": "https://localhost:8080/",
     "height": 1000
    },
    "executionInfo": {
     "elapsed": 2280,
     "status": "ok",
     "timestamp": 1629733377517,
     "user": {
      "displayName": "Paolo Fornoni",
      "photoUrl": "",
      "userId": "04111805272867115673"
     },
     "user_tz": -120
    },
    "id": "O_V3QzOj9BMS",
    "outputId": "7e5ee311-8c7e-4281-d97f-57cdb52339dc"
   },
   "outputs": [
    {
     "name": "stdout",
     "output_type": "stream",
     "text": [
      "Feature ranking:\n",
      " 1. feature 34 traffic (0.122)\n",
      " 2. feature 20  height (0.111)\n",
      " 3. feature 21   built (0.099)\n",
      " 4. feature  3 longitude (0.068)\n",
      " 5. feature  1   Hours (0.063)\n",
      " 6. feature  2 latitude (0.050)\n",
      " 7. feature  9     cvl (0.048)\n",
      " 8. feature 10     cvh (0.041)\n",
      " 9. feature 32 CO_tc_add_trend (0.037)\n",
      "10. feature  0    Days (0.033)\n",
      "11. feature 11      sp (0.028)\n",
      "12. feature 26   CO_tc (0.027)\n",
      "13. feature 31 NO2_tc_add_trend (0.023)\n",
      "14. feature 18 tot_wind_shift_12 (0.021)\n",
      "15. feature 22   NO_tc (0.018)\n",
      "16. feature 15     tcw (0.015)\n",
      "17. feature 13  sp_hum (0.015)\n",
      "18. feature 24  CH4_tc (0.014)\n",
      "19. feature 29 CO2_tc_add_trend (0.013)\n",
      "20. feature 30 CH4_tc_add_trend (0.013)\n",
      "21. feature  6     hcc (0.013)\n",
      "22. feature 33 O3_tc_add_trend (0.013)\n",
      "23. feature 28 NO_tc_add_trend (0.012)\n",
      "24. feature 27   O3_tc (0.011)\n",
      "25. feature  5     v10 (0.011)\n",
      "26. feature 17 tmp_shift_8 (0.010)\n",
      "27. feature  4     u10 (0.010)\n",
      "28. feature  8     tcc (0.010)\n",
      "29. feature 16 tot_wind (0.010)\n",
      "30. feature 19 rel_hum_shift_8 (0.009)\n",
      "31. feature  7     lcc (0.008)\n",
      "32. feature 23  CO2_tc (0.007)\n",
      "33. feature 14 rel_hum (0.007)\n",
      "34. feature 12     tmp (0.006)\n",
      "35. feature 25  NO2_tc (0.005)\n"
     ]
    },
    {
     "data": {
      "image/png": "[encoded data removed]",
      "text/plain": [
       "<Figure size 648x432 with 1 Axes>"
      ]
     },
     "metadata": {
      "needs_background": "light"
     },
     "output_type": "display_data"
    }
   ],
   "source": [
    "importances = forest.feature_importances_\n",
    "std = np.std([tree.feature_importances_ for tree in forest.estimators_],\n",
    "             axis=0)\n",
    "indices = np.argsort(importances)[::-1]\n",
    "\n",
    "# Print the feature ranking\n",
    "print(\"Feature ranking:\")\n",
    "\n",
    "for f in range(df_norm[input_variables].shape[1]):\n",
    "    print(\"%2d. feature %2d %7s (%.3f)\" % (f + 1, indices[f], df_norm[input_variables].columns[indices[f]], importances[indices[f]]))\n",
    "\n",
    "# Plot the feature importances of the forest\n",
    "plt.figure(figsize=(9, 6))\n",
    "plt.title(\"Feature importances\")\n",
    "plt.bar(range(df_norm[input_variables].shape[1]), importances[indices],\n",
    "       color=\"r\", yerr=std[indices], align=\"center\")\n",
    "plt.xticks(range(df_norm[input_variables].shape[1]), df_norm[input_variables].columns[indices],rotation=90)\n",
    "plt.xlim([-1, df_norm[input_variables].shape[1]])\n",
    "plt.show()"
   ]
  },
  {
   "cell_type": "markdown",
   "metadata": {
    "id": "nCrjeHDe9JKg"
   },
   "source": [
    "#XGboost regressor"
   ]
  },
  {
   "cell_type": "markdown",
   "metadata": {
    "id": "DlIamRfv9ETm"
   },
   "source": [
    "Split train and test"
   ]
  },
  {
   "cell_type": "code",
   "execution_count": 23,
   "metadata": {
    "executionInfo": {
     "elapsed": 363,
     "status": "ok",
     "timestamp": 1629733377875,
     "user": {
      "displayName": "Paolo Fornoni",
      "photoUrl": "",
      "userId": "04111805272867115673"
     },
     "user_tz": -120
    },
    "id": "7oVidbsB9CWs"
   },
   "outputs": [],
   "source": [
    "X_train, X_test, y_train, y_test = train_test_split(df_norm[input_variables], df_norm[target_variable], test_size=0.20, random_state=42)"
   ]
  },
  {
   "cell_type": "markdown",
   "metadata": {
    "id": "0nofG7qXQg3q"
   },
   "source": [
    "XGboost regressor"
   ]
  },
  {
   "cell_type": "code",
   "execution_count": 24,
   "metadata": {
    "colab": {
     "base_uri": "https://localhost:8080/"
    },
    "executionInfo": {
     "elapsed": 87285,
     "status": "ok",
     "timestamp": 1629733465158,
     "user": {
      "displayName": "Paolo Fornoni",
      "photoUrl": "",
      "userId": "04111805272867115673"
     },
     "user_tz": -120
    },
    "id": "dUAJC87U9HQc",
    "outputId": "7027221b-8bb5-4189-f61e-79cbee3cbb01"
   },
   "outputs": [
    {
     "name": "stdout",
     "output_type": "stream",
     "text": [
      "[15:42:57] WARNING: /workspace/src/objective/regression_obj.cu:152: reg:linear is now deprecated in favor of reg:squarederror.\n",
      "XGBoost validation MAE [s] =  0.008952175514710996\n"
     ]
    }
   ],
   "source": [
    "XGBModel = XGBRegressor()\n",
    "XGBModel.fit(X_train, y_train, verbose=False)\n",
    "\n",
    "# Get the mean absolute error on the validation data :\n",
    "XGBpredictions = XGBModel.predict(X_test)\n",
    "MAE = mean_absolute_error(y_test , XGBpredictions)\n",
    "print('XGBoost validation MAE [s] = ', MAE )"
   ]
  },
  {
   "cell_type": "code",
   "execution_count": 25,
   "metadata": {
    "colab": {
     "base_uri": "https://localhost:8080/",
     "height": 385
    },
    "executionInfo": {
     "elapsed": 1226,
     "status": "ok",
     "timestamp": 1629733466380,
     "user": {
      "displayName": "Paolo Fornoni",
      "photoUrl": "",
      "userId": "04111805272867115673"
     },
     "user_tz": -120
    },
    "id": "U18tWlwm9L5N",
    "outputId": "7fcf5459-3d54-4404-d7dd-c42f98dcaf03"
   },
   "outputs": [
    {
     "data": {
      "text/plain": [
       "[]"
      ]
     },
     "execution_count": 25,
     "metadata": {},
     "output_type": "execute_result"
    },
    {
     "data": {
      "image/png": "[encoded data removed]",
      "text/plain": [
       "<Figure size 576x432 with 1 Axes>"
      ]
     },
     "metadata": {
      "needs_background": "light"
     },
     "output_type": "display_data"
    }
   ],
   "source": [
    "test_predictions = XGBpredictions\n",
    "\n",
    "plt.figure(figsize=(8, 6))\n",
    "plt.axes(aspect='equal')\n",
    "plt.scatter(y_test.values.tolist(), test_predictions.tolist())\n",
    "plt.xlabel('True Values ')\n",
    "plt.ylabel('Predictions ')\n",
    "plt.plot()"
   ]
  },
  {
   "cell_type": "code",
   "execution_count": 26,
   "metadata": {
    "colab": {
     "base_uri": "https://localhost:8080/",
     "height": 370
    },
    "executionInfo": {
     "elapsed": 613,
     "status": "ok",
     "timestamp": 1629733466990,
     "user": {
      "displayName": "Paolo Fornoni",
      "photoUrl": "",
      "userId": "04111805272867115673"
     },
     "user_tz": -120
    },
    "id": "A2_RXG0r9MDX",
    "outputId": "98fa2cf9-7ce8-47a3-9be0-ac8661baea1e"
   },
   "outputs": [
    {
     "data": {
      "image/png": "[encoded data removed]",
      "text/plain": [
       "<Figure size 1800x432 with 1 Axes>"
      ]
     },
     "metadata": {
      "needs_background": "light"
     },
     "output_type": "display_data"
    }
   ],
   "source": [
    "plt.figure(figsize=(25, 6))\n",
    "plt.plot(y_test.values.tolist(), label='Expected')\n",
    "plt.plot(test_predictions.tolist(), label='Predicted')\n",
    "plt.legend()\n",
    "plt.show()"
   ]
  },
  {
   "cell_type": "code",
   "execution_count": 26,
   "metadata": {
    "executionInfo": {
     "elapsed": 7,
     "status": "ok",
     "timestamp": 1629733466991,
     "user": {
      "displayName": "Paolo Fornoni",
      "photoUrl": "",
      "userId": "04111805272867115673"
     },
     "user_tz": -120
    },
    "id": "VSzPg7tT9NpY"
   },
   "outputs": [],
   "source": []
  }
 ],
 "metadata": {
  "colab": {
   "authorship_tag": "ABX9TyOZwMcoXd2cKy/geHQBmJZk",
   "collapsed_sections": [],
   "name": "CO_baseline_model.ipynb",
   "provenance": []
  },
  "kernelspec": {
   "display_name": "Python 3 (ipykernel)",
   "language": "python",
   "name": "python3"
  },
  "language_info": {
   "codemirror_mode": {
    "name": "ipython",
    "version": 3
   },
   "file_extension": ".py",
   "mimetype": "text/x-python",
   "name": "python",
   "nbconvert_exporter": "python",
   "pygments_lexer": "ipython3",
   "version": "3.8.6"
  }
 },
 "nbformat": 4,
 "nbformat_minor": 4
}
