{
 "cells": [
  {
   "cell_type": "markdown",
   "metadata": {
    "id": "_ViUvueofTP2"
   },
   "source": [
    "# Machine learning model for emissions estimations from concentrations"
   ]
  },
  {
   "cell_type": "code",
   "execution_count": 1,
   "metadata": {
    "id": "3RAwjTRed3h3"
   },
   "outputs": [
    {
     "name": "stderr",
     "output_type": "stream",
     "text": [
      "2021-08-25 18:58:57.527706: W tensorflow/stream_executor/platform/default/dso_loader.cc:64] Could not load dynamic library 'libcudart.so.11.0'; dlerror: libcudart.so.11.0: cannot open shared object file: No such file or directory\n",
      "2021-08-25 18:58:57.527743: I tensorflow/stream_executor/cuda/cudart_stub.cc:29] Ignore above cudart dlerror if you do not have a GPU set up on your machine.\n"
     ]
    }
   ],
   "source": [
    "%matplotlib inline\n",
    "import matplotlib.pyplot as plt\n",
    "import tensorflow as tf\n",
    "import numpy as np\n",
    "import pandas as pd\n",
    "import os\n",
    "from sklearn.preprocessing import MinMaxScaler"
   ]
  },
  {
   "cell_type": "code",
   "execution_count": 2,
   "metadata": {
    "id": "ta-vBRA1d5bW"
   },
   "outputs": [],
   "source": [
    "from tensorflow.keras.models import Sequential\n",
    "from tensorflow.keras.layers import Input, Dense, GRU, Embedding, LSTM\n",
    "from tensorflow.keras.optimizers import RMSprop, Adam\n",
    "from tensorflow.keras.callbacks import EarlyStopping, ModelCheckpoint, TensorBoard, ReduceLROnPlateau\n",
    "from tensorflow.keras.backend import square, mean"
   ]
  },
  {
   "cell_type": "markdown",
   "metadata": {
    "id": "vnBbrd1NffeU"
   },
   "source": [
    "In this notebook we will apply a Recurrrent Neural Network model to a dataset of concentrations in order to estimate emissions "
   ]
  },
  {
   "cell_type": "code",
   "execution_count": null,
   "metadata": {
    "colab": {
     "base_uri": "https://localhost:8080/"
    },
    "executionInfo": {
     "elapsed": 24319,
     "status": "ok",
     "timestamp": 1629674962162,
     "user": {
      "displayName": "Nicolò Brunello",
      "photoUrl": "",
      "userId": "03655516846124206133"
     },
     "user_tz": -120
    },
    "id": "kD6_KnPuhLN6",
    "outputId": "63a4366e-15dd-45ac-83e3-e5d6ee3e026d"
   },
   "outputs": [
    {
     "name": "stdout",
     "output_type": "stream",
     "text": [
      "Mounted at /content/drive\n"
     ]
    }
   ],
   "source": [
    "from google.colab import drive\n",
    "drive.mount('/content/drive')"
   ]
  },
  {
   "cell_type": "code",
   "execution_count": null,
   "metadata": {
    "colab": {
     "base_uri": "https://localhost:8080/"
    },
    "executionInfo": {
     "elapsed": 11,
     "status": "ok",
     "timestamp": 1629674962164,
     "user": {
      "displayName": "Nicolò Brunello",
      "photoUrl": "",
      "userId": "03655516846124206133"
     },
     "user_tz": -120
    },
    "id": "LAvavM6FhN9x",
    "outputId": "3d17fff7-ccf7-49ff-e4ba-4f756bae270c"
   },
   "outputs": [
    {
     "name": "stdout",
     "output_type": "stream",
     "text": [
      "/content/drive/My Drive/ESoWC\n"
     ]
    }
   ],
   "source": [
    "%cd /content/drive/My Drive/ESoWC"
   ]
  },
  {
   "cell_type": "markdown",
   "metadata": {
    "id": "oxxH_TYsfwUX"
   },
   "source": [
    "## Datasets"
   ]
  },
  {
   "cell_type": "code",
   "execution_count": 10,
   "metadata": {},
   "outputs": [],
   "source": [
    "# Better to use os lib to change dir than magic function\n",
    "import os\n",
    "os.chdir('../../')"
   ]
  },
  {
   "cell_type": "code",
   "execution_count": 14,
   "metadata": {
    "colab": {
     "base_uri": "https://localhost:8080/"
    },
    "executionInfo": {
     "elapsed": 3555,
     "status": "ok",
     "timestamp": 1629674981695,
     "user": {
      "displayName": "Nicolò Brunello",
      "photoUrl": "",
      "userId": "03655516846124206133"
     },
     "user_tz": -120
    },
    "id": "wZduOleIhQ-d",
    "outputId": "b3e4bf19-08a0-4278-c9d7-ef181d44f215"
   },
   "outputs": [
    {
     "name": "stdout",
     "output_type": "stream",
     "text": [
      "Opening dataset at :  data/totalcolConcentretations_featured+Emissions.nc\n",
      "Done!\n"
     ]
    }
   ],
   "source": [
    "from src.data.make_dataset import CustomDataset\n",
    "\n",
    "fn = 'data/totalcolConcentretations_featured+Emissions.nc'\n",
    "ds = CustomDataset(fn)"
   ]
  },
  {
   "cell_type": "markdown",
   "metadata": {
    "id": "iUCSTfPwD3zv"
   },
   "source": [
    "Assuming data are already cleaned from NaN and error values"
   ]
  },
  {
   "cell_type": "code",
   "execution_count": 15,
   "metadata": {
    "colab": {
     "base_uri": "https://localhost:8080/",
     "height": 819
    },
    "executionInfo": {
     "elapsed": 637,
     "status": "ok",
     "timestamp": 1629675288778,
     "user": {
      "displayName": "Nicolò Brunello",
      "photoUrl": "",
      "userId": "03655516846124206133"
     },
     "user_tz": -120
    },
    "id": "tE8jjSmghxZU",
    "outputId": "9d456a4b-36ef-4907-fe3d-97e2b1a0ccee"
   },
   "outputs": [
    {
     "data": {
      "text/html": [
       "<div>\n",
       "<style scoped>\n",
       "    .dataframe tbody tr th:only-of-type {\n",
       "        vertical-align: middle;\n",
       "    }\n",
       "\n",
       "    .dataframe tbody tr th {\n",
       "        vertical-align: top;\n",
       "    }\n",
       "\n",
       "    .dataframe thead th {\n",
       "        text-align: right;\n",
       "    }\n",
       "</style>\n",
       "<table border=\"1\" class=\"dataframe\">\n",
       "  <thead>\n",
       "    <tr style=\"text-align: right;\">\n",
       "      <th></th>\n",
       "      <th>NO_tc</th>\n",
       "      <th>CO2_tc</th>\n",
       "      <th>CH4_tc</th>\n",
       "      <th>NO2_tc</th>\n",
       "      <th>CO_tc</th>\n",
       "      <th>O3_tc</th>\n",
       "      <th>EMISSIONS_2019</th>\n",
       "      <th>NO_tc_add_trend</th>\n",
       "      <th>CO2_tc_add_trend</th>\n",
       "      <th>CH4_tc_add_trend</th>\n",
       "      <th>NO2_tc_add_trend</th>\n",
       "      <th>CO_tc_add_trend</th>\n",
       "      <th>O3_tc_add_trend</th>\n",
       "    </tr>\n",
       "    <tr>\n",
       "      <th>time</th>\n",
       "      <th></th>\n",
       "      <th></th>\n",
       "      <th></th>\n",
       "      <th></th>\n",
       "      <th></th>\n",
       "      <th></th>\n",
       "      <th></th>\n",
       "      <th></th>\n",
       "      <th></th>\n",
       "      <th></th>\n",
       "      <th></th>\n",
       "      <th></th>\n",
       "      <th></th>\n",
       "    </tr>\n",
       "  </thead>\n",
       "  <tbody>\n",
       "    <tr>\n",
       "      <th>2019-05-01 02:00:00</th>\n",
       "      <td>4.242915e-07</td>\n",
       "      <td>412.077229</td>\n",
       "      <td>1872.138289</td>\n",
       "      <td>0.000005</td>\n",
       "      <td>0.001009</td>\n",
       "      <td>0.007920</td>\n",
       "      <td>1.405082e-13</td>\n",
       "      <td>0.000001</td>\n",
       "      <td>412.620326</td>\n",
       "      <td>1878.817495</td>\n",
       "      <td>0.000003</td>\n",
       "      <td>0.001065</td>\n",
       "      <td>0.007345</td>\n",
       "    </tr>\n",
       "    <tr>\n",
       "      <th>2019-05-01 03:00:00</th>\n",
       "      <td>6.189903e-07</td>\n",
       "      <td>412.136477</td>\n",
       "      <td>1873.024578</td>\n",
       "      <td>0.000004</td>\n",
       "      <td>0.001010</td>\n",
       "      <td>0.007859</td>\n",
       "      <td>1.354900e-13</td>\n",
       "      <td>0.000001</td>\n",
       "      <td>412.588503</td>\n",
       "      <td>1878.369642</td>\n",
       "      <td>0.000003</td>\n",
       "      <td>0.001063</td>\n",
       "      <td>0.007345</td>\n",
       "    </tr>\n",
       "    <tr>\n",
       "      <th>2019-05-01 04:00:00</th>\n",
       "      <td>8.136891e-07</td>\n",
       "      <td>412.195724</td>\n",
       "      <td>1873.910866</td>\n",
       "      <td>0.000004</td>\n",
       "      <td>0.001011</td>\n",
       "      <td>0.007797</td>\n",
       "      <td>1.354900e-13</td>\n",
       "      <td>0.000001</td>\n",
       "      <td>412.556680</td>\n",
       "      <td>1877.921788</td>\n",
       "      <td>0.000003</td>\n",
       "      <td>0.001062</td>\n",
       "      <td>0.007346</td>\n",
       "    </tr>\n",
       "    <tr>\n",
       "      <th>2019-05-01 05:00:00</th>\n",
       "      <td>1.008388e-06</td>\n",
       "      <td>412.254971</td>\n",
       "      <td>1874.797155</td>\n",
       "      <td>0.000003</td>\n",
       "      <td>0.001012</td>\n",
       "      <td>0.007736</td>\n",
       "      <td>1.455263e-13</td>\n",
       "      <td>0.000001</td>\n",
       "      <td>412.524857</td>\n",
       "      <td>1877.473935</td>\n",
       "      <td>0.000003</td>\n",
       "      <td>0.001061</td>\n",
       "      <td>0.007346</td>\n",
       "    </tr>\n",
       "    <tr>\n",
       "      <th>2019-05-01 06:00:00</th>\n",
       "      <td>1.203087e-06</td>\n",
       "      <td>412.314219</td>\n",
       "      <td>1875.683443</td>\n",
       "      <td>0.000003</td>\n",
       "      <td>0.001013</td>\n",
       "      <td>0.007674</td>\n",
       "      <td>2.107622e-13</td>\n",
       "      <td>0.000001</td>\n",
       "      <td>412.493034</td>\n",
       "      <td>1877.026081</td>\n",
       "      <td>0.000003</td>\n",
       "      <td>0.001059</td>\n",
       "      <td>0.007347</td>\n",
       "    </tr>\n",
       "    <tr>\n",
       "      <th>...</th>\n",
       "      <td>...</td>\n",
       "      <td>...</td>\n",
       "      <td>...</td>\n",
       "      <td>...</td>\n",
       "      <td>...</td>\n",
       "      <td>...</td>\n",
       "      <td>...</td>\n",
       "      <td>...</td>\n",
       "      <td>...</td>\n",
       "      <td>...</td>\n",
       "      <td>...</td>\n",
       "      <td>...</td>\n",
       "      <td>...</td>\n",
       "    </tr>\n",
       "    <tr>\n",
       "      <th>2019-05-30 04:00:00</th>\n",
       "      <td>8.918850e-07</td>\n",
       "      <td>411.606101</td>\n",
       "      <td>1828.754045</td>\n",
       "      <td>0.000004</td>\n",
       "      <td>0.000861</td>\n",
       "      <td>0.007447</td>\n",
       "      <td>6.011350e-11</td>\n",
       "      <td>0.000001</td>\n",
       "      <td>411.696930</td>\n",
       "      <td>1827.582561</td>\n",
       "      <td>0.000004</td>\n",
       "      <td>0.000845</td>\n",
       "      <td>0.007488</td>\n",
       "    </tr>\n",
       "    <tr>\n",
       "      <th>2019-05-30 05:00:00</th>\n",
       "      <td>1.105297e-06</td>\n",
       "      <td>411.585796</td>\n",
       "      <td>1828.908752</td>\n",
       "      <td>0.000003</td>\n",
       "      <td>0.000863</td>\n",
       "      <td>0.007429</td>\n",
       "      <td>8.706093e-11</td>\n",
       "      <td>0.000001</td>\n",
       "      <td>411.725047</td>\n",
       "      <td>1827.258201</td>\n",
       "      <td>0.000004</td>\n",
       "      <td>0.000845</td>\n",
       "      <td>0.007485</td>\n",
       "    </tr>\n",
       "    <tr>\n",
       "      <th>2019-05-30 06:00:00</th>\n",
       "      <td>1.318709e-06</td>\n",
       "      <td>411.565491</td>\n",
       "      <td>1829.063459</td>\n",
       "      <td>0.000003</td>\n",
       "      <td>0.000865</td>\n",
       "      <td>0.007411</td>\n",
       "      <td>2.259439e-10</td>\n",
       "      <td>0.000001</td>\n",
       "      <td>411.753164</td>\n",
       "      <td>1826.933842</td>\n",
       "      <td>0.000004</td>\n",
       "      <td>0.000845</td>\n",
       "      <td>0.007482</td>\n",
       "    </tr>\n",
       "    <tr>\n",
       "      <th>2019-05-30 07:00:00</th>\n",
       "      <td>1.349903e-06</td>\n",
       "      <td>411.463614</td>\n",
       "      <td>1829.071825</td>\n",
       "      <td>0.000003</td>\n",
       "      <td>0.000867</td>\n",
       "      <td>0.007411</td>\n",
       "      <td>3.358065e-10</td>\n",
       "      <td>0.000001</td>\n",
       "      <td>411.781281</td>\n",
       "      <td>1826.609482</td>\n",
       "      <td>0.000004</td>\n",
       "      <td>0.000845</td>\n",
       "      <td>0.007479</td>\n",
       "    </tr>\n",
       "    <tr>\n",
       "      <th>2019-05-30 08:00:00</th>\n",
       "      <td>1.381096e-06</td>\n",
       "      <td>411.361737</td>\n",
       "      <td>1829.080191</td>\n",
       "      <td>0.000003</td>\n",
       "      <td>0.000868</td>\n",
       "      <td>0.007410</td>\n",
       "      <td>3.440980e-10</td>\n",
       "      <td>0.000001</td>\n",
       "      <td>411.809399</td>\n",
       "      <td>1826.285123</td>\n",
       "      <td>0.000004</td>\n",
       "      <td>0.000845</td>\n",
       "      <td>0.007476</td>\n",
       "    </tr>\n",
       "  </tbody>\n",
       "</table>\n",
       "<p>771007 rows × 13 columns</p>\n",
       "</div>"
      ],
      "text/plain": [
       "                            NO_tc      CO2_tc       CH4_tc    NO2_tc  \\\n",
       "time                                                                   \n",
       "2019-05-01 02:00:00  4.242915e-07  412.077229  1872.138289  0.000005   \n",
       "2019-05-01 03:00:00  6.189903e-07  412.136477  1873.024578  0.000004   \n",
       "2019-05-01 04:00:00  8.136891e-07  412.195724  1873.910866  0.000004   \n",
       "2019-05-01 05:00:00  1.008388e-06  412.254971  1874.797155  0.000003   \n",
       "2019-05-01 06:00:00  1.203087e-06  412.314219  1875.683443  0.000003   \n",
       "...                           ...         ...          ...       ...   \n",
       "2019-05-30 04:00:00  8.918850e-07  411.606101  1828.754045  0.000004   \n",
       "2019-05-30 05:00:00  1.105297e-06  411.585796  1828.908752  0.000003   \n",
       "2019-05-30 06:00:00  1.318709e-06  411.565491  1829.063459  0.000003   \n",
       "2019-05-30 07:00:00  1.349903e-06  411.463614  1829.071825  0.000003   \n",
       "2019-05-30 08:00:00  1.381096e-06  411.361737  1829.080191  0.000003   \n",
       "\n",
       "                        CO_tc     O3_tc  EMISSIONS_2019  NO_tc_add_trend  \\\n",
       "time                                                                       \n",
       "2019-05-01 02:00:00  0.001009  0.007920    1.405082e-13         0.000001   \n",
       "2019-05-01 03:00:00  0.001010  0.007859    1.354900e-13         0.000001   \n",
       "2019-05-01 04:00:00  0.001011  0.007797    1.354900e-13         0.000001   \n",
       "2019-05-01 05:00:00  0.001012  0.007736    1.455263e-13         0.000001   \n",
       "2019-05-01 06:00:00  0.001013  0.007674    2.107622e-13         0.000001   \n",
       "...                       ...       ...             ...              ...   \n",
       "2019-05-30 04:00:00  0.000861  0.007447    6.011350e-11         0.000001   \n",
       "2019-05-30 05:00:00  0.000863  0.007429    8.706093e-11         0.000001   \n",
       "2019-05-30 06:00:00  0.000865  0.007411    2.259439e-10         0.000001   \n",
       "2019-05-30 07:00:00  0.000867  0.007411    3.358065e-10         0.000001   \n",
       "2019-05-30 08:00:00  0.000868  0.007410    3.440980e-10         0.000001   \n",
       "\n",
       "                     CO2_tc_add_trend  CH4_tc_add_trend  NO2_tc_add_trend  \\\n",
       "time                                                                        \n",
       "2019-05-01 02:00:00        412.620326       1878.817495          0.000003   \n",
       "2019-05-01 03:00:00        412.588503       1878.369642          0.000003   \n",
       "2019-05-01 04:00:00        412.556680       1877.921788          0.000003   \n",
       "2019-05-01 05:00:00        412.524857       1877.473935          0.000003   \n",
       "2019-05-01 06:00:00        412.493034       1877.026081          0.000003   \n",
       "...                               ...               ...               ...   \n",
       "2019-05-30 04:00:00        411.696930       1827.582561          0.000004   \n",
       "2019-05-30 05:00:00        411.725047       1827.258201          0.000004   \n",
       "2019-05-30 06:00:00        411.753164       1826.933842          0.000004   \n",
       "2019-05-30 07:00:00        411.781281       1826.609482          0.000004   \n",
       "2019-05-30 08:00:00        411.809399       1826.285123          0.000004   \n",
       "\n",
       "                     CO_tc_add_trend  O3_tc_add_trend  \n",
       "time                                                   \n",
       "2019-05-01 02:00:00         0.001065         0.007345  \n",
       "2019-05-01 03:00:00         0.001063         0.007345  \n",
       "2019-05-01 04:00:00         0.001062         0.007346  \n",
       "2019-05-01 05:00:00         0.001061         0.007346  \n",
       "2019-05-01 06:00:00         0.001059         0.007347  \n",
       "...                              ...              ...  \n",
       "2019-05-30 04:00:00         0.000845         0.007488  \n",
       "2019-05-30 05:00:00         0.000845         0.007485  \n",
       "2019-05-30 06:00:00         0.000845         0.007482  \n",
       "2019-05-30 07:00:00         0.000845         0.007479  \n",
       "2019-05-30 08:00:00         0.000845         0.007476  \n",
       "\n",
       "[771007 rows x 13 columns]"
      ]
     },
     "execution_count": 15,
     "metadata": {},
     "output_type": "execute_result"
    }
   ],
   "source": [
    "df = ds.get_dataset().to_dataframe().dropna() # drop nan because \n",
    "df = df.reset_index().drop(columns=['latitude', 'longitude']).set_index('time')\n",
    "df"
   ]
  },
  {
   "cell_type": "code",
   "execution_count": 16,
   "metadata": {
    "colab": {
     "base_uri": "https://localhost:8080/",
     "height": 319
    },
    "executionInfo": {
     "elapsed": 414,
     "status": "ok",
     "timestamp": 1629675297637,
     "user": {
      "displayName": "Nicolò Brunello",
      "photoUrl": "",
      "userId": "03655516846124206133"
     },
     "user_tz": -120
    },
    "id": "qmn4UZnjB09X",
    "outputId": "1b62a797-fec1-476c-c8af-f581232556ff"
   },
   "outputs": [
    {
     "data": {
      "text/html": [
       "<div>\n",
       "<style scoped>\n",
       "    .dataframe tbody tr th:only-of-type {\n",
       "        vertical-align: middle;\n",
       "    }\n",
       "\n",
       "    .dataframe tbody tr th {\n",
       "        vertical-align: top;\n",
       "    }\n",
       "\n",
       "    .dataframe thead th {\n",
       "        text-align: right;\n",
       "    }\n",
       "</style>\n",
       "<table border=\"1\" class=\"dataframe\">\n",
       "  <thead>\n",
       "    <tr style=\"text-align: right;\">\n",
       "      <th></th>\n",
       "      <th>NO_tc</th>\n",
       "      <th>CO2_tc</th>\n",
       "      <th>CH4_tc</th>\n",
       "      <th>NO2_tc</th>\n",
       "      <th>CO_tc</th>\n",
       "      <th>O3_tc</th>\n",
       "      <th>EMISSIONS_2019</th>\n",
       "      <th>NO_tc_add_trend</th>\n",
       "      <th>CO2_tc_add_trend</th>\n",
       "      <th>CH4_tc_add_trend</th>\n",
       "      <th>NO2_tc_add_trend</th>\n",
       "      <th>CO_tc_add_trend</th>\n",
       "      <th>O3_tc_add_trend</th>\n",
       "    </tr>\n",
       "  </thead>\n",
       "  <tbody>\n",
       "    <tr>\n",
       "      <th>count</th>\n",
       "      <td>7.710070e+05</td>\n",
       "      <td>771007.000000</td>\n",
       "      <td>771007.000000</td>\n",
       "      <td>771007.000000</td>\n",
       "      <td>771007.000000</td>\n",
       "      <td>771007.000000</td>\n",
       "      <td>7.710070e+05</td>\n",
       "      <td>7.710070e+05</td>\n",
       "      <td>771007.000000</td>\n",
       "      <td>771007.000000</td>\n",
       "      <td>7.710070e+05</td>\n",
       "      <td>771007.000000</td>\n",
       "      <td>771007.000000</td>\n",
       "    </tr>\n",
       "    <tr>\n",
       "      <th>mean</th>\n",
       "      <td>1.152832e-06</td>\n",
       "      <td>411.058885</td>\n",
       "      <td>1839.107634</td>\n",
       "      <td>0.000004</td>\n",
       "      <td>0.000877</td>\n",
       "      <td>0.007968</td>\n",
       "      <td>1.389303e-10</td>\n",
       "      <td>1.151165e-06</td>\n",
       "      <td>411.060834</td>\n",
       "      <td>1839.187605</td>\n",
       "      <td>3.860907e-06</td>\n",
       "      <td>0.000878</td>\n",
       "      <td>0.007966</td>\n",
       "    </tr>\n",
       "    <tr>\n",
       "      <th>std</th>\n",
       "      <td>5.951913e-07</td>\n",
       "      <td>0.954090</td>\n",
       "      <td>11.698762</td>\n",
       "      <td>0.000002</td>\n",
       "      <td>0.000087</td>\n",
       "      <td>0.000574</td>\n",
       "      <td>2.437112e-10</td>\n",
       "      <td>1.800572e-07</td>\n",
       "      <td>0.912635</td>\n",
       "      <td>11.001448</td>\n",
       "      <td>1.283818e-06</td>\n",
       "      <td>0.000085</td>\n",
       "      <td>0.000542</td>\n",
       "    </tr>\n",
       "    <tr>\n",
       "      <th>min</th>\n",
       "      <td>3.080339e-08</td>\n",
       "      <td>406.511401</td>\n",
       "      <td>1787.871313</td>\n",
       "      <td>0.000001</td>\n",
       "      <td>0.000570</td>\n",
       "      <td>0.006591</td>\n",
       "      <td>4.926107e-15</td>\n",
       "      <td>7.781565e-07</td>\n",
       "      <td>407.145688</td>\n",
       "      <td>1799.198493</td>\n",
       "      <td>3.108598e-07</td>\n",
       "      <td>0.000583</td>\n",
       "      <td>0.006729</td>\n",
       "    </tr>\n",
       "    <tr>\n",
       "      <th>25%</th>\n",
       "      <td>6.736950e-07</td>\n",
       "      <td>410.495303</td>\n",
       "      <td>1832.186768</td>\n",
       "      <td>0.000003</td>\n",
       "      <td>0.000828</td>\n",
       "      <td>0.007595</td>\n",
       "      <td>2.523166e-11</td>\n",
       "      <td>1.039159e-06</td>\n",
       "      <td>410.510564</td>\n",
       "      <td>1832.879095</td>\n",
       "      <td>3.013398e-06</td>\n",
       "      <td>0.000832</td>\n",
       "      <td>0.007608</td>\n",
       "    </tr>\n",
       "    <tr>\n",
       "      <th>50%</th>\n",
       "      <td>1.264638e-06</td>\n",
       "      <td>411.219294</td>\n",
       "      <td>1839.320815</td>\n",
       "      <td>0.000004</td>\n",
       "      <td>0.000887</td>\n",
       "      <td>0.007859</td>\n",
       "      <td>7.129253e-11</td>\n",
       "      <td>1.115533e-06</td>\n",
       "      <td>411.220664</td>\n",
       "      <td>1839.077733</td>\n",
       "      <td>3.509161e-06</td>\n",
       "      <td>0.000887</td>\n",
       "      <td>0.007864</td>\n",
       "    </tr>\n",
       "    <tr>\n",
       "      <th>75%</th>\n",
       "      <td>1.564435e-06</td>\n",
       "      <td>411.741588</td>\n",
       "      <td>1846.178793</td>\n",
       "      <td>0.000005</td>\n",
       "      <td>0.000939</td>\n",
       "      <td>0.008225</td>\n",
       "      <td>1.740136e-10</td>\n",
       "      <td>1.215887e-06</td>\n",
       "      <td>411.716852</td>\n",
       "      <td>1845.571979</td>\n",
       "      <td>4.338641e-06</td>\n",
       "      <td>0.000937</td>\n",
       "      <td>0.008212</td>\n",
       "    </tr>\n",
       "    <tr>\n",
       "      <th>max</th>\n",
       "      <td>1.193310e-05</td>\n",
       "      <td>414.640254</td>\n",
       "      <td>1906.842689</td>\n",
       "      <td>0.000022</td>\n",
       "      <td>0.001149</td>\n",
       "      <td>0.010506</td>\n",
       "      <td>1.039173e-08</td>\n",
       "      <td>6.256935e-06</td>\n",
       "      <td>415.081281</td>\n",
       "      <td>1890.542741</td>\n",
       "      <td>1.651562e-05</td>\n",
       "      <td>0.001119</td>\n",
       "      <td>0.010332</td>\n",
       "    </tr>\n",
       "  </tbody>\n",
       "</table>\n",
       "</div>"
      ],
      "text/plain": [
       "              NO_tc         CO2_tc         CH4_tc         NO2_tc  \\\n",
       "count  7.710070e+05  771007.000000  771007.000000  771007.000000   \n",
       "mean   1.152832e-06     411.058885    1839.107634       0.000004   \n",
       "std    5.951913e-07       0.954090      11.698762       0.000002   \n",
       "min    3.080339e-08     406.511401    1787.871313       0.000001   \n",
       "25%    6.736950e-07     410.495303    1832.186768       0.000003   \n",
       "50%    1.264638e-06     411.219294    1839.320815       0.000004   \n",
       "75%    1.564435e-06     411.741588    1846.178793       0.000005   \n",
       "max    1.193310e-05     414.640254    1906.842689       0.000022   \n",
       "\n",
       "               CO_tc          O3_tc  EMISSIONS_2019  NO_tc_add_trend  \\\n",
       "count  771007.000000  771007.000000    7.710070e+05     7.710070e+05   \n",
       "mean        0.000877       0.007968    1.389303e-10     1.151165e-06   \n",
       "std         0.000087       0.000574    2.437112e-10     1.800572e-07   \n",
       "min         0.000570       0.006591    4.926107e-15     7.781565e-07   \n",
       "25%         0.000828       0.007595    2.523166e-11     1.039159e-06   \n",
       "50%         0.000887       0.007859    7.129253e-11     1.115533e-06   \n",
       "75%         0.000939       0.008225    1.740136e-10     1.215887e-06   \n",
       "max         0.001149       0.010506    1.039173e-08     6.256935e-06   \n",
       "\n",
       "       CO2_tc_add_trend  CH4_tc_add_trend  NO2_tc_add_trend  CO_tc_add_trend  \\\n",
       "count     771007.000000     771007.000000      7.710070e+05    771007.000000   \n",
       "mean         411.060834       1839.187605      3.860907e-06         0.000878   \n",
       "std            0.912635         11.001448      1.283818e-06         0.000085   \n",
       "min          407.145688       1799.198493      3.108598e-07         0.000583   \n",
       "25%          410.510564       1832.879095      3.013398e-06         0.000832   \n",
       "50%          411.220664       1839.077733      3.509161e-06         0.000887   \n",
       "75%          411.716852       1845.571979      4.338641e-06         0.000937   \n",
       "max          415.081281       1890.542741      1.651562e-05         0.001119   \n",
       "\n",
       "       O3_tc_add_trend  \n",
       "count    771007.000000  \n",
       "mean          0.007966  \n",
       "std           0.000542  \n",
       "min           0.006729  \n",
       "25%           0.007608  \n",
       "50%           0.007864  \n",
       "75%           0.008212  \n",
       "max           0.010332  "
      ]
     },
     "execution_count": 16,
     "metadata": {},
     "output_type": "execute_result"
    }
   ],
   "source": [
    "df.describe()"
   ]
  },
  {
   "cell_type": "markdown",
   "metadata": {
    "id": "2liksiW8CRqC"
   },
   "source": [
    "# Model for all locations\n"
   ]
  },
  {
   "cell_type": "markdown",
   "metadata": {
    "id": "4pLc3D77CXq9"
   },
   "source": [
    "Now let's try a model which takes into account all data points available. The way to do that is the following: \n",
    "- The data generator sample a tuple (latitude, longitude)\n",
    "- Then fixed the location the generator sample a subsequence from the given location "
   ]
  },
  {
   "cell_type": "markdown",
   "metadata": {
    "id": "GItnfleDDUav"
   },
   "source": [
    "Separate target variable from independent variables"
   ]
  },
  {
   "cell_type": "code",
   "execution_count": 17,
   "metadata": {
    "id": "VE0-cjJhDZ2D"
   },
   "outputs": [],
   "source": [
    "df_target = df['EMISSIONS_2019']\n",
    "df.drop(columns=['EMISSIONS_2019'], inplace=True)"
   ]
  },
  {
   "cell_type": "markdown",
   "metadata": {
    "id": "BTEF8iZwDs9I"
   },
   "source": [
    "Now we have a training set with 12 features and 771007 samples"
   ]
  },
  {
   "cell_type": "markdown",
   "metadata": {
    "id": "MuUoGLjMaf7D"
   },
   "source": [
    "### NumPy Arrays\n",
    "\n",
    "We now convert the Pandas data-frames to NumPy arrays that can be input to the neural network."
   ]
  },
  {
   "cell_type": "code",
   "execution_count": 18,
   "metadata": {
    "id": "3-Ws5EF4bcXN"
   },
   "outputs": [],
   "source": [
    "x_data = df.values\n"
   ]
  },
  {
   "cell_type": "code",
   "execution_count": 19,
   "metadata": {
    "id": "YUe2lxp5bmZ4"
   },
   "outputs": [],
   "source": [
    "y_data = df_target.values\n"
   ]
  },
  {
   "cell_type": "markdown",
   "metadata": {
    "id": "MjueLRIDnJxu"
   },
   "source": [
    "This is the number of observations (aka. data-points or samples) in the data-set:"
   ]
  },
  {
   "cell_type": "code",
   "execution_count": 20,
   "metadata": {
    "colab": {
     "base_uri": "https://localhost:8080/"
    },
    "executionInfo": {
     "elapsed": 46,
     "status": "ok",
     "timestamp": 1629675307388,
     "user": {
      "displayName": "Nicolò Brunello",
      "photoUrl": "",
      "userId": "03655516846124206133"
     },
     "user_tz": -120
    },
    "id": "dM0GUFrVnJxu",
    "outputId": "2dcaaf86-bd7c-465b-f2ec-395736e62c83"
   },
   "outputs": [
    {
     "data": {
      "text/plain": [
       "771007"
      ]
     },
     "execution_count": 20,
     "metadata": {},
     "output_type": "execute_result"
    }
   ],
   "source": [
    "num_data = len(x_data)\n",
    "num_data"
   ]
  },
  {
   "cell_type": "markdown",
   "metadata": {
    "id": "4WZHaFiDnJxu"
   },
   "source": [
    "This is the fraction of the data-set that will be used for the training-set:"
   ]
  },
  {
   "cell_type": "code",
   "execution_count": 21,
   "metadata": {
    "id": "1-o2WkYSnJxv"
   },
   "outputs": [],
   "source": [
    "train_split = 0.7"
   ]
  },
  {
   "cell_type": "markdown",
   "metadata": {
    "id": "dFcUQPTlnJxv"
   },
   "source": [
    "This is the number of observations in the training-set:"
   ]
  },
  {
   "cell_type": "code",
   "execution_count": 22,
   "metadata": {
    "colab": {
     "base_uri": "https://localhost:8080/"
    },
    "executionInfo": {
     "elapsed": 42,
     "status": "ok",
     "timestamp": 1629675307389,
     "user": {
      "displayName": "Nicolò Brunello",
      "photoUrl": "",
      "userId": "03655516846124206133"
     },
     "user_tz": -120
    },
    "id": "S6M4s1A2nJxv",
    "outputId": "8b81e5c7-a7ac-4de4-dc3e-21d06c0d0827"
   },
   "outputs": [
    {
     "data": {
      "text/plain": [
       "539704"
      ]
     },
     "execution_count": 22,
     "metadata": {},
     "output_type": "execute_result"
    }
   ],
   "source": [
    "num_train = int(train_split * num_data)\n",
    "num_train"
   ]
  },
  {
   "cell_type": "markdown",
   "metadata": {
    "id": "e7uydYQZnJxv"
   },
   "source": [
    "This is the number of observations in the test-set:"
   ]
  },
  {
   "cell_type": "code",
   "execution_count": 23,
   "metadata": {
    "colab": {
     "base_uri": "https://localhost:8080/"
    },
    "executionInfo": {
     "elapsed": 40,
     "status": "ok",
     "timestamp": 1629675307390,
     "user": {
      "displayName": "Nicolò Brunello",
      "photoUrl": "",
      "userId": "03655516846124206133"
     },
     "user_tz": -120
    },
    "id": "ngFzQHjjnJxv",
    "outputId": "840214fe-ef9a-4179-f4c4-5d8efd17074d"
   },
   "outputs": [
    {
     "data": {
      "text/plain": [
       "231303"
      ]
     },
     "execution_count": 23,
     "metadata": {},
     "output_type": "execute_result"
    }
   ],
   "source": [
    "num_test = num_data - num_train\n",
    "num_test"
   ]
  },
  {
   "cell_type": "markdown",
   "metadata": {
    "id": "xU1yr7HAnJxw"
   },
   "source": [
    "These are the input-signals for the training- and test-sets:"
   ]
  },
  {
   "cell_type": "code",
   "execution_count": 24,
   "metadata": {
    "colab": {
     "base_uri": "https://localhost:8080/"
    },
    "executionInfo": {
     "elapsed": 36,
     "status": "ok",
     "timestamp": 1629675307390,
     "user": {
      "displayName": "Nicolò Brunello",
      "photoUrl": "",
      "userId": "03655516846124206133"
     },
     "user_tz": -120
    },
    "id": "97h8gcs6nJxw",
    "outputId": "11339595-b234-4192-9d46-b4835b75babb"
   },
   "outputs": [
    {
     "data": {
      "text/plain": [
       "771007"
      ]
     },
     "execution_count": 24,
     "metadata": {},
     "output_type": "execute_result"
    }
   ],
   "source": [
    "x_train = x_data[0:num_train]\n",
    "x_test = x_data[num_train:]\n",
    "len(x_train) + len(x_test)"
   ]
  },
  {
   "cell_type": "markdown",
   "metadata": {
    "id": "u6654OI1nJxw"
   },
   "source": [
    "These are the output-signals for the training- and test-sets:"
   ]
  },
  {
   "cell_type": "code",
   "execution_count": 25,
   "metadata": {
    "colab": {
     "base_uri": "https://localhost:8080/"
    },
    "executionInfo": {
     "elapsed": 33,
     "status": "ok",
     "timestamp": 1629675307391,
     "user": {
      "displayName": "Nicolò Brunello",
      "photoUrl": "",
      "userId": "03655516846124206133"
     },
     "user_tz": -120
    },
    "id": "vPQlx2HbnJxw",
    "outputId": "58467fc9-5faa-4917-94f8-684da9573deb"
   },
   "outputs": [
    {
     "data": {
      "text/plain": [
       "771007"
      ]
     },
     "execution_count": 25,
     "metadata": {},
     "output_type": "execute_result"
    }
   ],
   "source": [
    "y_train = y_data[0:num_train].reshape(-1,1)# Reshape like this if you have a single feature\n",
    "y_test = y_data[num_train:].reshape(-1,1)\n",
    "len(y_train) + len(y_test)"
   ]
  },
  {
   "cell_type": "markdown",
   "metadata": {
    "id": "xu7zTmRTnJxw"
   },
   "source": [
    "This is the number of input-signals:"
   ]
  },
  {
   "cell_type": "code",
   "execution_count": 26,
   "metadata": {
    "colab": {
     "base_uri": "https://localhost:8080/"
    },
    "executionInfo": {
     "elapsed": 30,
     "status": "ok",
     "timestamp": 1629675307392,
     "user": {
      "displayName": "Nicolò Brunello",
      "photoUrl": "",
      "userId": "03655516846124206133"
     },
     "user_tz": -120
    },
    "id": "qOPQ2ckZnJxy",
    "outputId": "c46ea29b-be6b-434e-8c3b-dddeac309b50"
   },
   "outputs": [
    {
     "data": {
      "text/plain": [
       "12"
      ]
     },
     "execution_count": 26,
     "metadata": {},
     "output_type": "execute_result"
    }
   ],
   "source": [
    "num_x_signals = x_data.shape[1]\n",
    "num_x_signals"
   ]
  },
  {
   "cell_type": "markdown",
   "metadata": {
    "id": "urtQv8-4nJxy"
   },
   "source": [
    "This is the number of output-signals:"
   ]
  },
  {
   "cell_type": "code",
   "execution_count": 27,
   "metadata": {
    "colab": {
     "base_uri": "https://localhost:8080/"
    },
    "executionInfo": {
     "elapsed": 26,
     "status": "ok",
     "timestamp": 1629675307392,
     "user": {
      "displayName": "Nicolò Brunello",
      "photoUrl": "",
      "userId": "03655516846124206133"
     },
     "user_tz": -120
    },
    "id": "EL6OrJyWnJxz",
    "outputId": "e3be17c2-4326-40c9-905d-a5a5db7fea09",
    "scrolled": true
   },
   "outputs": [
    {
     "data": {
      "text/plain": [
       "1"
      ]
     },
     "execution_count": 27,
     "metadata": {},
     "output_type": "execute_result"
    }
   ],
   "source": [
    "y_data = y_data.reshape(-1, 1)\n",
    "num_y_signals = y_data.shape[1]\n",
    "num_y_signals"
   ]
  },
  {
   "cell_type": "markdown",
   "metadata": {
    "id": "WRFhVbsfnJxz"
   },
   "source": [
    "### Scaled Data\n",
    "\n",
    "The data-set contains a wide range of values:"
   ]
  },
  {
   "cell_type": "code",
   "execution_count": 28,
   "metadata": {
    "colab": {
     "base_uri": "https://localhost:8080/"
    },
    "executionInfo": {
     "elapsed": 26,
     "status": "ok",
     "timestamp": 1629675307395,
     "user": {
      "displayName": "Nicolò Brunello",
      "photoUrl": "",
      "userId": "03655516846124206133"
     },
     "user_tz": -120
    },
    "id": "ZdEhSHHRnJxz",
    "outputId": "235086eb-0ec5-4b9b-9fd2-86c17629f242"
   },
   "outputs": [
    {
     "name": "stdout",
     "output_type": "stream",
     "text": [
      "Min: 3.086117542887912e-08\n",
      "Max: 1906.8426888895053\n"
     ]
    }
   ],
   "source": [
    "print(\"Min:\", np.min(x_train))\n",
    "print(\"Max:\", np.max(x_train))"
   ]
  },
  {
   "cell_type": "markdown",
   "metadata": {
    "id": "vZlxe3hXnJxz"
   },
   "source": [
    "The neural network works best on values roughly between -1 and 1, so we need to scale the data before it is being input to the neural network. We can use `scikit-learn` for this.\n",
    "\n",
    "We first create a scaler-object for the input-signals."
   ]
  },
  {
   "cell_type": "code",
   "execution_count": 29,
   "metadata": {
    "id": "F8i4txDPnJxz"
   },
   "outputs": [],
   "source": [
    "x_scaler = MinMaxScaler()"
   ]
  },
  {
   "cell_type": "markdown",
   "metadata": {
    "id": "1bFOljVmnJxz"
   },
   "source": [
    "We then detect the range of values from the training-data and scale the training-data."
   ]
  },
  {
   "cell_type": "code",
   "execution_count": 30,
   "metadata": {
    "id": "agNvuiUpnJx0"
   },
   "outputs": [],
   "source": [
    "x_train_scaled = x_scaler.fit_transform(x_train)"
   ]
  },
  {
   "cell_type": "markdown",
   "metadata": {
    "id": "pwZLUGxenJx0"
   },
   "source": [
    "Apart from a small rounding-error, the data has been scaled to be between 0 and 1."
   ]
  },
  {
   "cell_type": "code",
   "execution_count": 31,
   "metadata": {
    "colab": {
     "base_uri": "https://localhost:8080/"
    },
    "executionInfo": {
     "elapsed": 22,
     "status": "ok",
     "timestamp": 1629675307397,
     "user": {
      "displayName": "Nicolò Brunello",
      "photoUrl": "",
      "userId": "03655516846124206133"
     },
     "user_tz": -120
    },
    "id": "jQpseMKJnJx0",
    "outputId": "f1452d33-1988-4bc1-d84b-88f58f6576b5"
   },
   "outputs": [
    {
     "name": "stdout",
     "output_type": "stream",
     "text": [
      "Min: 0.0\n",
      "Max: 1.0\n"
     ]
    }
   ],
   "source": [
    "print(\"Min:\", np.min(x_train_scaled))\n",
    "print(\"Max:\", np.max(x_train_scaled))"
   ]
  },
  {
   "cell_type": "markdown",
   "metadata": {
    "id": "PslZC4KSnJx0"
   },
   "source": [
    "We use the same scaler-object for the input-signals in the test-set."
   ]
  },
  {
   "cell_type": "code",
   "execution_count": 32,
   "metadata": {
    "id": "W-B9QMxenJx0"
   },
   "outputs": [],
   "source": [
    "x_test_scaled = x_scaler.transform(x_test)"
   ]
  },
  {
   "cell_type": "markdown",
   "metadata": {
    "id": "-Wqp29yQnJx0"
   },
   "source": [
    "The target-data comes from the same data-set as the input-signals, because it is the weather-data for one of the cities that is merely time-shifted. But the target-data could be from a different source with different value-ranges, so we create a separate scaler-object for the target-data."
   ]
  },
  {
   "cell_type": "code",
   "execution_count": 33,
   "metadata": {
    "id": "_tEQvS73nJx0"
   },
   "outputs": [],
   "source": [
    "y_scaler = MinMaxScaler()\n",
    "y_train_scaled = y_scaler.fit_transform(y_train)\n",
    "y_test_scaled = y_scaler.transform(y_test)"
   ]
  },
  {
   "cell_type": "markdown",
   "metadata": {
    "id": "F57yAiyzjLUM"
   },
   "source": [
    "## Data Generator\n",
    "\n",
    "The data-set has now been prepared as 2-dimensional numpy arrays."
   ]
  },
  {
   "cell_type": "code",
   "execution_count": 34,
   "metadata": {
    "colab": {
     "base_uri": "https://localhost:8080/"
    },
    "executionInfo": {
     "elapsed": 66,
     "status": "ok",
     "timestamp": 1629675307852,
     "user": {
      "displayName": "Nicolò Brunello",
      "photoUrl": "",
      "userId": "03655516846124206133"
     },
     "user_tz": -120
    },
    "id": "YO3veCqgjExo",
    "outputId": "0557dee5-77f4-417b-a7d2-2f5a14b0c30b"
   },
   "outputs": [
    {
     "name": "stdout",
     "output_type": "stream",
     "text": [
      "(539704, 12)\n",
      "(539704, 1)\n"
     ]
    }
   ],
   "source": [
    "print(x_train_scaled.shape)\n",
    "print(y_train_scaled.shape)"
   ]
  },
  {
   "cell_type": "markdown",
   "metadata": {
    "id": "UQ1uccdbj9fD"
   },
   "source": [
    "Instead of training the Recurrent Neural Network on the complete sequences of almost 300k observations, we will use the following function to create a batch of shorter sub-sequences picked at random from the training-data."
   ]
  },
  {
   "cell_type": "code",
   "execution_count": 35,
   "metadata": {
    "id": "ZannKZmqjTPD"
   },
   "outputs": [],
   "source": [
    "def batch_generator(batch_size, sequence_length):\n",
    "    \"\"\"\n",
    "    Generator function for creating random batches of training-data.\n",
    "    \"\"\"\n",
    "\n",
    "    # Infinite loop.\n",
    "    while True:\n",
    "        # Allocate a new array for the batch of input-signals.\n",
    "        x_shape = (batch_size, sequence_length, num_x_signals)\n",
    "        x_batch = np.zeros(shape=x_shape, dtype=np.float16)\n",
    "\n",
    "        # Allocate a new array for the batch of output-signals.\n",
    "        y_shape = (batch_size, sequence_length, num_y_signals)\n",
    "        y_batch = np.zeros(shape=y_shape, dtype=np.float16)\n",
    "\n",
    "        # Fill the batch with random sequences of data.\n",
    "        for i in range(batch_size):\n",
    "            # Get a random start-index.\n",
    "            # This points somewhere into the training-data.\n",
    "            idx = np.random.randint(num_train - sequence_length)\n",
    "            \n",
    "            # Copy the sequences of data starting at this index.\n",
    "            x_batch[i] = x_train_scaled[idx:idx+sequence_length]\n",
    "            y_batch[i] = y_train_scaled[idx:idx+sequence_length]\n",
    "        \n",
    "        yield (x_batch, y_batch)"
   ]
  },
  {
   "cell_type": "markdown",
   "metadata": {
    "id": "Iuwehj7OkFOA"
   },
   "source": [
    "We will use a large batch-size so as to keep the GPU near 100% work-load. You may have to adjust this number depending on your GPU, its RAM and your choice of `sequence_length` below."
   ]
  },
  {
   "cell_type": "code",
   "execution_count": 36,
   "metadata": {
    "id": "ezAw0sX5nJx2"
   },
   "outputs": [],
   "source": [
    "batch_size = 24 #hyperparameter"
   ]
  },
  {
   "cell_type": "code",
   "execution_count": 37,
   "metadata": {
    "colab": {
     "base_uri": "https://localhost:8080/"
    },
    "executionInfo": {
     "elapsed": 6,
     "status": "ok",
     "timestamp": 1629675669773,
     "user": {
      "displayName": "Nicolò Brunello",
      "photoUrl": "",
      "userId": "03655516846124206133"
     },
     "user_tz": -120
    },
    "id": "OKksJ-ijnJx2",
    "outputId": "a8dfa8a8-bec3-4997-e497-a72fadb845f1"
   },
   "outputs": [
    {
     "data": {
      "text/plain": [
       "24"
      ]
     },
     "execution_count": 37,
     "metadata": {},
     "output_type": "execute_result"
    }
   ],
   "source": [
    "sequence_length = 24 # 1 day of sequence, hyperparameter\n",
    "sequence_length"
   ]
  },
  {
   "cell_type": "markdown",
   "metadata": {
    "id": "P2GQAQSznJx2"
   },
   "source": [
    "We then create the batch-generator."
   ]
  },
  {
   "cell_type": "code",
   "execution_count": 38,
   "metadata": {
    "id": "7rB8YbClnJx2"
   },
   "outputs": [],
   "source": [
    "generator = batch_generator(batch_size=batch_size,\n",
    "                            sequence_length=sequence_length)"
   ]
  },
  {
   "cell_type": "markdown",
   "metadata": {
    "id": "50BQ92o3nJx2"
   },
   "source": [
    "We can then test the batch-generator to see if it works."
   ]
  },
  {
   "cell_type": "code",
   "execution_count": 39,
   "metadata": {
    "id": "EYAVdGWKnJx3"
   },
   "outputs": [],
   "source": [
    "x_batch, y_batch = next(generator)"
   ]
  },
  {
   "cell_type": "markdown",
   "metadata": {
    "id": "AsPh2zRonJx3"
   },
   "source": [
    "This gives us a random batch of 24 sequences, each sequence having 24 observations, and each observation having 12 input-signals and 1 output-signals."
   ]
  },
  {
   "cell_type": "code",
   "execution_count": 40,
   "metadata": {
    "colab": {
     "base_uri": "https://localhost:8080/"
    },
    "executionInfo": {
     "elapsed": 11,
     "status": "ok",
     "timestamp": 1629675672238,
     "user": {
      "displayName": "Nicolò Brunello",
      "photoUrl": "",
      "userId": "03655516846124206133"
     },
     "user_tz": -120
    },
    "id": "Tw3WuPrtnJx3",
    "outputId": "d8b13c8c-bbb1-4a77-fadf-fecb8fba2cf2"
   },
   "outputs": [
    {
     "name": "stdout",
     "output_type": "stream",
     "text": [
      "(24, 24, 12)\n",
      "(24, 24, 1)\n"
     ]
    }
   ],
   "source": [
    "print(x_batch.shape)\n",
    "print(y_batch.shape)"
   ]
  },
  {
   "cell_type": "markdown",
   "metadata": {
    "id": "iy3bk3kFnJx3"
   },
   "source": [
    "We can plot one of the 20 input-signals as an example."
   ]
  },
  {
   "cell_type": "code",
   "execution_count": 41,
   "metadata": {
    "colab": {
     "base_uri": "https://localhost:8080/",
     "height": 282
    },
    "executionInfo": {
     "elapsed": 473,
     "status": "ok",
     "timestamp": 1629675672933,
     "user": {
      "displayName": "Nicolò Brunello",
      "photoUrl": "",
      "userId": "03655516846124206133"
     },
     "user_tz": -120
    },
    "id": "1mAr-HzInJx3",
    "outputId": "144947b4-d7e8-4559-a305-6201ce693f2d"
   },
   "outputs": [
    {
     "data": {
      "text/plain": [
       "[<matplotlib.lines.Line2D at 0x7f50f61972e0>]"
      ]
     },
     "execution_count": 41,
     "metadata": {},
     "output_type": "execute_result"
    },
    {
     "data": {
      "image/png": "[encoded data removed]",
      "text/plain": [
       "<Figure size 432x288 with 1 Axes>"
      ]
     },
     "metadata": {
      "needs_background": "light"
     },
     "output_type": "display_data"
    }
   ],
   "source": [
    "batch = 0   # First sequence in the batch.\n",
    "signal = 0  # First signal from the 12 input-signals.\n",
    "seq = x_batch[batch, :, signal]\n",
    "plt.plot(seq)"
   ]
  },
  {
   "cell_type": "markdown",
   "metadata": {
    "id": "eVSMam_EnJx3"
   },
   "source": [
    "We can also plot one of the output-signals that we want the model to learn how to predict given all those 20 input signals."
   ]
  },
  {
   "cell_type": "code",
   "execution_count": 42,
   "metadata": {
    "colab": {
     "base_uri": "https://localhost:8080/",
     "height": 282
    },
    "executionInfo": {
     "elapsed": 283,
     "status": "ok",
     "timestamp": 1629675673207,
     "user": {
      "displayName": "Nicolò Brunello",
      "photoUrl": "",
      "userId": "03655516846124206133"
     },
     "user_tz": -120
    },
    "id": "6cvFnggEnJx4",
    "outputId": "61587618-c43d-44e8-e1c7-680bd8a65892"
   },
   "outputs": [
    {
     "data": {
      "text/plain": [
       "[<matplotlib.lines.Line2D at 0x7f50f60f3d90>]"
      ]
     },
     "execution_count": 42,
     "metadata": {},
     "output_type": "execute_result"
    },
    {
     "data": {
      "image/png": "[encoded data removed]",
      "text/plain": [
       "<Figure size 432x288 with 1 Axes>"
      ]
     },
     "metadata": {
      "needs_background": "light"
     },
     "output_type": "display_data"
    }
   ],
   "source": [
    "seq = y_batch[batch, :, signal]\n",
    "plt.plot(seq)"
   ]
  },
  {
   "cell_type": "markdown",
   "metadata": {
    "id": "XyG8TcD5nJx4"
   },
   "source": [
    "### Validation Set\n",
    "\n",
    "The neural network trains quickly so we can easily run many training epochs. But then there is a risk of overfitting the model to the training-set so it does not generalize well to unseen data. We will therefore monitor the model's performance on the test-set after each epoch and only save the model's weights if the performance is improved on the test-set.\n",
    "\n",
    "The batch-generator randomly selects a batch of short sequences from the training-data and uses that during training. But for the validation-data we will instead run through the entire sequence from the test-set and measure the prediction accuracy on that entire sequence, this is done due to the lack of data."
   ]
  },
  {
   "cell_type": "code",
   "execution_count": 43,
   "metadata": {
    "id": "x8FKBt8snJx4"
   },
   "outputs": [],
   "source": [
    "validation_data = (np.expand_dims(x_test_scaled, axis=0),\n",
    "                   np.expand_dims(y_test_scaled, axis=0))"
   ]
  },
  {
   "cell_type": "markdown",
   "metadata": {
    "id": "UQ7XHlZUnJx4"
   },
   "source": [
    "## Create the Recurrent Neural Network\n",
    "\n",
    "We are now ready to create the Recurrent Neural Network (LSTM). We will use the Keras API for this because of its simplicity."
   ]
  },
  {
   "cell_type": "code",
   "execution_count": 44,
   "metadata": {
    "id": "3h8bFyConJx4"
   },
   "outputs": [
    {
     "name": "stderr",
     "output_type": "stream",
     "text": [
      "2021-08-25 19:11:31.791357: W tensorflow/stream_executor/platform/default/dso_loader.cc:64] Could not load dynamic library 'libcuda.so.1'; dlerror: libcuda.so.1: cannot open shared object file: No such file or directory\n",
      "2021-08-25 19:11:31.791413: W tensorflow/stream_executor/cuda/cuda_driver.cc:269] failed call to cuInit: UNKNOWN ERROR (303)\n",
      "2021-08-25 19:11:31.791445: I tensorflow/stream_executor/cuda/cuda_diagnostics.cc:156] kernel driver does not appear to be running on this host (jupyter-vidurmithal): /proc/driver/nvidia/version does not exist\n",
      "2021-08-25 19:11:31.792015: I tensorflow/core/platform/cpu_feature_guard.cc:142] This TensorFlow binary is optimized with oneAPI Deep Neural Network Library (oneDNN) to use the following CPU instructions in performance-critical operations:  AVX2 FMA\n",
      "To enable them in other operations, rebuild TensorFlow with the appropriate compiler flags.\n"
     ]
    }
   ],
   "source": [
    "model = Sequential()"
   ]
  },
  {
   "cell_type": "markdown",
   "metadata": {
    "id": "f370EUt0nJx5"
   },
   "source": [
    "We can now add a Gated Recurrent Unit (GRU) to the network. This will have 64 outputs for each time-step in the sequence.\n",
    "\n",
    "Note that because this is the first layer in the model, Keras needs to know the shape of its input, which is a batch of sequences of arbitrary length (indicated by `None`), where each observation has a number of input-signals (`num_x_signals`)."
   ]
  },
  {
   "cell_type": "code",
   "execution_count": 45,
   "metadata": {
    "id": "TkvdH2sGnJx5"
   },
   "outputs": [],
   "source": [
    "model.add(LSTM(units=64,\n",
    "              return_sequences=True,\n",
    "              input_shape=(None, num_x_signals,)))"
   ]
  },
  {
   "cell_type": "markdown",
   "metadata": {
    "id": "0MAczmfNnJx6"
   },
   "source": [
    "The GRU outputs a batch of sequences of 64 values. We want to predict 1 output-signals, so we add a fully-connected (or dense) layer which maps 64 values down to only 1 values.\n",
    "\n",
    "The output-signal in the data-set have been limited to be between 0 and 1 using a scaler-object. So we also limit the output of the neural network using the Sigmoid activation function, which squashes the output to be between 0 and 1."
   ]
  },
  {
   "cell_type": "code",
   "execution_count": 46,
   "metadata": {
    "id": "MpmMKUShnJx6"
   },
   "outputs": [],
   "source": [
    "model.add(Dense(num_y_signals, activation='linear'))"
   ]
  },
  {
   "cell_type": "markdown",
   "metadata": {
    "id": "opCubPCqnJx7"
   },
   "source": [
    "A problem with using the Sigmoid activation function, is that we can now only output values in the same range as the training-data.\n",
    "\n",
    "For example, if the training-data only has temperatures between -20 and +30 degrees, then the scaler-object will map -20 to 0 and +30 to 1. So if we limit the output of the neural network to be between 0 and 1 using the Sigmoid function, this can only be mapped back to temperature values between -20 and +30.\n",
    "\n",
    "We can use a linear activation function on the output instead. This allows for the output to take on arbitrary values. It might work with the standard initialization for a simple network architecture, but for more complicated network architectures e.g. with more layers, it might be necessary to initialize the weights with smaller values to avoid `NaN` values during training. You may need to experiment with this to get it working.\n",
    "Since the netowrk is quite simple and shallow."
   ]
  },
  {
   "cell_type": "code",
   "execution_count": 47,
   "metadata": {
    "id": "lB42iw66nJx7"
   },
   "outputs": [],
   "source": [
    "if False:\n",
    "    from tensorflow.python.keras.initializers import RandomUniform\n",
    "\n",
    "    # Maybe use lower init-ranges.\n",
    "    init = RandomUniform(minval=-0.05, maxval=0.05)\n",
    "\n",
    "    model.add(Dense(num_y_signals,\n",
    "                    activation='linear',\n",
    "                    kernel_initializer=init))"
   ]
  },
  {
   "cell_type": "markdown",
   "metadata": {
    "id": "fI1u4nSknJx7"
   },
   "source": [
    "### Loss Function\n",
    "\n",
    "We will use Mean Squared Error (MSE) as the loss-function that will be minimized. This measures how closely the model's output matches the true output signals.\n",
    "\n",
    "However, at the beginning of a sequence, the model has only seen input-signals for a few time-steps, so its generated output may be very inaccurate. Using the loss-value for the early time-steps may cause the model to distort its later output. We therefore give the model a \"warmup-period\" of 5 time-steps where we don't use its accuracy in the loss-function, in hope of improving the accuracy for later time-steps."
   ]
  },
  {
   "cell_type": "code",
   "execution_count": 48,
   "metadata": {
    "id": "G_fLi1dXnJx8"
   },
   "outputs": [],
   "source": [
    "warmup_steps = 5"
   ]
  },
  {
   "cell_type": "code",
   "execution_count": 49,
   "metadata": {
    "id": "JSd0fm5PnJx9"
   },
   "outputs": [],
   "source": [
    "def loss_mse_warmup(y_true, y_pred):\n",
    "    \"\"\"\n",
    "    Calculate the Mean Squared Error between y_true and y_pred,\n",
    "    but ignore the beginning \"warmup\" part of the sequences.\n",
    "    \n",
    "    y_true is the desired output.\n",
    "    y_pred is the model's output.\n",
    "    \"\"\"\n",
    "\n",
    "    # The shape of both input tensors are:\n",
    "    # [batch_size, sequence_length, num_y_signals].\n",
    "\n",
    "    # Ignore the \"warmup\" parts of the sequences\n",
    "    # by taking slices of the tensors.\n",
    "    y_true_slice = y_true[:, warmup_steps:, :]\n",
    "    y_pred_slice = y_pred[:, warmup_steps:, :]\n",
    "\n",
    "    # These sliced tensors both have this shape:\n",
    "    # [batch_size, sequence_length - warmup_steps, num_y_signals]\n",
    "\n",
    "    # Calculat the Mean Squared Error and use it as loss.\n",
    "    mse = mean(square(y_true_slice - y_pred_slice))\n",
    "    \n",
    "    return mse"
   ]
  },
  {
   "cell_type": "markdown",
   "metadata": {
    "id": "2hT1pcuhnJx9"
   },
   "source": [
    "### Compile Model\n",
    "\n",
    "This is the optimizer and the beginning learning-rate that we will use."
   ]
  },
  {
   "cell_type": "code",
   "execution_count": 50,
   "metadata": {
    "colab": {
     "base_uri": "https://localhost:8080/"
    },
    "executionInfo": {
     "elapsed": 6,
     "status": "ok",
     "timestamp": 1629675680273,
     "user": {
      "displayName": "Nicolò Brunello",
      "photoUrl": "",
      "userId": "03655516846124206133"
     },
     "user_tz": -120
    },
    "id": "XrMGRY1JnJx9",
    "outputId": "f6d950c6-69fa-45e3-d9e2-791ee7c768ef"
   },
   "outputs": [
    {
     "name": "stderr",
     "output_type": "stream",
     "text": [
      "/opt/conda/lib/python3.8/site-packages/keras/optimizer_v2/optimizer_v2.py:355: UserWarning: The `lr` argument is deprecated, use `learning_rate` instead.\n",
      "  warnings.warn(\n"
     ]
    }
   ],
   "source": [
    "optimizer = Adam(lr=1e-3)"
   ]
  },
  {
   "cell_type": "markdown",
   "metadata": {
    "id": "FLH02xdwnJx9"
   },
   "source": [
    "We then compile the Keras model so it is ready for training."
   ]
  },
  {
   "cell_type": "code",
   "execution_count": 51,
   "metadata": {
    "id": "CtHsZFDUnJx-"
   },
   "outputs": [],
   "source": [
    "model.compile(loss=loss_mse_warmup, optimizer=optimizer)"
   ]
  },
  {
   "cell_type": "markdown",
   "metadata": {
    "id": "vHeB0wQAnJx-"
   },
   "source": [
    "This is a very small model with only two layers. The output shape of `(None, None, 1)` means that the model will output a batch with an arbitrary number of sequences, each of which has an arbitrary number of observations, and each observation has 1 signals. This corresponds to the target signal we want to predict."
   ]
  },
  {
   "cell_type": "code",
   "execution_count": 52,
   "metadata": {
    "colab": {
     "base_uri": "https://localhost:8080/"
    },
    "executionInfo": {
     "elapsed": 4,
     "status": "ok",
     "timestamp": 1629675683668,
     "user": {
      "displayName": "Nicolò Brunello",
      "photoUrl": "",
      "userId": "03655516846124206133"
     },
     "user_tz": -120
    },
    "id": "Nm1smzfunJx-",
    "outputId": "c7f85d94-85d7-485c-8fe2-d88f8cad95df"
   },
   "outputs": [
    {
     "name": "stdout",
     "output_type": "stream",
     "text": [
      "Model: \"sequential\"\n",
      "_________________________________________________________________\n",
      "Layer (type)                 Output Shape              Param #   \n",
      "=================================================================\n",
      "lstm (LSTM)                  (None, None, 64)          19712     \n",
      "_________________________________________________________________\n",
      "dense (Dense)                (None, None, 1)           65        \n",
      "=================================================================\n",
      "Total params: 19,777\n",
      "Trainable params: 19,777\n",
      "Non-trainable params: 0\n",
      "_________________________________________________________________\n"
     ]
    }
   ],
   "source": [
    "model.summary()"
   ]
  },
  {
   "cell_type": "markdown",
   "metadata": {
    "id": "6VaTR5otnJx-"
   },
   "source": [
    "### Callback Functions\n",
    "\n",
    "During training we want to save checkpoints and log the progress to TensorBoard so we create the appropriate callbacks for Keras.\n",
    "\n",
    "This is the callback for writing checkpoints during training."
   ]
  },
  {
   "cell_type": "code",
   "execution_count": 53,
   "metadata": {
    "id": "ds30nigXnJx-"
   },
   "outputs": [],
   "source": [
    "path_checkpoint = 'Training_checkpoints/base_checkpoint.keras'\n",
    "callback_checkpoint = ModelCheckpoint(filepath=path_checkpoint,\n",
    "                                      monitor='val_loss',\n",
    "                                      verbose=1,\n",
    "                                      save_weights_only=True,\n",
    "                                      save_best_only=True)"
   ]
  },
  {
   "cell_type": "markdown",
   "metadata": {
    "id": "_5fTiOAAnJx-"
   },
   "source": [
    "This is the callback for stopping the optimization when performance worsens on the validation-set."
   ]
  },
  {
   "cell_type": "code",
   "execution_count": 54,
   "metadata": {
    "id": "gOCmWJgsnJx_"
   },
   "outputs": [],
   "source": [
    "callback_early_stopping = EarlyStopping(monitor='val_loss',\n",
    "                                        patience=5, verbose=1)"
   ]
  },
  {
   "cell_type": "markdown",
   "metadata": {
    "id": "eyyIFqjjnJx_"
   },
   "source": [
    "This is the callback for writing the TensorBoard log during training."
   ]
  },
  {
   "cell_type": "code",
   "execution_count": 55,
   "metadata": {
    "id": "pyHx-sGCnJx_"
   },
   "outputs": [
    {
     "name": "stderr",
     "output_type": "stream",
     "text": [
      "2021-08-25 19:11:38.758683: I tensorflow/core/profiler/lib/profiler_session.cc:131] Profiler session initializing.\n",
      "2021-08-25 19:11:38.758726: I tensorflow/core/profiler/lib/profiler_session.cc:146] Profiler session started.\n",
      "2021-08-25 19:11:38.761401: I tensorflow/core/profiler/lib/profiler_session.cc:164] Profiler session tear down.\n"
     ]
    }
   ],
   "source": [
    "callback_tensorboard = TensorBoard(log_dir='./base_logs/',\n",
    "                                   histogram_freq=0,\n",
    "                                   write_graph=False)"
   ]
  },
  {
   "cell_type": "markdown",
   "metadata": {
    "id": "IzhVxrtdnJx_"
   },
   "source": [
    "This callback reduces the learning-rate for the optimizer if the validation-loss has not improved since the last epoch (as indicated by `patience=0`). The learning-rate will be reduced by multiplying it with the given factor. We set a start learning-rate of 1e-3 above, so multiplying it by 0.1 gives a learning-rate of 1e-4. We don't want the learning-rate to go any lower than this."
   ]
  },
  {
   "cell_type": "code",
   "execution_count": 56,
   "metadata": {
    "id": "dp0CV3NInJx_"
   },
   "outputs": [],
   "source": [
    "callback_reduce_lr = ReduceLROnPlateau(monitor='val_loss',\n",
    "                                       factor=0.01,\n",
    "                                       min_lr=1e-4,\n",
    "                                       patience=0,\n",
    "                                       verbose=1)"
   ]
  },
  {
   "cell_type": "code",
   "execution_count": 57,
   "metadata": {
    "id": "Uc5DL_oxnJx_"
   },
   "outputs": [],
   "source": [
    "callbacks = [callback_early_stopping,\n",
    "             callback_checkpoint,\n",
    "             callback_tensorboard,\n",
    "             callback_reduce_lr]"
   ]
  },
  {
   "cell_type": "markdown",
   "metadata": {
    "id": "K9WgaXBQnJx_"
   },
   "source": [
    "## Train the Recurrent Neural Network\n",
    "\n",
    "We can now train the neural network.\n",
    "\n",
    "Note that a single \"epoch\" does not correspond to a single processing of the training-set, because of how the batch-generator randomly selects sub-sequences from the training-set. Instead we have selected `steps_per_epoch` so that one \"epoch\" is processed in a few minutes.\n",
    "\n",
    "\n",
    "Also note that the loss sometimes becomes `NaN` (not-a-number). This is often resolved by restarting and running the Notebook again. But it may also be caused by your neural network architecture, learning-rate, batch-size, sequence-length, etc. in which case you may have to modify those settings."
   ]
  },
  {
   "cell_type": "code",
   "execution_count": 58,
   "metadata": {
    "colab": {
     "base_uri": "https://localhost:8080/"
    },
    "executionInfo": {
     "elapsed": 67278,
     "status": "ok",
     "timestamp": 1629675763394,
     "user": {
      "displayName": "Nicolò Brunello",
      "photoUrl": "",
      "userId": "03655516846124206133"
     },
     "user_tz": -120
    },
    "id": "z-1vjBFrnJyA",
    "outputId": "16b7bc71-e80c-4c1d-f4d5-0468b5c38f45"
   },
   "outputs": [
    {
     "name": "stderr",
     "output_type": "stream",
     "text": [
      "2021-08-25 19:11:43.982583: I tensorflow/compiler/mlir/mlir_graph_optimization_pass.cc:185] None of the MLIR Optimization Passes are enabled (registered 2)\n"
     ]
    },
    {
     "name": "stdout",
     "output_type": "stream",
     "text": [
      "Epoch 1/20\n",
      " 1/25 [>.............................] - ETA: 1:14 - loss: 9.6005e-04"
     ]
    },
    {
     "name": "stderr",
     "output_type": "stream",
     "text": [
      "2021-08-25 19:11:47.104572: I tensorflow/core/profiler/lib/profiler_session.cc:131] Profiler session initializing.\n",
      "2021-08-25 19:11:47.104618: I tensorflow/core/profiler/lib/profiler_session.cc:146] Profiler session started.\n",
      "2021-08-25 19:11:47.155339: I tensorflow/core/profiler/lib/profiler_session.cc:66] Profiler session collecting data.\n",
      "2021-08-25 19:11:47.178876: I tensorflow/core/profiler/lib/profiler_session.cc:164] Profiler session tear down.\n",
      "2021-08-25 19:11:49.654080: I tensorflow/core/profiler/rpc/client/save_profile.cc:136] Creating directory: ./base_logs/train/plugins/profile/2021_08_25_19_11_47\n",
      "\n",
      "2021-08-25 19:11:50.168093: I tensorflow/core/profiler/rpc/client/save_profile.cc:142] Dumped gzipped tool data for trace.json.gz to ./base_logs/train/plugins/profile/2021_08_25_19_11_47/jupyter-vidurmithal.trace.json.gz\n",
      "2021-08-25 19:11:50.182088: I tensorflow/core/profiler/rpc/client/save_profile.cc:136] Creating directory: ./base_logs/train/plugins/profile/2021_08_25_19_11_47\n",
      "\n",
      "2021-08-25 19:11:50.661135: I tensorflow/core/profiler/rpc/client/save_profile.cc:142] Dumped gzipped tool data for memory_profile.json.gz to ./base_logs/train/plugins/profile/2021_08_25_19_11_47/jupyter-vidurmithal.memory_profile.json.gz\n"
     ]
    },
    {
     "name": "stdout",
     "output_type": "stream",
     "text": [
      " 5/25 [=====>........................] - ETA: 30s - loss: 0.0044    "
     ]
    },
    {
     "name": "stderr",
     "output_type": "stream",
     "text": [
      "2021-08-25 19:11:53.030428: I tensorflow/core/profiler/rpc/client/capture_profile.cc:251] Creating directory: ./base_logs/train/plugins/profile/2021_08_25_19_11_47\n",
      "Dumped tool data for xplane.pb to ./base_logs/train/plugins/profile/2021_08_25_19_11_47/jupyter-vidurmithal.xplane.pb\n",
      "Dumped tool data for overview_page.pb to ./base_logs/train/plugins/profile/2021_08_25_19_11_47/jupyter-vidurmithal.overview_page.pb\n",
      "Dumped tool data for input_pipeline.pb to ./base_logs/train/plugins/profile/2021_08_25_19_11_47/jupyter-vidurmithal.input_pipeline.pb\n",
      "Dumped tool data for tensorflow_stats.pb to ./base_logs/train/plugins/profile/2021_08_25_19_11_47/jupyter-vidurmithal.tensorflow_stats.pb\n",
      "Dumped tool data for kernel_stats.pb to ./base_logs/train/plugins/profile/2021_08_25_19_11_47/jupyter-vidurmithal.kernel_stats.pb\n",
      "\n"
     ]
    },
    {
     "name": "stdout",
     "output_type": "stream",
     "text": [
      "25/25 [==============================] - 38s 1s/step - loss: 0.0019 - val_loss: 5.3972e-04\n",
      "\n",
      "Epoch 00001: val_loss improved from inf to 0.00054, saving model to Training_checkpoints/base_checkpoint.keras\n"
     ]
    },
    {
     "ename": "OSError",
     "evalue": "Unable to create file (unable to open file: name = 'Training_checkpoints/base_checkpoint.keras', errno = 2, error message = 'No such file or directory', flags = 13, o_flags = 242)",
     "output_type": "error",
     "traceback": [
      "\u001b[0;31m---------------------------------------------------------------------------\u001b[0m",
      "\u001b[0;31mOSError\u001b[0m                                   Traceback (most recent call last)",
      "\u001b[0;32m<timed eval>\u001b[0m in \u001b[0;36m<module>\u001b[0;34m\u001b[0m\n",
      "\u001b[0;32m/opt/conda/lib/python3.8/site-packages/keras/engine/training.py\u001b[0m in \u001b[0;36mfit\u001b[0;34m(self, x, y, batch_size, epochs, verbose, callbacks, validation_split, validation_data, shuffle, class_weight, sample_weight, initial_epoch, steps_per_epoch, validation_steps, validation_batch_size, validation_freq, max_queue_size, workers, use_multiprocessing)\u001b[0m\n\u001b[1;32m   1228\u001b[0m           \u001b[0mepoch_logs\u001b[0m\u001b[0;34m.\u001b[0m\u001b[0mupdate\u001b[0m\u001b[0;34m(\u001b[0m\u001b[0mval_logs\u001b[0m\u001b[0;34m)\u001b[0m\u001b[0;34m\u001b[0m\u001b[0;34m\u001b[0m\u001b[0m\n\u001b[1;32m   1229\u001b[0m \u001b[0;34m\u001b[0m\u001b[0m\n\u001b[0;32m-> 1230\u001b[0;31m         \u001b[0mcallbacks\u001b[0m\u001b[0;34m.\u001b[0m\u001b[0mon_epoch_end\u001b[0m\u001b[0;34m(\u001b[0m\u001b[0mepoch\u001b[0m\u001b[0;34m,\u001b[0m \u001b[0mepoch_logs\u001b[0m\u001b[0;34m)\u001b[0m\u001b[0;34m\u001b[0m\u001b[0;34m\u001b[0m\u001b[0m\n\u001b[0m\u001b[1;32m   1231\u001b[0m         \u001b[0mtraining_logs\u001b[0m \u001b[0;34m=\u001b[0m \u001b[0mepoch_logs\u001b[0m\u001b[0;34m\u001b[0m\u001b[0;34m\u001b[0m\u001b[0m\n\u001b[1;32m   1232\u001b[0m         \u001b[0;32mif\u001b[0m \u001b[0mself\u001b[0m\u001b[0;34m.\u001b[0m\u001b[0mstop_training\u001b[0m\u001b[0;34m:\u001b[0m\u001b[0;34m\u001b[0m\u001b[0;34m\u001b[0m\u001b[0m\n",
      "\u001b[0;32m/opt/conda/lib/python3.8/site-packages/keras/callbacks.py\u001b[0m in \u001b[0;36mon_epoch_end\u001b[0;34m(self, epoch, logs)\u001b[0m\n\u001b[1;32m    411\u001b[0m     \u001b[0mlogs\u001b[0m \u001b[0;34m=\u001b[0m \u001b[0mself\u001b[0m\u001b[0;34m.\u001b[0m\u001b[0m_process_logs\u001b[0m\u001b[0;34m(\u001b[0m\u001b[0mlogs\u001b[0m\u001b[0;34m)\u001b[0m\u001b[0;34m\u001b[0m\u001b[0;34m\u001b[0m\u001b[0m\n\u001b[1;32m    412\u001b[0m     \u001b[0;32mfor\u001b[0m \u001b[0mcallback\u001b[0m \u001b[0;32min\u001b[0m \u001b[0mself\u001b[0m\u001b[0;34m.\u001b[0m\u001b[0mcallbacks\u001b[0m\u001b[0;34m:\u001b[0m\u001b[0;34m\u001b[0m\u001b[0;34m\u001b[0m\u001b[0m\n\u001b[0;32m--> 413\u001b[0;31m       \u001b[0mcallback\u001b[0m\u001b[0;34m.\u001b[0m\u001b[0mon_epoch_end\u001b[0m\u001b[0;34m(\u001b[0m\u001b[0mepoch\u001b[0m\u001b[0;34m,\u001b[0m \u001b[0mlogs\u001b[0m\u001b[0;34m)\u001b[0m\u001b[0;34m\u001b[0m\u001b[0;34m\u001b[0m\u001b[0m\n\u001b[0m\u001b[1;32m    414\u001b[0m \u001b[0;34m\u001b[0m\u001b[0m\n\u001b[1;32m    415\u001b[0m   \u001b[0;32mdef\u001b[0m \u001b[0mon_train_batch_begin\u001b[0m\u001b[0;34m(\u001b[0m\u001b[0mself\u001b[0m\u001b[0;34m,\u001b[0m \u001b[0mbatch\u001b[0m\u001b[0;34m,\u001b[0m \u001b[0mlogs\u001b[0m\u001b[0;34m=\u001b[0m\u001b[0;32mNone\u001b[0m\u001b[0;34m)\u001b[0m\u001b[0;34m:\u001b[0m\u001b[0;34m\u001b[0m\u001b[0;34m\u001b[0m\u001b[0m\n",
      "\u001b[0;32m/opt/conda/lib/python3.8/site-packages/keras/callbacks.py\u001b[0m in \u001b[0;36mon_epoch_end\u001b[0;34m(self, epoch, logs)\u001b[0m\n\u001b[1;32m   1366\u001b[0m     \u001b[0;31m# pylint: disable=protected-access\u001b[0m\u001b[0;34m\u001b[0m\u001b[0;34m\u001b[0m\u001b[0;34m\u001b[0m\u001b[0m\n\u001b[1;32m   1367\u001b[0m     \u001b[0;32mif\u001b[0m \u001b[0mself\u001b[0m\u001b[0;34m.\u001b[0m\u001b[0msave_freq\u001b[0m \u001b[0;34m==\u001b[0m \u001b[0;34m'epoch'\u001b[0m\u001b[0;34m:\u001b[0m\u001b[0;34m\u001b[0m\u001b[0;34m\u001b[0m\u001b[0m\n\u001b[0;32m-> 1368\u001b[0;31m       \u001b[0mself\u001b[0m\u001b[0;34m.\u001b[0m\u001b[0m_save_model\u001b[0m\u001b[0;34m(\u001b[0m\u001b[0mepoch\u001b[0m\u001b[0;34m=\u001b[0m\u001b[0mepoch\u001b[0m\u001b[0;34m,\u001b[0m \u001b[0mbatch\u001b[0m\u001b[0;34m=\u001b[0m\u001b[0;32mNone\u001b[0m\u001b[0;34m,\u001b[0m \u001b[0mlogs\u001b[0m\u001b[0;34m=\u001b[0m\u001b[0mlogs\u001b[0m\u001b[0;34m)\u001b[0m\u001b[0;34m\u001b[0m\u001b[0;34m\u001b[0m\u001b[0m\n\u001b[0m\u001b[1;32m   1369\u001b[0m \u001b[0;34m\u001b[0m\u001b[0m\n\u001b[1;32m   1370\u001b[0m   \u001b[0;32mdef\u001b[0m \u001b[0m_should_save_on_batch\u001b[0m\u001b[0;34m(\u001b[0m\u001b[0mself\u001b[0m\u001b[0;34m,\u001b[0m \u001b[0mbatch\u001b[0m\u001b[0;34m)\u001b[0m\u001b[0;34m:\u001b[0m\u001b[0;34m\u001b[0m\u001b[0;34m\u001b[0m\u001b[0m\n",
      "\u001b[0;32m/opt/conda/lib/python3.8/site-packages/keras/callbacks.py\u001b[0m in \u001b[0;36m_save_model\u001b[0;34m(self, epoch, batch, logs)\u001b[0m\n\u001b[1;32m   1446\u001b[0m                         'directory: {}'.format(filepath))\n\u001b[1;32m   1447\u001b[0m         \u001b[0;31m# Re-throw the error for any other causes.\u001b[0m\u001b[0;34m\u001b[0m\u001b[0;34m\u001b[0m\u001b[0;34m\u001b[0m\u001b[0m\n\u001b[0;32m-> 1448\u001b[0;31m         \u001b[0;32mraise\u001b[0m \u001b[0me\u001b[0m\u001b[0;34m\u001b[0m\u001b[0;34m\u001b[0m\u001b[0m\n\u001b[0m\u001b[1;32m   1449\u001b[0m \u001b[0;34m\u001b[0m\u001b[0m\n\u001b[1;32m   1450\u001b[0m   \u001b[0;32mdef\u001b[0m \u001b[0m_get_file_path\u001b[0m\u001b[0;34m(\u001b[0m\u001b[0mself\u001b[0m\u001b[0;34m,\u001b[0m \u001b[0mepoch\u001b[0m\u001b[0;34m,\u001b[0m \u001b[0mbatch\u001b[0m\u001b[0;34m,\u001b[0m \u001b[0mlogs\u001b[0m\u001b[0;34m)\u001b[0m\u001b[0;34m:\u001b[0m\u001b[0;34m\u001b[0m\u001b[0;34m\u001b[0m\u001b[0m\n",
      "\u001b[0;32m/opt/conda/lib/python3.8/site-packages/keras/callbacks.py\u001b[0m in \u001b[0;36m_save_model\u001b[0;34m(self, epoch, batch, logs)\u001b[0m\n\u001b[1;32m   1417\u001b[0m               \u001b[0mself\u001b[0m\u001b[0;34m.\u001b[0m\u001b[0mbest\u001b[0m \u001b[0;34m=\u001b[0m \u001b[0mcurrent\u001b[0m\u001b[0;34m\u001b[0m\u001b[0;34m\u001b[0m\u001b[0m\n\u001b[1;32m   1418\u001b[0m               \u001b[0;32mif\u001b[0m \u001b[0mself\u001b[0m\u001b[0;34m.\u001b[0m\u001b[0msave_weights_only\u001b[0m\u001b[0;34m:\u001b[0m\u001b[0;34m\u001b[0m\u001b[0;34m\u001b[0m\u001b[0m\n\u001b[0;32m-> 1419\u001b[0;31m                 self.model.save_weights(\n\u001b[0m\u001b[1;32m   1420\u001b[0m                     filepath, overwrite=True, options=self._options)\n\u001b[1;32m   1421\u001b[0m               \u001b[0;32melse\u001b[0m\u001b[0;34m:\u001b[0m\u001b[0;34m\u001b[0m\u001b[0;34m\u001b[0m\u001b[0m\n",
      "\u001b[0;32m/opt/conda/lib/python3.8/site-packages/keras/engine/training.py\u001b[0m in \u001b[0;36msave_weights\u001b[0;34m(self, filepath, overwrite, save_format, options)\u001b[0m\n\u001b[1;32m   2249\u001b[0m         \u001b[0;32mreturn\u001b[0m\u001b[0;34m\u001b[0m\u001b[0;34m\u001b[0m\u001b[0m\n\u001b[1;32m   2250\u001b[0m     \u001b[0;32mif\u001b[0m \u001b[0msave_format\u001b[0m \u001b[0;34m==\u001b[0m \u001b[0;34m'h5'\u001b[0m\u001b[0;34m:\u001b[0m\u001b[0;34m\u001b[0m\u001b[0;34m\u001b[0m\u001b[0m\n\u001b[0;32m-> 2251\u001b[0;31m       \u001b[0;32mwith\u001b[0m \u001b[0mh5py\u001b[0m\u001b[0;34m.\u001b[0m\u001b[0mFile\u001b[0m\u001b[0;34m(\u001b[0m\u001b[0mfilepath\u001b[0m\u001b[0;34m,\u001b[0m \u001b[0;34m'w'\u001b[0m\u001b[0;34m)\u001b[0m \u001b[0;32mas\u001b[0m \u001b[0mf\u001b[0m\u001b[0;34m:\u001b[0m\u001b[0;34m\u001b[0m\u001b[0;34m\u001b[0m\u001b[0m\n\u001b[0m\u001b[1;32m   2252\u001b[0m         \u001b[0mhdf5_format\u001b[0m\u001b[0;34m.\u001b[0m\u001b[0msave_weights_to_hdf5_group\u001b[0m\u001b[0;34m(\u001b[0m\u001b[0mf\u001b[0m\u001b[0;34m,\u001b[0m \u001b[0mself\u001b[0m\u001b[0;34m.\u001b[0m\u001b[0mlayers\u001b[0m\u001b[0;34m)\u001b[0m\u001b[0;34m\u001b[0m\u001b[0;34m\u001b[0m\u001b[0m\n\u001b[1;32m   2253\u001b[0m     \u001b[0;32melse\u001b[0m\u001b[0;34m:\u001b[0m\u001b[0;34m\u001b[0m\u001b[0;34m\u001b[0m\u001b[0m\n",
      "\u001b[0;32m/opt/conda/lib/python3.8/site-packages/h5py/_hl/files.py\u001b[0m in \u001b[0;36m__init__\u001b[0;34m(self, name, mode, driver, libver, userblock_size, swmr, rdcc_nslots, rdcc_nbytes, rdcc_w0, track_order, fs_strategy, fs_persist, fs_threshold, **kwds)\u001b[0m\n\u001b[1;32m    422\u001b[0m             \u001b[0;32mwith\u001b[0m \u001b[0mphil\u001b[0m\u001b[0;34m:\u001b[0m\u001b[0;34m\u001b[0m\u001b[0;34m\u001b[0m\u001b[0m\n\u001b[1;32m    423\u001b[0m                 \u001b[0mfapl\u001b[0m \u001b[0;34m=\u001b[0m \u001b[0mmake_fapl\u001b[0m\u001b[0;34m(\u001b[0m\u001b[0mdriver\u001b[0m\u001b[0;34m,\u001b[0m \u001b[0mlibver\u001b[0m\u001b[0;34m,\u001b[0m \u001b[0mrdcc_nslots\u001b[0m\u001b[0;34m,\u001b[0m \u001b[0mrdcc_nbytes\u001b[0m\u001b[0;34m,\u001b[0m \u001b[0mrdcc_w0\u001b[0m\u001b[0;34m,\u001b[0m \u001b[0;34m**\u001b[0m\u001b[0mkwds\u001b[0m\u001b[0;34m)\u001b[0m\u001b[0;34m\u001b[0m\u001b[0;34m\u001b[0m\u001b[0m\n\u001b[0;32m--> 424\u001b[0;31m                 fid = make_fid(name, mode, userblock_size,\n\u001b[0m\u001b[1;32m    425\u001b[0m                                fapl, fcpl=make_fcpl(track_order=track_order, fs_strategy=fs_strategy,\n\u001b[1;32m    426\u001b[0m                                fs_persist=fs_persist, fs_threshold=fs_threshold),\n",
      "\u001b[0;32m/opt/conda/lib/python3.8/site-packages/h5py/_hl/files.py\u001b[0m in \u001b[0;36mmake_fid\u001b[0;34m(name, mode, userblock_size, fapl, fcpl, swmr)\u001b[0m\n\u001b[1;32m    194\u001b[0m         \u001b[0mfid\u001b[0m \u001b[0;34m=\u001b[0m \u001b[0mh5f\u001b[0m\u001b[0;34m.\u001b[0m\u001b[0mcreate\u001b[0m\u001b[0;34m(\u001b[0m\u001b[0mname\u001b[0m\u001b[0;34m,\u001b[0m \u001b[0mh5f\u001b[0m\u001b[0;34m.\u001b[0m\u001b[0mACC_EXCL\u001b[0m\u001b[0;34m,\u001b[0m \u001b[0mfapl\u001b[0m\u001b[0;34m=\u001b[0m\u001b[0mfapl\u001b[0m\u001b[0;34m,\u001b[0m \u001b[0mfcpl\u001b[0m\u001b[0;34m=\u001b[0m\u001b[0mfcpl\u001b[0m\u001b[0;34m)\u001b[0m\u001b[0;34m\u001b[0m\u001b[0;34m\u001b[0m\u001b[0m\n\u001b[1;32m    195\u001b[0m     \u001b[0;32melif\u001b[0m \u001b[0mmode\u001b[0m \u001b[0;34m==\u001b[0m \u001b[0;34m'w'\u001b[0m\u001b[0;34m:\u001b[0m\u001b[0;34m\u001b[0m\u001b[0;34m\u001b[0m\u001b[0m\n\u001b[0;32m--> 196\u001b[0;31m         \u001b[0mfid\u001b[0m \u001b[0;34m=\u001b[0m \u001b[0mh5f\u001b[0m\u001b[0;34m.\u001b[0m\u001b[0mcreate\u001b[0m\u001b[0;34m(\u001b[0m\u001b[0mname\u001b[0m\u001b[0;34m,\u001b[0m \u001b[0mh5f\u001b[0m\u001b[0;34m.\u001b[0m\u001b[0mACC_TRUNC\u001b[0m\u001b[0;34m,\u001b[0m \u001b[0mfapl\u001b[0m\u001b[0;34m=\u001b[0m\u001b[0mfapl\u001b[0m\u001b[0;34m,\u001b[0m \u001b[0mfcpl\u001b[0m\u001b[0;34m=\u001b[0m\u001b[0mfcpl\u001b[0m\u001b[0;34m)\u001b[0m\u001b[0;34m\u001b[0m\u001b[0;34m\u001b[0m\u001b[0m\n\u001b[0m\u001b[1;32m    197\u001b[0m     \u001b[0;32melif\u001b[0m \u001b[0mmode\u001b[0m \u001b[0;34m==\u001b[0m \u001b[0;34m'a'\u001b[0m\u001b[0;34m:\u001b[0m\u001b[0;34m\u001b[0m\u001b[0;34m\u001b[0m\u001b[0m\n\u001b[1;32m    198\u001b[0m         \u001b[0;31m# Open in append mode (read/write).\u001b[0m\u001b[0;34m\u001b[0m\u001b[0;34m\u001b[0m\u001b[0;34m\u001b[0m\u001b[0m\n",
      "\u001b[0;32mh5py/_objects.pyx\u001b[0m in \u001b[0;36mh5py._objects.with_phil.wrapper\u001b[0;34m()\u001b[0m\n",
      "\u001b[0;32mh5py/_objects.pyx\u001b[0m in \u001b[0;36mh5py._objects.with_phil.wrapper\u001b[0;34m()\u001b[0m\n",
      "\u001b[0;32mh5py/h5f.pyx\u001b[0m in \u001b[0;36mh5py.h5f.create\u001b[0;34m()\u001b[0m\n",
      "\u001b[0;31mOSError\u001b[0m: Unable to create file (unable to open file: name = 'Training_checkpoints/base_checkpoint.keras', errno = 2, error message = 'No such file or directory', flags = 13, o_flags = 242)"
     ]
    }
   ],
   "source": [
    "%%time\n",
    "model.fit(x=generator,\n",
    "          epochs=20,\n",
    "          steps_per_epoch=25,\n",
    "          validation_data=validation_data,\n",
    "          callbacks=callbacks)"
   ]
  },
  {
   "cell_type": "markdown",
   "metadata": {
    "id": "QF8gTj6TnJyA"
   },
   "source": [
    "### Load Checkpoint\n",
    "\n",
    "Because we use early-stopping when training the model, it is possible that the model's performance has worsened on the test-set for several epochs before training was stopped. We therefore reload the last saved checkpoint, which should have the best performance on the test-set."
   ]
  },
  {
   "cell_type": "code",
   "execution_count": 59,
   "metadata": {
    "id": "jBkyg1-vnJyB"
   },
   "outputs": [
    {
     "name": "stdout",
     "output_type": "stream",
     "text": [
      "Error trying to load checkpoint.\n",
      "Unable to open file (unable to open file: name = 'Training_checkpoints/base_checkpoint.keras', errno = 2, error message = 'No such file or directory', flags = 0, o_flags = 0)\n"
     ]
    }
   ],
   "source": [
    "try:\n",
    "    model.load_weights(path_checkpoint)\n",
    "except Exception as error:\n",
    "    print(\"Error trying to load checkpoint.\")\n",
    "    print(error)"
   ]
  },
  {
   "cell_type": "markdown",
   "metadata": {
    "id": "3MS0ThoNnJyB"
   },
   "source": [
    "## Performance on Test-Set\n",
    "\n",
    "We can now evaluate the model's performance on the test-set. This function expects a batch of data, but we will just use one long time-series for the test-set, so we just expand the array-dimensionality to create a batch with that one sequence."
   ]
  },
  {
   "cell_type": "code",
   "execution_count": 60,
   "metadata": {
    "colab": {
     "base_uri": "https://localhost:8080/"
    },
    "executionInfo": {
     "elapsed": 66202,
     "status": "ok",
     "timestamp": 1629675847378,
     "user": {
      "displayName": "Nicolò Brunello",
      "photoUrl": "",
      "userId": "03655516846124206133"
     },
     "user_tz": -120
    },
    "id": "BB8zEHBMnJyB",
    "outputId": "8d3338b1-5a28-4aca-d620-b674a2dc549a"
   },
   "outputs": [
    {
     "name": "stdout",
     "output_type": "stream",
     "text": [
      "1/1 [==============================] - 25s 25s/step - loss: 5.3972e-04\n"
     ]
    }
   ],
   "source": [
    "result = model.evaluate(x=np.expand_dims(x_test_scaled, axis=0),\n",
    "                        y=np.expand_dims(y_test_scaled, axis=0))"
   ]
  },
  {
   "cell_type": "code",
   "execution_count": 61,
   "metadata": {
    "colab": {
     "base_uri": "https://localhost:8080/"
    },
    "executionInfo": {
     "elapsed": 24,
     "status": "ok",
     "timestamp": 1629675847379,
     "user": {
      "displayName": "Nicolò Brunello",
      "photoUrl": "",
      "userId": "03655516846124206133"
     },
     "user_tz": -120
    },
    "id": "IVwz9bTonJyB",
    "outputId": "94eccd29-bd95-4d19-ead2-76fa69d65053"
   },
   "outputs": [
    {
     "name": "stdout",
     "output_type": "stream",
     "text": [
      "loss (test-set): 0.0005397220375016332\n"
     ]
    }
   ],
   "source": [
    "print(\"loss (test-set):\", result)"
   ]
  },
  {
   "cell_type": "code",
   "execution_count": 62,
   "metadata": {
    "id": "Pj-J6WyinJyC"
   },
   "outputs": [],
   "source": [
    "# If you have several metrics you can use this instead.\n",
    "if False:\n",
    "    for res, metric in zip(result, model.metrics_names):\n",
    "        print(\"{0}: {1:.3e}\".format(metric, res))"
   ]
  },
  {
   "cell_type": "markdown",
   "metadata": {
    "id": "Lv6Az2fnnJyC"
   },
   "source": [
    "## Generate Predictions\n",
    "\n",
    "This helper-function plots the predicted and true output-signals."
   ]
  },
  {
   "cell_type": "code",
   "execution_count": 2,
   "metadata": {
    "id": "WaJXRHJqrnoR"
   },
   "outputs": [],
   "source": [
    "def plot_comparison_fulltest():\n",
    "    \"\"\"\n",
    "    Plot the predicted and true output-signals of test set\n",
    "    \"\"\"\n",
    "    # Use test-data.\n",
    "    x = x_test_scaled\n",
    "    y_true = y_test\n",
    "    \n",
    "    # Input-signals for the model.\n",
    "    x = np.expand_dims(x, axis=0)\n",
    "\n",
    "    # Use the model to predict the output-signals.\n",
    "    y_pred = model.predict(x)\n",
    "    \n",
    "    # The output of the model is between 0 and 1.\n",
    "    # Do an inverse map to get it back to the scale\n",
    "    # of the original data-set.\n",
    "    y_pred_rescaled = y_scaler.inverse_transform(y_pred[0])\n",
    "    \n",
    "    signal = 'EMISSIONS_2019'\n",
    "    # Get the output-signal predicted by the model.\n",
    "    signal_pred = y_pred_rescaled[:]\n",
    "    \n",
    "    # Get the true output-signal from the data-set.\n",
    "    signal_true = y_true[:]\n",
    "\n",
    "    # Make the plotting-canvas bigger.\n",
    "    plt.figure(figsize=(15,5))\n",
    "    \n",
    "    # Plot and compare the two signals.\n",
    "    plt.plot(signal_true, label='true')\n",
    "    plt.plot(signal_pred, label='pred')\n",
    "    \n",
    "    # Plot grey box for warmup-period.\n",
    "    p = plt.axvspan(0, warmup_steps, facecolor='black', alpha=0.15)\n",
    "    \n",
    "    # Plot labels etc.\n",
    "    plt.ylabel(signal)\n",
    "    plt.legend()\n",
    "    plt.show()"
   ]
  },
  {
   "cell_type": "markdown",
   "metadata": {
    "id": "mbTOixjlnJyD"
   },
   "source": [
    "We can now plot an example of predicted output-signal. It is important to understand what these plots show, as they are actually a bit more complicated than you might think."
   ]
  },
  {
   "cell_type": "code",
   "execution_count": 3,
   "metadata": {
    "colab": {
     "base_uri": "https://localhost:8080/",
     "height": 331
    },
    "executionInfo": {
     "elapsed": 11713,
     "status": "ok",
     "timestamp": 1629675859074,
     "user": {
      "displayName": "Nicolò Brunello",
      "photoUrl": "",
      "userId": "03655516846124206133"
     },
     "user_tz": -120
    },
    "id": "Q3wrc_BhnJyD",
    "outputId": "caf570e6-6cff-4df9-d031-45fa0af5209b",
    "scrolled": true
   },
   "outputs": [
    {
     "ename": "NameError",
     "evalue": "name 'x_test_scaled' is not defined",
     "output_type": "error",
     "traceback": [
      "\u001b[0;31m---------------------------------------------------------------------------\u001b[0m",
      "\u001b[0;31mNameError\u001b[0m                                 Traceback (most recent call last)",
      "\u001b[0;32m/tmp/ipykernel_420/665451523.py\u001b[0m in \u001b[0;36m<module>\u001b[0;34m\u001b[0m\n\u001b[0;32m----> 1\u001b[0;31m \u001b[0mplot_comparison_fulltest\u001b[0m\u001b[0;34m(\u001b[0m\u001b[0;34m)\u001b[0m\u001b[0;34m\u001b[0m\u001b[0;34m\u001b[0m\u001b[0m\n\u001b[0m",
      "\u001b[0;32m/tmp/ipykernel_420/3792274491.py\u001b[0m in \u001b[0;36mplot_comparison_fulltest\u001b[0;34m()\u001b[0m\n\u001b[1;32m      4\u001b[0m     \"\"\"\n\u001b[1;32m      5\u001b[0m     \u001b[0;31m# Use test-data.\u001b[0m\u001b[0;34m\u001b[0m\u001b[0;34m\u001b[0m\u001b[0;34m\u001b[0m\u001b[0m\n\u001b[0;32m----> 6\u001b[0;31m     \u001b[0mx\u001b[0m \u001b[0;34m=\u001b[0m \u001b[0mx_test_scaled\u001b[0m\u001b[0;34m\u001b[0m\u001b[0;34m\u001b[0m\u001b[0m\n\u001b[0m\u001b[1;32m      7\u001b[0m     \u001b[0my_true\u001b[0m \u001b[0;34m=\u001b[0m \u001b[0my_test\u001b[0m\u001b[0;34m\u001b[0m\u001b[0;34m\u001b[0m\u001b[0m\n\u001b[1;32m      8\u001b[0m \u001b[0;34m\u001b[0m\u001b[0m\n",
      "\u001b[0;31mNameError\u001b[0m: name 'x_test_scaled' is not defined"
     ]
    }
   ],
   "source": [
    "plot_comparison_fulltest()"
   ]
  },
  {
   "cell_type": "markdown",
   "metadata": {
    "id": "RXFsY6XvQWIv"
   },
   "source": [
    "## Improvements"
   ]
  },
  {
   "cell_type": "markdown",
   "metadata": {
    "id": "nQjgi4ZUQYgk"
   },
   "source": [
    "The model at least seems to perform a little better than the base model with just location, the overall performance is not sufficient yet since we train the model in the wrong way. \n",
    "Here there are the next improvements: \n",
    "- Train the model modifying the way the generator gives the data. Right now it select randomly a subsequence from the overall training set, so it is very likely that a single subsequence may contain the end of the final day for a location and the first day of the next location. So a way to improve is to force the generator to select a random subsequene from a single random location. Can be done quite easily by choosing randomly a single location (from the cartesian product of latitudes and longitudes) and than choose randomly a subsequence inside this selection.\n",
    "- Right now the test set contains latitudes and longitudes never seen in the training set, shuffling smartly the dataset may solve this but pay attention to the previous point \n",
    "- Tune Hyperparameters through CROSS-VALIDATION !!\n",
    "- Not use the Test set as Validation set !!"
   ]
  }
 ],
 "metadata": {
  "colab": {
   "authorship_tag": "ABX9TyMRL7u+lITRQPQoTrDc4msM",
   "name": "LSTM_multiLocationModel_concentrations.ipynb",
   "provenance": [
    {
     "file_id": "15qjgtZ8twEMJFU13VJrrcxo1CdvZb1KC",
     "timestamp": 1629650101708
    }
   ],
   "toc_visible": true
  },
  "kernelspec": {
   "display_name": "Python 3 (ipykernel)",
   "language": "python",
   "name": "python3"
  },
  "language_info": {
   "codemirror_mode": {
    "name": "ipython",
    "version": 3
   },
   "file_extension": ".py",
   "mimetype": "text/x-python",
   "name": "python",
   "nbconvert_exporter": "python",
   "pygments_lexer": "ipython3",
   "version": "3.8.6"
  }
 },
 "nbformat": 4,
 "nbformat_minor": 4
}
