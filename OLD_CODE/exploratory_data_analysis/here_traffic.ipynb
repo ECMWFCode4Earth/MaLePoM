{
 "cells": [
  {
   "cell_type": "markdown",
   "metadata": {},
   "source": [
    "## Access HERE API traffic data and saving to shapefile"
   ]
  },
  {
   "cell_type": "markdown",
   "metadata": {},
   "source": [
    "#### Install herepy package"
   ]
  },
  {
   "cell_type": "code",
   "execution_count": 1,
   "metadata": {},
   "outputs": [],
   "source": [
    "!pip install herepy -q #contextily rioxarray geocube -q"
   ]
  },
  {
   "cell_type": "code",
   "execution_count": 1,
   "metadata": {},
   "outputs": [
    {
     "name": "stderr",
     "output_type": "stream",
     "text": [
      "Warning 1: +init=epsg:XXXX syntax is deprecated. It might return a CRS with a non-EPSG compliant axis order.\n"
     ]
    }
   ],
   "source": [
    "import herepy\n",
    "import requests\n",
    "import json\n",
    "import os\n",
    "\n",
    "import numpy as np\n",
    "from datetime import datetime as dt\n",
    "import matplotlib.pyplot as plt\n",
    "import pandas as pd\n",
    "import shapely as shp\n",
    "import geopandas as gpd\n",
    "import shutil\n",
    "from src.data.utils import bounds\n",
    "from src.utils import keys"
   ]
  },
  {
   "cell_type": "markdown",
   "metadata": {},
   "source": [
    "#### HERE Traffic API request"
   ]
  },
  {
   "cell_type": "code",
   "execution_count": null,
   "metadata": {},
   "outputs": [],
   "source": []
  },
  {
   "cell_type": "code",
   "execution_count": 3,
   "metadata": {},
   "outputs": [],
   "source": [
    "area = bounds()"
   ]
  },
  {
   "cell_type": "code",
   "execution_count": 5,
   "metadata": {},
   "outputs": [],
   "source": [
    "key = keys()['HERE']['key']"
   ]
  },
  {
   "cell_type": "code",
   "execution_count": 6,
   "metadata": {},
   "outputs": [],
   "source": [
    "traffic_url = 'https://traffic.ls.hereapi.com/traffic/6.2/flow.json?\\\n",
    "apiKey=%s\\\n",
    "&bbox=%s,%s;%s,%s\\\n",
    "&responseattributes=sh,fc'%(key, area[3], area[0], area[1], area[2])"
   ]
  },
  {
   "cell_type": "code",
   "execution_count": 7,
   "metadata": {},
   "outputs": [
    {
     "data": {
      "text/plain": [
       "'20210811_2019'"
      ]
     },
     "execution_count": 7,
     "metadata": {},
     "output_type": "execute_result"
    }
   ],
   "source": [
    "now = dt.now()\n",
    "now = now.strftime('%Y%m%d_%H%M')\n",
    "now"
   ]
  },
  {
   "cell_type": "code",
   "execution_count": 8,
   "metadata": {},
   "outputs": [
    {
     "ename": "JSONDecodeError",
     "evalue": "Expecting value: line 1 column 1 (char 0)",
     "output_type": "error",
     "traceback": [
      "\u001b[0;31m---------------------------------------------------------------------------\u001b[0m",
      "\u001b[0;31mJSONDecodeError\u001b[0m                           Traceback (most recent call last)",
      "\u001b[0;32m<timed exec>\u001b[0m in \u001b[0;36m<module>\u001b[0;34m\u001b[0m\n",
      "\u001b[0;32m/opt/conda/lib/python3.8/json/__init__.py\u001b[0m in \u001b[0;36mloads\u001b[0;34m(s, cls, object_hook, parse_float, parse_int, parse_constant, object_pairs_hook, **kw)\u001b[0m\n\u001b[1;32m    355\u001b[0m             \u001b[0mparse_int\u001b[0m \u001b[0;32mis\u001b[0m \u001b[0;32mNone\u001b[0m \u001b[0;32mand\u001b[0m \u001b[0mparse_float\u001b[0m \u001b[0;32mis\u001b[0m \u001b[0;32mNone\u001b[0m \u001b[0;32mand\u001b[0m\u001b[0;34m\u001b[0m\u001b[0;34m\u001b[0m\u001b[0m\n\u001b[1;32m    356\u001b[0m             parse_constant is None and object_pairs_hook is None and not kw):\n\u001b[0;32m--> 357\u001b[0;31m         \u001b[0;32mreturn\u001b[0m \u001b[0m_default_decoder\u001b[0m\u001b[0;34m.\u001b[0m\u001b[0mdecode\u001b[0m\u001b[0;34m(\u001b[0m\u001b[0ms\u001b[0m\u001b[0;34m)\u001b[0m\u001b[0;34m\u001b[0m\u001b[0;34m\u001b[0m\u001b[0m\n\u001b[0m\u001b[1;32m    358\u001b[0m     \u001b[0;32mif\u001b[0m \u001b[0mcls\u001b[0m \u001b[0;32mis\u001b[0m \u001b[0;32mNone\u001b[0m\u001b[0;34m:\u001b[0m\u001b[0;34m\u001b[0m\u001b[0;34m\u001b[0m\u001b[0m\n\u001b[1;32m    359\u001b[0m         \u001b[0mcls\u001b[0m \u001b[0;34m=\u001b[0m \u001b[0mJSONDecoder\u001b[0m\u001b[0;34m\u001b[0m\u001b[0;34m\u001b[0m\u001b[0m\n",
      "\u001b[0;32m/opt/conda/lib/python3.8/json/decoder.py\u001b[0m in \u001b[0;36mdecode\u001b[0;34m(self, s, _w)\u001b[0m\n\u001b[1;32m    335\u001b[0m \u001b[0;34m\u001b[0m\u001b[0m\n\u001b[1;32m    336\u001b[0m         \"\"\"\n\u001b[0;32m--> 337\u001b[0;31m         \u001b[0mobj\u001b[0m\u001b[0;34m,\u001b[0m \u001b[0mend\u001b[0m \u001b[0;34m=\u001b[0m \u001b[0mself\u001b[0m\u001b[0;34m.\u001b[0m\u001b[0mraw_decode\u001b[0m\u001b[0;34m(\u001b[0m\u001b[0ms\u001b[0m\u001b[0;34m,\u001b[0m \u001b[0midx\u001b[0m\u001b[0;34m=\u001b[0m\u001b[0m_w\u001b[0m\u001b[0;34m(\u001b[0m\u001b[0ms\u001b[0m\u001b[0;34m,\u001b[0m \u001b[0;36m0\u001b[0m\u001b[0;34m)\u001b[0m\u001b[0;34m.\u001b[0m\u001b[0mend\u001b[0m\u001b[0;34m(\u001b[0m\u001b[0;34m)\u001b[0m\u001b[0;34m)\u001b[0m\u001b[0;34m\u001b[0m\u001b[0;34m\u001b[0m\u001b[0m\n\u001b[0m\u001b[1;32m    338\u001b[0m         \u001b[0mend\u001b[0m \u001b[0;34m=\u001b[0m \u001b[0m_w\u001b[0m\u001b[0;34m(\u001b[0m\u001b[0ms\u001b[0m\u001b[0;34m,\u001b[0m \u001b[0mend\u001b[0m\u001b[0;34m)\u001b[0m\u001b[0;34m.\u001b[0m\u001b[0mend\u001b[0m\u001b[0;34m(\u001b[0m\u001b[0;34m)\u001b[0m\u001b[0;34m\u001b[0m\u001b[0;34m\u001b[0m\u001b[0m\n\u001b[1;32m    339\u001b[0m         \u001b[0;32mif\u001b[0m \u001b[0mend\u001b[0m \u001b[0;34m!=\u001b[0m \u001b[0mlen\u001b[0m\u001b[0;34m(\u001b[0m\u001b[0ms\u001b[0m\u001b[0;34m)\u001b[0m\u001b[0;34m:\u001b[0m\u001b[0;34m\u001b[0m\u001b[0;34m\u001b[0m\u001b[0m\n",
      "\u001b[0;32m/opt/conda/lib/python3.8/json/decoder.py\u001b[0m in \u001b[0;36mraw_decode\u001b[0;34m(self, s, idx)\u001b[0m\n\u001b[1;32m    353\u001b[0m             \u001b[0mobj\u001b[0m\u001b[0;34m,\u001b[0m \u001b[0mend\u001b[0m \u001b[0;34m=\u001b[0m \u001b[0mself\u001b[0m\u001b[0;34m.\u001b[0m\u001b[0mscan_once\u001b[0m\u001b[0;34m(\u001b[0m\u001b[0ms\u001b[0m\u001b[0;34m,\u001b[0m \u001b[0midx\u001b[0m\u001b[0;34m)\u001b[0m\u001b[0;34m\u001b[0m\u001b[0;34m\u001b[0m\u001b[0m\n\u001b[1;32m    354\u001b[0m         \u001b[0;32mexcept\u001b[0m \u001b[0mStopIteration\u001b[0m \u001b[0;32mas\u001b[0m \u001b[0merr\u001b[0m\u001b[0;34m:\u001b[0m\u001b[0;34m\u001b[0m\u001b[0;34m\u001b[0m\u001b[0m\n\u001b[0;32m--> 355\u001b[0;31m             \u001b[0;32mraise\u001b[0m \u001b[0mJSONDecodeError\u001b[0m\u001b[0;34m(\u001b[0m\u001b[0;34m\"Expecting value\"\u001b[0m\u001b[0;34m,\u001b[0m \u001b[0ms\u001b[0m\u001b[0;34m,\u001b[0m \u001b[0merr\u001b[0m\u001b[0;34m.\u001b[0m\u001b[0mvalue\u001b[0m\u001b[0;34m)\u001b[0m \u001b[0;32mfrom\u001b[0m \u001b[0;32mNone\u001b[0m\u001b[0;34m\u001b[0m\u001b[0;34m\u001b[0m\u001b[0m\n\u001b[0m\u001b[1;32m    356\u001b[0m         \u001b[0;32mreturn\u001b[0m \u001b[0mobj\u001b[0m\u001b[0;34m,\u001b[0m \u001b[0mend\u001b[0m\u001b[0;34m\u001b[0m\u001b[0;34m\u001b[0m\u001b[0m\n",
      "\u001b[0;31mJSONDecodeError\u001b[0m: Expecting value: line 1 column 1 (char 0)"
     ]
    }
   ],
   "source": [
    "%%time\n",
    "api_out = requests.get(traffic_url)\n",
    "traffic = json.loads(api_out.content)"
   ]
  },
  {
   "cell_type": "code",
   "execution_count": null,
   "metadata": {},
   "outputs": [],
   "source": [
    "%%time \n",
    "\n",
    "out = []\n",
    "\n",
    "for it in traffic.get('RWS'):\n",
    "    for rw in (it.get('RW')):\n",
    "        for fis in (rw.get('FIS')):\n",
    "            for fi in fis.get('FI'):\n",
    "                DE = (fi.get('TMC').get('DE'))\n",
    "                shape = fi.get('SHP')\n",
    "                PC = fi.get('TMC').get('PC')\n",
    "                QD = fi.get('TMC').get('QD')\n",
    "                LE = fi.get('TMC').get('LE')\n",
    "                \n",
    "                zs = []\n",
    "\n",
    "                for z in shape:\n",
    "                    zs.append([[*map(float, x.split(','))][::-1] for x in z.get('value')[0].split(' ')[:-1]])\n",
    "\n",
    "                line = shp.geometry.MultiLineString(zs)\n",
    "                if len(fi.get('CF')) == 1:\n",
    "                    SU = fi.get('CF')[0].get('SU')\n",
    "                    SP = fi.get('CF')[0].get('SP')\n",
    "                    JF = fi.get('CF')[0].get('JF')\n",
    "                    FF = fi.get('CF')[0].get('FF')\n",
    "                    CN = fi.get('CF')[0].get('CN')\n",
    "                    \n",
    "                else:\n",
    "                    print('ERROR.')\n",
    "                    \n",
    "                out.append((DE, PC, QD, LE, SU, SP, JF, FF, CN, line))"
   ]
  },
  {
   "cell_type": "code",
   "execution_count": null,
   "metadata": {},
   "outputs": [],
   "source": [
    "DE, PC, QD, LE, SU, SP, JF, FF, CN, geom = zip(*out)"
   ]
  },
  {
   "cell_type": "code",
   "execution_count": null,
   "metadata": {},
   "outputs": [],
   "source": [
    "gdf = gpd.GeoDataFrame(data=zip(DE, PC, QD, LE, SU, SP, JF, FF, CN), \n",
    "                       geometry=list(geom), \n",
    "                       columns=('DE', 'PC', 'QD', 'LE', 'SU', 'SP', 'JF', 'FF', 'CN'))\n",
    "gdf.head()"
   ]
  },
  {
   "cell_type": "code",
   "execution_count": null,
   "metadata": {},
   "outputs": [],
   "source": [
    "print('%s'%gdf.shape[0], ' rows of data')"
   ]
  },
  {
   "cell_type": "code",
   "execution_count": null,
   "metadata": {},
   "outputs": [],
   "source": [
    "%%time \n",
    "\n",
    "fig, ax = plt.subplots(1,1)\n",
    "\n",
    "gdf.plot(ax=ax, column='JF', legend=True, lw=0.25)\n",
    "# countries.plot(ax=ax, fc='#bebebe', ec='black', zorder=-10)\n",
    "ax.set_xlim(area[0]-1, area[2]+1)\n",
    "ax.set_ylim(area[1]-1, area[3]+1)\n",
    "plt.tight_layout()"
   ]
  },
  {
   "cell_type": "code",
   "execution_count": null,
   "metadata": {},
   "outputs": [],
   "source": [
    "gdf.to_file('here_traffic_', driver='ESRI Shapefile')\n",
    "shutil.make_archive('data/traffic/4_43_10_49/%s'%now, 'zip', './here_traffic_/')\n",
    "!rm -rf 'here_traffic_'"
   ]
  },
  {
   "cell_type": "markdown",
   "metadata": {},
   "source": [
    "#### Run HERE traffic API request periodically to store temporal data"
   ]
  },
  {
   "cell_type": "code",
   "execution_count": 9,
   "metadata": {},
   "outputs": [],
   "source": [
    "import time"
   ]
  },
  {
   "cell_type": "code",
   "execution_count": 10,
   "metadata": {},
   "outputs": [],
   "source": [
    "gap = 20 # in minutes"
   ]
  },
  {
   "cell_type": "code",
   "execution_count": null,
   "metadata": {},
   "outputs": [
    {
     "name": "stdout",
     "output_type": "stream",
     "text": [
      "Iteration: 0\n",
      "17:36:32 \n",
      "\n",
      "Iteration: 1\n",
      "17:55:40 \n",
      "\n",
      "Iteration: 2\n",
      "18:14:57 \n",
      "\n",
      "Iteration: 3\n",
      "18:34:16 \n",
      "\n",
      "Iteration: 4\n",
      "18:53:31 \n",
      "\n"
     ]
    }
   ],
   "source": [
    "for i in range(12):\n",
    "    \n",
    "    now = dt.now()\n",
    "    now = now.strftime('%Y%m%d_%H%M')\n",
    "    \n",
    "    print('Iteration: %s'%i)\n",
    "    print(dt.now().strftime('%H:%M:%S'), '\\n')\n",
    "    \n",
    "    api_out = requests.get(traffic_url)\n",
    "    traffic = json.loads(api_out.content)\n",
    "    \n",
    "    out = []\n",
    "\n",
    "    for it in traffic.get('RWS'):\n",
    "        for rw in (it.get('RW')):\n",
    "            for fis in (rw.get('FIS')):\n",
    "                for fi in fis.get('FI'):\n",
    "                    DE = (fi.get('TMC').get('DE'))\n",
    "                    shape = fi.get('SHP')\n",
    "                    PC = fi.get('TMC').get('PC')\n",
    "                    QD = fi.get('TMC').get('QD')\n",
    "                    LE = fi.get('TMC').get('LE')\n",
    "\n",
    "                    zs = []\n",
    "\n",
    "                    for z in shape:\n",
    "                        zs.append([[*map(float, x.split(','))][::-1] for x in z.get('value')[0].split(' ')[:-1]])\n",
    "\n",
    "                    line = shp.geometry.MultiLineString(zs)\n",
    "                    if len(fi.get('CF')) == 1:\n",
    "                        SU = fi.get('CF')[0].get('SU')\n",
    "                        SP = fi.get('CF')[0].get('SP')\n",
    "                        JF = fi.get('CF')[0].get('JF')\n",
    "                        FF = fi.get('CF')[0].get('FF')\n",
    "                        CN = fi.get('CF')[0].get('CN')\n",
    "\n",
    "                    else:\n",
    "                        print('ERROR.')\n",
    "\n",
    "                    out.append((DE, PC, QD, LE, SU, SP, JF, FF, CN, line))\n",
    "    \n",
    "    DE, PC, QD, LE, SU, SP, JF, FF, CN, geom = zip(*out)\n",
    "    \n",
    "    gdf = gpd.GeoDataFrame(data=zip(DE, PC, QD, LE, SU, SP, JF, FF, CN), \n",
    "                       geometry=list(geom), \n",
    "                       columns=('DE', 'PC', 'QD', 'LE', 'SU', 'SP', 'JF', 'FF', 'CN'))\n",
    "    \n",
    "    gdf.to_file('here_traffic_', driver='ESRI Shapefile')\n",
    "    shutil.make_archive('data/traffic/4_43_10_49/%s'%now, 'zip', './here_traffic_/')\n",
    "    !rm -rf 'here_traffic_'\n",
    "    \n",
    "    time.sleep(50*gap)"
   ]
  },
  {
   "cell_type": "markdown",
   "metadata": {},
   "source": [
    "___"
   ]
  },
  {
   "cell_type": "markdown",
   "metadata": {},
   "source": [
    "#### Test"
   ]
  },
  {
   "cell_type": "code",
   "execution_count": null,
   "metadata": {},
   "outputs": [],
   "source": [
    "df1 = gpd.read_file('zip://data/traffic/20210703_2038.zip')\n",
    "df2 = gpd.read_file('zip://data/traffic/20210704_0005.zip')"
   ]
  },
  {
   "cell_type": "code",
   "execution_count": null,
   "metadata": {},
   "outputs": [],
   "source": [
    "df2.head()"
   ]
  },
  {
   "cell_type": "code",
   "execution_count": null,
   "metadata": {},
   "outputs": [],
   "source": []
  }
 ],
 "metadata": {
  "kernelspec": {
   "display_name": "Python 3 (ipykernel)",
   "language": "python",
   "name": "python3"
  },
  "language_info": {
   "codemirror_mode": {
    "name": "ipython",
    "version": 3
   },
   "file_extension": ".py",
   "mimetype": "text/x-python",
   "name": "python",
   "nbconvert_exporter": "python",
   "pygments_lexer": "ipython3",
   "version": "3.8.6"
  }
 },
 "nbformat": 4,
 "nbformat_minor": 4
}
