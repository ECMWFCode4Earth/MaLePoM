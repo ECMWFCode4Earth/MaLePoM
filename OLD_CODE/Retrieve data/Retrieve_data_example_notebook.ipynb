{
 "cells": [
  {
   "cell_type": "markdown",
   "metadata": {
    "id": "hwiuGmF2yG-d"
   },
   "source": [
    "# HDA api for CAMS data tutorial"
   ]
  },
  {
   "cell_type": "markdown",
   "metadata": {
    "id": "UJwsCIy4yWGq"
   },
   "source": [
    "The purpose of this colab notebook is to retrieve a simple set of data from CAMS using HDA APIs. "
   ]
  },
  {
   "cell_type": "markdown",
   "metadata": {
    "id": "KzGdNHMw79mX"
   },
   "source": [
    "## Install dependencies"
   ]
  },
  {
   "cell_type": "markdown",
   "metadata": {
    "id": "endNOldq8Flf"
   },
   "source": [
    "Just to be clear, executing a command with the \"!\" before in a cell of colab basically is like executing that line in a linux terminal using bash"
   ]
  },
  {
   "cell_type": "code",
   "execution_count": null,
   "metadata": {
    "colab": {
     "base_uri": "https://localhost:8080/"
    },
    "executionInfo": {
     "elapsed": 3414,
     "status": "ok",
     "timestamp": 1627847745533,
     "user": {
      "displayName": "Nicolò Brunello",
      "photoUrl": "",
      "userId": "03655516846124206133"
     },
     "user_tz": -120
    },
    "id": "SWjgT0MzEPht",
    "outputId": "15dfc86e-a1dc-46c3-9f89-b438a4c8d690"
   },
   "outputs": [
    {
     "name": "stdout",
     "output_type": "stream",
     "text": [
      "Requirement already satisfied: hda in /usr/local/lib/python3.7/dist-packages (0.2.1)\n",
      "Requirement already satisfied: tqdm in /usr/local/lib/python3.7/dist-packages (from hda) (4.41.1)\n",
      "Requirement already satisfied: requests>=2.5.0 in /usr/local/lib/python3.7/dist-packages (from hda) (2.23.0)\n",
      "Requirement already satisfied: urllib3!=1.25.0,!=1.25.1,<1.26,>=1.21.1 in /usr/local/lib/python3.7/dist-packages (from requests>=2.5.0->hda) (1.24.3)\n",
      "Requirement already satisfied: certifi>=2017.4.17 in /usr/local/lib/python3.7/dist-packages (from requests>=2.5.0->hda) (2021.5.30)\n",
      "Requirement already satisfied: idna<3,>=2.5 in /usr/local/lib/python3.7/dist-packages (from requests>=2.5.0->hda) (2.10)\n",
      "Requirement already satisfied: chardet<4,>=3.0.2 in /usr/local/lib/python3.7/dist-packages (from requests>=2.5.0->hda) (3.0.4)\n"
     ]
    }
   ],
   "source": [
    "# HDA APIs dependencies\n",
    "!pip install hda"
   ]
  },
  {
   "cell_type": "code",
   "execution_count": null,
   "metadata": {
    "colab": {
     "base_uri": "https://localhost:8080/"
    },
    "executionInfo": {
     "elapsed": 3014,
     "status": "ok",
     "timestamp": 1627847748544,
     "user": {
      "displayName": "Nicolò Brunello",
      "photoUrl": "",
      "userId": "03655516846124206133"
     },
     "user_tz": -120
    },
    "id": "mrSnj21iZx9w",
    "outputId": "bdd207e2-301c-4ee5-f2b1-11c778dd82af"
   },
   "outputs": [
    {
     "name": "stdout",
     "output_type": "stream",
     "text": [
      "Requirement already satisfied: netcdf4 in /usr/local/lib/python3.7/dist-packages (1.5.7)\n",
      "Requirement already satisfied: cftime in /usr/local/lib/python3.7/dist-packages (from netcdf4) (1.5.0)\n",
      "Requirement already satisfied: numpy>=1.9 in /usr/local/lib/python3.7/dist-packages (from netcdf4) (1.19.5)\n"
     ]
    }
   ],
   "source": [
    "# Install library to read netcds files\n",
    "!pip install netcdf4"
   ]
  },
  {
   "cell_type": "markdown",
   "metadata": {
    "id": "gbtproEL8sUv"
   },
   "source": [
    "Next cell mount in the colab notebook the google drive folder, click on the link that appears under the cell, login and copy the string into the field of the cell to connect."
   ]
  },
  {
   "cell_type": "code",
   "execution_count": null,
   "metadata": {
    "colab": {
     "base_uri": "https://localhost:8080/"
    },
    "executionInfo": {
     "elapsed": 10,
     "status": "ok",
     "timestamp": 1627847748545,
     "user": {
      "displayName": "Nicolò Brunello",
      "photoUrl": "",
      "userId": "03655516846124206133"
     },
     "user_tz": -120
    },
    "id": "qcuAqn6eIR4h",
    "outputId": "4926c168-75c8-448f-e3da-28155f7114d7"
   },
   "outputs": [
    {
     "name": "stdout",
     "output_type": "stream",
     "text": [
      "Drive already mounted at /content/drive; to attempt to forcibly remount, call drive.mount(\"/content/drive\", force_remount=True).\n"
     ]
    }
   ],
   "source": [
    "from google.colab import drive\n",
    "drive.mount('/content/drive')"
   ]
  },
  {
   "cell_type": "markdown",
   "metadata": {
    "id": "jKmqOsJR9aK1"
   },
   "source": [
    "Rebase the current directory to a directory called \"ESoWC/retrieve_data\", make sure you created it before in your drive. \n",
    "(It should create it automatically but you never know :) )"
   ]
  },
  {
   "cell_type": "code",
   "execution_count": null,
   "metadata": {
    "colab": {
     "base_uri": "https://localhost:8080/"
    },
    "executionInfo": {
     "elapsed": 403,
     "status": "ok",
     "timestamp": 1627847753064,
     "user": {
      "displayName": "Nicolò Brunello",
      "photoUrl": "",
      "userId": "03655516846124206133"
     },
     "user_tz": -120
    },
    "id": "xplUbBgxZ2Xb",
    "outputId": "cce867d0-89ac-4b28-cf9c-def6e9fac4dd"
   },
   "outputs": [
    {
     "name": "stdout",
     "output_type": "stream",
     "text": [
      "/content/drive/My Drive/ESoWC\n"
     ]
    }
   ],
   "source": [
    "%cd /content/drive/My Drive/ESoWC/retrieve_data"
   ]
  },
  {
   "cell_type": "markdown",
   "metadata": {
    "id": "wjr9uxbT2_Rk"
   },
   "source": [
    "In you drive directory you should put a file called \"hda_credentials.txt\" which contains the base URL and username and password to connect to wekeo.\n",
    "The structure of the file should be: \n",
    "\n",
    "`url: https://wekeo-broker.apps.mercator.dpi.wekeo.eu/databroker user: [username] password: [password]`\n",
    "\n",
    "Where instead of `[username]` and `[password]` you substitute yours credentials\n"
   ]
  },
  {
   "cell_type": "code",
   "execution_count": null,
   "metadata": {
    "id": "8SDahSFXwMi9"
   },
   "outputs": [],
   "source": [
    "%cat hda_credentials.txt >> $HOME/.hdarc"
   ]
  },
  {
   "cell_type": "markdown",
   "metadata": {
    "id": "-SDkNIH2VmEo"
   },
   "source": [
    "NOW YOU MUST JUST CREATE A \"query.json\" FILE INTO THE \"ESoWC/retrieve_data\" folder which will be filled with the text of the query copied from the wekeo web-tool."
   ]
  },
  {
   "cell_type": "code",
   "execution_count": null,
   "metadata": {
    "colab": {
     "base_uri": "https://localhost:8080/"
    },
    "executionInfo": {
     "elapsed": 15057,
     "status": "ok",
     "timestamp": 1626652038567,
     "user": {
      "displayName": "Nicolò Brunello",
      "photoUrl": "",
      "userId": "03655516846124206133"
     },
     "user_tz": -120
    },
    "id": "1cbEBz4G5Fho",
    "outputId": "7b86ec1b-0041-4732-8fbc-63fe9fed8a83"
   },
   "outputs": [
    {
     "name": "stdout",
     "output_type": "stream",
     "text": [
      "2021-07-18 23:47:04,144 DEBUG HDA {'url': 'https://wekeo-broker.apps.mercator.dpi.wekeo.eu/databroker', 'token': None, 'user': 'nicobrunello', 'password': ',3zdzJnU$MDt3KHy', 'quiet': False, 'verify': True, 'timeout': None, 'sleep_max': 120, 'retry_max': 500, 'progress': True}\n",
      "2021-07-18 23:47:04,147 DEBUG ===> GET https://wekeo-broker.apps.mercator.dpi.wekeo.eu/databroker/gettoken\n",
      "2021-07-18 23:47:04,149 DEBUG Starting new HTTPS connection (1): wekeo-broker.apps.mercator.dpi.wekeo.eu:443\n",
      "2021-07-18 23:47:06,225 DEBUG https://wekeo-broker.apps.mercator.dpi.wekeo.eu:443 \"GET /databroker/gettoken HTTP/1.1\" 200 61\n",
      "2021-07-18 23:47:06,226 DEBUG <=== {\"access_token\": \"17c38876-0c7b-3445-8e06-484d04090129\"}\n",
      "2021-07-18 23:47:06,226 DEBUG Token is 17c38876-0c7b-3445-8e06-484d04090129\n",
      "2021-07-18 23:47:06,226 DEBUG ===> POST https://wekeo-broker.apps.mercator.dpi.wekeo.eu/databroker/datarequest\n",
      "2021-07-18 23:47:06,226 DEBUG ===> POST {\"datasetId\": \"EO:ECMWF:DAT:CAMS_GLOBAL_REANALYSIS_EAC4\", \"boundingBoxValues\"...\n",
      "2021-07-18 23:47:07,681 DEBUG https://wekeo-broker.apps.mercator.dpi.wekeo.eu:443 \"POST /databroker/datarequest HTTP/1.1\" 200 93\n",
      "2021-07-18 23:47:07,682 DEBUG <=== {\"jobId\": \"1sJd-Et06QTzCcKDwHgIfkyhz5Q\", \"status\": \"started\", \"results\": [], ...\n",
      "2021-07-18 23:47:07,682 DEBUG Sleeping 1 seconds\n",
      "2021-07-18 23:47:08,684 DEBUG ===> GET https://wekeo-broker.apps.mercator.dpi.wekeo.eu/databroker/datarequest/status/1sJd-Et06QTzCcKDwHgIfkyhz5Q\n",
      "2021-07-18 23:47:09,030 DEBUG https://wekeo-broker.apps.mercator.dpi.wekeo.eu:443 \"GET /databroker/datarequest/status/1sJd-Et06QTzCcKDwHgIfkyhz5Q HTTP/1.1\" 200 38\n",
      "2021-07-18 23:47:09,031 DEBUG <=== {\"status\": \"running\", \"message\": null}\n",
      "2021-07-18 23:47:09,031 DEBUG Sleeping 1.1 seconds\n",
      "2021-07-18 23:47:10,132 DEBUG ===> GET https://wekeo-broker.apps.mercator.dpi.wekeo.eu/databroker/datarequest/status/1sJd-Et06QTzCcKDwHgIfkyhz5Q\n",
      "2021-07-18 23:47:10,468 DEBUG https://wekeo-broker.apps.mercator.dpi.wekeo.eu:443 \"GET /databroker/datarequest/status/1sJd-Et06QTzCcKDwHgIfkyhz5Q HTTP/1.1\" 200 43\n",
      "2021-07-18 23:47:10,469 DEBUG <=== {\"status\": \"completed\", \"message\": \"Done!\"}\n",
      "2021-07-18 23:47:10,469 DEBUG ===> GET https://wekeo-broker.apps.mercator.dpi.wekeo.eu/databroker/datarequest/jobs/1sJd-Et06QTzCcKDwHgIfkyhz5Q/result\n",
      "2021-07-18 23:47:10,807 DEBUG https://wekeo-broker.apps.mercator.dpi.wekeo.eu:443 \"GET /databroker/datarequest/jobs/1sJd-Et06QTzCcKDwHgIfkyhz5Q/result HTTP/1.1\" 200 756\n",
      "2021-07-18 23:47:10,808 DEBUG <=== {\"content\": [{\"downloadUri\": null, \"filename\": \"adaptor.mars.internal-1626647...\n",
      "SearchResults[items=1,volume=296.5K,jobId=1sJd-Et06QTzCcKDwHgIfkyhz5Q]\n",
      "2021-07-18 23:47:10,808 DEBUG {'downloadUri': None, 'filename': 'adaptor.mars.internal-1626647505.8141036-1817-9-5f2a17e3-24c6-4b1e-a1cd-eacf5866f35e.nc', 'order': None, 'productInfo': {'datasetId': 'EO:ECMWF:DAT:CAMS_GLOBAL_REANALYSIS_EAC4', 'product': 'e7da8657b6a94f4ac1a44ee1752eff59', 'productEndDate': '2021-07-18T23:47:09Z', 'productStartDate': '2021-07-18T23:47:09Z'}, 'size': 303624, 'url': 'https://download-0003.copernicus-atmosphere.eu/cache-compute-0003/cache/data0/adaptor.mars.internal-1626647505.8141036-1817-9-5f2a17e3-24c6-4b1e-a1cd-eacf5866f35e.nc'}\n",
      "2021-07-18 23:47:10,808 DEBUG ===> POST https://wekeo-broker.apps.mercator.dpi.wekeo.eu/databroker/dataorder\n",
      "2021-07-18 23:47:10,808 DEBUG ===> POST {\"jobId\": \"1sJd-Et06QTzCcKDwHgIfkyhz5Q\", \"uri\": \"https://download-0003.copern...\n",
      "2021-07-18 23:47:13,668 DEBUG https://wekeo-broker.apps.mercator.dpi.wekeo.eu:443 \"POST /databroker/dataorder HTTP/1.1\" 200 80\n",
      "2021-07-18 23:47:13,669 DEBUG <=== {\"orderId\": \"RA_qF_t4pUagAG4SaLTPuVEZxbg\", \"status\": \"running\", \"message\": null}\n",
      "2021-07-18 23:47:13,669 DEBUG Sleeping 1 seconds\n",
      "2021-07-18 23:47:14,670 DEBUG ===> GET https://wekeo-broker.apps.mercator.dpi.wekeo.eu/databroker/dataorder/status/RA_qF_t4pUagAG4SaLTPuVEZxbg\n",
      "2021-07-18 23:47:15,008 DEBUG https://wekeo-broker.apps.mercator.dpi.wekeo.eu:443 \"GET /databroker/dataorder/status/RA_qF_t4pUagAG4SaLTPuVEZxbg HTTP/1.1\" 200 403\n",
      "2021-07-18 23:47:15,009 DEBUG <=== {\"status\": \"completed\", \"message\": \"Done!\", \"downloadUri\": \"https://download-...\n",
      "2021-07-18 23:47:15,009 INFO Downloading https://wekeo-broker.apps.mercator.dpi.wekeo.eu/databroker/dataorder/download/RA_qF_t4pUagAG4SaLTPuVEZxbg to adaptor.mars.internal-1626647505.8141036-1817-9-5f2a17e3-24c6-4b1e-a1cd-eacf5866f35e.nc (296.5K)\n",
      "2021-07-18 23:47:15,815 DEBUG https://wekeo-broker.apps.mercator.dpi.wekeo.eu:443 \"GET /databroker/dataorder/download/RA_qF_t4pUagAG4SaLTPuVEZxbg HTTP/1.1\" 302 537\n",
      "2021-07-18 23:47:15,816 DEBUG Starting new HTTPS connection (1): download-0003.copernicus-atmosphere.eu:443\n",
      "2021-07-18 23:47:17,627 DEBUG https://download-0003.copernicus-atmosphere.eu:443 \"GET /cache-compute-0003/cache/data0/adaptor.mars.internal-1626647505.8141036-1817-9-5f2a17e3-24c6-4b1e-a1cd-eacf5866f35e.nc HTTP/1.1\" 200 303624\n",
      "2021-07-18 23:47:17,628 DEBUG Headers: {'Server': 'nginx/1.16.1', 'Date': 'Sun, 18 Jul 2021 23:47:17 GMT', 'Content-Type': 'application/x-netcdf', 'Content-Length': '303624', 'Connection': 'keep-alive', 'Last-Modified': 'Sun, 18 Jul 2021 22:31:48 GMT', 'ETag': '\"60f4abd4-4a208\"', 'Expires': 'Thu, 31 Dec 2037 23:55:55 GMT', 'Cache-Control': 'max-age=315360000', 'Accept-Ranges': 'bytes', 'Access-Control-Allow-Origin': '*', 'Access-Control-Allow-Credentials': 'true', 'Access-Control-Allow-Methods': 'GET, POST, OPTIONS, DELETE, PUT, PATCH', 'Access-Control-Allow-Headers': 'Origin,Content-Type,Accept,Cache-Control', 'Access-Control-Expose-Headers': '*'}\n",
      "2021-07-18 23:47:18,642 INFO Download rate 81.6K/s\n"
     ]
    }
   ],
   "source": [
    "!python connect_hda.py"
   ]
  }
 ],
 "metadata": {
  "colab": {
   "authorship_tag": "ABX9TyMNNDBbBSKWViMncGNuzzgA",
   "name": "Retrieve_data_example_notebookipynb",
   "provenance": []
  },
  "kernelspec": {
   "display_name": "Python 3 (ipykernel)",
   "language": "python",
   "name": "python3"
  },
  "language_info": {
   "codemirror_mode": {
    "name": "ipython",
    "version": 3
   },
   "file_extension": ".py",
   "mimetype": "text/x-python",
   "name": "python",
   "nbconvert_exporter": "python",
   "pygments_lexer": "ipython3",
   "version": "3.8.6"
  }
 },
 "nbformat": 4,
 "nbformat_minor": 4
}
